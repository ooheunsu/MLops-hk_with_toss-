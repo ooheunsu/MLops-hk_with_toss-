{
  "nbformat": 4,
  "nbformat_minor": 0,
  "metadata": {
    "colab": {
      "provenance": [],
      "authorship_tag": "ABX9TyMgh5itT0xmJelDpAb2CwGs",
      "include_colab_link": true
    },
    "kernelspec": {
      "name": "python3",
      "display_name": "Python 3"
    },
    "language_info": {
      "name": "python"
    }
  },
  "cells": [
    {
      "cell_type": "markdown",
      "metadata": {
        "id": "view-in-github",
        "colab_type": "text"
      },
      "source": [
        "<a href=\"https://colab.research.google.com/github/ooheunsu/MLops-hk_with_toss-/blob/main/04_%EC%BB%AC%EB%A0%89%EC%85%98_%EB%8D%B0%EC%9D%B4%ED%84%B0_%ED%83%80%EC%9E%85.ipynb\" target=\"_parent\"><img src=\"https://colab.research.google.com/assets/colab-badge.svg\" alt=\"Open In Colab\"/></a>"
      ]
    },
    {
      "cell_type": "markdown",
      "source": [
        "# 컬렉션\n",
        "- 무언가를 모은것!\n",
        "- 파이썬의 컬렉션은 **파이썬에 존재하는 모든 것**을 모을 수 있다.\n",
        "  - 문법적인 요소들 빼고는 모두 다 모을 수 있다.\n",
        "  - 데이터, 변수, 함수, 클래스, 오브젝트\n",
        "- 어떠한 데이터를 모아낸 **구조**\n",
        "  - **자료구조**\n",
        "- 문자열은 컬렉션이 아니다, 자료형임."
      ],
      "metadata": {
        "id": "Pm7FxmmCncIC"
      }
    },
    {
      "cell_type": "markdown",
      "source": [
        "# 컬렉션의 종류\n",
        "* `list`\n",
        "  * `Sequence` 자료형\n",
        "  * `Mutable` 자료형  <- 언제든 데이터 변경 가능\n",
        "    * 추가된 데이터가 바뀔 수 있다.\n",
        "  * 중복 데이터 저장이 가능하다.\n",
        "  * `[]` 또는  `list()` 를 이용해서 만들 수 있다.\n",
        "* `tuple`\n",
        "  * `Sequence` 자료형\n",
        "  * `Immutable` 자료형  <- 데이터 변경 불가\n",
        "    * 추가된 데이터가 바뀔 수 없다.\n",
        "    * `str`(문자열) 형식의 데이터도 `Immutable`\n",
        "  * 중복 데이터 저장이 가능하다.\n",
        "  * `()`를 활용해서 만든다.\n",
        "\n",
        "![](https://drive.google.com/uc?export=view&id=1msn5PHEosSt-FIWryX6ZN4L4tAQB6A62)\n",
        "![](https://drive.google.com/uc?export=view&id=1bQMwgdpZnxownO9KcUux2Y9mmG6KPDXf)\n",
        "\n",
        "* `set`\n",
        "  * `Non-Sequence` 자료형\n",
        "    * 데이터 저장의 순서를 보장하지 않는다.\n",
        "  * 중복 데이터의 저장도 허용하지 않는다.\n",
        "  * **집합**의 개념\n",
        "* **`dict`**\n",
        "  * `Non-Sequence` 자료형\n",
        "  * `Key-Value` 구조 자료형\n",
        "* generator\n",
        "\n"
      ],
      "metadata": {
        "id": "0327obmpnjvN"
      }
    },
    {
      "cell_type": "markdown",
      "source": [
        "# list"
      ],
      "metadata": {
        "id": "HgtfbQmMr0sW"
      }
    },
    {
      "cell_type": "code",
      "source": [
        "list1 = [1, 2, 3, \"four\", [6,7], 7.0, True]\n",
        "list1"
      ],
      "metadata": {
        "colab": {
          "base_uri": "https://localhost:8080/"
        },
        "id": "mqgfo-sLvurt",
        "outputId": "65eaa9c7-3ee2-4c8e-879b-185cb6494e55"
      },
      "execution_count": 1,
      "outputs": [
        {
          "output_type": "execute_result",
          "data": {
            "text/plain": [
              "[1, 2, 3, 'four', [6, 7], 7.0, True]"
            ]
          },
          "metadata": {},
          "execution_count": 1
        }
      ]
    },
    {
      "cell_type": "code",
      "source": [
        "len(list1)"
      ],
      "metadata": {
        "colab": {
          "base_uri": "https://localhost:8080/"
        },
        "id": "5hY7JHRfv59X",
        "outputId": "f644541b-1c0f-410c-dd0f-f8df104ec750"
      },
      "execution_count": 2,
      "outputs": [
        {
          "output_type": "execute_result",
          "data": {
            "text/plain": [
              "7"
            ]
          },
          "metadata": {},
          "execution_count": 2
        }
      ]
    },
    {
      "cell_type": "code",
      "source": [
        "print(list1[3])\n",
        "print(list1[2])\n",
        "print(list1[4])\n",
        "print(list1[4][1])"
      ],
      "metadata": {
        "colab": {
          "base_uri": "https://localhost:8080/"
        },
        "id": "Lulf3o0DwRoo",
        "outputId": "11c652fc-6f27-4a1d-c6c2-051151b72274"
      },
      "execution_count": 6,
      "outputs": [
        {
          "output_type": "stream",
          "name": "stdout",
          "text": [
            "four\n",
            "3\n",
            "[6, 7]\n",
            "7\n"
          ]
        }
      ]
    },
    {
      "cell_type": "code",
      "source": [
        "BTS = [\"정국\", \"슈가\", \"뷔\", \"랩몬스터\", \"지민\", \"제이홉\", \"진\"]\n",
        "\n",
        "# 문제 1 => \"랩몬스터\"에서 \"몬스터\"만 추출\n",
        "# BTS[3:4] <- 시도했던 것\n",
        "BTS[3][1:]"
      ],
      "metadata": {
        "colab": {
          "base_uri": "https://localhost:8080/",
          "height": 35
        },
        "id": "964YnuFrwh2D",
        "outputId": "cec80360-f4f3-4f64-926c-6605da1a4332"
      },
      "execution_count": 19,
      "outputs": [
        {
          "output_type": "execute_result",
          "data": {
            "text/plain": [
              "'몬스터'"
            ],
            "application/vnd.google.colaboratory.intrinsic+json": {
              "type": "string"
            }
          },
          "metadata": {},
          "execution_count": 19
        }
      ]
    },
    {
      "cell_type": "code",
      "source": [
        "# 문제 2 => [진, 지민, 뷔, 정국]만 추출\n",
        "BTS[::-2]"
      ],
      "metadata": {
        "colab": {
          "base_uri": "https://localhost:8080/"
        },
        "id": "5in03_t0x2-2",
        "outputId": "a908a12b-d33b-4ede-dd36-ec7cb02264f1"
      },
      "execution_count": 17,
      "outputs": [
        {
          "output_type": "execute_result",
          "data": {
            "text/plain": [
              "['진', '지민', '뷔', '정국']"
            ]
          },
          "metadata": {},
          "execution_count": 17
        }
      ]
    },
    {
      "cell_type": "markdown",
      "source": [
        "## list의 기능\n",
        "* `append()` ★★★★★\n",
        "  - 리스트의 제일 뒤에 값을 추가한다.\n",
        "* `sort()` ★★★\n",
        "  - 기본적으로 오름차순 정렬\n",
        "  - `reverse=True` 설정하면 내림차순 정렬\n",
        "* `pop()`\n",
        "  - 제일 뒤에 있는 데이터를 **꺼내고** 삭제"
      ],
      "metadata": {
        "id": "L_vxxCfKyVZE"
      }
    },
    {
      "cell_type": "code",
      "source": [
        "list2 = [1,2]\n",
        "list2.append(3) # 여기서 list2는 3이 추가된 새로운 list2가 생성된게 아니라 기존 list2에 3이 추가되어 변화된 list2인거임.\n"
      ],
      "metadata": {
        "id": "iYn6Xtr5y5et"
      },
      "execution_count": 20,
      "outputs": []
    },
    {
      "cell_type": "code",
      "source": [
        "list2[:2]"
      ],
      "metadata": {
        "colab": {
          "base_uri": "https://localhost:8080/"
        },
        "id": "laR1aITazIRo",
        "outputId": "95d41f89-b9ca-4e1d-8797-55c824f70ec9"
      },
      "execution_count": 23,
      "outputs": [
        {
          "output_type": "execute_result",
          "data": {
            "text/plain": [
              "[1, 2]"
            ]
          },
          "metadata": {},
          "execution_count": 23
        }
      ]
    },
    {
      "cell_type": "code",
      "source": [
        "list2\n",
        "# 하나더 만약 list를 slice로 데이터값을 잘라냈을 때, 기존 list에서 데이터 값이 실제로 잘린게 아니라 슬라이스한 새로운 list가 생성된거임.\n",
        "# 새로운 데이터(변화가된것처럼 보이는)로 생성되느냐, 기존 데이터가 실제로 변화되느냐. 둘의 차이점을 알기."
      ],
      "metadata": {
        "colab": {
          "base_uri": "https://localhost:8080/"
        },
        "id": "cCTrqRcy0j5w",
        "outputId": "bbb04bfe-dcd1-4e25-9aaf-4c4053fbcc35"
      },
      "execution_count": 22,
      "outputs": [
        {
          "output_type": "execute_result",
          "data": {
            "text/plain": [
              "[1, 2, 3]"
            ]
          },
          "metadata": {},
          "execution_count": 22
        }
      ]
    },
    {
      "cell_type": "code",
      "source": [
        "print(list2.append(4))"
      ],
      "metadata": {
        "colab": {
          "base_uri": "https://localhost:8080/"
        },
        "id": "jysJZ28F0lxj",
        "outputId": "a831bf9e-c535-4f71-de4e-1f9040d91c4d"
      },
      "execution_count": 24,
      "outputs": [
        {
          "output_type": "stream",
          "name": "stdout",
          "text": [
            "None\n"
          ]
        }
      ]
    },
    {
      "cell_type": "code",
      "source": [
        "list2"
      ],
      "metadata": {
        "colab": {
          "base_uri": "https://localhost:8080/"
        },
        "id": "oMc8D4Gc0oKv",
        "outputId": "0571eff5-a922-4fef-bddc-3ebc73b4dcd0"
      },
      "execution_count": 25,
      "outputs": [
        {
          "output_type": "execute_result",
          "data": {
            "text/plain": [
              "[1, 2, 3, 4]"
            ]
          },
          "metadata": {},
          "execution_count": 25
        }
      ]
    },
    {
      "cell_type": "code",
      "source": [
        "list2.append(\"hello\")\n",
        "list2.append(3.141592)\n",
        "list2"
      ],
      "metadata": {
        "colab": {
          "base_uri": "https://localhost:8080/"
        },
        "id": "5DIL1qyw0qRk",
        "outputId": "119fca68-1784-4df8-b828-0bc3f1f18140"
      },
      "execution_count": 26,
      "outputs": [
        {
          "output_type": "execute_result",
          "data": {
            "text/plain": [
              "[1, 2, 3, 4, 'hello', 3.141592]"
            ]
          },
          "metadata": {},
          "execution_count": 26
        }
      ]
    },
    {
      "cell_type": "code",
      "source": [
        "list3 = [5, 1, 4, 7, 2, 3, 6]\n",
        "list3"
      ],
      "metadata": {
        "colab": {
          "base_uri": "https://localhost:8080/"
        },
        "id": "b2hp76ll0091",
        "outputId": "0983754a-df7c-4ea2-8b4b-d236b5c6af85"
      },
      "execution_count": 27,
      "outputs": [
        {
          "output_type": "execute_result",
          "data": {
            "text/plain": [
              "[5, 1, 4, 7, 2, 3, 6]"
            ]
          },
          "metadata": {},
          "execution_count": 27
        }
      ]
    },
    {
      "cell_type": "code",
      "source": [
        "list3.sort() # 여기서 list3는 데이터 값이 실제로 '변화'되었다.\n",
        "list3"
      ],
      "metadata": {
        "colab": {
          "base_uri": "https://localhost:8080/"
        },
        "id": "4OrthxI40_w2",
        "outputId": "35a2edc7-5fcd-4e06-b91c-debe856ebb85"
      },
      "execution_count": 29,
      "outputs": [
        {
          "output_type": "execute_result",
          "data": {
            "text/plain": [
              "[1, 2, 3, 4, 5, 6, 7]"
            ]
          },
          "metadata": {},
          "execution_count": 29
        }
      ]
    },
    {
      "cell_type": "code",
      "source": [
        "list3.sort(reverse=True) # 리버스 트루 = 내림차순 정렬\n",
        "list3"
      ],
      "metadata": {
        "colab": {
          "base_uri": "https://localhost:8080/"
        },
        "id": "72iAOZKH1CHS",
        "outputId": "eced40a0-21d2-4451-ed0a-32f223ed6dba"
      },
      "execution_count": 30,
      "outputs": [
        {
          "output_type": "execute_result",
          "data": {
            "text/plain": [
              "[7, 6, 5, 4, 3, 2, 1]"
            ]
          },
          "metadata": {},
          "execution_count": 30
        }
      ]
    },
    {
      "cell_type": "code",
      "source": [
        "list4 = [\"banana\", 'apple', 'avocado', 'cherry', 'mango']\n",
        "list4"
      ],
      "metadata": {
        "colab": {
          "base_uri": "https://localhost:8080/"
        },
        "id": "Zt4PgO_a1xi2",
        "outputId": "1b0407ea-1b94-402f-c3e7-bfa032f7637c"
      },
      "execution_count": 31,
      "outputs": [
        {
          "output_type": "execute_result",
          "data": {
            "text/plain": [
              "['banana', 'apple', 'avocado', 'cherry', 'mango']"
            ]
          },
          "metadata": {},
          "execution_count": 31
        }
      ]
    },
    {
      "cell_type": "code",
      "source": [
        "list4.sort() # 알파벳순 정렬이네\n",
        "list4"
      ],
      "metadata": {
        "colab": {
          "base_uri": "https://localhost:8080/"
        },
        "id": "lXiYdPZ_5lpX",
        "outputId": "1680c087-9d71-4af4-8ad3-8741310de974"
      },
      "execution_count": 32,
      "outputs": [
        {
          "output_type": "execute_result",
          "data": {
            "text/plain": [
              "['apple', 'avocado', 'banana', 'cherry', 'mango']"
            ]
          },
          "metadata": {},
          "execution_count": 32
        }
      ]
    },
    {
      "cell_type": "code",
      "source": [
        "list5 = [\"Apple\", \"apple\", \"Banana\", \"banana\"] # 대문자가 우선\n",
        "list5.sort()\n",
        "list5"
      ],
      "metadata": {
        "colab": {
          "base_uri": "https://localhost:8080/"
        },
        "id": "ipdgW57J51a5",
        "outputId": "38dbbee0-cfcc-4312-dea4-daaf9074d770"
      },
      "execution_count": 33,
      "outputs": [
        {
          "output_type": "execute_result",
          "data": {
            "text/plain": [
              "['Apple', 'Banana', 'apple', 'banana']"
            ]
          },
          "metadata": {},
          "execution_count": 33
        }
      ]
    },
    {
      "cell_type": "code",
      "source": [
        "list1"
      ],
      "metadata": {
        "colab": {
          "base_uri": "https://localhost:8080/"
        },
        "id": "S8_ombpt55Lh",
        "outputId": "3df4728f-9a64-49f9-a1ab-b3ca976b3bbe"
      },
      "execution_count": 34,
      "outputs": [
        {
          "output_type": "execute_result",
          "data": {
            "text/plain": [
              "[1, 2, 3, 'four', [6, 7], 7.0, True]"
            ]
          },
          "metadata": {},
          "execution_count": 34
        }
      ]
    },
    {
      "cell_type": "code",
      "source": [
        "item = list1.pop()  # 제일 뒤에서 아이템을 빼낸 후 삭제\n",
        "print(item, \" / \", list1) # ctrl + enter 로 (계속)실행시켜서 리스트에 있는거 다 pop시킴"
      ],
      "metadata": {
        "colab": {
          "base_uri": "https://localhost:8080/"
        },
        "id": "BXCSXu3H594c",
        "outputId": "d1bb7656-675e-408b-ac37-b2735dcba99d"
      },
      "execution_count": 41,
      "outputs": [
        {
          "output_type": "stream",
          "name": "stdout",
          "text": [
            "1  /  []\n"
          ]
        }
      ]
    },
    {
      "cell_type": "code",
      "source": [
        "pokemon1 = [\"피카츄\", \"라이츄\"]\n",
        "pokemon2 = [\"꼬부기\", \"파이리\"]\n",
        "\n",
        "# append 추가\n",
        "pokemon1.append(pokemon2) # 이 경우엔 포켓몬1에 아이템이 총 3개임(4개 X)\n",
        "pokemon1"
      ],
      "metadata": {
        "colab": {
          "base_uri": "https://localhost:8080/"
        },
        "id": "m1c26Wr96t1L",
        "outputId": "feb00540-d645-494d-91e6-a46656e00a64"
      },
      "execution_count": 43,
      "outputs": [
        {
          "output_type": "execute_result",
          "data": {
            "text/plain": [
              "['피카츄', '라이츄', ['꼬부기', '파이리']]"
            ]
          },
          "metadata": {},
          "execution_count": 43
        }
      ]
    },
    {
      "cell_type": "code",
      "source": [
        "pokemon1 = [\"피카츄\", \"라이츄\"]\n",
        "pokemon2 = [\"꼬부기\", \"파이리\"]\n",
        "\n",
        "# extend 병합\n",
        "pokemon1.extend(pokemon2)\n",
        "pokemon1"
      ],
      "metadata": {
        "colab": {
          "base_uri": "https://localhost:8080/"
        },
        "id": "0xW-CkYs7Lgr",
        "outputId": "5f15e266-adab-4c59-950b-adf50a9fd663"
      },
      "execution_count": 44,
      "outputs": [
        {
          "output_type": "execute_result",
          "data": {
            "text/plain": [
              "['피카츄', '라이츄', '꼬부기', '파이리']"
            ]
          },
          "metadata": {},
          "execution_count": 44
        }
      ]
    },
    {
      "cell_type": "code",
      "source": [
        "# 병합의 더 간단한 버전\n",
        "pokemon1 = [\"피카츄\", \"라이츄\"]\n",
        "pokemon2 = [\"꼬부기\", \"파이리\"]\n",
        "\n",
        "pokemon1 + pokemon2\n",
        "\n",
        "# 여기서 차이점은 (extend 경우)포켓몬1에 내부적인 변화가 일어남. (+ 더하기 경우)포켓몬1,2를 합친 새로운 리스트가 생성됨\n",
        "# list는 대부분 내부적인 변화라는 걸 알아두자."
      ],
      "metadata": {
        "colab": {
          "base_uri": "https://localhost:8080/"
        },
        "id": "gfad8fdL7T3M",
        "outputId": "d3f8331e-a729-44af-9ca3-c1a62dc3ef96"
      },
      "execution_count": 47,
      "outputs": [
        {
          "output_type": "execute_result",
          "data": {
            "text/plain": [
              "['피카츄', '라이츄', '꼬부기', '파이리']"
            ]
          },
          "metadata": {},
          "execution_count": 47
        }
      ]
    },
    {
      "cell_type": "markdown",
      "source": [
        "# tuple\n",
        "- 리스트와 매우 흡사하지만 변경(추가, 삭제, 수정)이 불가\n",
        "- 튜플은 리스트보다 같은 데이터를 가졌을 때 공간을 적게 사용"
      ],
      "metadata": {
        "id": "g30HE5q_7hij"
      }
    },
    {
      "cell_type": "code",
      "source": [
        "# 리스트는 아이템 수정이 가능\n",
        "lst = [1, 2, 3]\n",
        "lst[1] = \"hahahaha\"\n",
        "lst"
      ],
      "metadata": {
        "colab": {
          "base_uri": "https://localhost:8080/"
        },
        "id": "8U41rdpi8W8x",
        "outputId": "46987b15-79c4-41c0-d6a6-1422ed9db840"
      },
      "execution_count": 48,
      "outputs": [
        {
          "output_type": "execute_result",
          "data": {
            "text/plain": [
              "[1, 'hahahaha', 3]"
            ]
          },
          "metadata": {},
          "execution_count": 48
        }
      ]
    },
    {
      "cell_type": "code",
      "source": [
        "# 튜플은 아이템 수정이 불가능\n",
        "tup = (1, 2, 3)\n",
        "tup"
      ],
      "metadata": {
        "colab": {
          "base_uri": "https://localhost:8080/"
        },
        "id": "qo78aRk88iJc",
        "outputId": "18f0faab-9a7f-4a2d-c9fa-397ecc20b549"
      },
      "execution_count": 49,
      "outputs": [
        {
          "output_type": "execute_result",
          "data": {
            "text/plain": [
              "(1, 2, 3)"
            ]
          },
          "metadata": {},
          "execution_count": 49
        }
      ]
    },
    {
      "cell_type": "code",
      "source": [
        "tup[1] = \"hahaha\""
      ],
      "metadata": {
        "colab": {
          "base_uri": "https://localhost:8080/",
          "height": 146
        },
        "id": "RCoMwpMw8s-m",
        "outputId": "efd9b0d1-665c-4834-97b7-f9d169063f64"
      },
      "execution_count": 50,
      "outputs": [
        {
          "output_type": "error",
          "ename": "TypeError",
          "evalue": "'tuple' object does not support item assignment",
          "traceback": [
            "\u001b[0;31m---------------------------------------------------------------------------\u001b[0m",
            "\u001b[0;31mTypeError\u001b[0m                                 Traceback (most recent call last)",
            "\u001b[0;32m<ipython-input-50-427aa28177eb>\u001b[0m in \u001b[0;36m<cell line: 1>\u001b[0;34m()\u001b[0m\n\u001b[0;32m----> 1\u001b[0;31m \u001b[0mtup\u001b[0m\u001b[0;34m[\u001b[0m\u001b[0;36m1\u001b[0m\u001b[0;34m]\u001b[0m \u001b[0;34m=\u001b[0m \u001b[0;34m\"hahaha\"\u001b[0m\u001b[0;34m\u001b[0m\u001b[0;34m\u001b[0m\u001b[0m\n\u001b[0m",
            "\u001b[0;31mTypeError\u001b[0m: 'tuple' object does not support item assignment"
          ]
        }
      ]
    },
    {
      "cell_type": "code",
      "source": [
        "tup[1]"
      ],
      "metadata": {
        "colab": {
          "base_uri": "https://localhost:8080/"
        },
        "id": "KRE7eRDC8v1A",
        "outputId": "a08ab208-7911-484a-83fe-e716bd795047"
      },
      "execution_count": 51,
      "outputs": [
        {
          "output_type": "execute_result",
          "data": {
            "text/plain": [
              "2"
            ]
          },
          "metadata": {},
          "execution_count": 51
        }
      ]
    },
    {
      "cell_type": "code",
      "source": [
        "tup[:2]"
      ],
      "metadata": {
        "colab": {
          "base_uri": "https://localhost:8080/"
        },
        "id": "vavXMMbt8120",
        "outputId": "8a291946-229f-407e-968b-3acd4043798f"
      },
      "execution_count": 52,
      "outputs": [
        {
          "output_type": "execute_result",
          "data": {
            "text/plain": [
              "(1, 2)"
            ]
          },
          "metadata": {},
          "execution_count": 52
        }
      ]
    },
    {
      "cell_type": "code",
      "source": [
        "tup[::-1]"
      ],
      "metadata": {
        "colab": {
          "base_uri": "https://localhost:8080/"
        },
        "id": "0yXiLG5n84pL",
        "outputId": "8c134b7c-ab14-4943-d00e-e13e7c2f15e6"
      },
      "execution_count": 53,
      "outputs": [
        {
          "output_type": "execute_result",
          "data": {
            "text/plain": [
              "(3, 2, 1)"
            ]
          },
          "metadata": {},
          "execution_count": 53
        }
      ]
    },
    {
      "cell_type": "code",
      "source": [
        "# str도 Immutable\n",
        "text = \"abcd\"\n",
        "text[1] = \"f\""
      ],
      "metadata": {
        "colab": {
          "base_uri": "https://localhost:8080/",
          "height": 183
        },
        "id": "tbHp8ECG8_pY",
        "outputId": "6e5f67b3-8405-4615-f847-6156a9339b90"
      },
      "execution_count": 54,
      "outputs": [
        {
          "output_type": "error",
          "ename": "TypeError",
          "evalue": "'str' object does not support item assignment",
          "traceback": [
            "\u001b[0;31m---------------------------------------------------------------------------\u001b[0m",
            "\u001b[0;31mTypeError\u001b[0m                                 Traceback (most recent call last)",
            "\u001b[0;32m<ipython-input-54-fcb0819540f1>\u001b[0m in \u001b[0;36m<cell line: 3>\u001b[0;34m()\u001b[0m\n\u001b[1;32m      1\u001b[0m \u001b[0;31m# str도 Immutable\u001b[0m\u001b[0;34m\u001b[0m\u001b[0;34m\u001b[0m\u001b[0m\n\u001b[1;32m      2\u001b[0m \u001b[0mtext\u001b[0m \u001b[0;34m=\u001b[0m \u001b[0;34m\"abcd\"\u001b[0m\u001b[0;34m\u001b[0m\u001b[0;34m\u001b[0m\u001b[0m\n\u001b[0;32m----> 3\u001b[0;31m \u001b[0mtext\u001b[0m\u001b[0;34m[\u001b[0m\u001b[0;36m1\u001b[0m\u001b[0;34m]\u001b[0m \u001b[0;34m=\u001b[0m \u001b[0;34m\"f\"\u001b[0m\u001b[0;34m\u001b[0m\u001b[0;34m\u001b[0m\u001b[0m\n\u001b[0m",
            "\u001b[0;31mTypeError\u001b[0m: 'str' object does not support item assignment"
          ]
        }
      ]
    },
    {
      "cell_type": "markdown",
      "source": [
        "\"abcd\" -> \"abfcd\" 로 변경해보기\n"
      ],
      "metadata": {
        "id": "82rOl7xJ9RlJ"
      }
    },
    {
      "cell_type": "code",
      "source": [
        "text = \"abcd\"\n",
        "# text = \"ab\" + \"f\" + \"cd\" <- 시도한것.\n",
        "text = text[:2] + \"f\" + text[2:]\n",
        "text"
      ],
      "metadata": {
        "colab": {
          "base_uri": "https://localhost:8080/",
          "height": 35
        },
        "id": "VAoa6cnw9crC",
        "outputId": "7804461c-cf36-4b92-cbd0-52019c6fbfc5"
      },
      "execution_count": 60,
      "outputs": [
        {
          "output_type": "execute_result",
          "data": {
            "text/plain": [
              "'abfcd'"
            ],
            "application/vnd.google.colaboratory.intrinsic+json": {
              "type": "string"
            }
          },
          "metadata": {},
          "execution_count": 60
        }
      ]
    },
    {
      "cell_type": "code",
      "source": [
        "# 리스트와 튜플의 저장공간 비교\n",
        "#         공부하지 말고 참고만 하기.\n",
        "\n",
        "import sys\n",
        "lst = [1, 2, 3]\n",
        "tup = (1, 2, 3) # 소괄호 생략 가능\n",
        "print(sys.getsizeof(lst))\n",
        "print(sys.getsizeof(tup))"
      ],
      "metadata": {
        "colab": {
          "base_uri": "https://localhost:8080/"
        },
        "id": "7PghZjkV9ouF",
        "outputId": "796c43a6-143e-4ede-e700-aec35e7ff446"
      },
      "execution_count": 62,
      "outputs": [
        {
          "output_type": "stream",
          "name": "stdout",
          "text": [
            "88\n",
            "64\n"
          ]
        }
      ]
    },
    {
      "cell_type": "markdown",
      "source": [
        "## 패킹(Packing), 언패킹(UnPacking) ⭐⭐⭐⭐⭐  정말 많이 사용됨\n",
        "- 패킹 : 데이터를 모아내는 작업\n",
        "- 언패킹 : 모아낸 데이터를 풀어 놓는 작업"
      ],
      "metadata": {
        "id": "6QKTMW88-0C2"
      }
    },
    {
      "cell_type": "code",
      "source": [
        "# 패킹\n",
        "tup = (1, \"two\", 3)\n",
        "\n",
        "# 언패킹\n",
        "item1, item2, item3 = tup\n",
        "\n",
        "print(item1)"
      ],
      "metadata": {
        "colab": {
          "base_uri": "https://localhost:8080/"
        },
        "id": "dTJBm0gp_Wlv",
        "outputId": "4f321a88-c377-4fa6-e00d-1dd18c1a36e4"
      },
      "execution_count": 64,
      "outputs": [
        {
          "output_type": "stream",
          "name": "stdout",
          "text": [
            "1\n"
          ]
        }
      ]
    },
    {
      "cell_type": "code",
      "source": [
        "item1, item2 = tup # 에러가 나는 상황을 주의깊에 봐보자."
      ],
      "metadata": {
        "colab": {
          "base_uri": "https://localhost:8080/",
          "height": 146
        },
        "id": "9KU6yoUY_ep_",
        "outputId": "b9cf6024-d9f9-4b86-9400-6e764e61b765"
      },
      "execution_count": 65,
      "outputs": [
        {
          "output_type": "error",
          "ename": "ValueError",
          "evalue": "too many values to unpack (expected 2)",
          "traceback": [
            "\u001b[0;31m---------------------------------------------------------------------------\u001b[0m",
            "\u001b[0;31mValueError\u001b[0m                                Traceback (most recent call last)",
            "\u001b[0;32m<ipython-input-65-ae8ca12455ca>\u001b[0m in \u001b[0;36m<cell line: 1>\u001b[0;34m()\u001b[0m\n\u001b[0;32m----> 1\u001b[0;31m \u001b[0mitem1\u001b[0m\u001b[0;34m,\u001b[0m \u001b[0mitem2\u001b[0m \u001b[0;34m=\u001b[0m \u001b[0mtup\u001b[0m\u001b[0;34m\u001b[0m\u001b[0;34m\u001b[0m\u001b[0m\n\u001b[0m",
            "\u001b[0;31mValueError\u001b[0m: too many values to unpack (expected 2)"
          ]
        }
      ]
    },
    {
      "cell_type": "code",
      "source": [
        "item1, item2, item3, item4 = tup"
      ],
      "metadata": {
        "colab": {
          "base_uri": "https://localhost:8080/",
          "height": 146
        },
        "id": "4DBGAhnb_2rR",
        "outputId": "b1c02235-fc29-424d-cb36-2b26a883a104"
      },
      "execution_count": 66,
      "outputs": [
        {
          "output_type": "error",
          "ename": "ValueError",
          "evalue": "not enough values to unpack (expected 4, got 3)",
          "traceback": [
            "\u001b[0;31m---------------------------------------------------------------------------\u001b[0m",
            "\u001b[0;31mValueError\u001b[0m                                Traceback (most recent call last)",
            "\u001b[0;32m<ipython-input-66-b6d3dd6826f4>\u001b[0m in \u001b[0;36m<cell line: 1>\u001b[0;34m()\u001b[0m\n\u001b[0;32m----> 1\u001b[0;31m \u001b[0mitem1\u001b[0m\u001b[0;34m,\u001b[0m \u001b[0mitem2\u001b[0m\u001b[0;34m,\u001b[0m \u001b[0mitem3\u001b[0m\u001b[0;34m,\u001b[0m \u001b[0mitem4\u001b[0m \u001b[0;34m=\u001b[0m \u001b[0mtup\u001b[0m\u001b[0;34m\u001b[0m\u001b[0;34m\u001b[0m\u001b[0m\n\u001b[0m",
            "\u001b[0;31mValueError\u001b[0m: not enough values to unpack (expected 4, got 3)"
          ]
        }
      ]
    },
    {
      "cell_type": "code",
      "source": [
        "tup = ('one', 2, 'three')\n",
        "\n",
        "item1 = tup[0]\n",
        "item2 = tup[2]"
      ],
      "metadata": {
        "id": "iMzFAMRr_43N"
      },
      "execution_count": 68,
      "outputs": []
    },
    {
      "cell_type": "code",
      "source": [
        "# 관례 상 필요 없는 패킹 데이터는 언더바(_)를 변수명으로 사용한다.\n",
        "# _로 이름이 지어진 변수는 사용하지 않을 변수\n",
        "item1, _, item2 = tup"
      ],
      "metadata": {
        "id": "8Q0j7mjdARc3"
      },
      "execution_count": 69,
      "outputs": []
    },
    {
      "cell_type": "code",
      "source": [
        "_ # 사용하진 않을 변수지만 값이 들어가 있긴해."
      ],
      "metadata": {
        "colab": {
          "base_uri": "https://localhost:8080/"
        },
        "id": "-DhUgnZ7Ai6w",
        "outputId": "43a6abab-a78d-4df9-9140-08bb41f2fd6f"
      },
      "execution_count": 70,
      "outputs": [
        {
          "output_type": "execute_result",
          "data": {
            "text/plain": [
              "2"
            ]
          },
          "metadata": {},
          "execution_count": 70
        }
      ]
    },
    {
      "cell_type": "code",
      "source": [
        "from re import T\n",
        "# 1, 3만 언패킹\n",
        "tup = (1, 2, 3, 4)\n",
        "\n",
        "item1, _, item2, _ = tup"
      ],
      "metadata": {
        "id": "LeJb1iZNAlRT"
      },
      "execution_count": 71,
      "outputs": []
    },
    {
      "cell_type": "markdown",
      "source": [
        "# Set(집합)\n"
      ],
      "metadata": {
        "id": "gEKK81aVA7Cr"
      }
    },
    {
      "cell_type": "code",
      "source": [
        "set1 = {1,1,1,2,2,2,3,3,3,4,4,4,5,5,5} # set\n",
        "lst1 = [1,1,1,2,2,2,3,3,3,4,4,4,5,5,5] # list\n",
        "\n",
        "print(set1)\n",
        "print(lst1)"
      ],
      "metadata": {
        "colab": {
          "base_uri": "https://localhost:8080/"
        },
        "id": "Zxp3dg9GVKcZ",
        "outputId": "0570c52f-9d52-4559-fd7a-8952aeac9ee8"
      },
      "execution_count": 1,
      "outputs": [
        {
          "output_type": "stream",
          "name": "stdout",
          "text": [
            "{1, 2, 3, 4, 5}\n",
            "[1, 1, 1, 2, 2, 2, 3, 3, 3, 4, 4, 4, 5, 5, 5]\n"
          ]
        }
      ]
    },
    {
      "cell_type": "code",
      "source": [
        "set2 = {\"banana\", \"apple\", \"mango\", \"cherry\", \"orange\"} # set 은 순서 즉, 시퀀스가 없음 = 저장 순서가 유지되지 않음.\n",
        "lst2 = [\"banana\", \"apple\", \"mango\", \"cherry\", \"orange\"]\n",
        "\n",
        "print(set2)\n",
        "print(lst2)"
      ],
      "metadata": {
        "colab": {
          "base_uri": "https://localhost:8080/"
        },
        "id": "V5h_-7hGVNQA",
        "outputId": "7ba38d18-a49c-42fd-b496-8d5c50f263bd"
      },
      "execution_count": 3,
      "outputs": [
        {
          "output_type": "stream",
          "name": "stdout",
          "text": [
            "{'banana', 'orange', 'apple', 'mango', 'cherry'}\n",
            "['banana', 'apple', 'mango', 'cherry', 'orange']\n"
          ]
        }
      ]
    },
    {
      "cell_type": "markdown",
      "source": [
        "## Set의 집합 연산\n",
        "- 교집합 : `intersection`\n",
        "- 합집합 : `union`\n",
        "- 차집합 : `difference`\n",
        "- 부분집합 : `issubset`"
      ],
      "metadata": {
        "id": "1T-oeZEEVUKS"
      }
    },
    {
      "cell_type": "code",
      "source": [
        "A = {1, 2, 3}\n",
        "B = {2, 3, 4}"
      ],
      "metadata": {
        "id": "GU9qaEUQV0XG"
      },
      "execution_count": 4,
      "outputs": []
    },
    {
      "cell_type": "code",
      "source": [
        "# 교집합\n",
        "A.intersection(B)"
      ],
      "metadata": {
        "colab": {
          "base_uri": "https://localhost:8080/"
        },
        "id": "0tDJT6RWWLc6",
        "outputId": "7d571ab8-e047-4467-8067-6c858ce39a7c"
      },
      "execution_count": 5,
      "outputs": [
        {
          "output_type": "execute_result",
          "data": {
            "text/plain": [
              "{2, 3}"
            ]
          },
          "metadata": {},
          "execution_count": 5
        }
      ]
    },
    {
      "cell_type": "code",
      "source": [
        "# 합집합\n",
        "A.union(B)"
      ],
      "metadata": {
        "colab": {
          "base_uri": "https://localhost:8080/"
        },
        "id": "adq1YmjKWWlg",
        "outputId": "c549e26c-6eab-4f3d-9cc4-837137497716"
      },
      "execution_count": 6,
      "outputs": [
        {
          "output_type": "execute_result",
          "data": {
            "text/plain": [
              "{1, 2, 3, 4}"
            ]
          },
          "metadata": {},
          "execution_count": 6
        }
      ]
    },
    {
      "cell_type": "code",
      "source": [
        "# 차집합\n",
        "A.difference(B) # A-B"
      ],
      "metadata": {
        "colab": {
          "base_uri": "https://localhost:8080/"
        },
        "id": "mW34eyydWanY",
        "outputId": "d1fb34d3-2dc2-4ac8-dc1a-9b4abda6f97f"
      },
      "execution_count": 8,
      "outputs": [
        {
          "output_type": "execute_result",
          "data": {
            "text/plain": [
              "{1}"
            ]
          },
          "metadata": {},
          "execution_count": 8
        }
      ]
    },
    {
      "cell_type": "code",
      "source": [
        "B.difference(A) # B-A"
      ],
      "metadata": {
        "colab": {
          "base_uri": "https://localhost:8080/"
        },
        "id": "wuVUetQiW7pg",
        "outputId": "22dffd8c-e0a8-4273-b9a6-e8da2dd6f98f"
      },
      "execution_count": 9,
      "outputs": [
        {
          "output_type": "execute_result",
          "data": {
            "text/plain": [
              "{4}"
            ]
          },
          "metadata": {},
          "execution_count": 9
        }
      ]
    },
    {
      "cell_type": "code",
      "source": [
        "# 부분집합 - True / False\n",
        "C = {2, 3}"
      ],
      "metadata": {
        "id": "aMz2_DMFWhtz"
      },
      "execution_count": 10,
      "outputs": []
    },
    {
      "cell_type": "code",
      "source": [
        "# 집합 C가 A의 부분집합인가?\n",
        "C.issubset(A)"
      ],
      "metadata": {
        "colab": {
          "base_uri": "https://localhost:8080/"
        },
        "id": "r7OVyH8hXNlF",
        "outputId": "8d2730a3-85d4-4412-b569-565014e22b83"
      },
      "execution_count": 11,
      "outputs": [
        {
          "output_type": "execute_result",
          "data": {
            "text/plain": [
              "True"
            ]
          },
          "metadata": {},
          "execution_count": 11
        }
      ]
    },
    {
      "cell_type": "code",
      "source": [
        "# 집합 C가 B의 부분집합인가?\n",
        "C.issubset(B)"
      ],
      "metadata": {
        "colab": {
          "base_uri": "https://localhost:8080/"
        },
        "id": "FqjKibIUXhho",
        "outputId": "7a96628f-00e1-4a29-a330-5735d4c97fe5"
      },
      "execution_count": 12,
      "outputs": [
        {
          "output_type": "execute_result",
          "data": {
            "text/plain": [
              "True"
            ]
          },
          "metadata": {},
          "execution_count": 12
        }
      ]
    },
    {
      "cell_type": "code",
      "source": [
        "# 집합 B가 A의 부분집합인가?\n",
        "B.issubset(A)"
      ],
      "metadata": {
        "colab": {
          "base_uri": "https://localhost:8080/"
        },
        "id": "fVz5oyVSXnCP",
        "outputId": "0c7db3ac-c07c-41d1-c8e6-05882f7ba7a0"
      },
      "execution_count": 13,
      "outputs": [
        {
          "output_type": "execute_result",
          "data": {
            "text/plain": [
              "False"
            ]
          },
          "metadata": {},
          "execution_count": 13
        }
      ]
    },
    {
      "cell_type": "code",
      "source": [
        "A[0] # set은 Non-Sequence이기 때문에 인덱스 사용이 불가능!"
      ],
      "metadata": {
        "colab": {
          "base_uri": "https://localhost:8080/",
          "height": 146
        },
        "id": "F4tVO-OuZqn_",
        "outputId": "5d38f3fb-6b95-471a-d5fc-db6194231ece"
      },
      "execution_count": 14,
      "outputs": [
        {
          "output_type": "error",
          "ename": "TypeError",
          "evalue": "'set' object is not subscriptable",
          "traceback": [
            "\u001b[0;31m---------------------------------------------------------------------------\u001b[0m",
            "\u001b[0;31mTypeError\u001b[0m                                 Traceback (most recent call last)",
            "\u001b[0;32m<ipython-input-14-685ad0918298>\u001b[0m in \u001b[0;36m<cell line: 1>\u001b[0;34m()\u001b[0m\n\u001b[0;32m----> 1\u001b[0;31m \u001b[0mA\u001b[0m\u001b[0;34m[\u001b[0m\u001b[0;36m0\u001b[0m\u001b[0;34m]\u001b[0m \u001b[0;31m# set은 Non-Sequence이기 때문에 인덱스 사용이 불가능!\u001b[0m\u001b[0;34m\u001b[0m\u001b[0;34m\u001b[0m\u001b[0m\n\u001b[0m",
            "\u001b[0;31mTypeError\u001b[0m: 'set' object is not subscriptable"
          ]
        }
      ]
    },
    {
      "cell_type": "markdown",
      "source": [
        "# `dict`⭐️⭐️⭐️⭐️⭐️\n",
        "- `{key : value}`\n",
        "  - `{key1 : value1, key2 : value2, key3 : value1}`\n",
        "- `key`의 특징\n",
        "  - `key`는 `set`의 형태로 저장된다.\n",
        "  - 정수와 문자열로만 설정이 가능하다.\n",
        "- `value`의 특징\n",
        "  - `value`는 `list`의 형태로 저장된다.\n",
        "  - 중복 저장 허용\n",
        "  - 파이썬에 존재하는 모든 데이터 타입이 저장 될 수 있다."
      ],
      "metadata": {
        "id": "Z02uG1CvZrD9"
      }
    },
    {
      "cell_type": "code",
      "source": [
        "city = {\n",
        "    \"Korea\": \"Seoul\",\n",
        "    \"Japan\": \"Tokyo\",\n",
        "    \"Canada\": \"Ottawa\"\n",
        "}\n",
        "\n",
        "city"
      ],
      "metadata": {
        "colab": {
          "base_uri": "https://localhost:8080/"
        },
        "id": "ly82d344ZuqA",
        "outputId": "810b1b71-e6f2-4a3b-a23f-3f39d279fb01"
      },
      "execution_count": 22,
      "outputs": [
        {
          "output_type": "execute_result",
          "data": {
            "text/plain": [
              "{'Korea': 'Seoul', 'Japan': 'Tokyo', 'Canada': 'Ottawa'}"
            ]
          },
          "metadata": {},
          "execution_count": 22
        }
      ]
    },
    {
      "cell_type": "code",
      "source": [
        "# 딕셔너리에서 데이터를 가져오는 방법\n",
        "city[\"Japan\"]"
      ],
      "metadata": {
        "colab": {
          "base_uri": "https://localhost:8080/",
          "height": 35
        },
        "id": "V2-8eOTuZ-BP",
        "outputId": "3ec71daf-129c-4293-9db1-bc4d226cd876"
      },
      "execution_count": 16,
      "outputs": [
        {
          "output_type": "execute_result",
          "data": {
            "text/plain": [
              "'Tokyo'"
            ],
            "application/vnd.google.colaboratory.intrinsic+json": {
              "type": "string"
            }
          },
          "metadata": {},
          "execution_count": 16
        }
      ]
    },
    {
      "cell_type": "code",
      "source": [
        "city[\"Korea\"]"
      ],
      "metadata": {
        "colab": {
          "base_uri": "https://localhost:8080/",
          "height": 35
        },
        "id": "dmhvGzHsarei",
        "outputId": "dd58eb4d-7320-4b0f-9a3a-f8c09a2861ff"
      },
      "execution_count": 24,
      "outputs": [
        {
          "output_type": "execute_result",
          "data": {
            "text/plain": [
              "'Seoul'"
            ],
            "application/vnd.google.colaboratory.intrinsic+json": {
              "type": "string"
            }
          },
          "metadata": {},
          "execution_count": 24
        }
      ]
    },
    {
      "cell_type": "code",
      "source": [
        "# 없는 키를 조회하면 에러!\n",
        "city[\"USA\"]"
      ],
      "metadata": {
        "colab": {
          "base_uri": "https://localhost:8080/",
          "height": 165
        },
        "id": "MaUnIRIQa4yq",
        "outputId": "2506f70d-8f38-4268-fed2-a6851e1d3d23"
      },
      "execution_count": 19,
      "outputs": [
        {
          "output_type": "error",
          "ename": "KeyError",
          "evalue": "'USA'",
          "traceback": [
            "\u001b[0;31m---------------------------------------------------------------------------\u001b[0m",
            "\u001b[0;31mKeyError\u001b[0m                                  Traceback (most recent call last)",
            "\u001b[0;32m<ipython-input-19-5712cd99ff00>\u001b[0m in \u001b[0;36m<cell line: 2>\u001b[0;34m()\u001b[0m\n\u001b[1;32m      1\u001b[0m \u001b[0;31m# 없는 키를 조회하면 에러!\u001b[0m\u001b[0;34m\u001b[0m\u001b[0;34m\u001b[0m\u001b[0m\n\u001b[0;32m----> 2\u001b[0;31m \u001b[0mcity\u001b[0m\u001b[0;34m[\u001b[0m\u001b[0;34m\"USA\"\u001b[0m\u001b[0;34m]\u001b[0m\u001b[0;34m\u001b[0m\u001b[0;34m\u001b[0m\u001b[0m\n\u001b[0m",
            "\u001b[0;31mKeyError\u001b[0m: 'USA'"
          ]
        }
      ]
    },
    {
      "cell_type": "code",
      "source": [
        "# 없는 키를 조회한 경우 대체 값을 지정\n",
        "city.get(\"USA\", \"없음!\")"
      ],
      "metadata": {
        "colab": {
          "base_uri": "https://localhost:8080/",
          "height": 35
        },
        "id": "oHgsdC2NbXSn",
        "outputId": "01174825-f73d-4556-91c0-65056acbdd35"
      },
      "execution_count": 25,
      "outputs": [
        {
          "output_type": "execute_result",
          "data": {
            "text/plain": [
              "'없음!'"
            ],
            "application/vnd.google.colaboratory.intrinsic+json": {
              "type": "string"
            }
          },
          "metadata": {},
          "execution_count": 25
        }
      ]
    },
    {
      "cell_type": "markdown",
      "source": [
        "## `dict`에 데이터를 추가, 변경\n",
        "- 추가와 변경의 문법이 똑같다.\n",
        "- 키가 없으면 추가, 있으면 수정"
      ],
      "metadata": {
        "id": "uONhex0mclUq"
      }
    },
    {
      "cell_type": "code",
      "source": [
        "city[\"China\"] = \"Beijing\"\n",
        "city"
      ],
      "metadata": {
        "colab": {
          "base_uri": "https://localhost:8080/"
        },
        "id": "84WkHNsLdmQf",
        "outputId": "3343fd20-f39a-40f1-80b6-dc0bd6a4b0d1"
      },
      "execution_count": 26,
      "outputs": [
        {
          "output_type": "execute_result",
          "data": {
            "text/plain": [
              "{'Korea': 'Seoul', 'Japan': 'Tokyo', 'Canada': 'Ottawa', 'China': 'Beijing'}"
            ]
          },
          "metadata": {},
          "execution_count": 26
        }
      ]
    },
    {
      "cell_type": "code",
      "source": [
        "city[\"Japan\"] = \"Kyoto\"\n",
        "city"
      ],
      "metadata": {
        "colab": {
          "base_uri": "https://localhost:8080/"
        },
        "id": "F46chbQ7eGBI",
        "outputId": "cec2962b-9139-49fa-e134-563743d19023"
      },
      "execution_count": 27,
      "outputs": [
        {
          "output_type": "execute_result",
          "data": {
            "text/plain": [
              "{'Korea': 'Seoul', 'Japan': 'Kyoto', 'Canada': 'Ottawa', 'China': 'Beijing'}"
            ]
          },
          "metadata": {},
          "execution_count": 27
        }
      ]
    },
    {
      "cell_type": "markdown",
      "source": [
        "## `dict`의 원소 삭제\n",
        "- `del` 키워드 활용"
      ],
      "metadata": {
        "id": "QfW_nSI9fHPY"
      }
    },
    {
      "cell_type": "code",
      "source": [
        "del city[\"Japan\"]\n",
        "city"
      ],
      "metadata": {
        "colab": {
          "base_uri": "https://localhost:8080/"
        },
        "id": "WQKmopasfdT9",
        "outputId": "6107ab3e-b960-43e2-9d92-ff6f9b5b60dd"
      },
      "execution_count": 28,
      "outputs": [
        {
          "output_type": "execute_result",
          "data": {
            "text/plain": [
              "{'Korea': 'Seoul', 'Canada': 'Ottawa', 'China': 'Beijing'}"
            ]
          },
          "metadata": {},
          "execution_count": 28
        }
      ]
    },
    {
      "cell_type": "markdown",
      "source": [
        "## `dict`의 key, value를 확인"
      ],
      "metadata": {
        "id": "zFpiL0g0h4Dg"
      }
    },
    {
      "cell_type": "code",
      "source": [
        "# keys() : 딕셔너리의 전체 키를 확인\n",
        "city.keys()"
      ],
      "metadata": {
        "colab": {
          "base_uri": "https://localhost:8080/"
        },
        "id": "Wv3xGeeZiBut",
        "outputId": "834e2d45-3922-4568-b7d0-a2ba35dd65c2"
      },
      "execution_count": 29,
      "outputs": [
        {
          "output_type": "execute_result",
          "data": {
            "text/plain": [
              "dict_keys(['Korea', 'Canada', 'China'])"
            ]
          },
          "metadata": {},
          "execution_count": 29
        }
      ]
    },
    {
      "cell_type": "code",
      "source": [
        "# values() : 딕셔너리의 전체 value를 확인\n",
        "city.values()"
      ],
      "metadata": {
        "colab": {
          "base_uri": "https://localhost:8080/"
        },
        "id": "_FcLzD3miGt9",
        "outputId": "7a46f2cb-29cc-4cf0-9d0f-42d9c8dd262b"
      },
      "execution_count": 30,
      "outputs": [
        {
          "output_type": "execute_result",
          "data": {
            "text/plain": [
              "dict_values(['Seoul', 'Ottawa', 'Beijing'])"
            ]
          },
          "metadata": {},
          "execution_count": 30
        }
      ]
    },
    {
      "cell_type": "code",
      "source": [
        "# items() : 딕셔너리의 전체 key, value를 튜플 형식으로 확인\n",
        "city.items()"
      ],
      "metadata": {
        "colab": {
          "base_uri": "https://localhost:8080/"
        },
        "id": "_PGrK8JeiI7W",
        "outputId": "2384ec1b-d2f4-4ed3-f053-29933967fcfb"
      },
      "execution_count": 31,
      "outputs": [
        {
          "output_type": "execute_result",
          "data": {
            "text/plain": [
              "dict_items([('Korea', 'Seoul'), ('Canada', 'Ottawa'), ('China', 'Beijing')])"
            ]
          },
          "metadata": {},
          "execution_count": 31
        }
      ]
    },
    {
      "cell_type": "markdown",
      "source": [
        "# 컬렉션 끼리의 타입캐스팅"
      ],
      "metadata": {
        "id": "Rea2RwI4iMHw"
      }
    },
    {
      "cell_type": "code",
      "source": [
        "# list -> tuple\n",
        "lst = [1, 2, 3]\n",
        "tuple(lst)"
      ],
      "metadata": {
        "colab": {
          "base_uri": "https://localhost:8080/"
        },
        "id": "tsxb2tvGiX2d",
        "outputId": "aefd59b0-1672-4a69-d6ff-ee280126072b"
      },
      "execution_count": 32,
      "outputs": [
        {
          "output_type": "execute_result",
          "data": {
            "text/plain": [
              "(1, 2, 3)"
            ]
          },
          "metadata": {},
          "execution_count": 32
        }
      ]
    },
    {
      "cell_type": "code",
      "source": [
        "# tuple -> list\n",
        "tup = 1, 2, 3\n",
        "list(tup)"
      ],
      "metadata": {
        "colab": {
          "base_uri": "https://localhost:8080/"
        },
        "id": "LpRuMuHpikOE",
        "outputId": "ea8abd19-ba45-4f3f-ddc7-c7f3f95a6f12"
      },
      "execution_count": 33,
      "outputs": [
        {
          "output_type": "execute_result",
          "data": {
            "text/plain": [
              "[1, 2, 3]"
            ]
          },
          "metadata": {},
          "execution_count": 33
        }
      ]
    },
    {
      "cell_type": "code",
      "source": [
        "# Sequence -> Set\n",
        "lst = [1,1,2,2,3,3,4,4,5,5]\n",
        "set(lst)"
      ],
      "metadata": {
        "colab": {
          "base_uri": "https://localhost:8080/"
        },
        "id": "s7bylLrgipay",
        "outputId": "e0b84b85-1229-471c-e006-545de981ed31"
      },
      "execution_count": 34,
      "outputs": [
        {
          "output_type": "execute_result",
          "data": {
            "text/plain": [
              "{1, 2, 3, 4, 5}"
            ]
          },
          "metadata": {},
          "execution_count": 34
        }
      ]
    },
    {
      "cell_type": "code",
      "source": [
        "# dict -> Sequence\n",
        "list(city)"
      ],
      "metadata": {
        "colab": {
          "base_uri": "https://localhost:8080/"
        },
        "id": "y6Uc-KX8jD-w",
        "outputId": "a819068e-b207-449b-9c19-d87359d0faa0"
      },
      "execution_count": 35,
      "outputs": [
        {
          "output_type": "execute_result",
          "data": {
            "text/plain": [
              "['Korea', 'Canada', 'China']"
            ]
          },
          "metadata": {},
          "execution_count": 35
        }
      ]
    },
    {
      "cell_type": "code",
      "source": [
        "set(city)"
      ],
      "metadata": {
        "colab": {
          "base_uri": "https://localhost:8080/"
        },
        "id": "zjvjUC83jNbN",
        "outputId": "def8e65a-6bf9-4d3d-b5f9-4c5896d3e2ff"
      },
      "execution_count": 36,
      "outputs": [
        {
          "output_type": "execute_result",
          "data": {
            "text/plain": [
              "{'Canada', 'China', 'Korea'}"
            ]
          },
          "metadata": {},
          "execution_count": 36
        }
      ]
    },
    {
      "cell_type": "code",
      "source": [
        "text = \"hello\"\n",
        "list(text)"
      ],
      "metadata": {
        "colab": {
          "base_uri": "https://localhost:8080/"
        },
        "id": "_1cL24ApjR3c",
        "outputId": "a78b37e6-80f6-4e11-c2f3-075cb336b81a"
      },
      "execution_count": 37,
      "outputs": [
        {
          "output_type": "execute_result",
          "data": {
            "text/plain": [
              "['h', 'e', 'l', 'l', 'o']"
            ]
          },
          "metadata": {},
          "execution_count": 37
        }
      ]
    },
    {
      "cell_type": "code",
      "source": [
        "set(text)"
      ],
      "metadata": {
        "colab": {
          "base_uri": "https://localhost:8080/"
        },
        "id": "hOQIHtwbjaAL",
        "outputId": "51ec0c78-1d93-4156-8f82-fb1c3bb2b2fc"
      },
      "execution_count": 38,
      "outputs": [
        {
          "output_type": "execute_result",
          "data": {
            "text/plain": [
              "{'e', 'h', 'l', 'o'}"
            ]
          },
          "metadata": {},
          "execution_count": 38
        }
      ]
    }
  ]
}