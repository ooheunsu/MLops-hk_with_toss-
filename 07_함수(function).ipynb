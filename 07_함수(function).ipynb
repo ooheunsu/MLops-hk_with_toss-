{
  "cells": [
    {
      "cell_type": "markdown",
      "metadata": {
        "id": "view-in-github",
        "colab_type": "text"
      },
      "source": [
        "<a href=\"https://colab.research.google.com/github/ooheunsu/MLops-hk_with_toss-/blob/main/07_%ED%95%A8%EC%88%98(function).ipynb\" target=\"_parent\"><img src=\"https://colab.research.google.com/assets/colab-badge.svg\" alt=\"Open In Colab\"/></a>"
      ]
    },
    {
      "cell_type": "markdown",
      "metadata": {
        "id": "TGvmVxVoSxuN"
      },
      "source": [
        "# 함수(function)\n",
        "- (재사용 할)코드의 묶음"
      ]
    },
    {
      "cell_type": "code",
      "execution_count": null,
      "metadata": {
        "colab": {
          "base_uri": "https://localhost:8080/"
        },
        "id": "yp9abCJgTZhS",
        "outputId": "3cebf7ad-11fb-4187-e28c-cfc1dfb96549"
      },
      "outputs": [
        {
          "name": "stdout",
          "output_type": "stream",
          "text": [
            "D\n"
          ]
        }
      ],
      "source": [
        "# 성적계산기를 만들어 보자!\n",
        "\n",
        "score = 60\n",
        "\n",
        "if score >= 90:\n",
        "  print(\"A\")\n",
        "elif score >= 80:\n",
        "  print(\"B\")\n",
        "elif score >= 70:\n",
        "  print(\"C\")\n",
        "elif score >= 60:\n",
        "  print(\"D\")\n",
        "else:\n",
        "  print(\"F\")"
      ]
    },
    {
      "cell_type": "code",
      "execution_count": null,
      "metadata": {
        "colab": {
          "base_uri": "https://localhost:8080/"
        },
        "id": "E_g41b6hVp8Y",
        "outputId": "99ec5af5-889e-42ae-d045-f1ae145e1645"
      },
      "outputs": [
        {
          "name": "stdout",
          "output_type": "stream",
          "text": [
            "B\n"
          ]
        }
      ],
      "source": [
        "# 두 번째 사람에 대한 처리\n",
        "score = 85\n",
        "\n",
        "if score >= 90:\n",
        "  print(\"A\")\n",
        "elif score >= 80:\n",
        "  print(\"B\")\n",
        "elif score >= 70:\n",
        "  print(\"C\")\n",
        "elif score >= 60:\n",
        "  print(\"D\")\n",
        "else:\n",
        "  print(\"F\")"
      ]
    },
    {
      "cell_type": "code",
      "execution_count": null,
      "metadata": {
        "id": "Bk5wlURQVtLh"
      },
      "outputs": [],
      "source": [
        "# 함수화 시키기!\n",
        "# 반복적인 기능을 하는 코드 뭉치(code context)를 \"정의\" 해 놓고, 필요 할 때 \"호출\"\n",
        "# 정의 : def\n",
        "# 사용(호출) : call\n",
        "\n",
        "# print_grade라는 함수를 정의, 구현\n"
      ]
    },
    {
      "cell_type": "markdown",
      "metadata": {
        "id": "zyaST5IvWx7e"
      },
      "source": [
        "# 함수의 정의 방법\n",
        "```python\n",
        "def <function_name>([paramter1, parameter2, ...]):\n",
        "  ...\n",
        "  code context\n",
        "  ...\n",
        "```\n",
        "* 파라미터(Parameter) : 함수를 **정의**할 때 호출하는 곳에서 입력해주는 **데이터를 저장할 변수**\n",
        "* 아규먼트(Argument) : 함수를 호출하는 곳에서 함수에 넣어주는 **데이터**\n",
        "\n",
        "파라미터의 변수명과 아규먼트의 변수명은 항상 같아야 할가요?\n",
        "- No!"
      ]
    },
    {
      "cell_type": "code",
      "execution_count": null,
      "metadata": {
        "colab": {
          "base_uri": "https://localhost:8080/"
        },
        "id": "WP9dvvd-W4-v",
        "outputId": "e5fc85df-709d-41b2-d4cc-5f5a0fc560f7"
      },
      "outputs": [
        {
          "name": "stdout",
          "output_type": "stream",
          "text": [
            "Here is foo\n",
            "Parameter X, Return X\n"
          ]
        }
      ],
      "source": [
        "# 1. Parameter X, Return X\n",
        "def foo():\n",
        "  print(\"Here is foo\")\n",
        "  print(\"Parameter X, Return X\")\n",
        "\n",
        "# Parameter가 없으니까 Argument를 안 넣어줘도 된다.\n",
        "foo()"
      ]
    },
    {
      "cell_type": "code",
      "execution_count": null,
      "metadata": {
        "colab": {
          "base_uri": "https://localhost:8080/"
        },
        "id": "LkfRkm1nbv_G",
        "outputId": "ab650387-0142-413b-8d0e-8b81745f10fd"
      },
      "outputs": [
        {
          "name": "stdout",
          "output_type": "stream",
          "text": [
            "Small\n",
            "10 20\n"
          ]
        }
      ],
      "source": [
        "# 2. Parameter 0, Return X\n",
        "# 대표적으로 print 함수가 있다.\n",
        "\n",
        "def goo(num1, num2):\n",
        "  if num1 + num2 > 10:\n",
        "    print(\"Big\")\n",
        "  else:\n",
        "    print(\"Small\")\n",
        "\n",
        "goo(1, 2)\n",
        "print(10, 20)"
      ]
    },
    {
      "cell_type": "code",
      "execution_count": null,
      "metadata": {
        "colab": {
          "base_uri": "https://localhost:8080/"
        },
        "id": "WPeZlz7wcJH2",
        "outputId": "05775ba5-cecf-45ea-c0c0-4daac605aeb2"
      },
      "outputs": [
        {
          "name": "stdout",
          "output_type": "stream",
          "text": [
            "Big\n"
          ]
        }
      ],
      "source": [
        "# return이란, 함수를 호출 했을 때의 결과물.\n",
        "# 이 결과물을 다른 변수에 할당하는 것이 가능!!\n",
        "result = goo(10, 20)"
      ]
    },
    {
      "cell_type": "code",
      "execution_count": null,
      "metadata": {
        "colab": {
          "base_uri": "https://localhost:8080/"
        },
        "id": "P7_pnQYgdK3E",
        "outputId": "55f4e0f3-2416-4ca3-fdc5-10d397b80a0f"
      },
      "outputs": [
        {
          "name": "stdout",
          "output_type": "stream",
          "text": [
            "None\n"
          ]
        }
      ],
      "source": [
        "print(result)"
      ]
    },
    {
      "cell_type": "code",
      "execution_count": null,
      "metadata": {
        "colab": {
          "base_uri": "https://localhost:8080/"
        },
        "id": "sD2bfpzZdNNg",
        "outputId": "59800856-bfa8-4cf1-81bf-075e809a6542"
      },
      "outputs": [
        {
          "name": "stdout",
          "output_type": "stream",
          "text": [
            "안녕하세요 반갑습니다.\n",
            "None\n"
          ]
        }
      ],
      "source": [
        "result = print(\"안녕하세요 반갑습니다.\")\n",
        "print(result)"
      ]
    },
    {
      "cell_type": "code",
      "execution_count": null,
      "metadata": {
        "colab": {
          "base_uri": "https://localhost:8080/"
        },
        "id": "fnnOe13OdSvo",
        "outputId": "e072e814-c807-415e-eff9-4a6b352255d7"
      },
      "outputs": [
        {
          "name": "stdout",
          "output_type": "stream",
          "text": [
            "moo is called\n",
            "25\n"
          ]
        }
      ],
      "source": [
        "# 3. Parameter X, Return O\n",
        "def moo():\n",
        "  print(\"moo is called\")\n",
        "  lst = [1, 3, 5, 7, 9]\n",
        "\n",
        "  total = sum(lst)\n",
        "\n",
        "  return total # return 값이 존재\n",
        "\n",
        "moo_result = moo()  # 함수 moo는 값을 반환(return)한다. 따라서 리턴 값을 변수로 받아 낼 수 있다.\n",
        "print(moo_result)"
      ]
    },
    {
      "cell_type": "code",
      "execution_count": null,
      "metadata": {
        "colab": {
          "base_uri": "https://localhost:8080/"
        },
        "id": "N4-LOtOIeDWz",
        "outputId": "bc1f5743-349b-4a4d-d705-abaffaade465"
      },
      "outputs": [
        {
          "data": {
            "text/plain": [
              "2500"
            ]
          },
          "execution_count": 13,
          "metadata": {},
          "output_type": "execute_result"
        }
      ],
      "source": [
        "moo_result * 100"
      ]
    },
    {
      "cell_type": "code",
      "execution_count": null,
      "metadata": {
        "id": "GaHcSHfLejsd"
      },
      "outputs": [],
      "source": [
        "# 4. Parameter O, Return O\n",
        "def hoo(num1, num2):\n",
        "  print(\"hoo is called\")\n",
        "  return num1 + num2"
      ]
    },
    {
      "cell_type": "code",
      "execution_count": null,
      "metadata": {
        "colab": {
          "base_uri": "https://localhost:8080/"
        },
        "id": "NoqL69wKe0-5",
        "outputId": "05e51134-1934-4d7b-98fa-ac00eba2e685"
      },
      "outputs": [
        {
          "name": "stdout",
          "output_type": "stream",
          "text": [
            "hoo is called\n",
            "30\n"
          ]
        }
      ],
      "source": [
        "a = 10\n",
        "b = 20\n",
        "\n",
        "hoo_result = hoo(a, b)\n",
        "print(hoo_result)\n",
        "\n",
        "# 네가지 다 알고 있는게 중요하다!!!"
      ]
    },
    {
      "cell_type": "markdown",
      "metadata": {
        "id": "3VdyL4D2FPbc"
      },
      "source": [
        "# 파라미터를 정의하는 3가지 방법\n",
        "1. `default parameter` ★★★★★\n",
        "2. 여러 아규먼트를 한꺼번에 묶어서 동시에 포함 시키기 ★★★\n",
        "  * `*args`\n",
        "  * `print` 함수에서 사용되고 있음\n",
        "3. 여러 아규먼트를 `dict` 형태로 받기 ★★\n",
        "  * `**kwargs`\n",
        "  * 직접 만들 일은 생각보다 만히 없으나, 이미 만들어진 것을 사용할 때 주로 사용된다.\n"
      ]
    },
    {
      "cell_type": "markdown",
      "metadata": {
        "id": "2pPs-g0wFPHs"
      },
      "source": [
        "## Default Parameter\n",
        "- 함수를 호출 할 때 Argument를 넣어주지 않아도 기본적으로 파라미터가 가지고 있어야 할 값을 지정"
      ]
    },
    {
      "cell_type": "code",
      "execution_count": null,
      "metadata": {
        "colab": {
          "base_uri": "https://localhost:8080/"
        },
        "id": "cjqMjgJuF-Vz",
        "outputId": "9a0e0ca4-21aa-4156-937d-ddcf2d3604fd"
      },
      "outputs": [
        {
          "name": "stdout",
          "output_type": "stream",
          "text": [
            "Hello 30 5.1212121\n"
          ]
        }
      ],
      "source": [
        "def noo(a, b, c):\n",
        "  print(a, b, c)\n",
        "\n",
        "noo(\"Hello\", 30, 5.1212121)"
      ]
    },
    {
      "cell_type": "code",
      "execution_count": null,
      "metadata": {
        "colab": {
          "base_uri": "https://localhost:8080/",
          "height": 147
        },
        "id": "nkZWlKLsGEH5",
        "outputId": "bfda9b83-0430-44da-cc1c-9e54c6b0cbb1"
      },
      "outputs": [
        {
          "ename": "TypeError",
          "evalue": "noo() missing 1 required positional argument: 'c'",
          "output_type": "error",
          "traceback": [
            "\u001b[0;31m---------------------------------------------------------------------------\u001b[0m",
            "\u001b[0;31mTypeError\u001b[0m                                 Traceback (most recent call last)",
            "\u001b[0;32m<ipython-input-4-4a0694526a33>\u001b[0m in \u001b[0;36m<cell line: 1>\u001b[0;34m()\u001b[0m\n\u001b[0;32m----> 1\u001b[0;31m \u001b[0mnoo\u001b[0m\u001b[0;34m(\u001b[0m\u001b[0;36m10\u001b[0m\u001b[0;34m,\u001b[0m \u001b[0;36m20\u001b[0m\u001b[0;34m)\u001b[0m\u001b[0;34m\u001b[0m\u001b[0;34m\u001b[0m\u001b[0m\n\u001b[0m",
            "\u001b[0;31mTypeError\u001b[0m: noo() missing 1 required positional argument: 'c'"
          ]
        }
      ],
      "source": [
        "noo(10, 20) # 파라미터가 3개인데 아규먼트는 2개만 넣으니까 에러나지"
      ]
    },
    {
      "cell_type": "code",
      "execution_count": null,
      "metadata": {
        "colab": {
          "base_uri": "https://localhost:8080/"
        },
        "id": "ibQpr39EGdfm",
        "outputId": "70120973-f685-47b7-ef08-3e744a1819dd"
      },
      "outputs": [
        {
          "name": "stdout",
          "output_type": "stream",
          "text": [
            "10 20 30\n"
          ]
        }
      ],
      "source": [
        "# Parameter c에 기본적으로 30을 넣어주기\n",
        "def koo(a, b, c = 30):\n",
        "  print(a, b, c)\n",
        "\n",
        "koo(10, 20) # 오~"
      ]
    },
    {
      "cell_type": "code",
      "execution_count": null,
      "metadata": {
        "colab": {
          "base_uri": "https://localhost:8080/"
        },
        "id": "sZJf9spgG_Vn",
        "outputId": "2456ed3e-ef2f-46fe-dac3-5ad7364a2e85"
      },
      "outputs": [
        {
          "name": "stdout",
          "output_type": "stream",
          "text": [
            "10 20 HiHi\n"
          ]
        }
      ],
      "source": [
        "koo(10, 20, \"HiHi\")"
      ]
    },
    {
      "cell_type": "code",
      "execution_count": null,
      "metadata": {
        "colab": {
          "base_uri": "https://localhost:8080/",
          "height": 110
        },
        "id": "VdidJETfHKu-",
        "outputId": "f83115c5-0459-4309-a994-c2358652dd9c"
      },
      "outputs": [
        {
          "ename": "SyntaxError",
          "evalue": "non-default argument follows default argument (<ipython-input-8-19063dc8d839>, line 2)",
          "output_type": "error",
          "traceback": [
            "\u001b[0;36m  File \u001b[0;32m\"<ipython-input-8-19063dc8d839>\"\u001b[0;36m, line \u001b[0;32m2\u001b[0m\n\u001b[0;31m    def roo(a, b = 20, c):\u001b[0m\n\u001b[0m                       ^\u001b[0m\n\u001b[0;31mSyntaxError\u001b[0m\u001b[0;31m:\u001b[0m non-default argument follows default argument\n"
          ]
        }
      ],
      "source": [
        "# 잘못된 Default Parameter 설정\n",
        "def roo(a, b = 20, c):\n",
        "  print(a, b, c)\n",
        "\n",
        "roo(10, 20, 30)\n",
        "\n",
        "# 왜 잘못되었을까요?\n",
        "# Python에서는 default parameter를 가진 파라미터들은 항상 맨 뒤쪽에 위치해야 합니다.\n",
        "# 즉, default parameter가 없는 파라미터가 default parameter를 가진 파라미터보다 뒤에 올 수 없습니다."
      ]
    },
    {
      "cell_type": "code",
      "execution_count": null,
      "metadata": {
        "colab": {
          "base_uri": "https://localhost:8080/"
        },
        "id": "f_a74RktIDiu",
        "outputId": "f4b60204-f439-4de0-9587-c0e07d77a473"
      },
      "outputs": [
        {
          "name": "stdout",
          "output_type": "stream",
          "text": [
            "Hello\n"
          ]
        }
      ],
      "source": [
        "# default parameter는 오른쪽부터 채워야한다. (argument 는 왼쪽부터 채움)\n",
        "def woo(a, b =20, c = 30):\n",
        "    print(a, b, c)\n",
        "\n",
        "print(\"Hello\")"
      ]
    },
    {
      "cell_type": "markdown",
      "metadata": {
        "id": "aDQ5LpDGIZHm"
      },
      "source": [
        "Default Parameter는 언제쓸까?\n",
        "- 사용자가 넣어주지 않아도 기본적으로 세팅되어야 할 옵션이 있을 때 사용"
      ]
    },
    {
      "cell_type": "markdown",
      "metadata": {
        "id": "63YekgFDI8CA"
      },
      "source": [
        "## `*args`\n",
        "- 함수를 정의하면서 Argument가 `n`개가 들어 갈 수 있다!\n",
        "- `*`을 `asterisk`라고 함"
      ]
    },
    {
      "cell_type": "code",
      "execution_count": null,
      "metadata": {
        "colab": {
          "base_uri": "https://localhost:8080/"
        },
        "id": "Idr2U2bAJCAI",
        "outputId": "95f011dd-68d6-4b4c-d471-4226796ed3d7"
      },
      "outputs": [
        {
          "name": "stdout",
          "output_type": "stream",
          "text": [
            "(1, 2, 3, 4, 5, 6, 7, 3, 2, 34, 5, 4)\n",
            "76\n"
          ]
        }
      ],
      "source": [
        "# 정해진 개수가 아닌, N개의 Argument를 받아서 처리하고 싶으면 *args 사용\n",
        "def add(*args):\n",
        "  # *args로 Argument를 받으면, 튜플 형태로 Argument가 묶여서 들어온다.\n",
        "  print(args)\n",
        "  total = sum(args)\n",
        "  print(total)\n",
        "\n",
        "add(1,2,3,4,5,6,7,3,2,34,5,4)"
      ]
    },
    {
      "cell_type": "code",
      "execution_count": null,
      "metadata": {
        "id": "-cRNTdz5KgIk"
      },
      "outputs": [],
      "source": [
        "# 하나의 함수에 여러 개의 *args를 사용할 수 있을까요?\n",
        "\n",
        "# Error\n",
        "# def qoo(*args1, *args2):\n",
        "#   pass"
      ]
    },
    {
      "cell_type": "code",
      "execution_count": null,
      "metadata": {
        "colab": {
          "base_uri": "https://localhost:8080/"
        },
        "id": "RujwnVWyLmI0",
        "outputId": "874188f2-c149-4190-8a7d-8fd5e85db535"
      },
      "outputs": [
        {
          "name": "stdout",
          "output_type": "stream",
          "text": [
            "10\n",
            "20\n",
            "(30, 40, 50)\n"
          ]
        }
      ],
      "source": [
        "# Positional Argument와 *args 같이 사용 가능할까요?\n",
        "def qoo(a, b, *args):\n",
        "  print(a)\n",
        "  print(b)\n",
        "  print(args)\n",
        "\n",
        "qoo(10, 20, 30, 40, 50)"
      ]
    },
    {
      "cell_type": "code",
      "execution_count": null,
      "metadata": {
        "colab": {
          "base_uri": "https://localhost:8080/",
          "height": 184
        },
        "id": "EkqJYaFCMA0f",
        "outputId": "6ead1893-cfdc-4e0b-cdf0-68ccc9c1f1ce"
      },
      "outputs": [
        {
          "ename": "TypeError",
          "evalue": "eoo() missing 1 required keyword-only argument: 'b'",
          "output_type": "error",
          "traceback": [
            "\u001b[0;31m---------------------------------------------------------------------------\u001b[0m",
            "\u001b[0;31mTypeError\u001b[0m                                 Traceback (most recent call last)",
            "\u001b[0;32m<ipython-input-15-ced35e0cb8f4>\u001b[0m in \u001b[0;36m<cell line: 7>\u001b[0;34m()\u001b[0m\n\u001b[1;32m      5\u001b[0m   \u001b[0mprint\u001b[0m\u001b[0;34m(\u001b[0m\u001b[0mb\u001b[0m\u001b[0;34m)\u001b[0m\u001b[0;34m\u001b[0m\u001b[0;34m\u001b[0m\u001b[0m\n\u001b[1;32m      6\u001b[0m \u001b[0;34m\u001b[0m\u001b[0m\n\u001b[0;32m----> 7\u001b[0;31m \u001b[0meoo\u001b[0m\u001b[0;34m(\u001b[0m\u001b[0;36m1\u001b[0m\u001b[0;34m,\u001b[0m \u001b[0;36m2\u001b[0m\u001b[0;34m,\u001b[0m\u001b[0;36m3\u001b[0m\u001b[0;34m,\u001b[0m\u001b[0;36m4\u001b[0m\u001b[0;34m,\u001b[0m\u001b[0;36m5\u001b[0m\u001b[0;34m,\u001b[0m\u001b[0;36m6\u001b[0m\u001b[0;34m,\u001b[0m\u001b[0;36m7\u001b[0m\u001b[0;34m,\u001b[0m \u001b[0;36m8\u001b[0m\u001b[0;34m)\u001b[0m\u001b[0;34m\u001b[0m\u001b[0;34m\u001b[0m\u001b[0m\n\u001b[0m",
            "\u001b[0;31mTypeError\u001b[0m: eoo() missing 1 required keyword-only argument: 'b'"
          ]
        }
      ],
      "source": [
        "# *args가 모든 아규먼트를 먹기 때문에 b가 세팅되지 않는다.\n",
        "def eoo(a, *args, b):\n",
        "  print(a)\n",
        "  print(args)\n",
        "  print(b)\n",
        "\n",
        "eoo(1, 2,3,4,5,6,7, 8)"
      ]
    },
    {
      "cell_type": "code",
      "execution_count": null,
      "metadata": {
        "colab": {
          "base_uri": "https://localhost:8080/"
        },
        "id": "bT5N6R5MSv7H",
        "outputId": "1f524c53-ad84-4f64-eb69-2bbdec860a45"
      },
      "outputs": [
        {
          "name": "stdout",
          "output_type": "stream",
          "text": [
            "1\n",
            "(2, 3, 4, 5, 6, 7)\n",
            "8\n"
          ]
        }
      ],
      "source": [
        "# b에 Keyword Argument를 지정\n",
        "eoo( 1,2,3,4,5,6,7, b=8)"
      ]
    },
    {
      "cell_type": "code",
      "execution_count": null,
      "metadata": {
        "colab": {
          "base_uri": "https://localhost:8080/"
        },
        "id": "jp90uD20Sy1j",
        "outputId": "93f88ef1-4c2f-4a59-845b-adaf16c222bc"
      },
      "outputs": [
        {
          "name": "stdout",
          "output_type": "stream",
          "text": [
            "1\n",
            "(2, 3, 4, 5, 6, 7)\n",
            "Hello\n"
          ]
        }
      ],
      "source": [
        "# b에 Default Parameter를 사용하여 에러 방지\n",
        "def eoo(a, *args, b=\"Hello\"):\n",
        "  print(a)\n",
        "  print(args)\n",
        "  print(b)\n",
        "\n",
        "\n",
        "eoo(1, 2,3,4,5,6,7 )"
      ]
    },
    {
      "cell_type": "code",
      "execution_count": null,
      "metadata": {
        "colab": {
          "base_uri": "https://localhost:8080/"
        },
        "id": "FIY0kGY0S1uS",
        "outputId": "7981dec4-b5b0-4fd5-d014-23786988c6ab"
      },
      "outputs": [
        {
          "name": "stdout",
          "output_type": "stream",
          "text": [
            "1\n",
            "2\n",
            "(3, 4, 5, 6, 7)\n"
          ]
        }
      ],
      "source": [
        "# 에러는 없지만, Default Parameter를 사용하는 의미가 없다.\n",
        "def eoo(a, b=\"Hello\", *args):\n",
        "  print(a)\n",
        "  print(b)\n",
        "  print(args)\n",
        "\n",
        "eoo(1,2,3,4,5,6,7)"
      ]
    },
    {
      "cell_type": "markdown",
      "metadata": {
        "id": "yCK1nap6S5Yp"
      },
      "source": [
        "## Keyword Argument\n",
        "- 파라미터에 값을 넣어줄 때 파라미터의 변수명을 **직접** 기입하는 것"
      ]
    },
    {
      "cell_type": "code",
      "execution_count": null,
      "metadata": {
        "colab": {
          "base_uri": "https://localhost:8080/"
        },
        "id": "QFLhd1-ZTDDO",
        "outputId": "ddba0588-e828-40a2-f19c-bd37a7cd75e0"
      },
      "outputs": [
        {
          "name": "stdout",
          "output_type": "stream",
          "text": [
            "10 20 30\n",
            "10 20 30\n",
            "10 20 30\n"
          ]
        }
      ],
      "source": [
        "def too(a, b, c):\n",
        "  print(a, b, c)\n",
        "\n",
        "# 파라미터 a, b, c의 순서에 맞춰서 Argument를 넣는 것 - Positional Argument\n",
        "too(10, 20, 30)\n",
        "\n",
        "# 파라미터의 이름을 직접 기입해서 아규먼트를 넣는 것 - Keyword Argument\n",
        "too(c=30, a=10, b=20)\n",
        "\n",
        "too(10, c=30, b=20)"
      ]
    },
    {
      "cell_type": "code",
      "execution_count": null,
      "metadata": {
        "colab": {
          "base_uri": "https://localhost:8080/",
          "height": 110
        },
        "id": "WdZ1S3mwTEwg",
        "outputId": "31f29f93-8eb5-46e8-cbac-7d60d81cc9ca"
      },
      "outputs": [
        {
          "ename": "SyntaxError",
          "evalue": "positional argument follows keyword argument (<ipython-input-20-af6ddfa98092>, line 1)",
          "output_type": "error",
          "traceback": [
            "\u001b[0;36m  File \u001b[0;32m\"<ipython-input-20-af6ddfa98092>\"\u001b[0;36m, line \u001b[0;32m1\u001b[0m\n\u001b[0;31m    too(c=30, 20, a=10)\u001b[0m\n\u001b[0m                      ^\u001b[0m\n\u001b[0;31mSyntaxError\u001b[0m\u001b[0;31m:\u001b[0m positional argument follows keyword argument\n"
          ]
        }
      ],
      "source": [
        "too(c=30, 20, a=10)"
      ]
    },
    {
      "cell_type": "markdown",
      "metadata": {
        "id": "Xbw0KUkFUA7c"
      },
      "source": [
        "```\n",
        "too(c=30, 20, a=10) 이 코드에서 오류가 나는 이유는 키워드 아규먼트 다음에 위치 아규먼트가 올 수 없기 때문입니다.\n",
        "\n",
        "쉽게 설명드리자면, 함수에 값을 전달할 때 두 가지 방법이 있습니다.\n",
        "\n",
        "1. 위치 아규먼트 (Positional Argument): 함수 정의에서 파라미터 순서대로 값을 전달하는 방식입니다. 예를 들어 too(10, 20, 30) 처럼요.\n",
        "2. 키워드 아규먼트 (Keyword Argument): 파라미터 이름을 명시하여 값을 전달하는 방식입니다. 예를 들어 too(c=30, a=10, b=20) 처럼요.\n",
        "Python에서는 위치 아규먼트가 먼저 나오고, 그 뒤에 키워드 아규먼트가 나와야 합니다.\n",
        "```"
      ]
    },
    {
      "cell_type": "markdown",
      "metadata": {
        "id": "56TG07MOTLAU"
      },
      "source": [
        "## `**kwargs`\n",
        "- 직접 정의해서 만드는 경우는 많이 없으나, 알아두기만 해도 좋다\n",
        "- 입력된 Keyword Argument들을 `dict`로 정리"
      ]
    },
    {
      "cell_type": "code",
      "execution_count": null,
      "metadata": {
        "id": "zURwXJjKTOtJ"
      },
      "outputs": [],
      "source": [
        "def yoo(a, b, **kwargs):\n",
        "  print(a)\n",
        "  print(b)\n",
        "  print(kwargs)"
      ]
    },
    {
      "cell_type": "code",
      "execution_count": null,
      "metadata": {
        "colab": {
          "base_uri": "https://localhost:8080/"
        },
        "id": "1SLfE2V5UVMQ",
        "outputId": "916892eb-2da2-4b6a-b4d6-8f8d819423e2"
      },
      "outputs": [
        {
          "name": "stdout",
          "output_type": "stream",
          "text": [
            "10\n",
            "20\n",
            "{'c': 30, 'hihi': 40, 'gamja': 50}\n"
          ]
        }
      ],
      "source": [
        "yoo(10, 20, c=30, hihi=40, gamja=50)"
      ]
    },
    {
      "cell_type": "code",
      "execution_count": null,
      "metadata": {
        "colab": {
          "base_uri": "https://localhost:8080/"
        },
        "id": "JbWQ2nHVUXj5",
        "outputId": "498ba159-cf5d-47fe-9d9e-1850aa2b138e"
      },
      "outputs": [
        {
          "name": "stdout",
          "output_type": "stream",
          "text": [
            "1\n",
            "2\n",
            "(3, 4, 5, 6, 7, 8, 9)\n",
            "{'c': 'hihi', 'd': 'goguma'}\n"
          ]
        }
      ],
      "source": [
        "def aoo(a, b, *args, **kwargs):\n",
        "  print(a)\n",
        "  print(b)\n",
        "  print(args)\n",
        "  print(kwargs)\n",
        "\n",
        "aoo(1,2,3,4,5,6,7,8,9, c='hihi', d='goguma')"
      ]
    },
    {
      "cell_type": "markdown",
      "metadata": {
        "id": "zz348ON0UmRl"
      },
      "source": [
        "aoo(1,2,3,4,5,6,7,8,9, c='hihi', d='goguma'): aoo 함수를 호출하면서 여러 개의 값을 전달합니다.\n",
        "\n",
        "- `1, 2`는 각각 `a, b`에 할당됩니다.\n",
        "- `3, 4, 5, 6, 7, 8, 9`는 `*args`에 튜플 형태로 할당됩니다. *args는 여러 개의 위치 인수를 받아서 튜플로 묶어줍니다.\n",
        "-` c='hihi', d='goguma'`는 `**kwargs`에 딕셔너리 형태로 할당됩니다. **kwargs는 여러 개의 키워드 인수를 받아서 딕셔너리로 묶어줍니다."
      ]
    },
    {
      "cell_type": "code",
      "execution_count": null,
      "metadata": {
        "id": "OPnkImzHV4O7"
      },
      "outputs": [],
      "source": [
        "def boo(a, b, c=30, d=40, *args, **kwargs):\n",
        "  print(a)\n",
        "  print(b)\n",
        "  print(c)\n",
        "  print(d)\n",
        "  print(args)\n",
        "  print(kwargs)"
      ]
    },
    {
      "cell_type": "code",
      "execution_count": null,
      "metadata": {
        "colab": {
          "base_uri": "https://localhost:8080/"
        },
        "id": "WmP7O0ocWBrv",
        "outputId": "fe5448e2-0c39-4db7-8bff-00a966891b6a"
      },
      "outputs": [
        {
          "name": "stdout",
          "output_type": "stream",
          "text": [
            "1\n",
            "2\n",
            "3\n",
            "4\n",
            "(5, 6, 7)\n",
            "{'e': 10, 'f': 30}\n"
          ]
        }
      ],
      "source": [
        "boo(1,2,3,4,5,6,7, e=10, f=30)\n",
        "# a, b는 포지셔널 할당\n",
        "# c, d는 기본값 무시, 포지셔녈 우선으로 할당\n",
        "# 나머지 포지셔녈 567이 args에\n",
        "# 키워드 e,f가 kwargs로"
      ]
    },
    {
      "cell_type": "code",
      "execution_count": null,
      "metadata": {
        "colab": {
          "base_uri": "https://localhost:8080/"
        },
        "id": "9M0p3uZAWDiq",
        "outputId": "cf25368c-53b3-43c7-8f44-a7a1e9a3f600"
      },
      "outputs": [
        {
          "name": "stdout",
          "output_type": "stream",
          "text": [
            "1\n",
            "2\n",
            "30\n",
            "40\n",
            "()\n",
            "{'e': 10, 'f': 40}\n"
          ]
        }
      ],
      "source": [
        "boo(1,2, e=10, f=40)\n",
        "# a, b에 포지셔널\n",
        "# c, d에 기본값 30 40 할당(포지셔녈, 키워드 값이 따로 없음)\n",
        "# 남은 포지셔널값이 없음 = args는 빈 튜플 할당\n",
        "# 키워드는 kwargs로."
      ]
    },
    {
      "cell_type": "code",
      "execution_count": null,
      "metadata": {
        "colab": {
          "base_uri": "https://localhost:8080/",
          "height": 166
        },
        "id": "0YHjUNimWsHA",
        "outputId": "6f928330-caba-4d59-e203-da8f1bd612d5"
      },
      "outputs": [
        {
          "ename": "TypeError",
          "evalue": "boo() got multiple values for argument 'c'",
          "output_type": "error",
          "traceback": [
            "\u001b[0;31m---------------------------------------------------------------------------\u001b[0m",
            "\u001b[0;31mTypeError\u001b[0m                                 Traceback (most recent call last)",
            "\u001b[0;32m<ipython-input-30-aeebcefaf5ae>\u001b[0m in \u001b[0;36m<cell line: 1>\u001b[0;34m()\u001b[0m\n\u001b[0;32m----> 1\u001b[0;31m \u001b[0mboo\u001b[0m\u001b[0;34m(\u001b[0m\u001b[0;36m1\u001b[0m\u001b[0;34m,\u001b[0m\u001b[0;36m2\u001b[0m\u001b[0;34m,\u001b[0m\u001b[0;36m3\u001b[0m\u001b[0;34m,\u001b[0m\u001b[0;36m4\u001b[0m\u001b[0;34m,\u001b[0m\u001b[0;36m5\u001b[0m\u001b[0;34m,\u001b[0m\u001b[0;36m6\u001b[0m\u001b[0;34m,\u001b[0m\u001b[0;36m7\u001b[0m\u001b[0;34m,\u001b[0m \u001b[0me\u001b[0m\u001b[0;34m=\u001b[0m\u001b[0;36m10\u001b[0m\u001b[0;34m,\u001b[0m \u001b[0mf\u001b[0m\u001b[0;34m=\u001b[0m\u001b[0;36m30\u001b[0m\u001b[0;34m,\u001b[0m \u001b[0mc\u001b[0m\u001b[0;34m=\u001b[0m\u001b[0;34m\"gamja\"\u001b[0m\u001b[0;34m,\u001b[0m \u001b[0md\u001b[0m\u001b[0;34m=\u001b[0m\u001b[0;34m\"goguma\"\u001b[0m\u001b[0;34m)\u001b[0m\u001b[0;34m\u001b[0m\u001b[0;34m\u001b[0m\u001b[0m\n\u001b[0m\u001b[1;32m      2\u001b[0m \u001b[0;31m# c 와 d 에다가 포지셔널 값(3, 4) 과 키워드 값(c=\"gamja\", d=\"goguma\") 을 동시에 둘다 전달하려고 하니 타입에러발생\u001b[0m\u001b[0;34m\u001b[0m\u001b[0;34m\u001b[0m\u001b[0m\n",
            "\u001b[0;31mTypeError\u001b[0m: boo() got multiple values for argument 'c'"
          ]
        }
      ],
      "source": [
        "boo(1,2,3,4,5,6,7, e=10, f=30, c=\"gamja\", d=\"goguma\")\n",
        "# c 와 d 에다가 포지셔널 값(3, 4) 과 키워드 값(c=\"gamja\", d=\"goguma\") 을 동시에 둘다 전달하려고 하니 타입에러발생"
      ]
    },
    {
      "cell_type": "markdown",
      "metadata": {
        "id": "6YBu5tyOW2v1"
      },
      "source": [
        "#### Python 함수에서 argument를 전달할 때, 값이 parameter에 할당되는 우선순위\n",
        "\n",
        "1. `위치 인수 (Positional Arguments)`: 함수 정의에서 parameter 순서대로 값이 할당됩니다. 가장 기본적이고 직관적인 방식입니다.\n",
        "\n",
        "2. `키워드 인수 (Keyword Arguments)`: parameter 이름을 명시하여 값을 전달합니다. 위치에 상관없이 특정 parameter에 값을 할당할 수 있습니다.\n",
        "\n",
        "3. `기본값 (Default Values)`: 함수 정의에서 parameter에 기본값을 지정할 수 있습니다. 호출 시 해당 parameter에 값이 전달되지 않으면 기본값이 사용됩니다.\n",
        "\n",
        "4. `*args`: 함수 정의에서 *args를 사용하면, 나머지 위치 인수들을 튜플 형태로 받아 처리할 수 있습니다.\n",
        "\n",
        "5. `kwargs**`: 함수 정의에서**kwargs를 사용하면, 나머지 키워드 인수들을 딕셔너리 형태로 받아 처리할 수 있습니다.\n",
        "\n",
        "```위치 인수 > 키워드 인수 > 기본값 > *args > **kwargs```"
      ]
    },
    {
      "cell_type": "markdown",
      "metadata": {
        "id": "3NuStNEicIdZ"
      },
      "source": [
        "-----------\n",
        "- `*args` 는 포지셔널(위치 인수) 값만 받고.\n",
        "- `**kwargs` 는 키워드 인수 값만 받는다."
      ]
    },
    {
      "cell_type": "code",
      "execution_count": null,
      "metadata": {
        "id": "FeqkVJBOXZIh"
      },
      "outputs": [],
      "source": [
        "def coo(a, b, *args, c=30, d=40, **kwargs):\n",
        "  print(a)\n",
        "  print(b)\n",
        "  print(args)\n",
        "  print(c)\n",
        "  print(d)\n",
        "  print(kwargs)"
      ]
    },
    {
      "cell_type": "code",
      "execution_count": null,
      "metadata": {
        "colab": {
          "base_uri": "https://localhost:8080/"
        },
        "id": "fZjz_vZSXbtt",
        "outputId": "efc710b6-5519-465c-f5bd-28aef7058915"
      },
      "outputs": [
        {
          "name": "stdout",
          "output_type": "stream",
          "text": [
            "1\n",
            "2\n",
            "(3, 4, 5, 6, 7)\n",
            "30\n",
            "40\n",
            "{'e': 'hihi', 'f': 'byebye'}\n"
          ]
        }
      ],
      "source": [
        "coo(1,2,3,4,5,6,7, e='hihi', f='byebye')"
      ]
    },
    {
      "cell_type": "markdown",
      "metadata": {
        "id": "pOoec4o-Xc2P"
      },
      "source": [
        "- `coo 함수`는 `a`, `b`, `*args`, `c`, `d`, `**kwargs` 총 6개의 파라미터를 받습니다.\n",
        "- `a, b`: 위치 인수 (Positional Arguments)로 필수적으로 전달되어야 합니다.\n",
        "- `*args`: 함수 호출 시 추가적인 위치 인수들을 받아서 튜플로 묶습니다.\n",
        "- `c=30, d=40`: 키워드 인수 (Keyword Arguments)이며, 기본값을 가지고 있습니다. 호출 시 값이 전달되지 않으면 기본값이 사용됩니다.(얘는 기본값이면서 동시에 키워드 인수이기도 함.)\n",
        "- `**kwargs`: 함수 호출 시 추가적인 키워드 인수들을 받아서 딕셔너리로 묶습니다."
      ]
    },
    {
      "cell_type": "markdown",
      "metadata": {
        "id": "QHWYwyDyfAgo"
      },
      "source": [
        "---------\n",
        "# Lambda Function\n",
        "- 삼항연산 또는 컴프리헨션과 흡사하게 만들어지는 함수\n",
        "- 한줄 짜리 간단한 함수를 만들 때 사용\n",
        "- 1회용 함수를 만들 때 많이 사용"
      ]
    },
    {
      "cell_type": "code",
      "execution_count": null,
      "metadata": {
        "colab": {
          "base_uri": "https://localhost:8080/"
        },
        "id": "ZC5_X21rfxSU",
        "outputId": "2c263d1b-f305-4c7d-8252-7039c699918c"
      },
      "outputs": [
        {
          "data": {
            "text/plain": [
              "<function __main__.<lambda>(a)>"
            ]
          },
          "execution_count": 31,
          "metadata": {},
          "output_type": "execute_result"
        }
      ],
      "source": [
        "lambda a : print(a) #머야이게"
      ]
    },
    {
      "cell_type": "code",
      "execution_count": null,
      "metadata": {
        "colab": {
          "base_uri": "https://localhost:8080/",
          "height": 104
        },
        "id": "zSllnzGDgfAU",
        "outputId": "d92cae4b-d760-4b86-dd98-7cbc788bd79b"
      },
      "outputs": [
        {
          "data": {
            "text/html": [
              "<div style=\"max-width:800px; border: 1px solid var(--colab-border-color);\"><style>\n",
              "      pre.function-repr-contents {\n",
              "        overflow-x: auto;\n",
              "        padding: 8px 12px;\n",
              "        max-height: 500px;\n",
              "      }\n",
              "\n",
              "      pre.function-repr-contents.function-repr-contents-collapsed {\n",
              "        cursor: pointer;\n",
              "        max-height: 100px;\n",
              "      }\n",
              "    </style>\n",
              "    <pre style=\"white-space: initial; background:\n",
              "         var(--colab-secondary-surface-color); padding: 8px 12px;\n",
              "         border-bottom: 1px solid var(--colab-border-color);\"><b>coo</b><br/>def coo(a, b, *args, c=30, d=40, **kwargs)</pre><pre class=\"function-repr-contents function-repr-contents-collapsed\" style=\"\"><a class=\"filepath\" style=\"display:none\" href=\"#\">/content/&lt;ipython-input-28-cd19d3d7b73c&gt;</a>&lt;no docstring&gt;</pre></div>"
            ],
            "text/plain": [
              "<function __main__.coo(a, b, *args, c=30, d=40, **kwargs)>"
            ]
          },
          "execution_count": 32,
          "metadata": {},
          "output_type": "execute_result"
        }
      ],
      "source": [
        "coo"
      ]
    },
    {
      "cell_type": "code",
      "execution_count": null,
      "metadata": {
        "id": "jYSgUr5Tgp_t"
      },
      "outputs": [],
      "source": [
        "# 이걸 람다 함수로 구현해보자\n",
        "def add(num1, num2):\n",
        "  return num1 + num2\n",
        "\n",
        "add(1, 2)"
      ]
    },
    {
      "cell_type": "markdown",
      "metadata": {
        "id": "y6ujQ3-QhEAA"
      },
      "source": [
        "`lambda : <parameter> : <return>`\n",
        "- 파라미터 값, 리턴 값 필수임.\n",
        "- 한줄 함수만 람다로 표현 가능(여러 줄 함수는 안됨)"
      ]
    },
    {
      "cell_type": "code",
      "execution_count": null,
      "metadata": {
        "colab": {
          "base_uri": "https://localhost:8080/"
        },
        "id": "B2tQxOYuhaVW",
        "outputId": "6584c472-ebb6-4a2d-afda-794ba388efdc"
      },
      "outputs": [
        {
          "data": {
            "text/plain": [
              "3"
            ]
          },
          "execution_count": 35,
          "metadata": {},
          "output_type": "execute_result"
        }
      ],
      "source": [
        "add_lambda = lambda num1, num2 : num1 + num2\n",
        "add_lambda(1, 2)"
      ]
    },
    {
      "cell_type": "code",
      "execution_count": null,
      "metadata": {
        "colab": {
          "base_uri": "https://localhost:8080/"
        },
        "id": "uByYJjvxhzML",
        "outputId": "f1d85a31-5ffe-417f-f97d-92eec9a6c084"
      },
      "outputs": [
        {
          "data": {
            "text/plain": [
              "25"
            ]
          },
          "execution_count": 36,
          "metadata": {},
          "output_type": "execute_result"
        }
      ],
      "source": [
        "# 숫자 x를 받아서 x의 제곱을 리턴하는 람다 함수 만들기\n",
        "square = lambda x : x ** 2\n",
        "square(5)\n",
        "# 함수의 이름과 변수의 이름이 같은 의미를 갖는다?"
      ]
    },
    {
      "cell_type": "code",
      "execution_count": null,
      "metadata": {
        "colab": {
          "base_uri": "https://localhost:8080/"
        },
        "id": "YlP9k5xliTUA",
        "outputId": "3a27f805-7c8c-4eba-bd56-e5a71eb6dd63"
      },
      "outputs": [
        {
          "name": "stdout",
          "output_type": "stream",
          "text": [
            "babo\n"
          ]
        }
      ],
      "source": [
        "def babo():\n",
        "  print(\"babo\")\n",
        "\n",
        "b = babo\n",
        "b()"
      ]
    },
    {
      "cell_type": "markdown",
      "metadata": {
        "id": "KrrDagYwixW1"
      },
      "source": [
        "___________\n",
        "# Scope 범위\n",
        "- 제어문(`if, for, while 등`) 및 함수의 내부에서 선언되는 변수와 밖에서 선언되는 변수의 **사용범위(scope)**가 다르다\n",
        "  - 파이썬에서는 제어문은 해당이 안된다.\n",
        "- `global`(전역), `local`(지역)\n",
        "\n",
        "![](https://drive.google.com/uc?export=view&id=1za9gHfS28qWC0PDDHDa5POEl5Rb9OPtb)"
      ]
    },
    {
      "cell_type": "code",
      "execution_count": null,
      "metadata": {
        "colab": {
          "base_uri": "https://localhost:8080/"
        },
        "id": "VY7KKNEAjQtg",
        "outputId": "ef1a2399-44ba-49bc-d1df-29a2079cb48c"
      },
      "outputs": [
        {
          "name": "stdout",
          "output_type": "stream",
          "text": [
            "10\n"
          ]
        }
      ],
      "source": [
        "# 전역 변수 - 어디에서든 접근이 가능\n",
        "gv = 10\n",
        "\n",
        "def foo():\n",
        "  print(gv)\n",
        "\n",
        "foo()"
      ]
    },
    {
      "cell_type": "code",
      "execution_count": null,
      "metadata": {
        "colab": {
          "base_uri": "https://localhost:8080/"
        },
        "id": "iQ4McCGhp5QS",
        "outputId": "9215ca6f-5c7c-4c2f-8fff-723f1d07c62c"
      },
      "outputs": [
        {
          "name": "stdout",
          "output_type": "stream",
          "text": [
            "100\n",
            "10\n"
          ]
        }
      ],
      "source": [
        "gv = 10\n",
        "\n",
        "def goo():\n",
        "  gv = 100\n",
        "  print(gv)\n",
        "\n",
        "goo()\n",
        "print(gv)"
      ]
    },
    {
      "cell_type": "code",
      "execution_count": null,
      "metadata": {
        "colab": {
          "base_uri": "https://localhost:8080/"
        },
        "id": "3R1cFlxcp7OH",
        "outputId": "d5ebf7ca-19ff-4e94-e96a-cc56cdbbf08c"
      },
      "outputs": [
        {
          "name": "stdout",
          "output_type": "stream",
          "text": [
            "100\n",
            "100\n"
          ]
        }
      ],
      "source": [
        "gv = 10\n",
        "\n",
        "def hoo():\n",
        "  # 명시적으로 gv라는 변수가 글로벌 영역의 변수라는 것을 알려주기\n",
        "  global gv\n",
        "  gv = 100\n",
        "  print(gv)\n",
        "\n",
        "hoo()\n",
        "print(gv)"
      ]
    },
    {
      "cell_type": "code",
      "execution_count": null,
      "metadata": {
        "colab": {
          "base_uri": "https://localhost:8080/",
          "height": 202
        },
        "id": "Q3j13Q-7qIic",
        "outputId": "313b3dcb-3651-49c8-f57e-f4a2f2cc71db"
      },
      "outputs": [
        {
          "name": "stdout",
          "output_type": "stream",
          "text": [
            "10\n"
          ]
        },
        {
          "ename": "NameError",
          "evalue": "name 'lv_moo' is not defined",
          "output_type": "error",
          "traceback": [
            "\u001b[0;31m---------------------------------------------------------------------------\u001b[0m",
            "\u001b[0;31mNameError\u001b[0m                                 Traceback (most recent call last)",
            "\u001b[0;32m<ipython-input-1-fd22912082de>\u001b[0m in \u001b[0;36m<cell line: 6>\u001b[0;34m()\u001b[0m\n\u001b[1;32m      4\u001b[0m \u001b[0;34m\u001b[0m\u001b[0m\n\u001b[1;32m      5\u001b[0m \u001b[0mmoo\u001b[0m\u001b[0;34m(\u001b[0m\u001b[0;34m)\u001b[0m\u001b[0;34m\u001b[0m\u001b[0;34m\u001b[0m\u001b[0m\n\u001b[0;32m----> 6\u001b[0;31m \u001b[0mprint\u001b[0m\u001b[0;34m(\u001b[0m\u001b[0mlv_moo\u001b[0m\u001b[0;34m)\u001b[0m\u001b[0;34m\u001b[0m\u001b[0;34m\u001b[0m\u001b[0m\n\u001b[0m",
            "\u001b[0;31mNameError\u001b[0m: name 'lv_moo' is not defined"
          ]
        }
      ],
      "source": [
        "def moo():\n",
        "  lv_moo = 10\n",
        "  print(lv_moo)\n",
        "\n",
        "moo()\n",
        "print(lv_moo) # 지역 변수를 전역에서 쓰려하니 에러"
      ]
    },
    {
      "cell_type": "markdown",
      "metadata": {
        "id": "HdqMSdgp7w4k"
      },
      "source": [
        "- 함수 밖에서 만들어진 전역 변수는 어디에서든 사용이 가능하다.\n",
        "- 함수 내부에서 만들어진 지역 변수는 함수 내에서만 사용이 가능하다.\n",
        "  - 지역 변수에 해당하는 것 : 함수 내에서 선언된 변수, 파라미터"
      ]
    },
    {
      "cell_type": "markdown",
      "metadata": {
        "id": "UJ9wcw8h7r_B"
      },
      "source": [
        "# 지역 함수(내부 함수)\n",
        "- 함수 내부에 또 다른 함수가 정의 되는 것"
      ]
    },
    {
      "cell_type": "code",
      "execution_count": null,
      "metadata": {
        "colab": {
          "base_uri": "https://localhost:8080/"
        },
        "id": "KqjxBnYL8QBh",
        "outputId": "365e3fbb-9545-44ef-b78a-5d9e56ae3e76"
      },
      "outputs": [
        {
          "name": "stdout",
          "output_type": "stream",
          "text": [
            "Here is Outer\n",
            "Here is Inner\n"
          ]
        },
        {
          "data": {
            "text/plain": [
              "30"
            ]
          },
          "execution_count": 5,
          "metadata": {},
          "output_type": "execute_result"
        }
      ],
      "source": [
        "def outer(a, b):  # outer는 inner의 결과를 리턴\n",
        "  print(\"Here is Outer\")\n",
        "\n",
        "  def inner(c, d):\n",
        "    print(\"Here is Inner\")\n",
        "    return c + d\n",
        "\n",
        "  return inner(a, b)\n",
        "\n",
        "# inner 함수의 호출 시점 : outer 의 호출 시점\n",
        "# outer 가 호출이 되어야 inner 가 호출이 된다.\n",
        "outer(10, 20)"
      ]
    },
    {
      "cell_type": "code",
      "execution_count": null,
      "metadata": {
        "colab": {
          "base_uri": "https://localhost:8080/",
          "height": 122
        },
        "id": "nzCEMHbw8iS8",
        "outputId": "dcc3a4e4-fc15-48b8-eca3-09a17ea6a4dc"
      },
      "outputs": [
        {
          "name": "stdout",
          "output_type": "stream",
          "text": [
            "Here is Outer\n"
          ]
        },
        {
          "data": {
            "text/html": [
              "<div style=\"max-width:800px; border: 1px solid var(--colab-border-color);\"><style>\n",
              "      pre.function-repr-contents {\n",
              "        overflow-x: auto;\n",
              "        padding: 8px 12px;\n",
              "        max-height: 500px;\n",
              "      }\n",
              "\n",
              "      pre.function-repr-contents.function-repr-contents-collapsed {\n",
              "        cursor: pointer;\n",
              "        max-height: 100px;\n",
              "      }\n",
              "    </style>\n",
              "    <pre style=\"white-space: initial; background:\n",
              "         var(--colab-secondary-surface-color); padding: 8px 12px;\n",
              "         border-bottom: 1px solid var(--colab-border-color);\"><b>outer.&lt;locals&gt;.inner</b><br/>def inner()</pre><pre class=\"function-repr-contents function-repr-contents-collapsed\" style=\"\"><a class=\"filepath\" style=\"display:none\" href=\"#\">/content/&lt;ipython-input-10-4b29da59d232&gt;</a>&lt;no docstring&gt;</pre></div>"
            ],
            "text/plain": [
              "<function __main__.outer.<locals>.inner()>"
            ]
          },
          "execution_count": 10,
          "metadata": {},
          "output_type": "execute_result"
        }
      ],
      "source": [
        "# outer 내부에서 정의된 inner를 바로 호출하는 것이 아니라, 내가 원하는 시점에 호출\n",
        "def outer(a, b):\n",
        "  print(\"Here is Outer\")\n",
        "\n",
        "  def inner():\n",
        "    print(\"Here is Inner\")\n",
        "    return a + b\n",
        "\n",
        "  return inner\n",
        "\n",
        "inner_func = outer(10, 20)\n",
        "inner_func"
      ]
    },
    {
      "cell_type": "code",
      "execution_count": null,
      "metadata": {
        "colab": {
          "base_uri": "https://localhost:8080/"
        },
        "id": "dHbzat6K_h5f",
        "outputId": "3ad171d6-2d0f-43f9-b50e-c32a503ad390"
      },
      "outputs": [
        {
          "name": "stdout",
          "output_type": "stream",
          "text": [
            "Here is Inner\n"
          ]
        },
        {
          "data": {
            "text/plain": [
              "30"
            ]
          },
          "execution_count": 11,
          "metadata": {},
          "output_type": "execute_result"
        }
      ],
      "source": [
        "inner_func()\n",
        "# 원할 때 outer의 파라미터인 a, b를 사용함\n",
        "# 즉 내부함수가 외부함수의 지역 변수에 접근할 수 있는 권한을 갖고 있기 때문에\n",
        "# 내부함수를 외부함수가 밖으로 노출한 경우\n",
        "# 이러한 현상을 클로저(Closure)라고 한다."
      ]
    },
    {
      "cell_type": "markdown",
      "metadata": {
        "id": "dJ_xO8veC9vi"
      },
      "source": [
        "클로저는 마치 '비밀 상자'와 같아요.\n",
        "\n",
        "1. 상자 만들기 (외부 함수): 먼저, 'outer'라는 이름의 큰 상자를 만들어요. 이 상자 안에는 `a`, `b`라는 두 개의 장난감과 'inner'라는 이름의 작은 상자, 그리고 'inner' 상자를 꺼낼 수 있는 특별한 열쇠가 들어있어요.\n",
        "\n",
        "2. 작은 상자 (내부 함수): 'inner'라는 작은 상자는 큰 상자 안에서만 만들 수 있어요. 이 작은 상자는 큰 상자 안에 있는 `a`, `b` 장난감을 가지고 놀 수 있어요.\n",
        "\n",
        "3. 열쇠 (반환): 'outer' 큰 상자는 특별한 열쇠를 가지고 있어요. 이 열쇠를 사용하면 'inner' 작은 상자를 밖으로 꺼낼 수 있어요.\n",
        "\n",
        "4. 상자 밖에서 놀기: 열쇠를 사용해서 'inner' 작은 상자를 밖으로 꺼냈어요! 신기하게도, 작은 상자는 여전히 큰 상자 안에 있던 `a`, `b` 장난감을 기억하고 가지고 놀 수 있어요. 마치 큰 상자의 일부를 계속 가지고 있는 것 같아요.\n",
        "\n",
        "이처럼, 클로저는 내부 함수가 외부 함수의 변수를 기억하고 사용할 수 있도록 하는 특별한 기능이에요.\n",
        "\n",
        "비밀 상자처럼, 내부 함수는 외부 함수가 사라져도 외부 함수의 변수를 계속 기억하고 사용할 수 있어요.\n",
        "\n",
        "```python\n",
        " ex)\n",
        "def outer(a, b):  # outer는 큰 상자\n",
        "  def inner():  # inner는 작은 상자\n",
        "    return a + b  # 작은 상자는 큰 상자의 a, b를 기억하고 사용\n",
        "  return inner  # outer는 inner를 꺼낼 수 있는 열쇠를 반환\n",
        "\n",
        "inner_func = outer(10, 20)  # 열쇠를 사용해서 inner를 꺼냄\n",
        "result = inner_func()  # 작은 상자를 사용 (a + b 계산)\n",
        "print(result)  # 결과 출력 (30)\n",
        "```"
      ]
    },
    {
      "cell_type": "markdown",
      "metadata": {
        "id": "q3-1DwpJ_pMq"
      },
      "source": [
        "# Callback Function ★★★\n",
        "- 함수의 Argument로 함수가 넘어가는 것\n",
        "- 함수 Argument를 받는 Parameter를 Callback Function 이라고 한다."
      ]
    },
    {
      "cell_type": "code",
      "execution_count": null,
      "metadata": {
        "id": "OuAXwho_JUdO"
      },
      "outputs": [],
      "source": [
        "def foo(callback, a, b):\n",
        "  a **= 2\n",
        "  b **= 2\n",
        "\n",
        "  print(callback(a, b)) # 추상화의 일종"
      ]
    },
    {
      "cell_type": "code",
      "execution_count": null,
      "metadata": {
        "colab": {
          "base_uri": "https://localhost:8080/"
        },
        "id": "o-3B6156LK3Q",
        "outputId": "f7cb2349-62e5-4b90-9f03-4a7994756a74"
      },
      "outputs": [
        {
          "name": "stdout",
          "output_type": "stream",
          "text": [
            "500\n"
          ]
        }
      ],
      "source": [
        "def add_func(num1, num2):\n",
        "  return num1 + num2\n",
        "\n",
        "def sub_func(num1, num2):\n",
        "  return num1 - num2\n",
        "\n",
        "foo(add_func, 10, 20) # add_func 가 콜백 함수로 사용됨"
      ]
    },
    {
      "cell_type": "code",
      "execution_count": null,
      "metadata": {
        "colab": {
          "base_uri": "https://localhost:8080/"
        },
        "id": "6p-LpCckLOya",
        "outputId": "9f0d36ef-b5d3-4666-f4e2-ad50bf4dc64b"
      },
      "outputs": [
        {
          "name": "stdout",
          "output_type": "stream",
          "text": [
            "-300\n"
          ]
        }
      ],
      "source": [
        "foo(sub_func, 10, 20) # sub_func 가 콜백 함수로 사용됨"
      ]
    },
    {
      "cell_type": "code",
      "execution_count": null,
      "metadata": {
        "colab": {
          "base_uri": "https://localhost:8080/"
        },
        "id": "kt5qdBIPNWIi",
        "outputId": "ac411bb4-4ee0-4333-8fa5-e2c838d22820"
      },
      "outputs": [
        {
          "name": "stdout",
          "output_type": "stream",
          "text": [
            "40000\n"
          ]
        }
      ],
      "source": [
        "# 곱하기, 나누기\n",
        "def mul_func(num1, num2):\n",
        "  return num1 * num2\n",
        "\n",
        "def div_func(num1, num2):\n",
        "  return num1 / num2\n",
        "\n",
        "# 람다버전\n",
        "# multi_func = lambda num1, num2 : num1 * num2\n",
        "# div_func = lambda num1, num2 : num1 / num2\n",
        "\n",
        "foo(mul_func, 10, 20) # mul_func 가 콜백 함수로 사용됨"
      ]
    },
    {
      "cell_type": "code",
      "execution_count": null,
      "metadata": {
        "colab": {
          "base_uri": "https://localhost:8080/"
        },
        "id": "-qP62JfRNX0q",
        "outputId": "f763fe7b-cd99-4bc9-815a-8932a5ced43f"
      },
      "outputs": [
        {
          "name": "stdout",
          "output_type": "stream",
          "text": [
            "0.25\n"
          ]
        }
      ],
      "source": [
        "foo(div_func, 10, 20) # div_func 가 콜백 함수로 사용됨"
      ]
    },
    {
      "cell_type": "markdown",
      "source": [
        "콜백 함수는 마치 심부름꾼과 같아요!\n",
        "다른 함수의 인수(argument)로 전달되어, 특정 이벤트가 발생했을 때 실행 됨. 마치 다른 함수에 \"이 작업이 끝나면 나를 불러줘!\" 라고 말하는 것과 같음.\n",
        "\n",
        "개념\n",
        "- 1. 함수를 다른 함수의 인수로 전달.\n",
        "- 2. 전달된 함수는 특정 시점에 호출됨\n",
        "- 3. 이때 인수로 전달된 함수를 '콜백 함수'라 함.\n",
        "- 4. 콜백 함수를 받는 인수를 '콜백 함수 파라미터'라고 함.\n",
        "\n",
        "- 장점: 코드 재사용성 향상, 유연성, 모듈화, 비동기 처리(특정 이벤트 발생까지 기다리지 않고 다른 작업 수행 가능)\n",
        "\n",
        "```\n",
        "ex)\n",
        "상황:\n",
        "\n",
        "철수는 영희에게 \"빵집에 가서 빵을 사다 주면, 내가 맛있는 잼을 발라줄게!\" 라고 말했어요. 여기서,\n",
        "\n",
        "- 영희는 심부름꾼(콜백 함수)\n",
        "- 빵 사오는 심부름은 특정 작업(콜백 함수가 할 일)\n",
        "- 잼을 발라주는 것은 심부름 후 할 일(콜백 함수 실행 후 할 일)\n",
        "\n",
        "영희가 빵을 사오는 심부름(특정 작업)을 완료하면, 철수는 약속대로 잼을 발라줍니다 (심부름 후 할 일).\n",
        "\n",
        "콜백 함수:\n",
        "프로그래밍에서도 이와 비슷하게, 어떤 함수에게 \"이 작업이 끝나면 나를 불러줘!\" 라고 말하는 함수를 콜백 함수라고 불러요.\n",
        "콜백 함수는 마치 심부름꾼처럼, 특정 작업이 끝나면 호출되어 자신의 역할을 수행합니다.\n",
        "```"
      ],
      "metadata": {
        "id": "fLSniMpl1NDP"
      }
    },
    {
      "cell_type": "markdown",
      "metadata": {
        "id": "29haBJBNNYZC"
      },
      "source": [
        "# Decorator\n",
        "코드를 바꾸지 않고 기능을 추가하거나 수정하고 싶을 때 사용하는 문법\n",
        "\n",
        "마치 선물 상자를 포장지로 꾸미는 것처럼, 기존 함수를 다른 함수로 감싸서 새로운 기능을 더하는 것\n",
        "\n",
        "개념\n",
        "- 함수를 argument로 받는 함수\n",
        "- 내부 함수, 데코 함수 내부에 또 다른 함수 wrapper 함수가 정의됨. 얘가 기존 함수를 감싸는 역할을 함.\n",
        "- 반환 값, 데코 함수는 wrapper 함수를 반환함. 즉 데코를 적용하면 기존 함수 대신 wrapper 함수가 호출된다는 뜻."
      ]
    },
    {
      "cell_type": "code",
      "execution_count": null,
      "metadata": {
        "colab": {
          "background_save": true
        },
        "id": "SkNClFa8R_VF"
      },
      "outputs": [],
      "source": [
        "\n",
        "def bus(fee):\n",
        "  print(\"카드를 찍고 탑니다.\")\n",
        "  print(f\"{fee}를 내고 버스를 탑니다.\")\n",
        "  print(\"카드를 찍고 내립니다.\")\n",
        "\n",
        "def subway(fee):\n",
        "  print(\"카드를 찍고 탑니다.\")\n",
        "  print(f\"{fee}를 내고 지하철을 탑니다.\")\n",
        "  print(\"카드를 찍고 내립니다.\")"
      ]
    },
    {
      "cell_type": "code",
      "execution_count": null,
      "metadata": {
        "id": "7vr9hxuFNnXZ"
      },
      "outputs": [],
      "source": [
        "# 카드를 찍은 다음 타고, 찍은 다음 내리는 메인 로직을 꾸며주는 부가적인 로직\n",
        "def tag_card(callback): # callback : 수행할 메인 로직\n",
        "\n",
        "  # 메인 로직을 꾸며줄 함수를 작성\n",
        "  # 메인 로직을 꾸며주는 로직으로 감싸면 된다.\n",
        "  def wrapper(*args, **kwargs):\n",
        "    print(\"카드를 찍고 탑니다.\")\n",
        "    callback(*args, **kwargs)\n",
        "    print(\"카드를 찍고 내립니다.\")\n",
        "\n",
        "  return wrapper"
      ]
    },
    {
      "cell_type": "code",
      "execution_count": null,
      "metadata": {
        "id": "Ij39Snb_PmuY"
      },
      "outputs": [],
      "source": [
        "# Decorator 연산자 @\n",
        "@tag_card\n",
        "def bus(fee):\n",
        "  print(f\"{fee}를 내고 버스를 탑니다.\")"
      ]
    },
    {
      "cell_type": "code",
      "execution_count": null,
      "metadata": {
        "colab": {
          "base_uri": "https://localhost:8080/"
        },
        "id": "Q4YcMgyXR3Cc",
        "outputId": "c2d73c12-a7de-4839-b413-a8a4aa39153a"
      },
      "outputs": [
        {
          "name": "stdout",
          "output_type": "stream",
          "text": [
            "카드를 찍고 탑니다.\n",
            "2750를 내고 버스를 탑니다.\n",
            "카드를 찍고 내립니다.\n"
          ]
        }
      ],
      "source": [
        "bus(2750)"
      ]
    },
    {
      "cell_type": "code",
      "execution_count": null,
      "metadata": {
        "colab": {
          "base_uri": "https://localhost:8080/"
        },
        "id": "gZssBVOzRoC2",
        "outputId": "84fa93a0-e04d-4b9e-a3dc-d04b71f4e165"
      },
      "outputs": [
        {
          "output_type": "stream",
          "name": "stdout",
          "text": [
            "카드를 찍고 탑니다.\n",
            "1700를 내고 지하철을 탑니다.\n",
            "카드를 찍고 내립니다.\n"
          ]
        }
      ],
      "source": [
        "@tag_card\n",
        "def subway(fee):\n",
        "  print(f\"{fee}를 내고 지하철을 탑니다.\")\n",
        "\n",
        "subway(1700)"
      ]
    },
    {
      "cell_type": "markdown",
      "source": [
        "ex)\n",
        "\n",
        "- 철수는 장난감 자동차를 가지고 놀아요. 🚗\n",
        "- 영희는 철수에게 예쁜 포장지를 선물했어요. 🎀\n",
        "- 철수는 포장지로 자동차를 멋지게 꾸몄어요. ✨\n",
        "\n",
        "이제 자동차는 더 멋있어졌지만, 여전히 자동차예요. 포장지는 자동차의 기능을 바꾸지 않고 겉모습만 꾸며준 거죠.\n",
        "\n",
        "데코레이터도 마찬가지예요!\n",
        "\n",
        "- 함수는 장난감 자동차와 같아요.\n",
        "- 데코레이터는 포장지와 같아요.\n",
        "- 데코레이터는 함수의 기능을 바꾸지 않고, 추가적인 기능을 더해줘요.\n",
        "\n",
        "예를 들어:\n",
        "- 인사 함수에 데코레이터를 사용하면, 인사를 하기 전에 \"띵동!\" 소리를 낼 수 있어요. 🛎️\n",
        "- 계산 함수에 데코레이터를 사용하면, 계산 결과를 예쁜 표로 보여줄 수 있어요. 📊\n",
        "\n",
        "사용법:\n",
        "- 데코레이터는 @ 기호로 시작해요.\n",
        "- 데코레이터는 함수 위에 붙여서 사용해요.\n",
        "- 데코레이터는 함수를 더 멋지고 강력하게 만들어줘요! 💪"
      ],
      "metadata": {
        "id": "dNN9jh198nm1"
      }
    }
  ],
  "metadata": {
    "colab": {
      "provenance": [],
      "authorship_tag": "ABX9TyO7E2i3PAJNwQudmvic284c",
      "include_colab_link": true
    },
    "kernelspec": {
      "display_name": "Python 3",
      "name": "python3"
    },
    "language_info": {
      "name": "python"
    }
  },
  "nbformat": 4,
  "nbformat_minor": 0
}