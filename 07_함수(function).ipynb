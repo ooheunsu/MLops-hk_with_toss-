{
  "nbformat": 4,
  "nbformat_minor": 0,
  "metadata": {
    "colab": {
      "provenance": [],
      "authorship_tag": "ABX9TyNQdMo9PbMcjyFc+dkTrSkm",
      "include_colab_link": true
    },
    "kernelspec": {
      "name": "python3",
      "display_name": "Python 3"
    },
    "language_info": {
      "name": "python"
    }
  },
  "cells": [
    {
      "cell_type": "markdown",
      "metadata": {
        "id": "view-in-github",
        "colab_type": "text"
      },
      "source": [
        "<a href=\"https://colab.research.google.com/github/ooheunsu/MLops-hk_with_toss-/blob/main/07_%ED%95%A8%EC%88%98(function).ipynb\" target=\"_parent\"><img src=\"https://colab.research.google.com/assets/colab-badge.svg\" alt=\"Open In Colab\"/></a>"
      ]
    },
    {
      "cell_type": "markdown",
      "source": [
        "# 함수(function)\n",
        "- (재사용 할)코드의 묶음"
      ],
      "metadata": {
        "id": "TGvmVxVoSxuN"
      }
    },
    {
      "cell_type": "code",
      "source": [
        "# 성적계산기를 만들어 보자!\n",
        "\n",
        "score = 60\n",
        "\n",
        "if score >= 90:\n",
        "  print(\"A\")\n",
        "elif score >= 80:\n",
        "  print(\"B\")\n",
        "elif score >= 70:\n",
        "  print(\"C\")\n",
        "elif score >= 60:\n",
        "  print(\"D\")\n",
        "else:\n",
        "  print(\"F\")"
      ],
      "metadata": {
        "colab": {
          "base_uri": "https://localhost:8080/"
        },
        "id": "yp9abCJgTZhS",
        "outputId": "3cebf7ad-11fb-4187-e28c-cfc1dfb96549"
      },
      "execution_count": 1,
      "outputs": [
        {
          "output_type": "stream",
          "name": "stdout",
          "text": [
            "D\n"
          ]
        }
      ]
    },
    {
      "cell_type": "code",
      "source": [
        "# 두 번째 사람에 대한 처리\n",
        "score = 85\n",
        "\n",
        "if score >= 90:\n",
        "  print(\"A\")\n",
        "elif score >= 80:\n",
        "  print(\"B\")\n",
        "elif score >= 70:\n",
        "  print(\"C\")\n",
        "elif score >= 60:\n",
        "  print(\"D\")\n",
        "else:\n",
        "  print(\"F\")"
      ],
      "metadata": {
        "colab": {
          "base_uri": "https://localhost:8080/"
        },
        "id": "E_g41b6hVp8Y",
        "outputId": "99ec5af5-889e-42ae-d045-f1ae145e1645"
      },
      "execution_count": 2,
      "outputs": [
        {
          "output_type": "stream",
          "name": "stdout",
          "text": [
            "B\n"
          ]
        }
      ]
    },
    {
      "cell_type": "code",
      "source": [
        "# 함수화 시키기!\n",
        "# 반복적인 기능을 하는 코드 뭉치(code context)를 \"정의\" 해 놓고, 필요 할 때 \"호출\"\n",
        "# 정의 : def\n",
        "# 사용(호출) : call\n",
        "\n",
        "# print_grade라는 함수를 정의, 구현\n"
      ],
      "metadata": {
        "id": "Bk5wlURQVtLh"
      },
      "execution_count": 3,
      "outputs": []
    },
    {
      "cell_type": "markdown",
      "source": [
        "# 함수의 정의 방법\n",
        "```python\n",
        "def <function_name>([paramter1, parameter2, ...]):\n",
        "  ...\n",
        "  code context\n",
        "  ...\n",
        "```\n",
        "* 파라미터(Parameter) : 함수를 **정의**할 때 호출하는 곳에서 입력해주는 **데이터를 저장할 변수**\n",
        "* 아규먼트(Argument) : 함수를 호출하는 곳에서 함수에 넣어주는 **데이터**\n",
        "\n",
        "파라미터의 변수명과 아규먼트의 변수명은 항상 같아야 할가요?\n",
        "- No!"
      ],
      "metadata": {
        "id": "zyaST5IvWx7e"
      }
    },
    {
      "cell_type": "code",
      "source": [
        "# 1. Parameter X, Return X\n",
        "def foo():\n",
        "  print(\"Here is foo\")\n",
        "  print(\"Parameter X, Return X\")\n",
        "\n",
        "# Parameter가 없으니까 Argument를 안 넣어줘도 된다.\n",
        "foo()"
      ],
      "metadata": {
        "colab": {
          "base_uri": "https://localhost:8080/"
        },
        "id": "WP9dvvd-W4-v",
        "outputId": "e5fc85df-709d-41b2-d4cc-5f5a0fc560f7"
      },
      "execution_count": 4,
      "outputs": [
        {
          "output_type": "stream",
          "name": "stdout",
          "text": [
            "Here is foo\n",
            "Parameter X, Return X\n"
          ]
        }
      ]
    },
    {
      "cell_type": "code",
      "source": [
        "# 2. Parameter 0, Return X\n",
        "# 대표적으로 print 함수가 있다.\n",
        "\n",
        "def goo(num1, num2):\n",
        "  if num1 + num2 > 10:\n",
        "    print(\"Big\")\n",
        "  else:\n",
        "    print(\"Small\")\n",
        "\n",
        "goo(1, 2)\n",
        "print(10, 20)"
      ],
      "metadata": {
        "colab": {
          "base_uri": "https://localhost:8080/"
        },
        "id": "LkfRkm1nbv_G",
        "outputId": "ab650387-0142-413b-8d0e-8b81745f10fd"
      },
      "execution_count": 5,
      "outputs": [
        {
          "output_type": "stream",
          "name": "stdout",
          "text": [
            "Small\n",
            "10 20\n"
          ]
        }
      ]
    },
    {
      "cell_type": "code",
      "source": [
        "# return이란, 함수를 호출 했을 때의 결과물.\n",
        "# 이 결과물을 다른 변수에 할당하는 것이 가능!!\n",
        "result = goo(10, 20)"
      ],
      "metadata": {
        "colab": {
          "base_uri": "https://localhost:8080/"
        },
        "id": "WPeZlz7wcJH2",
        "outputId": "05775ba5-cecf-45ea-c0c0-4daac605aeb2"
      },
      "execution_count": 6,
      "outputs": [
        {
          "output_type": "stream",
          "name": "stdout",
          "text": [
            "Big\n"
          ]
        }
      ]
    },
    {
      "cell_type": "code",
      "source": [
        "print(result)"
      ],
      "metadata": {
        "colab": {
          "base_uri": "https://localhost:8080/"
        },
        "id": "P7_pnQYgdK3E",
        "outputId": "55f4e0f3-2416-4ca3-fdc5-10d397b80a0f"
      },
      "execution_count": 7,
      "outputs": [
        {
          "output_type": "stream",
          "name": "stdout",
          "text": [
            "None\n"
          ]
        }
      ]
    },
    {
      "cell_type": "code",
      "source": [
        "result = print(\"안녕하세요 반갑습니다.\")\n",
        "print(result)"
      ],
      "metadata": {
        "colab": {
          "base_uri": "https://localhost:8080/"
        },
        "id": "sD2bfpzZdNNg",
        "outputId": "59800856-bfa8-4cf1-81bf-075e809a6542"
      },
      "execution_count": 9,
      "outputs": [
        {
          "output_type": "stream",
          "name": "stdout",
          "text": [
            "안녕하세요 반갑습니다.\n",
            "None\n"
          ]
        }
      ]
    },
    {
      "cell_type": "code",
      "source": [
        "# 3. Parameter X, Return O\n",
        "def moo():\n",
        "  print(\"moo is called\")\n",
        "  lst = [1, 3, 5, 7, 9]\n",
        "\n",
        "  total = sum(lst)\n",
        "\n",
        "  return total # return 값이 존재\n",
        "\n",
        "moo_result = moo()  # 함수 moo는 값을 반환(return)한다. 따라서 리턴 값을 변수로 받아 낼 수 있다.\n",
        "print(moo_result)"
      ],
      "metadata": {
        "colab": {
          "base_uri": "https://localhost:8080/"
        },
        "id": "fnnOe13OdSvo",
        "outputId": "e072e814-c807-415e-eff9-4a6b352255d7"
      },
      "execution_count": 12,
      "outputs": [
        {
          "output_type": "stream",
          "name": "stdout",
          "text": [
            "moo is called\n",
            "25\n"
          ]
        }
      ]
    },
    {
      "cell_type": "code",
      "source": [
        "moo_result * 100"
      ],
      "metadata": {
        "colab": {
          "base_uri": "https://localhost:8080/"
        },
        "id": "N4-LOtOIeDWz",
        "outputId": "bc1f5743-349b-4a4d-d705-abaffaade465"
      },
      "execution_count": 13,
      "outputs": [
        {
          "output_type": "execute_result",
          "data": {
            "text/plain": [
              "2500"
            ]
          },
          "metadata": {},
          "execution_count": 13
        }
      ]
    },
    {
      "cell_type": "code",
      "source": [
        "# 4. Paramter O, Return O\n",
        "def hoo(num1, num2):\n",
        "  print(\"hoo is called\")\n",
        "  return num1 + num2"
      ],
      "metadata": {
        "id": "GaHcSHfLejsd"
      },
      "execution_count": 14,
      "outputs": []
    },
    {
      "cell_type": "code",
      "source": [
        "a = 10\n",
        "b = 20\n",
        "\n",
        "hoo_result = hoo(a, b)\n",
        "print(hoo_result)\n",
        "\n",
        "# 네가지 다 알고 있는게 중요하다!!!"
      ],
      "metadata": {
        "colab": {
          "base_uri": "https://localhost:8080/"
        },
        "id": "NoqL69wKe0-5",
        "outputId": "05e51134-1934-4d7b-98fa-ac00eba2e685"
      },
      "execution_count": 15,
      "outputs": [
        {
          "output_type": "stream",
          "name": "stdout",
          "text": [
            "hoo is called\n",
            "30\n"
          ]
        }
      ]
    }
  ]
}