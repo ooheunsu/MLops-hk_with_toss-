{
  "nbformat": 4,
  "nbformat_minor": 0,
  "metadata": {
    "colab": {
      "provenance": [],
      "authorship_tag": "ABX9TyPqmxTnXfuFZeMFNJuQwZ4c",
      "include_colab_link": true
    },
    "kernelspec": {
      "name": "python3",
      "display_name": "Python 3"
    },
    "language_info": {
      "name": "python"
    }
  },
  "cells": [
    {
      "cell_type": "markdown",
      "metadata": {
        "id": "view-in-github",
        "colab_type": "text"
      },
      "source": [
        "<a href=\"https://colab.research.google.com/github/ooheunsu/MLops-hk_with_toss-/blob/main/09_%EB%AA%A8%EB%93%88%EA%B3%BC_%ED%8C%A8%ED%82%A4%EC%A7%80.ipynb\" target=\"_parent\"><img src=\"https://colab.research.google.com/assets/colab-badge.svg\" alt=\"Open In Colab\"/></a>"
      ]
    },
    {
      "cell_type": "markdown",
      "source": [
        "# 모듈(Module), 패키지(Package)\n",
        "- 모듈 : 변수, 함수, 클래스를 모아놓은 `.py` 확장자 파일\n",
        "  - `.py` 파일 : 마크다운이나 셀 같은 정보는 없고, 순수한 파이썬 코드만 존재\n",
        "  - `.ipynb` 파일 : 마크다운 및 시각화 등 여러 정보를 예쁘게 볼 수 있도록 꾸며진 파일\n",
        "- 패키지 : 모듈의 기능을 디렉토리(폴더) 별로 정리해 놓은 개념\n"
      ],
      "metadata": {
        "id": "b02qJuH0XhSP"
      }
    },
    {
      "cell_type": "code",
      "source": [
        "%%writefile demo.py\n",
        "\n",
        "num = 10\n",
        "\n",
        "def foo(msg):\n",
        "  print(f\"foo() => {msg}\")\n",
        "\n",
        "def goo(num1, num2):\n",
        "  # 여러 개의 리턴 값을 튜플로 묶어서 리턴\n",
        "  return num1+num2, num1-num2, num1*num2, num1/num2\n",
        "\n",
        "class DemoCalc:\n",
        "  def sum_all(self, *args):\n",
        "    return sum(args)"
      ],
      "metadata": {
        "colab": {
          "base_uri": "https://localhost:8080/"
        },
        "id": "x1mBR90OYvOG",
        "outputId": "dac9a77e-30ae-4f8a-c7f6-0e96c17349c7"
      },
      "execution_count": null,
      "outputs": [
        {
          "output_type": "stream",
          "name": "stdout",
          "text": [
            "Writing demo.py\n"
          ]
        }
      ]
    },
    {
      "cell_type": "code",
      "source": [
        "foo(\"hello\")"
      ],
      "metadata": {
        "colab": {
          "base_uri": "https://localhost:8080/",
          "height": 148
        },
        "id": "pI7l307bYxJ7",
        "outputId": "2229fdaa-ae8d-4c20-f4c5-200c152d21af"
      },
      "execution_count": null,
      "outputs": [
        {
          "output_type": "error",
          "ename": "NameError",
          "evalue": "name 'foo' is not defined",
          "traceback": [
            "\u001b[0;31m---------------------------------------------------------------------------\u001b[0m",
            "\u001b[0;31mNameError\u001b[0m                                 Traceback (most recent call last)",
            "\u001b[0;32m<ipython-input-2-7dc7f74c1548>\u001b[0m in \u001b[0;36m<cell line: 1>\u001b[0;34m()\u001b[0m\n\u001b[0;32m----> 1\u001b[0;31m \u001b[0mfoo\u001b[0m\u001b[0;34m(\u001b[0m\u001b[0;34m\"hello\"\u001b[0m\u001b[0;34m)\u001b[0m\u001b[0;34m\u001b[0m\u001b[0;34m\u001b[0m\u001b[0m\n\u001b[0m",
            "\u001b[0;31mNameError\u001b[0m: name 'foo' is not defined"
          ]
        }
      ]
    },
    {
      "cell_type": "markdown",
      "source": [
        "# 모듈 불러오기\n",
        "\n",
        "`import 모듈명` : 모듈을 불러오는 키워드"
      ],
      "metadata": {
        "id": "ie3AssjeZGy6"
      }
    },
    {
      "cell_type": "code",
      "source": [
        "import demo"
      ],
      "metadata": {
        "id": "y3ivX_e9Zfyx"
      },
      "execution_count": null,
      "outputs": []
    },
    {
      "cell_type": "code",
      "source": [
        "demo.foo(\"Hello\")"
      ],
      "metadata": {
        "colab": {
          "base_uri": "https://localhost:8080/"
        },
        "id": "nCN49koXZhOo",
        "outputId": "36c6ffb5-8894-4280-c76d-c30a37986f76"
      },
      "execution_count": null,
      "outputs": [
        {
          "output_type": "stream",
          "name": "stdout",
          "text": [
            "foo() => Hello\n"
          ]
        }
      ]
    },
    {
      "cell_type": "code",
      "source": [
        "demo.num"
      ],
      "metadata": {
        "colab": {
          "base_uri": "https://localhost:8080/"
        },
        "id": "eEyJ72oCZjGz",
        "outputId": "5d99b5d7-247a-4a2e-cfc0-430cb65a5a50"
      },
      "execution_count": null,
      "outputs": [
        {
          "output_type": "execute_result",
          "data": {
            "text/plain": [
              "10"
            ]
          },
          "metadata": {},
          "execution_count": 5
        }
      ]
    },
    {
      "cell_type": "code",
      "source": [
        "calc = demo.DemoCalc()\n",
        "calc.sum_all(1,2,3,4,5,6,7,8,9,10)"
      ],
      "metadata": {
        "colab": {
          "base_uri": "https://localhost:8080/"
        },
        "id": "-ZkYWGqCcU3j",
        "outputId": "fb83a104-8c41-45f6-865d-1ebda13aa475"
      },
      "execution_count": null,
      "outputs": [
        {
          "output_type": "execute_result",
          "data": {
            "text/plain": [
              "55"
            ]
          },
          "metadata": {},
          "execution_count": 8
        }
      ]
    },
    {
      "cell_type": "markdown",
      "source": [
        "**모듈 내에 있는 함수, 변수, 클래스를 따로 따로 불러오기**\n",
        "- `from 모듈명 import [변수명 또는 함수명 또는 클래스명]`"
      ],
      "metadata": {
        "id": "yGrGu29bcYr1"
      }
    },
    {
      "cell_type": "code",
      "source": [
        "from demo import goo"
      ],
      "metadata": {
        "id": "iGRhmxcDck2D"
      },
      "execution_count": null,
      "outputs": []
    },
    {
      "cell_type": "code",
      "source": [
        "goo(1, 5)"
      ],
      "metadata": {
        "colab": {
          "base_uri": "https://localhost:8080/"
        },
        "id": "seKxo5QnctjX",
        "outputId": "bcc6257b-2253-4745-dc32-42c00f8a1682"
      },
      "execution_count": null,
      "outputs": [
        {
          "output_type": "execute_result",
          "data": {
            "text/plain": [
              "(6, -4, 5, 0.2)"
            ]
          },
          "metadata": {},
          "execution_count": 10
        }
      ]
    },
    {
      "cell_type": "markdown",
      "source": [
        "**모듈을 불러올 때 별명 지어주기(alias)**\n",
        "- `import 모듈명 as 별명`"
      ],
      "metadata": {
        "id": "NsC5JTmhcvej"
      }
    },
    {
      "cell_type": "code",
      "source": [
        "import demo as dm\n",
        "\n",
        "dm.goo(2, 8)"
      ],
      "metadata": {
        "colab": {
          "base_uri": "https://localhost:8080/"
        },
        "id": "bLXbEiQUc-Cw",
        "outputId": "3a572bd1-bd38-4f9f-9b87-c69c6184e617"
      },
      "execution_count": null,
      "outputs": [
        {
          "output_type": "execute_result",
          "data": {
            "text/plain": [
              "(10, -6, 16, 0.25)"
            ]
          },
          "metadata": {},
          "execution_count": 11
        }
      ]
    },
    {
      "cell_type": "markdown",
      "source": [
        "**모듈 내의 모든 항목 불러오기**"
      ],
      "metadata": {
        "id": "3WALT_1LdINn"
      }
    },
    {
      "cell_type": "code",
      "source": [
        "from demo import *\n",
        "foo(\"hihihi\")"
      ],
      "metadata": {
        "colab": {
          "base_uri": "https://localhost:8080/"
        },
        "id": "5NbNhZu6dLe2",
        "outputId": "3ce6213a-a42f-430e-b1d9-fe6292b07ed2"
      },
      "execution_count": null,
      "outputs": [
        {
          "output_type": "stream",
          "name": "stdout",
          "text": [
            "foo() => hihihi\n"
          ]
        }
      ]
    },
    {
      "cell_type": "markdown",
      "source": [
        "# 패키지(Package)\n",
        "- 패키지 생성\n",
        "  - 디렉토리(폴더)를 만든 것과 비슷한 작업\n",
        "- 패키지 호출\n",
        "\n",
        "`!mkdir` (make diractory)"
      ],
      "metadata": {
        "id": "-Zyb-724dUmO"
      }
    },
    {
      "cell_type": "code",
      "source": [
        "!mkdir -p hk_pkg/pkg1"
      ],
      "metadata": {
        "id": "wGZPdZXmdmv8"
      },
      "execution_count": null,
      "outputs": []
    },
    {
      "cell_type": "code",
      "source": [
        "!mkdir -p hk_pkg/pkg2"
      ],
      "metadata": {
        "id": "mple-OjLd_kK"
      },
      "execution_count": null,
      "outputs": []
    },
    {
      "cell_type": "code",
      "source": [
        "%%writefile hk_pkg/pkg1/my_module.py\n",
        "\n",
        "def my_func(msg):\n",
        "  print(\"Here is pkg1.my_module\")\n",
        "  print(\"Good bye\")"
      ],
      "metadata": {
        "colab": {
          "base_uri": "https://localhost:8080/"
        },
        "id": "DnqROj3DeD1S",
        "outputId": "f923f382-5bf4-46df-9134-1192d900f651"
      },
      "execution_count": null,
      "outputs": [
        {
          "output_type": "stream",
          "name": "stdout",
          "text": [
            "Writing hk_pkg/pkg1/my_module.py\n"
          ]
        }
      ]
    },
    {
      "cell_type": "code",
      "source": [
        "%%writefile hk_pkg/pkg2/your_module.py\n",
        "\n",
        "def your_func():\n",
        "  print(\"여기는 pkg2의 your_module 입니다.\")\n",
        "  print(\"Hi~\")"
      ],
      "metadata": {
        "colab": {
          "base_uri": "https://localhost:8080/"
        },
        "id": "q15O9AT9eS_P",
        "outputId": "7ae2c43b-678a-4e56-b4fa-1d33004991ae"
      },
      "execution_count": null,
      "outputs": [
        {
          "output_type": "stream",
          "name": "stdout",
          "text": [
            "Writing hk_pkg/pkg2/your_module.py\n"
          ]
        }
      ]
    },
    {
      "cell_type": "code",
      "source": [
        "%%writefile hk_pkg/pkg2/hello.py\n",
        "\n",
        "def hello_func():\n",
        "  print(\"Hello~\")"
      ],
      "metadata": {
        "colab": {
          "base_uri": "https://localhost:8080/"
        },
        "id": "L9_-uJqgeXPW",
        "outputId": "8214d39a-6772-4873-94de-78375834f3a0"
      },
      "execution_count": null,
      "outputs": [
        {
          "output_type": "stream",
          "name": "stdout",
          "text": [
            "Writing hk_pkg/pkg2/hello.py\n"
          ]
        }
      ]
    },
    {
      "cell_type": "code",
      "source": [
        "# import를 할때 항상 마지막이 package가 되면 안됨. module 이 마지막!!\n",
        "# 패키지 ~ 모듈 까지 불러오기\n",
        "#   hello 모듈 불러오기\n",
        "import hk_pkg.pkg2.hello"
      ],
      "metadata": {
        "id": "KaMUY9Acea81"
      },
      "execution_count": null,
      "outputs": []
    },
    {
      "cell_type": "code",
      "source": [
        "hk_pkg.pkg2.hello.hello_func()"
      ],
      "metadata": {
        "colab": {
          "base_uri": "https://localhost:8080/"
        },
        "id": "Xif_YIbGe7GU",
        "outputId": "a16b4afe-ffcf-4c4c-92f1-927554005455"
      },
      "execution_count": null,
      "outputs": [
        {
          "output_type": "stream",
          "name": "stdout",
          "text": [
            "Hello~\n"
          ]
        }
      ]
    },
    {
      "cell_type": "code",
      "source": [
        "import hk_pkg.pkg2.hello as hi\n",
        "\n",
        "hi.hello_func()"
      ],
      "metadata": {
        "colab": {
          "base_uri": "https://localhost:8080/"
        },
        "id": "LK0RUvvafYFm",
        "outputId": "d70a7233-8391-4d45-eb11-fd5801894220"
      },
      "execution_count": null,
      "outputs": [
        {
          "output_type": "stream",
          "name": "stdout",
          "text": [
            "Hello~\n"
          ]
        }
      ]
    },
    {
      "cell_type": "code",
      "source": [
        "from hk_pkg.pkg1.my_module import my_func\n",
        "\n",
        "my_func(\"gkdlgkdl\")"
      ],
      "metadata": {
        "colab": {
          "base_uri": "https://localhost:8080/"
        },
        "id": "6y20VAjGfpfZ",
        "outputId": "4300fbc5-d477-4c9a-95bc-eb7b336b66b3"
      },
      "execution_count": null,
      "outputs": [
        {
          "output_type": "stream",
          "name": "stdout",
          "text": [
            "Here is pkg1.my_module\n",
            "Good bye\n"
          ]
        }
      ]
    }
  ]
}