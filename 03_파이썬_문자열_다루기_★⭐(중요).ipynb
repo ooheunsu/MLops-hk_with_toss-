{
  "nbformat": 4,
  "nbformat_minor": 0,
  "metadata": {
    "colab": {
      "provenance": [],
      "authorship_tag": "ABX9TyMtxG7l2SFyT5FZdFQkomHt",
      "include_colab_link": true
    },
    "kernelspec": {
      "name": "python3",
      "display_name": "Python 3"
    },
    "language_info": {
      "name": "python"
    }
  },
  "cells": [
    {
      "cell_type": "markdown",
      "metadata": {
        "id": "view-in-github",
        "colab_type": "text"
      },
      "source": [
        "<a href=\"https://colab.research.google.com/github/ooheunsu/MLops-hk_with_toss-/blob/main/03_%ED%8C%8C%EC%9D%B4%EC%8D%AC_%EB%AC%B8%EC%9E%90%EC%97%B4_%EB%8B%A4%EB%A3%A8%EA%B8%B0_%E2%98%85%E2%AD%90(%EC%A4%91%EC%9A%94).ipynb\" target=\"_parent\"><img src=\"https://colab.research.google.com/assets/colab-badge.svg\" alt=\"Open In Colab\"/></a>"
      ]
    },
    {
      "cell_type": "markdown",
      "source": [
        "# 문자열이란?\n",
        "- 문자들이 열거(나열) 되어 있으면 문자열(str)\n",
        "- 열거가 되어 있다? 연속되어 있다. 순서가 있다.\n",
        "  - Sequence 시퀀스 라고 한다!\n",
        "- 여러 개의 문자를 순서대로 나열한 것\n",
        "- 순서가 있다? = 순번 = index\n",
        "- 문자열은 문자의 시퀀스"
      ],
      "metadata": {
        "id": "axtf3KfWcgMz"
      }
    },
    {
      "cell_type": "code",
      "source": [
        "name1 = \"minho1\"\n",
        "name2 = \"minho2\""
      ],
      "metadata": {
        "id": "ms41Ytf8eIKO"
      },
      "execution_count": 6,
      "outputs": []
    },
    {
      "cell_type": "markdown",
      "source": [
        "## 이스케이프 문자\n"
      ],
      "metadata": {
        "id": "3Rh5wzsIeNcx"
      }
    },
    {
      "cell_type": "code",
      "source": [
        "# 이스케이프 문자는 백슬러시(\\)를 사용하는 특수한 문자\n",
        "text = \"제 이름은 \\\"소민호\\\"입니다.\" # \\없으면 에러뜸\n",
        "print(text)"
      ],
      "metadata": {
        "colab": {
          "base_uri": "https://localhost:8080/"
        },
        "id": "uRBbldvfedNk",
        "outputId": "57476a8d-df8a-44fd-8f8f-c739f4fcbd5e"
      },
      "execution_count": 7,
      "outputs": [
        {
          "output_type": "stream",
          "name": "stdout",
          "text": [
            "제 이름은 \"소민호\"입니다.\n"
          ]
        }
      ]
    },
    {
      "cell_type": "code",
      "source": [
        "# 개행을 위한 이스케이프 문자 (\\n)\n",
        "text = \"안녕하세요. \\n반갑습니다.\"\n",
        "print(text)"
      ],
      "metadata": {
        "colab": {
          "base_uri": "https://localhost:8080/"
        },
        "id": "RW9mV1Kgez-E",
        "outputId": "8f68e7ce-f74d-4055-b8c5-e313a531e0eb"
      },
      "execution_count": 8,
      "outputs": [
        {
          "output_type": "stream",
          "name": "stdout",
          "text": [
            "안녕하세요. \n",
            "반갑습니다.\n"
          ]
        }
      ]
    },
    {
      "cell_type": "code",
      "source": [
        "# 탭을 위한 이스케이프 문자 (\\t)\n",
        "text = \"안녕하세요. \\t\\t\\t반갑습니다.\"\n",
        "print(text)"
      ],
      "metadata": {
        "colab": {
          "base_uri": "https://localhost:8080/"
        },
        "id": "hBMhtNewe91r",
        "outputId": "ebbcb9be-b226-4b46-aa2b-9366d42d1565"
      },
      "execution_count": 9,
      "outputs": [
        {
          "output_type": "stream",
          "name": "stdout",
          "text": [
            "안녕하세요. \t\t\t반갑습니다.\n"
          ]
        }
      ]
    },
    {
      "cell_type": "markdown",
      "source": [
        "## Doc String \"\"\"문자열\"\"\" or '''문자열'''\n",
        "- Doc String 안에 위치한 문자열은 무조건 적은대로 표현됨\n"
      ],
      "metadata": {
        "id": "HjJCK0RsfYtq"
      }
    },
    {
      "cell_type": "code",
      "source": [
        "text = '''I said, I'm Student'''\n",
        "print(text)"
      ],
      "metadata": {
        "colab": {
          "base_uri": "https://localhost:8080/"
        },
        "id": "0UkG_HSkgrMJ",
        "outputId": "ff738618-897a-4cb9-e7ec-bee558882d4e"
      },
      "execution_count": 10,
      "outputs": [
        {
          "output_type": "stream",
          "name": "stdout",
          "text": [
            "I said, I'm Student\n"
          ]
        }
      ]
    },
    {
      "cell_type": "code",
      "source": [
        "text = \"\"\"안녕\n",
        "하세요\n",
        "반갑\n",
        "습니다.\"\"\"\n",
        "print(text)\n",
        "text"
      ],
      "metadata": {
        "colab": {
          "base_uri": "https://localhost:8080/",
          "height": 108
        },
        "id": "3ZDoNpZShIVb",
        "outputId": "a7a2cbed-3934-4e2f-c35a-6713f90a50b7"
      },
      "execution_count": 11,
      "outputs": [
        {
          "output_type": "stream",
          "name": "stdout",
          "text": [
            "안녕\n",
            "하세요\n",
            "반갑\n",
            "습니다.\n"
          ]
        },
        {
          "output_type": "execute_result",
          "data": {
            "text/plain": [
              "'안녕\\n하세요\\n반갑\\n습니다.'"
            ],
            "application/vnd.google.colaboratory.intrinsic+json": {
              "type": "string"
            }
          },
          "metadata": {},
          "execution_count": 11
        }
      ]
    },
    {
      "cell_type": "markdown",
      "source": [
        "# 시퀀스 다루기\n",
        "- 문자열은 **Sequence**\n",
        "- Sequence는 **순번이 있다**\n",
        "  - 순번을 **Offset Index**\n",
        "- 파이썬의 인덱스는 두 종류가 있다.\n",
        "  - 양수 인덱스\n",
        "    - 0부터 시작, 왼쪽 -> 오른쪽으로 한칸씩 증가\n",
        "  - 음수 인덱스\n",
        "    - -1부터 시작, 오른쪽 -> 왼쪽으로 한칸씩 감소\n",
        "- 인덱스는 무조건 **정수**임."
      ],
      "metadata": {
        "id": "lqQdC0b_hz4R"
      }
    },
    {
      "cell_type": "code",
      "source": [
        "text = \"Hello Hahkyung\"\n",
        "print(text)"
      ],
      "metadata": {
        "colab": {
          "base_uri": "https://localhost:8080/"
        },
        "id": "tNkwCCypjHqv",
        "outputId": "d4bbe8a9-2ee0-4b4a-d508-d91c60907c65"
      },
      "execution_count": 12,
      "outputs": [
        {
          "output_type": "stream",
          "name": "stdout",
          "text": [
            "Hello Hahkyung\n"
          ]
        }
      ]
    },
    {
      "cell_type": "code",
      "source": [
        "# 시퀀스의 크기(길이)를 잴 수 있는 함수 - len\n",
        "len(text) # text의 길이를 확인(공백을 포함)"
      ],
      "metadata": {
        "colab": {
          "base_uri": "https://localhost:8080/"
        },
        "id": "pVI6WhNejWbM",
        "outputId": "f9373658-7ef0-4fd6-ff1e-0657171c1a39"
      },
      "execution_count": 13,
      "outputs": [
        {
          "output_type": "execute_result",
          "data": {
            "text/plain": [
              "14"
            ]
          },
          "metadata": {},
          "execution_count": 13
        }
      ]
    },
    {
      "cell_type": "code",
      "source": [
        "# a = 10\n",
        "# len(a)\n",
        "# 나열(시퀀스)가 되어 있지 않기 때문에 에러뜸"
      ],
      "metadata": {
        "id": "UwYJwKTgjihe"
      },
      "execution_count": 14,
      "outputs": []
    },
    {
      "cell_type": "code",
      "source": [
        "a = \"10\"\n",
        "len(a)"
      ],
      "metadata": {
        "colab": {
          "base_uri": "https://localhost:8080/"
        },
        "id": "BFzLyNZQjhnu",
        "outputId": "d192d558-62fd-4a68-ab3a-75101e4c1332"
      },
      "execution_count": 15,
      "outputs": [
        {
          "output_type": "execute_result",
          "data": {
            "text/plain": [
              "2"
            ]
          },
          "metadata": {},
          "execution_count": 15
        }
      ]
    },
    {
      "cell_type": "code",
      "source": [
        "# 시퀀스 내의 데이터를 인덱스로 접근 할 수 있다.\n",
        "# [] 안에 인덱스를 집어넣어서 접근\n",
        "# Hello Hahkyung\n",
        "\n",
        "print(text[6]) # 띄어쓰기는 포함되지 않아"
      ],
      "metadata": {
        "colab": {
          "base_uri": "https://localhost:8080/"
        },
        "id": "gubBZbVzjp8j",
        "outputId": "bd0614d5-3980-4e1d-afcd-6f0fb992dc00"
      },
      "execution_count": 16,
      "outputs": [
        {
          "output_type": "stream",
          "name": "stdout",
          "text": [
            "H\n"
          ]
        }
      ]
    },
    {
      "cell_type": "code",
      "source": [
        "print(text[-1])"
      ],
      "metadata": {
        "colab": {
          "base_uri": "https://localhost:8080/"
        },
        "id": "tqtYPTZEkBjC",
        "outputId": "1021c2e9-dd89-4030-b685-3aedda3cdbdf"
      },
      "execution_count": 17,
      "outputs": [
        {
          "output_type": "stream",
          "name": "stdout",
          "text": [
            "g\n"
          ]
        }
      ]
    },
    {
      "cell_type": "code",
      "source": [
        "print(text[-11])"
      ],
      "metadata": {
        "colab": {
          "base_uri": "https://localhost:8080/"
        },
        "id": "ySiNm8lmkD4q",
        "outputId": "38b42c4a-a06b-41eb-d9a9-03064ea232c7"
      },
      "execution_count": 18,
      "outputs": [
        {
          "output_type": "stream",
          "name": "stdout",
          "text": [
            "l\n"
          ]
        }
      ]
    },
    {
      "cell_type": "markdown",
      "source": [
        "# 슬라이싱(Slicing) ★★★★★\n",
        "- 인덱스를 사용해서 시퀀스를 잘라낸다\n",
        "- 잘라서 새로운 시퀀스를 만들어 낸다\n",
        "- [start : end : step]\n",
        "  - start ~ end - 1 부분을 step 만큼 건너 뛰면서 잘라낸다."
      ],
      "metadata": {
        "id": "-g8Z_J_TkJ0P"
      }
    },
    {
      "cell_type": "code",
      "source": [
        "text = \"안녕하세요!반갑습니다\"\n",
        "print(text)"
      ],
      "metadata": {
        "colab": {
          "base_uri": "https://localhost:8080/"
        },
        "id": "DHjxNbnAn6iZ",
        "outputId": "78f41467-8391-4e49-b2e6-4a4c3a6ac847"
      },
      "execution_count": 19,
      "outputs": [
        {
          "output_type": "stream",
          "name": "stdout",
          "text": [
            "안녕하세요!반갑습니다\n"
          ]
        }
      ]
    },
    {
      "cell_type": "code",
      "source": [
        "# start -> 0, end -> 3 이면 0 ~ 2 까지 잘라낸다.\n",
        "text[0 : 3]"
      ],
      "metadata": {
        "colab": {
          "base_uri": "https://localhost:8080/",
          "height": 35
        },
        "id": "eU86aKOdoAtv",
        "outputId": "1ed35b41-3a2a-41f5-ba8d-4393b6d5863e"
      },
      "execution_count": 20,
      "outputs": [
        {
          "output_type": "execute_result",
          "data": {
            "text/plain": [
              "'안녕하'"
            ],
            "application/vnd.google.colaboratory.intrinsic+json": {
              "type": "string"
            }
          },
          "metadata": {},
          "execution_count": 20
        }
      ]
    },
    {
      "cell_type": "code",
      "source": [
        "# end 인덱스의 범위를 벗어나면 자동으로 제일 마지막까지 잘라냄.\n",
        "text[3 : 500]"
      ],
      "metadata": {
        "id": "H9KYjqI5oMv7",
        "colab": {
          "base_uri": "https://localhost:8080/",
          "height": 35
        },
        "outputId": "65ff2f65-040e-45c4-a795-5e9edd7f1a77"
      },
      "execution_count": 21,
      "outputs": [
        {
          "output_type": "execute_result",
          "data": {
            "text/plain": [
              "'세요!반갑습니다'"
            ],
            "application/vnd.google.colaboratory.intrinsic+json": {
              "type": "string"
            }
          },
          "metadata": {},
          "execution_count": 21
        }
      ]
    },
    {
      "cell_type": "code",
      "source": [
        "# 세요!반갑습\n",
        "text[3 : 9]"
      ],
      "metadata": {
        "colab": {
          "base_uri": "https://localhost:8080/",
          "height": 35
        },
        "id": "GNPi7ogEoSh7",
        "outputId": "a724997b-fb3c-4dd8-ef3e-36f04d2df293"
      },
      "execution_count": 22,
      "outputs": [
        {
          "output_type": "execute_result",
          "data": {
            "text/plain": [
              "'세요!반갑습'"
            ],
            "application/vnd.google.colaboratory.intrinsic+json": {
              "type": "string"
            }
          },
          "metadata": {},
          "execution_count": 22
        }
      ]
    },
    {
      "cell_type": "code",
      "source": [
        "text[3 : -2] # -2 - 1 = -3 이니까, 습(-3) 까지 잘린다."
      ],
      "metadata": {
        "colab": {
          "base_uri": "https://localhost:8080/",
          "height": 35
        },
        "id": "Xte4JHeAoiNp",
        "outputId": "137afb06-70c7-42f9-fa37-da3f0bca8c6c"
      },
      "execution_count": 23,
      "outputs": [
        {
          "output_type": "execute_result",
          "data": {
            "text/plain": [
              "'세요!반갑습'"
            ],
            "application/vnd.google.colaboratory.intrinsic+json": {
              "type": "string"
            }
          },
          "metadata": {},
          "execution_count": 23
        }
      ]
    },
    {
      "cell_type": "markdown",
      "source": [
        "- start, end, step 은 생략이 가능함\n",
        "- start 를 생략하면 자동으로 0이 들어감\n",
        "- end 를 생략하면 자동으로 시퀀스의 길이(len)이 들어감"
      ],
      "metadata": {
        "id": "_V5FBceQpEU4"
      }
    },
    {
      "cell_type": "code",
      "source": [
        "# end 를 생략한 경우\n",
        "text[3 : ] # text[3 : len(text)]"
      ],
      "metadata": {
        "colab": {
          "base_uri": "https://localhost:8080/",
          "height": 35
        },
        "id": "yJILIFubpb7y",
        "outputId": "bf1f43a4-5cd8-4f3a-d906-a6c9e86523b0"
      },
      "execution_count": 24,
      "outputs": [
        {
          "output_type": "execute_result",
          "data": {
            "text/plain": [
              "'세요!반갑습니다'"
            ],
            "application/vnd.google.colaboratory.intrinsic+json": {
              "type": "string"
            }
          },
          "metadata": {},
          "execution_count": 24
        }
      ]
    },
    {
      "cell_type": "code",
      "source": [
        "# start 를 생략한 경우\n",
        "text[:5]"
      ],
      "metadata": {
        "colab": {
          "base_uri": "https://localhost:8080/",
          "height": 35
        },
        "id": "UkimQxefpn9m",
        "outputId": "3c9b7bc7-e3ac-4007-fedf-e4e25f84be7d"
      },
      "execution_count": 25,
      "outputs": [
        {
          "output_type": "execute_result",
          "data": {
            "text/plain": [
              "'안녕하세요'"
            ],
            "application/vnd.google.colaboratory.intrinsic+json": {
              "type": "string"
            }
          },
          "metadata": {},
          "execution_count": 25
        }
      ]
    },
    {
      "cell_type": "code",
      "source": [
        "# text[:] 와 text 의 프린트 결과는 같음. 둘의 차이는?\n",
        "# 동명이인을 예로 생각하면 됨. 이름은 같지만 다른사람?"
      ],
      "metadata": {
        "id": "IukOXHq_prhf"
      },
      "execution_count": 26,
      "outputs": []
    },
    {
      "cell_type": "code",
      "source": [
        "text[:-5]"
      ],
      "metadata": {
        "colab": {
          "base_uri": "https://localhost:8080/",
          "height": 35
        },
        "id": "OQtnVyvLps_x",
        "outputId": "071ecb5f-a5c9-4a5d-d787-93fc9d15e81b"
      },
      "execution_count": 27,
      "outputs": [
        {
          "output_type": "execute_result",
          "data": {
            "text/plain": [
              "'안녕하세요!'"
            ],
            "application/vnd.google.colaboratory.intrinsic+json": {
              "type": "string"
            }
          },
          "metadata": {},
          "execution_count": 27
        }
      ]
    },
    {
      "cell_type": "code",
      "source": [
        "text[-5 : -1]"
      ],
      "metadata": {
        "colab": {
          "base_uri": "https://localhost:8080/",
          "height": 35
        },
        "id": "eEvyGe5Equ81",
        "outputId": "0856afc3-1ae0-47a9-ce93-39fca67d11fb"
      },
      "execution_count": 28,
      "outputs": [
        {
          "output_type": "execute_result",
          "data": {
            "text/plain": [
              "'반갑습니'"
            ],
            "application/vnd.google.colaboratory.intrinsic+json": {
              "type": "string"
            }
          },
          "metadata": {},
          "execution_count": 28
        }
      ]
    },
    {
      "cell_type": "code",
      "source": [
        "# 음수 인덱스를 사용하는 것이 양수 인덱스 활용보다 효과적인 경우\n",
        "image_file_full_name = \"my_profile_good_filtered.jpg\" # 여기서 파일 이름만 가져오고 싶어요\n",
        "image_file_full_name[:-4]"
      ],
      "metadata": {
        "colab": {
          "base_uri": "https://localhost:8080/",
          "height": 35
        },
        "id": "fK6AlkveqzqC",
        "outputId": "9c032846-8a78-4437-84a9-b2accbcf6dda"
      },
      "execution_count": 29,
      "outputs": [
        {
          "output_type": "execute_result",
          "data": {
            "text/plain": [
              "'my_profile_good_filtered'"
            ],
            "application/vnd.google.colaboratory.intrinsic+json": {
              "type": "string"
            }
          },
          "metadata": {},
          "execution_count": 29
        }
      ]
    },
    {
      "cell_type": "markdown",
      "source": [
        "### step\n",
        "- 지정한 숫자만큼 건너 뛰면서 슬라이싱\n",
        "- step을 생략하면 기본적으로 1이 주어진다.\n",
        "- 부호(양수, 음수)를 이용해서 방향 설정도 가능\n",
        "  - 양수: 정방향(왼쪽 -> 오른쪽)\n",
        "  - 음수: 역방향(오른쪽 -> 왼쪽)\n",
        "  "
      ],
      "metadata": {
        "id": "MU62C0XtrhGq"
      }
    },
    {
      "cell_type": "code",
      "source": [
        "# 안녕하세요!반갑습니다\n",
        "text[::2]"
      ],
      "metadata": {
        "colab": {
          "base_uri": "https://localhost:8080/",
          "height": 35
        },
        "id": "A5piZ3LcsCiB",
        "outputId": "8d087671-76b0-443a-90d8-ddbd9c6a0818"
      },
      "execution_count": 30,
      "outputs": [
        {
          "output_type": "execute_result",
          "data": {
            "text/plain": [
              "'안하요반습다'"
            ],
            "application/vnd.google.colaboratory.intrinsic+json": {
              "type": "string"
            }
          },
          "metadata": {},
          "execution_count": 30
        }
      ]
    },
    {
      "cell_type": "code",
      "source": [
        "text[::3]"
      ],
      "metadata": {
        "colab": {
          "base_uri": "https://localhost:8080/",
          "height": 35
        },
        "id": "Bju_W3hwsFbj",
        "outputId": "ae389fa8-b53b-4903-80ff-766ae2694113"
      },
      "execution_count": 31,
      "outputs": [
        {
          "output_type": "execute_result",
          "data": {
            "text/plain": [
              "'안세반니'"
            ],
            "application/vnd.google.colaboratory.intrinsic+json": {
              "type": "string"
            }
          },
          "metadata": {},
          "execution_count": 31
        }
      ]
    },
    {
      "cell_type": "code",
      "source": [
        "text[3:8:2]\n",
        "#세요!반갑, 세!갑"
      ],
      "metadata": {
        "colab": {
          "base_uri": "https://localhost:8080/",
          "height": 35
        },
        "id": "dXo8bHQfsah8",
        "outputId": "985bede4-e1fc-4d6b-b9e2-8ba203ffb9de"
      },
      "execution_count": 32,
      "outputs": [
        {
          "output_type": "execute_result",
          "data": {
            "text/plain": [
              "'세!갑'"
            ],
            "application/vnd.google.colaboratory.intrinsic+json": {
              "type": "string"
            }
          },
          "metadata": {},
          "execution_count": 32
        }
      ]
    },
    {
      "cell_type": "code",
      "source": [
        "text[::-1] # 문자열 역으로 재정렬"
      ],
      "metadata": {
        "colab": {
          "base_uri": "https://localhost:8080/",
          "height": 35
        },
        "id": "yNRGwUppsu-9",
        "outputId": "9d5aeacd-6317-437e-dfad-f575d94cd0a3"
      },
      "execution_count": 33,
      "outputs": [
        {
          "output_type": "execute_result",
          "data": {
            "text/plain": [
              "'다니습갑반!요세하녕안'"
            ],
            "application/vnd.google.colaboratory.intrinsic+json": {
              "type": "string"
            }
          },
          "metadata": {},
          "execution_count": 33
        }
      ]
    },
    {
      "cell_type": "code",
      "source": [
        "text[::-2] # 음수(-) 에서 일단 역정렬하고 2개씩"
      ],
      "metadata": {
        "colab": {
          "base_uri": "https://localhost:8080/",
          "height": 35
        },
        "id": "1TWnxbDCtCy5",
        "outputId": "f9aa7fef-93cd-4883-9d64-44063691845d"
      },
      "execution_count": 34,
      "outputs": [
        {
          "output_type": "execute_result",
          "data": {
            "text/plain": [
              "'다습반요하안'"
            ],
            "application/vnd.google.colaboratory.intrinsic+json": {
              "type": "string"
            }
          },
          "metadata": {},
          "execution_count": 34
        }
      ]
    },
    {
      "cell_type": "code",
      "source": [
        "text[8:3:-2] # start, end 보다도 음수 역정렬이 젤 먼저인가봐\n",
        "# 여기서 단순히 문자열만이 아니고 index도 뒤집힘?"
      ],
      "metadata": {
        "colab": {
          "base_uri": "https://localhost:8080/",
          "height": 35
        },
        "id": "d6SoPosltJC9",
        "outputId": "f05c8c30-62e4-4a4c-bb26-eb4b97116206"
      },
      "execution_count": 35,
      "outputs": [
        {
          "output_type": "execute_result",
          "data": {
            "text/plain": [
              "'습반요'"
            ],
            "application/vnd.google.colaboratory.intrinsic+json": {
              "type": "string"
            }
          },
          "metadata": {},
          "execution_count": 35
        }
      ]
    },
    {
      "cell_type": "code",
      "source": [
        "text[-3:-8:-2]"
      ],
      "metadata": {
        "colab": {
          "base_uri": "https://localhost:8080/",
          "height": 35
        },
        "id": "ZcAAluyKtem9",
        "outputId": "376ab954-746d-484b-9cef-573e79c44755"
      },
      "execution_count": 36,
      "outputs": [
        {
          "output_type": "execute_result",
          "data": {
            "text/plain": [
              "'습반요'"
            ],
            "application/vnd.google.colaboratory.intrinsic+json": {
              "type": "string"
            }
          },
          "metadata": {},
          "execution_count": 36
        }
      ]
    },
    {
      "cell_type": "code",
      "source": [
        "# -1 -2 -3 -4 -5 -6 -7 -8 -9 -10 -11\n",
        "# 다 니 습 갑 반  ! 요 세 하  녕  안\n",
        "#  1  2  3  4  5  6  7  8  9  10  11"
      ],
      "metadata": {
        "id": "P6CEOtGpuEKV"
      },
      "execution_count": 37,
      "outputs": []
    },
    {
      "cell_type": "markdown",
      "source": [
        "# 문자열 함수\n",
        "파이썬에는 문자열을 다룰 수 있는 여러 기능(함수)를 제공함."
      ],
      "metadata": {
        "id": "nHVwGUJg7xBH"
      }
    },
    {
      "cell_type": "code",
      "source": [
        "text1 = \"hello\"\n",
        "text2 = \"world\""
      ],
      "metadata": {
        "id": "yhB_lycH75_w"
      },
      "execution_count": 38,
      "outputs": []
    },
    {
      "cell_type": "markdown",
      "source": [
        "### 문자열 이어 붙이기"
      ],
      "metadata": {
        "id": "G7-f4FL-8BcE"
      }
    },
    {
      "cell_type": "code",
      "source": [
        "print(text1 + text2)"
      ],
      "metadata": {
        "colab": {
          "base_uri": "https://localhost:8080/"
        },
        "id": "rk0JB5X38ELu",
        "outputId": "626905a5-807f-4183-ef3d-287451c2bb6f"
      },
      "execution_count": 39,
      "outputs": [
        {
          "output_type": "stream",
          "name": "stdout",
          "text": [
            "helloworld\n"
          ]
        }
      ]
    },
    {
      "cell_type": "code",
      "source": [
        "# 문자열 끼리만 이어 붙일 수 있음\n",
        "# text1 + 10 은 안됨. 에러."
      ],
      "metadata": {
        "id": "mxdLRpHN8GFw"
      },
      "execution_count": 40,
      "outputs": []
    },
    {
      "cell_type": "code",
      "source": [
        "text = \"내 나이는 : \"\n",
        "age = 20\n",
        "# 이 두 변수를 이어붙이기 위해서는?"
      ],
      "metadata": {
        "id": "dqGxoSjZ8Rim"
      },
      "execution_count": 41,
      "outputs": []
    },
    {
      "cell_type": "code",
      "source": [
        "# 정수를 문자열 형식으로 자료형을 바꿔줘야 함.\n",
        "# 자료형을 바꾸는 행위를 Type Casting.\n",
        "text + str(age)"
      ],
      "metadata": {
        "colab": {
          "base_uri": "https://localhost:8080/",
          "height": 35
        },
        "id": "2eQIGKAw8VGM",
        "outputId": "1071ca6f-82ff-4c8c-f903-a31dac4fe82e"
      },
      "execution_count": 42,
      "outputs": [
        {
          "output_type": "execute_result",
          "data": {
            "text/plain": [
              "'내 나이는 : 20'"
            ],
            "application/vnd.google.colaboratory.intrinsic+json": {
              "type": "string"
            }
          },
          "metadata": {},
          "execution_count": 42
        }
      ]
    },
    {
      "cell_type": "markdown",
      "source": [
        "### 문자열 반복하기"
      ],
      "metadata": {
        "id": "Gt8mCw4Z82UL"
      }
    },
    {
      "cell_type": "code",
      "source": [
        "# 변수 text1에 들어있는 문자열을 10번 반복한다.\n",
        "text1 * 10\n",
        "# text1 * 0.8 불가능! 에러.\n",
        "# 횟수라하면은 무조건 '정수'"
      ],
      "metadata": {
        "colab": {
          "base_uri": "https://localhost:8080/",
          "height": 35
        },
        "id": "Rp94os9D85WA",
        "outputId": "e3a004cc-532e-4224-eff9-36a76c54ebb0"
      },
      "execution_count": 43,
      "outputs": [
        {
          "output_type": "execute_result",
          "data": {
            "text/plain": [
              "'hellohellohellohellohellohellohellohellohellohello'"
            ],
            "application/vnd.google.colaboratory.intrinsic+json": {
              "type": "string"
            }
          },
          "metadata": {},
          "execution_count": 43
        }
      ]
    },
    {
      "cell_type": "markdown",
      "source": [
        "## 대/소문자화"
      ],
      "metadata": {
        "id": "L2o9CL7X9AuV"
      }
    },
    {
      "cell_type": "code",
      "source": [
        "# 모든 문자를 대문자로 만들기 - upper()\n",
        "text2.upper()"
      ],
      "metadata": {
        "colab": {
          "base_uri": "https://localhost:8080/",
          "height": 35
        },
        "id": "jxwtumFv9QeX",
        "outputId": "c8c87d2c-a84e-458d-f161-fe5fd4738aa1"
      },
      "execution_count": 44,
      "outputs": [
        {
          "output_type": "execute_result",
          "data": {
            "text/plain": [
              "'WORLD'"
            ],
            "application/vnd.google.colaboratory.intrinsic+json": {
              "type": "string"
            }
          },
          "metadata": {},
          "execution_count": 44
        }
      ]
    },
    {
      "cell_type": "code",
      "source": [
        "# 모든 문자를 소문자로 만들기 - lower()\n",
        "\"HELLO!!\".lower()"
      ],
      "metadata": {
        "colab": {
          "base_uri": "https://localhost:8080/",
          "height": 35
        },
        "id": "6seg73gj9YVh",
        "outputId": "ff9cb589-a46b-4016-c2ad-75f503c619b6"
      },
      "execution_count": 45,
      "outputs": [
        {
          "output_type": "execute_result",
          "data": {
            "text/plain": [
              "'hello!!'"
            ],
            "application/vnd.google.colaboratory.intrinsic+json": {
              "type": "string"
            }
          },
          "metadata": {},
          "execution_count": 45
        }
      ]
    },
    {
      "cell_type": "markdown",
      "source": [
        "텍스트 데이터(자연어) 처리나 분석을 할 때 자주 사용된다.\n",
        "\n",
        "```\n",
        "1. Hello\n",
        "2. HEllo\n",
        "3. HeLLo\n",
        "4. Bye\n",
        "5. byE\n",
        "\n",
        "사람의 인식: 헬로우가 3번, 바이가 2번 등장 했구나!\n",
        "컴퓨터의 인식 : Hello 1번, HEllo 1번, HeLLo 1번, Bye 1번, byE 1번\n",
        "\n",
        "때문에 대소문자로 인해 컴퓨터가 다 다른단어로 인식하지 않기 위해 텍스트 데이터를 대문자나 소문자로 통일함. 대부분 소문자로 통일.\n",
        "```\n",
        "\n"
      ],
      "metadata": {
        "id": "4yZ6hBLG9hE6"
      }
    },
    {
      "cell_type": "markdown",
      "source": [
        "## 문자열 치환\n",
        "치환 : A를 B로 바꾸는 것(replace - 중요!)"
      ],
      "metadata": {
        "id": "GhAHKrSq-stt"
      }
    },
    {
      "cell_type": "code",
      "source": [
        "text1.replace('h', 'j')"
      ],
      "metadata": {
        "colab": {
          "base_uri": "https://localhost:8080/",
          "height": 35
        },
        "id": "xI-8TTZ8-5ug",
        "outputId": "ec87e74e-cc8a-481c-eadb-be856440d657"
      },
      "execution_count": 46,
      "outputs": [
        {
          "output_type": "execute_result",
          "data": {
            "text/plain": [
              "'jello'"
            ],
            "application/vnd.google.colaboratory.intrinsic+json": {
              "type": "string"
            }
          },
          "metadata": {},
          "execution_count": 46
        }
      ]
    },
    {
      "cell_type": "code",
      "source": [
        "text1.replace('he', 'jo') # 여러개도 가능"
      ],
      "metadata": {
        "colab": {
          "base_uri": "https://localhost:8080/",
          "height": 35
        },
        "id": "wsIe9WFy_BXq",
        "outputId": "9fcb4d47-4e28-43e1-b3bf-441f34106479"
      },
      "execution_count": 47,
      "outputs": [
        {
          "output_type": "execute_result",
          "data": {
            "text/plain": [
              "'jollo'"
            ],
            "application/vnd.google.colaboratory.intrinsic+json": {
              "type": "string"
            }
          },
          "metadata": {},
          "execution_count": 47
        }
      ]
    },
    {
      "cell_type": "markdown",
      "source": [
        "## 문자열 포매팅\n",
        "- 템플릿 만들기\n",
        "- 문자열 내의 특정한 값을 변수로부터 동적으로 문자열을 생성"
      ],
      "metadata": {
        "id": "jlJO4WUL_Iiy"
      }
    },
    {
      "cell_type": "code",
      "source": [
        "name = \"소민호\"\n",
        "age = 37\n",
        "\n",
        "# 제 이름은 소민호입니다. 나이는 37살 입니다. <- 을 출력해보자.\n",
        "text = \"제 이름은 \" + name + \"입니다. 나이는 \" + str(age) + \"살 입니다.\"\n",
        "print(text)\n",
        "\n",
        "# 이 과정은 정적이다."
      ],
      "metadata": {
        "colab": {
          "base_uri": "https://localhost:8080/"
        },
        "id": "lKiVOZNe_aUz",
        "outputId": "4c9e6ba9-5196-49f3-c4cd-e7d6720da144"
      },
      "execution_count": 48,
      "outputs": [
        {
          "output_type": "stream",
          "name": "stdout",
          "text": [
            "제 이름은 소민호입니다. 나이는 37살 입니다.\n"
          ]
        }
      ]
    },
    {
      "cell_type": "code",
      "source": [
        "name = \"김철수\"\n",
        "age = 20\n",
        "\n",
        "# 제 이름은 소민호입니다. 나이는 37살 입니다. <- 을 출력해보자.\n",
        "text = \"제 이름은 \" + name + \"입니다. 나이는 \" + str(age) + \"살 입니다.\"\n",
        "print(text)\n",
        "\n",
        "# 이 과정은 정적이다."
      ],
      "metadata": {
        "colab": {
          "base_uri": "https://localhost:8080/"
        },
        "id": "yy-kdvvIAVhK",
        "outputId": "4ed79b69-5b20-4b59-9926-00c6ee256d27"
      },
      "execution_count": 49,
      "outputs": [
        {
          "output_type": "stream",
          "name": "stdout",
          "text": [
            "제 이름은 김철수입니다. 나이는 20살 입니다.\n"
          ]
        }
      ]
    },
    {
      "cell_type": "code",
      "source": [
        "# 문자열 포매팅: 문자열의 형식을 미리 지정해 놓고, 필요할 때 특정 부분을 변경\n",
        "text = \"제 이름은 {}입니다. 나이는 {}입니다.\"\n",
        "print(text)"
      ],
      "metadata": {
        "colab": {
          "base_uri": "https://localhost:8080/"
        },
        "id": "_T3dFZ-YBAvL",
        "outputId": "857c503f-84b3-49e0-fcfb-97e031eb5ad4"
      },
      "execution_count": 50,
      "outputs": [
        {
          "output_type": "stream",
          "name": "stdout",
          "text": [
            "제 이름은 {}입니다. 나이는 {}입니다.\n"
          ]
        }
      ]
    },
    {
      "cell_type": "code",
      "source": [
        "text.format(name, age)"
      ],
      "metadata": {
        "colab": {
          "base_uri": "https://localhost:8080/",
          "height": 35
        },
        "id": "EtOm6SY5BVW6",
        "outputId": "082051db-b59f-4b77-d039-038c683dd49f"
      },
      "execution_count": 51,
      "outputs": [
        {
          "output_type": "execute_result",
          "data": {
            "text/plain": [
              "'제 이름은 김철수입니다. 나이는 20입니다.'"
            ],
            "application/vnd.google.colaboratory.intrinsic+json": {
              "type": "string"
            }
          },
          "metadata": {},
          "execution_count": 51
        }
      ]
    },
    {
      "cell_type": "code",
      "source": [
        "text.format(\"민수\", 19)"
      ],
      "metadata": {
        "colab": {
          "base_uri": "https://localhost:8080/",
          "height": 35
        },
        "id": "mxJViDNwB2U6",
        "outputId": "27dcf390-5adb-4835-deb7-e5105e58d80c"
      },
      "execution_count": 52,
      "outputs": [
        {
          "output_type": "execute_result",
          "data": {
            "text/plain": [
              "'제 이름은 민수입니다. 나이는 19입니다.'"
            ],
            "application/vnd.google.colaboratory.intrinsic+json": {
              "type": "string"
            }
          },
          "metadata": {},
          "execution_count": 52
        }
      ]
    },
    {
      "cell_type": "code",
      "source": [
        "text = f\"제 이름은 {name}입니다. 나이는 {age}입니다.\"\n",
        "text\n",
        "# 포매팅을 사용하니 type이 무관해짐 = 타입캐스팅을 할 필요가 없다는 장점"
      ],
      "metadata": {
        "colab": {
          "base_uri": "https://localhost:8080/",
          "height": 35
        },
        "id": "hu-p6zMkBfo-",
        "outputId": "ed582756-8f57-4221-b4cb-62e926d2cf3f"
      },
      "execution_count": 53,
      "outputs": [
        {
          "output_type": "execute_result",
          "data": {
            "text/plain": [
              "'제 이름은 김철수입니다. 나이는 20입니다.'"
            ],
            "application/vnd.google.colaboratory.intrinsic+json": {
              "type": "string"
            }
          },
          "metadata": {},
          "execution_count": 53
        }
      ]
    },
    {
      "cell_type": "markdown",
      "source": [
        "## 문자열 분리(split)\n",
        "- slice: 특정 부분을 인덱스를 활용해 잘라내기\n",
        "- split: 특정 구분자를 이용해서 문자열을 쪼개기"
      ],
      "metadata": {
        "id": "6TJy9bqfCCYD"
      }
    },
    {
      "cell_type": "code",
      "source": [
        "text = \"이제는 많이 추워진 것 같습니다\"\n",
        "text.split() # 공백을 기준으로 문자열을 분리"
      ],
      "metadata": {
        "colab": {
          "base_uri": "https://localhost:8080/"
        },
        "id": "MES9jFxOCgUr",
        "outputId": "ec999d32-073b-4f03-a42d-f8a6cf28706e"
      },
      "execution_count": 54,
      "outputs": [
        {
          "output_type": "execute_result",
          "data": {
            "text/plain": [
              "['이제는', '많이', '추워진', '것', '같습니다']"
            ]
          },
          "metadata": {},
          "execution_count": 54
        }
      ]
    },
    {
      "cell_type": "code",
      "source": [
        "text = \"#8시간#하루종일#파이썬#더워요#어렵다\"\n",
        "text.split(\"#\")"
      ],
      "metadata": {
        "colab": {
          "base_uri": "https://localhost:8080/"
        },
        "id": "rRDJMxgWCkR5",
        "outputId": "4867a8da-febf-456a-cc53-df1b66035b45"
      },
      "execution_count": 55,
      "outputs": [
        {
          "output_type": "execute_result",
          "data": {
            "text/plain": [
              "['', '8시간', '하루종일', '파이썬', '더워요', '어렵다']"
            ]
          },
          "metadata": {},
          "execution_count": 55
        }
      ]
    },
    {
      "cell_type": "code",
      "source": [
        "text[1:].split(\"#\") # 위 결과값에서 맨앞 공백을 없애보기"
      ],
      "metadata": {
        "colab": {
          "base_uri": "https://localhost:8080/"
        },
        "id": "6LLqJ9jYC5ac",
        "outputId": "3374e400-5351-4c6a-8aeb-aac9768289f4"
      },
      "execution_count": 56,
      "outputs": [
        {
          "output_type": "execute_result",
          "data": {
            "text/plain": [
              "['8시간', '하루종일', '파이썬', '더워요', '어렵다']"
            ]
          },
          "metadata": {},
          "execution_count": 56
        }
      ]
    },
    {
      "cell_type": "code",
      "source": [
        "# 블로그, SNS등의 자연어를 웹에서 수집하면 띄어쓰기가 많은 문제가 된다.\n",
        "text = \"     느그     서장   남천동  살제    \" # 이런 경우가 많음\n",
        "text.split() # 이런경우엔 (\"\") 을 쓰지 말고 그냥 () 을 사용"
      ],
      "metadata": {
        "colab": {
          "base_uri": "https://localhost:8080/"
        },
        "id": "VbcT_ruaDIQ0",
        "outputId": "02a3b2f0-f1e6-4505-cf5d-e09a5ca688ef"
      },
      "execution_count": 57,
      "outputs": [
        {
          "output_type": "execute_result",
          "data": {
            "text/plain": [
              "['느그', '서장', '남천동', '살제']"
            ]
          },
          "metadata": {},
          "execution_count": 57
        }
      ]
    },
    {
      "cell_type": "markdown",
      "source": [
        "좌우 공백 제거"
      ],
      "metadata": {
        "id": "qAA9uHNlD8uG"
      }
    },
    {
      "cell_type": "code",
      "source": [
        "text = \"\\n\\n\\nHello!!!\\n\\n\\n\"\n",
        "print(text)"
      ],
      "metadata": {
        "colab": {
          "base_uri": "https://localhost:8080/"
        },
        "id": "gTzMf_IuD_qQ",
        "outputId": "994d11f7-a295-4eed-d1a6-c5309344a51d"
      },
      "execution_count": 58,
      "outputs": [
        {
          "output_type": "stream",
          "name": "stdout",
          "text": [
            "\n",
            "\n",
            "\n",
            "Hello!!!\n",
            "\n",
            "\n",
            "\n"
          ]
        }
      ]
    },
    {
      "cell_type": "code",
      "source": [
        "text.strip()"
      ],
      "metadata": {
        "colab": {
          "base_uri": "https://localhost:8080/",
          "height": 35
        },
        "id": "PquEjqpHEF5E",
        "outputId": "6c392fb1-66be-4011-aea0-babd0611bdd0"
      },
      "execution_count": 59,
      "outputs": [
        {
          "output_type": "execute_result",
          "data": {
            "text/plain": [
              "'Hello!!!'"
            ],
            "application/vnd.google.colaboratory.intrinsic+json": {
              "type": "string"
            }
          },
          "metadata": {},
          "execution_count": 59
        }
      ]
    },
    {
      "cell_type": "markdown",
      "source": [
        "## 문자열 합치기\n",
        "- `split`의 반대 개념\n",
        "- 특정 문자열을 기준으로 리스트에 들어있는 문자열을 합쳐주는 역할"
      ],
      "metadata": {
        "id": "qruZPKOlEKdy"
      }
    },
    {
      "cell_type": "code",
      "source": [
        "example = [\"Hello\", \"Bye\", \"World\", \"Seeya\"]"
      ],
      "metadata": {
        "id": "R7ayWQ2pEh4m"
      },
      "execution_count": 60,
      "outputs": []
    },
    {
      "cell_type": "code",
      "source": [
        "\"#\".join(example)"
      ],
      "metadata": {
        "colab": {
          "base_uri": "https://localhost:8080/",
          "height": 35
        },
        "id": "B_2ge5b2Evm7",
        "outputId": "a823e637-f036-4e6b-95bd-c2f75587b3c8"
      },
      "execution_count": 61,
      "outputs": [
        {
          "output_type": "execute_result",
          "data": {
            "text/plain": [
              "'Hello#Bye#World#Seeya'"
            ],
            "application/vnd.google.colaboratory.intrinsic+json": {
              "type": "string"
            }
          },
          "metadata": {},
          "execution_count": 61
        }
      ]
    },
    {
      "cell_type": "markdown",
      "source": [
        "문제"
      ],
      "metadata": {
        "id": "En7RLnF5E1Wc"
      }
    },
    {
      "cell_type": "code",
      "source": [
        "tags = \"#오늘 #배고프다 #저녁에 #꼼장어 #먹어 야지\"\n",
        "# -> ['오늘', '배고프다', '저녁에', '꼼장어', '먹어야지'] 로 만들라는건가?\n",
        "# tags[1:].split(\"#\") <- 시도한 것\n",
        "tags[1:].replace(\" \", \"\").split(\"#\")\n",
        "\n",
        "# 스스로 문제를 만들고 풀어보자."
      ],
      "metadata": {
        "colab": {
          "base_uri": "https://localhost:8080/"
        },
        "id": "5gLs6zhUFLhh",
        "outputId": "1fd28764-5b6d-40dc-9e41-fcdffb164445"
      },
      "execution_count": 62,
      "outputs": [
        {
          "output_type": "execute_result",
          "data": {
            "text/plain": [
              "['오늘', '배고프다', '저녁에', '꼼장어', '먹어야지']"
            ]
          },
          "metadata": {},
          "execution_count": 62
        }
      ]
    },
    {
      "cell_type": "markdown",
      "source": [
        "# 형 변환(Type Casting) ⭐⭐\n",
        "- 데이터의 자료형을 바꾸는 것\n",
        "-----\n",
        ":\n",
        "* int : 정수\n",
        "* float : 실수\n",
        "* str : 문자열\n",
        "* bool : 논리"
      ],
      "metadata": {
        "id": "P7Nyq1SpeuPQ"
      }
    },
    {
      "cell_type": "code",
      "source": [
        "a = 10 # 정수\n",
        "float(a)"
      ],
      "metadata": {
        "colab": {
          "base_uri": "https://localhost:8080/"
        },
        "id": "xJ2ALKIRfA3w",
        "outputId": "9efeb9e4-c0d9-4e24-a717-6612e0bd885f"
      },
      "execution_count": 63,
      "outputs": [
        {
          "output_type": "execute_result",
          "data": {
            "text/plain": [
              "10.0"
            ]
          },
          "metadata": {},
          "execution_count": 63
        }
      ]
    },
    {
      "cell_type": "code",
      "source": [
        "str(a)"
      ],
      "metadata": {
        "colab": {
          "base_uri": "https://localhost:8080/",
          "height": 35
        },
        "id": "grsPT9x_fFUw",
        "outputId": "34d3eb86-1666-4151-a948-59e472c3b4f0"
      },
      "execution_count": 64,
      "outputs": [
        {
          "output_type": "execute_result",
          "data": {
            "text/plain": [
              "'10'"
            ],
            "application/vnd.google.colaboratory.intrinsic+json": {
              "type": "string"
            }
          },
          "metadata": {},
          "execution_count": 64
        }
      ]
    },
    {
      "cell_type": "code",
      "source": [
        "bool(a)"
      ],
      "metadata": {
        "colab": {
          "base_uri": "https://localhost:8080/"
        },
        "id": "hlKJhq22fHPK",
        "outputId": "8802a9de-7090-49fd-8e21-9da742b18c36"
      },
      "execution_count": 65,
      "outputs": [
        {
          "output_type": "execute_result",
          "data": {
            "text/plain": [
              "True"
            ]
          },
          "metadata": {},
          "execution_count": 65
        }
      ]
    },
    {
      "cell_type": "code",
      "source": [
        "bool(0) # bool이 참거짓을 판별하기도 하지만 값이 존재하냐 안하냐도 true false로 판단한다. 중요~"
      ],
      "metadata": {
        "colab": {
          "base_uri": "https://localhost:8080/"
        },
        "id": "NnIwBFcDfI9U",
        "outputId": "e6642144-5749-4eaf-8edd-051f7d521f86"
      },
      "execution_count": 66,
      "outputs": [
        {
          "output_type": "execute_result",
          "data": {
            "text/plain": [
              "False"
            ]
          },
          "metadata": {},
          "execution_count": 66
        }
      ]
    },
    {
      "cell_type": "code",
      "source": [
        "bool('aa')"
      ],
      "metadata": {
        "colab": {
          "base_uri": "https://localhost:8080/"
        },
        "id": "z3FL0xUyfc5Y",
        "outputId": "2da02087-e9f7-4ff2-e448-3a30ad4bd49b"
      },
      "execution_count": 67,
      "outputs": [
        {
          "output_type": "execute_result",
          "data": {
            "text/plain": [
              "True"
            ]
          },
          "metadata": {},
          "execution_count": 67
        }
      ]
    },
    {
      "cell_type": "code",
      "source": [
        "bool(' ')"
      ],
      "metadata": {
        "colab": {
          "base_uri": "https://localhost:8080/"
        },
        "id": "QPzSsxDzfpc0",
        "outputId": "0477a63a-8e5d-430a-9125-2a497a4f374b"
      },
      "execution_count": 68,
      "outputs": [
        {
          "output_type": "execute_result",
          "data": {
            "text/plain": [
              "True"
            ]
          },
          "metadata": {},
          "execution_count": 68
        }
      ]
    },
    {
      "cell_type": "code",
      "source": [
        "bool(0.0)"
      ],
      "metadata": {
        "colab": {
          "base_uri": "https://localhost:8080/"
        },
        "id": "6Xoe9cg7frir",
        "outputId": "c30dd699-c4f8-42d3-df7b-4ff0c20b2c1c"
      },
      "execution_count": 69,
      "outputs": [
        {
          "output_type": "execute_result",
          "data": {
            "text/plain": [
              "False"
            ]
          },
          "metadata": {},
          "execution_count": 69
        }
      ]
    },
    {
      "cell_type": "code",
      "source": [
        "# 실수를 정수로\n",
        "a = 10.123123\n",
        "int(a)"
      ],
      "metadata": {
        "colab": {
          "base_uri": "https://localhost:8080/"
        },
        "id": "vIWYFSszfu9I",
        "outputId": "b7c630d5-3130-4976-bb2f-63ba6a3a9463"
      },
      "execution_count": 70,
      "outputs": [
        {
          "output_type": "execute_result",
          "data": {
            "text/plain": [
              "10"
            ]
          },
          "metadata": {},
          "execution_count": 70
        }
      ]
    },
    {
      "cell_type": "code",
      "source": [
        "int(True)"
      ],
      "metadata": {
        "colab": {
          "base_uri": "https://localhost:8080/"
        },
        "id": "ZekObXjigZHM",
        "outputId": "94fd3093-bc83-41b6-a4d7-06eb67d589a4"
      },
      "execution_count": 71,
      "outputs": [
        {
          "output_type": "execute_result",
          "data": {
            "text/plain": [
              "1"
            ]
          },
          "metadata": {},
          "execution_count": 71
        }
      ]
    },
    {
      "cell_type": "code",
      "source": [
        "int(False)"
      ],
      "metadata": {
        "colab": {
          "base_uri": "https://localhost:8080/"
        },
        "id": "eEngfYINgbla",
        "outputId": "80bd04ee-6b9e-4e7f-e93b-f0cbebd8ea1a"
      },
      "execution_count": 72,
      "outputs": [
        {
          "output_type": "execute_result",
          "data": {
            "text/plain": [
              "0"
            ]
          },
          "metadata": {},
          "execution_count": 72
        }
      ]
    },
    {
      "cell_type": "code",
      "source": [
        "True + True"
      ],
      "metadata": {
        "colab": {
          "base_uri": "https://localhost:8080/"
        },
        "id": "QER6iCxMgd-c",
        "outputId": "84e9707b-b142-44b3-fea6-610e2cf92471"
      },
      "execution_count": 73,
      "outputs": [
        {
          "output_type": "execute_result",
          "data": {
            "text/plain": [
              "2"
            ]
          },
          "metadata": {},
          "execution_count": 73
        }
      ]
    },
    {
      "cell_type": "markdown",
      "source": [
        "# 파싱(Parsing) ⭐⭐⭐⭐⭐⭐\n",
        "- 문자열을 다른 자료형으로 바꾸는 과정\n",
        "\n",
        "- 캐스팅, 파싱 두가지가 있는데 파싱이 젤 중요하다."
      ],
      "metadata": {
        "id": "oKjz1EQughDv"
      }
    },
    {
      "cell_type": "code",
      "source": [
        "movie1 = \"9.49\"\n",
        "movie2 = \"    9.49\"\n",
        "movie3 = \"9.34점\""
      ],
      "metadata": {
        "id": "AWGeDsuyhMCH"
      },
      "execution_count": 74,
      "outputs": []
    },
    {
      "cell_type": "code",
      "source": [
        "float(movie1)"
      ],
      "metadata": {
        "colab": {
          "base_uri": "https://localhost:8080/"
        },
        "id": "JdhiQAiAhYxR",
        "outputId": "82a7fc37-c7f3-4860-fd80-b28413e9a2eb"
      },
      "execution_count": 75,
      "outputs": [
        {
          "output_type": "execute_result",
          "data": {
            "text/plain": [
              "9.49"
            ]
          },
          "metadata": {},
          "execution_count": 75
        }
      ]
    },
    {
      "cell_type": "code",
      "source": [
        "# float(movie2)\n",
        "# float(\"9. 49\") 으로 작성할 경우 moive2도 9. 49도 float의 형태가 아니기 때문에 에러발생\n",
        "# float(movie3) 를 하더라도 '점' 글자때문에 같은이유로 에러발생"
      ],
      "metadata": {
        "id": "R_A_CHFbiFGk"
      },
      "execution_count": 76,
      "outputs": []
    },
    {
      "cell_type": "code",
      "source": [
        "movie_score_sum = movie1 + movie2 + movie3\n",
        "movie_score_sum"
      ],
      "metadata": {
        "colab": {
          "base_uri": "https://localhost:8080/",
          "height": 35
        },
        "id": "azurHmmsiZro",
        "outputId": "f4ced313-0609-422b-9358-e2bd3bbf81b6"
      },
      "execution_count": 77,
      "outputs": [
        {
          "output_type": "execute_result",
          "data": {
            "text/plain": [
              "'9.49    9.499.34점'"
            ],
            "application/vnd.google.colaboratory.intrinsic+json": {
              "type": "string"
            }
          },
          "metadata": {},
          "execution_count": 77
        }
      ]
    },
    {
      "cell_type": "code",
      "source": [
        "movie1_socre = float(movie1)\n",
        "movie2_socre = float(movie2.strip())\n",
        "movie3_socre = float(movie3[:-1])\n",
        "\n",
        "movie_socre_avg = (movie1_socre + movie2_socre + movie3_socre) / 3\n",
        "movie_socre_avg"
      ],
      "metadata": {
        "colab": {
          "base_uri": "https://localhost:8080/"
        },
        "id": "wPbWBXTUjTIR",
        "outputId": "ff96aafc-587c-45fd-cfee-0641e1ccd1c6"
      },
      "execution_count": 78,
      "outputs": [
        {
          "output_type": "execute_result",
          "data": {
            "text/plain": [
              "9.44"
            ]
          },
          "metadata": {},
          "execution_count": 78
        }
      ]
    },
    {
      "cell_type": "code",
      "source": [
        "int(movie1) # 실수의 형태를 한 문자열이지 정수의 형태인 문자열이 아니기 때문에 에러발생."
      ],
      "metadata": {
        "colab": {
          "base_uri": "https://localhost:8080/",
          "height": 146
        },
        "id": "8NHrg5xDkIx3",
        "outputId": "cb9b8ed0-20c0-46c0-a4eb-ce92b28fa5bf"
      },
      "execution_count": 82,
      "outputs": [
        {
          "output_type": "error",
          "ename": "ValueError",
          "evalue": "invalid literal for int() with base 10: '9.49'",
          "traceback": [
            "\u001b[0;31m---------------------------------------------------------------------------\u001b[0m",
            "\u001b[0;31mValueError\u001b[0m                                Traceback (most recent call last)",
            "\u001b[0;32m<ipython-input-82-a05ccc0ddc55>\u001b[0m in \u001b[0;36m<cell line: 1>\u001b[0;34m()\u001b[0m\n\u001b[0;32m----> 1\u001b[0;31m \u001b[0mint\u001b[0m\u001b[0;34m(\u001b[0m\u001b[0mmovie1\u001b[0m\u001b[0;34m)\u001b[0m \u001b[0;31m# 실수의 형태를 한 문자열이지 정수의 형태인 문자열이 아니기 때문에 에러발생.\u001b[0m\u001b[0;34m\u001b[0m\u001b[0;34m\u001b[0m\u001b[0m\n\u001b[0m",
            "\u001b[0;31mValueError\u001b[0m: invalid literal for int() with base 10: '9.49'"
          ]
        }
      ]
    },
    {
      "cell_type": "code",
      "source": [
        "int(float(movie1)) # 먼저 실수로 바꿔주고 정수로 바꿔주면 가능."
      ],
      "metadata": {
        "colab": {
          "base_uri": "https://localhost:8080/"
        },
        "id": "4IoFjT4SkYqj",
        "outputId": "3ded27f2-a7fd-4e88-9bd1-3e4a686288e7"
      },
      "execution_count": 80,
      "outputs": [
        {
          "output_type": "execute_result",
          "data": {
            "text/plain": [
              "9"
            ]
          },
          "metadata": {},
          "execution_count": 80
        }
      ]
    },
    {
      "cell_type": "code",
      "source": [
        "float(\"10\") # 기본적으로 실수는 정수를 포함한다?"
      ],
      "metadata": {
        "colab": {
          "base_uri": "https://localhost:8080/"
        },
        "id": "Dwkj7Tlrku8v",
        "outputId": "ecc7a375-b5d6-4acf-b106-d0746755fbae"
      },
      "execution_count": 81,
      "outputs": [
        {
          "output_type": "execute_result",
          "data": {
            "text/plain": [
              "10.0"
            ]
          },
          "metadata": {},
          "execution_count": 81
        }
      ]
    }
  ]
}