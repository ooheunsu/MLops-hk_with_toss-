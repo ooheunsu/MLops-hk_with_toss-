{
  "nbformat": 4,
  "nbformat_minor": 0,
  "metadata": {
    "colab": {
      "provenance": [],
      "authorship_tag": "ABX9TyMtxG7l2SFyT5FZdFQkomHt",
      "include_colab_link": true
    },
    "kernelspec": {
      "name": "python3",
      "display_name": "Python 3"
    },
    "language_info": {
      "name": "python"
    }
  },
  "cells": [
    {
      "cell_type": "markdown",
      "metadata": {
        "id": "view-in-github",
        "colab_type": "text"
      },
      "source": [
        "<a href=\"https://colab.research.google.com/github/ooheunsu/MLops-hk_with_toss-/blob/main/03_%ED%8C%8C%EC%9D%B4%EC%8D%AC_%EB%AC%B8%EC%9E%90%EC%97%B4_%EB%8B%A4%EB%A3%A8%EA%B8%B0_%E2%98%85%E2%AD%90(%EC%A4%91%EC%9A%94).ipynb\" target=\"_parent\"><img src=\"https://colab.research.google.com/assets/colab-badge.svg\" alt=\"Open In Colab\"/></a>"
      ]
    },
    {
      "cell_type": "markdown",
      "source": [
        "# 문자열이란?\n",
        "- 문자들이 열거(나열) 되어 있으면 문자열(str)\n",
        "- 열거가 되어 있다? 연속되어 있다. 순서가 있다.\n",
        "  - Sequence 시퀀스 라고 한다!\n",
        "- 여러 개의 문자를 순서대로 나열한 것\n",
        "- 순서가 있다? = 순번 = index\n",
        "- 문자열은 문자의 시퀀스"
      ],
      "metadata": {
        "id": "axtf3KfWcgMz"
      }
    },
    {
      "cell_type": "code",
      "source": [
        "name1 = \"minho1\"\n",
        "name2 = \"minho2\""
      ],
      "metadata": {
        "id": "ms41Ytf8eIKO"
      },
      "execution_count": null,
      "outputs": []
    },
    {
      "cell_type": "markdown",
      "source": [
        "## 이스케이프 문자\n"
      ],
      "metadata": {
        "id": "3Rh5wzsIeNcx"
      }
    },
    {
      "cell_type": "code",
      "source": [
        "# 이스케이프 문자는 백슬러시(\\)를 사용하는 특수한 문자\n",
        "text = \"제 이름은 \\\"소민호\\\"입니다.\" # \\없으면 에러뜸\n",
        "print(text)"
      ],
      "metadata": {
        "colab": {
          "base_uri": "https://localhost:8080/"
        },
        "id": "uRBbldvfedNk",
        "outputId": "fe4228fa-46a2-445a-82ef-75701f00ee8f"
      },
      "execution_count": null,
      "outputs": [
        {
          "output_type": "stream",
          "name": "stdout",
          "text": [
            "제 이름은 \"소민호\"입니다.\n"
          ]
        }
      ]
    },
    {
      "cell_type": "code",
      "source": [
        "# 개행을 위한 이스케이프 문자 (\\n)\n",
        "text = \"안녕하세요. \\n반갑습니다.\"\n",
        "print(text)"
      ],
      "metadata": {
        "colab": {
          "base_uri": "https://localhost:8080/"
        },
        "id": "RW9mV1Kgez-E",
        "outputId": "9507a1aa-e377-4315-be82-fa9515b5ef4b"
      },
      "execution_count": null,
      "outputs": [
        {
          "output_type": "stream",
          "name": "stdout",
          "text": [
            "안녕하세요. \n",
            "반갑습니다.\n"
          ]
        }
      ]
    },
    {
      "cell_type": "code",
      "source": [
        "# 탭을 위한 이스케이프 문자 (\\t)\n",
        "text = \"안녕하세요. \\t\\t\\t반갑습니다.\"\n",
        "print(text)"
      ],
      "metadata": {
        "colab": {
          "base_uri": "https://localhost:8080/"
        },
        "id": "hBMhtNewe91r",
        "outputId": "6053c19a-7d0d-44a3-e88e-891bcf17ac73"
      },
      "execution_count": null,
      "outputs": [
        {
          "output_type": "stream",
          "name": "stdout",
          "text": [
            "안녕하세요. \t\t\t반갑습니다.\n"
          ]
        }
      ]
    },
    {
      "cell_type": "markdown",
      "source": [
        "## Doc String \"\"\"문자열\"\"\" or '''문자열'''\n",
        "- Doc String 안에 위치한 문자열은 무조건 적은대로 표현됨\n"
      ],
      "metadata": {
        "id": "HjJCK0RsfYtq"
      }
    },
    {
      "cell_type": "code",
      "source": [
        "text = '''I said, I'm Student'''\n",
        "print(text)"
      ],
      "metadata": {
        "colab": {
          "base_uri": "https://localhost:8080/"
        },
        "id": "0UkG_HSkgrMJ",
        "outputId": "08782d4e-65cc-41fe-c1d8-6b82949d9a0f"
      },
      "execution_count": null,
      "outputs": [
        {
          "output_type": "stream",
          "name": "stdout",
          "text": [
            "I said, I'm Student\n"
          ]
        }
      ]
    },
    {
      "cell_type": "code",
      "source": [
        "text = \"\"\"안녕\n",
        "하세요\n",
        "반갑\n",
        "습니다.\"\"\"\n",
        "print(text)\n",
        "text"
      ],
      "metadata": {
        "colab": {
          "base_uri": "https://localhost:8080/",
          "height": 108
        },
        "id": "3ZDoNpZShIVb",
        "outputId": "b454b7ce-bfcc-45f4-c97e-e0c8c426442f"
      },
      "execution_count": null,
      "outputs": [
        {
          "output_type": "stream",
          "name": "stdout",
          "text": [
            "안녕\n",
            "하세요\n",
            "반갑\n",
            "습니다.\n"
          ]
        },
        {
          "output_type": "execute_result",
          "data": {
            "text/plain": [
              "'안녕\\n하세요\\n반갑\\n습니다.'"
            ],
            "application/vnd.google.colaboratory.intrinsic+json": {
              "type": "string"
            }
          },
          "metadata": {},
          "execution_count": 13
        }
      ]
    },
    {
      "cell_type": "markdown",
      "source": [
        "# 시퀀스 다루기\n",
        "- 문자열은 **Sequence**\n",
        "- Sequence는 **순번이 있다**\n",
        "  - 순번을 **Offset Index**\n",
        "- 파이썬의 인덱스는 두 종류가 있다.\n",
        "  - 양수 인덱스\n",
        "    - 0부터 시작, 왼쪽 -> 오른쪽으로 한칸씩 증가\n",
        "  - 음수 인덱스\n",
        "    - -1부터 시작, 오른쪽 -> 왼쪽으로 한칸씩 감소\n",
        "- 인덱스는 무조건 **정수**임."
      ],
      "metadata": {
        "id": "lqQdC0b_hz4R"
      }
    },
    {
      "cell_type": "code",
      "source": [
        "text = \"Hello Hahkyung\"\n",
        "print(text)"
      ],
      "metadata": {
        "colab": {
          "base_uri": "https://localhost:8080/"
        },
        "id": "tNkwCCypjHqv",
        "outputId": "50c26fe3-d56d-4a2d-a9f4-fda08868ba36"
      },
      "execution_count": null,
      "outputs": [
        {
          "output_type": "stream",
          "name": "stdout",
          "text": [
            "Hello Hahkyung\n"
          ]
        }
      ]
    },
    {
      "cell_type": "code",
      "source": [
        "# 시퀀스의 크기(길이)를 잴 수 있는 함수 - len\n",
        "len(text) # text의 길이를 확인(공백을 포함)"
      ],
      "metadata": {
        "colab": {
          "base_uri": "https://localhost:8080/"
        },
        "id": "pVI6WhNejWbM",
        "outputId": "c76c709b-58f8-48de-8fa4-a8ca00a32845"
      },
      "execution_count": null,
      "outputs": [
        {
          "output_type": "execute_result",
          "data": {
            "text/plain": [
              "14"
            ]
          },
          "metadata": {},
          "execution_count": 15
        }
      ]
    },
    {
      "cell_type": "code",
      "source": [
        "# a = 10\n",
        "# len(a)\n",
        "# 나열(시퀀스)가 되어 있지 않기 때문에 에러뜸"
      ],
      "metadata": {
        "id": "UwYJwKTgjihe"
      },
      "execution_count": null,
      "outputs": []
    },
    {
      "cell_type": "code",
      "source": [
        "a = \"10\"\n",
        "len(a)"
      ],
      "metadata": {
        "colab": {
          "base_uri": "https://localhost:8080/"
        },
        "id": "BFzLyNZQjhnu",
        "outputId": "5f18f22a-7ef1-429f-d430-2b6a96b4ae42"
      },
      "execution_count": null,
      "outputs": [
        {
          "output_type": "execute_result",
          "data": {
            "text/plain": [
              "2"
            ]
          },
          "metadata": {},
          "execution_count": 17
        }
      ]
    },
    {
      "cell_type": "code",
      "source": [
        "# 시퀀스 내의 데이터를 인덱스로 접근 할 수 있다.\n",
        "# [] 안에 인덱스를 집어넣어서 접근\n",
        "# Hello Hahkyung\n",
        "\n",
        "print(text[6]) # 띄어쓰기는 포함되지 않아"
      ],
      "metadata": {
        "colab": {
          "base_uri": "https://localhost:8080/"
        },
        "id": "gubBZbVzjp8j",
        "outputId": "e0141430-a472-457e-fd2a-3e815aeb7396"
      },
      "execution_count": null,
      "outputs": [
        {
          "output_type": "stream",
          "name": "stdout",
          "text": [
            "H\n"
          ]
        }
      ]
    },
    {
      "cell_type": "code",
      "source": [
        "print(text[-1])"
      ],
      "metadata": {
        "colab": {
          "base_uri": "https://localhost:8080/"
        },
        "id": "tqtYPTZEkBjC",
        "outputId": "84aebb17-fb4d-49cf-dc57-587035d82a47"
      },
      "execution_count": null,
      "outputs": [
        {
          "output_type": "stream",
          "name": "stdout",
          "text": [
            "g\n"
          ]
        }
      ]
    },
    {
      "cell_type": "code",
      "source": [
        "print(text[-11])"
      ],
      "metadata": {
        "colab": {
          "base_uri": "https://localhost:8080/"
        },
        "id": "ySiNm8lmkD4q",
        "outputId": "73d9f425-139a-4981-955a-e6277b69ce7a"
      },
      "execution_count": null,
      "outputs": [
        {
          "output_type": "stream",
          "name": "stdout",
          "text": [
            "l\n"
          ]
        }
      ]
    },
    {
      "cell_type": "markdown",
      "source": [
        "# 슬라이싱(Slicing) ★★★★★\n",
        "- 인덱스를 사용해서 시퀀스를 잘라낸다\n",
        "- 잘라서 새로운 시퀀스를 만들어 낸다\n",
        "- [start : end : step]\n",
        "  - start ~ end - 1 부분을 step 만큼 건너 뛰면서 잘라낸다."
      ],
      "metadata": {
        "id": "-g8Z_J_TkJ0P"
      }
    },
    {
      "cell_type": "code",
      "source": [
        "text = \"안녕하세요!반갑습니다\"\n",
        "print(text)"
      ],
      "metadata": {
        "colab": {
          "base_uri": "https://localhost:8080/"
        },
        "id": "DHjxNbnAn6iZ",
        "outputId": "dfd17117-83cc-4fdf-9a0b-545a2c61e869"
      },
      "execution_count": null,
      "outputs": [
        {
          "output_type": "stream",
          "name": "stdout",
          "text": [
            "안녕하세요!반갑습니다\n"
          ]
        }
      ]
    },
    {
      "cell_type": "code",
      "source": [
        "# start -> 0, end -> 3 이면 0 ~ 2 까지 잘라낸다.\n",
        "text[0 : 3]"
      ],
      "metadata": {
        "colab": {
          "base_uri": "https://localhost:8080/",
          "height": 35
        },
        "id": "eU86aKOdoAtv",
        "outputId": "bd72d5d8-e208-4af4-f570-e68503a7163f"
      },
      "execution_count": null,
      "outputs": [
        {
          "output_type": "execute_result",
          "data": {
            "text/plain": [
              "'안녕하'"
            ],
            "application/vnd.google.colaboratory.intrinsic+json": {
              "type": "string"
            }
          },
          "metadata": {},
          "execution_count": 23
        }
      ]
    },
    {
      "cell_type": "code",
      "source": [
        "# end 인덱스의 범위를 벗어나면 자동으로 제일 마지막까지 잘라냄.\n",
        "text[3 : 500]"
      ],
      "metadata": {
        "id": "H9KYjqI5oMv7"
      },
      "execution_count": null,
      "outputs": []
    },
    {
      "cell_type": "code",
      "source": [
        "# 세요!반갑습\n",
        "text[3 : 9]"
      ],
      "metadata": {
        "colab": {
          "base_uri": "https://localhost:8080/",
          "height": 35
        },
        "id": "GNPi7ogEoSh7",
        "outputId": "70341f99-1302-43df-cc4f-3a244938e348"
      },
      "execution_count": null,
      "outputs": [
        {
          "output_type": "execute_result",
          "data": {
            "text/plain": [
              "'세요!반갑습'"
            ],
            "application/vnd.google.colaboratory.intrinsic+json": {
              "type": "string"
            }
          },
          "metadata": {},
          "execution_count": 30
        }
      ]
    },
    {
      "cell_type": "code",
      "source": [
        "text[3 : -2] # -2 - 1 = -3 이니까, 습(-3) 까지 잘린다."
      ],
      "metadata": {
        "colab": {
          "base_uri": "https://localhost:8080/",
          "height": 35
        },
        "id": "Xte4JHeAoiNp",
        "outputId": "263ecc33-bfde-43c8-9bd7-5bbab7d8d597"
      },
      "execution_count": null,
      "outputs": [
        {
          "output_type": "execute_result",
          "data": {
            "text/plain": [
              "'세요!반갑습'"
            ],
            "application/vnd.google.colaboratory.intrinsic+json": {
              "type": "string"
            }
          },
          "metadata": {},
          "execution_count": 29
        }
      ]
    },
    {
      "cell_type": "markdown",
      "source": [
        "- start, end, step 은 생략이 가능함\n",
        "- start 를 생략하면 자동으로 0이 들어감\n",
        "- end 를 생략하면 자동으로 시퀀스의 길이(len)이 들어감"
      ],
      "metadata": {
        "id": "_V5FBceQpEU4"
      }
    },
    {
      "cell_type": "code",
      "source": [
        "# end 를 생략한 경우\n",
        "text[3 : ] # text[3 : len(text)]"
      ],
      "metadata": {
        "colab": {
          "base_uri": "https://localhost:8080/",
          "height": 35
        },
        "id": "yJILIFubpb7y",
        "outputId": "8e5a9216-9f46-4899-b42e-7c9b40e04f2d"
      },
      "execution_count": null,
      "outputs": [
        {
          "output_type": "execute_result",
          "data": {
            "text/plain": [
              "'세요!반갑습니다'"
            ],
            "application/vnd.google.colaboratory.intrinsic+json": {
              "type": "string"
            }
          },
          "metadata": {},
          "execution_count": 31
        }
      ]
    },
    {
      "cell_type": "code",
      "source": [
        "# start 를 생략한 경우\n",
        "text[:5]"
      ],
      "metadata": {
        "colab": {
          "base_uri": "https://localhost:8080/",
          "height": 35
        },
        "id": "UkimQxefpn9m",
        "outputId": "eb5d082a-9640-49bc-c860-d18faa074c01"
      },
      "execution_count": null,
      "outputs": [
        {
          "output_type": "execute_result",
          "data": {
            "text/plain": [
              "'안녕하세요'"
            ],
            "application/vnd.google.colaboratory.intrinsic+json": {
              "type": "string"
            }
          },
          "metadata": {},
          "execution_count": 32
        }
      ]
    },
    {
      "cell_type": "code",
      "source": [
        "# text[:] 와 text 의 프린트 결과는 같음. 둘의 차이는?\n",
        "# 동명이인을 예로 생각하면 됨. 이름은 같지만 다른사람?"
      ],
      "metadata": {
        "id": "IukOXHq_prhf"
      },
      "execution_count": null,
      "outputs": []
    },
    {
      "cell_type": "code",
      "source": [
        "text[:-5]"
      ],
      "metadata": {
        "colab": {
          "base_uri": "https://localhost:8080/",
          "height": 35
        },
        "id": "OQtnVyvLps_x",
        "outputId": "04f5433c-037a-4282-ebd1-9a4ff19bcfe2"
      },
      "execution_count": null,
      "outputs": [
        {
          "output_type": "execute_result",
          "data": {
            "text/plain": [
              "'안녕하세요!'"
            ],
            "application/vnd.google.colaboratory.intrinsic+json": {
              "type": "string"
            }
          },
          "metadata": {},
          "execution_count": 35
        }
      ]
    },
    {
      "cell_type": "code",
      "source": [
        "text[-5 : -1]"
      ],
      "metadata": {
        "colab": {
          "base_uri": "https://localhost:8080/",
          "height": 35
        },
        "id": "eEvyGe5Equ81",
        "outputId": "e00833cc-6908-4d9e-9a62-fc9a44d2b749"
      },
      "execution_count": null,
      "outputs": [
        {
          "output_type": "execute_result",
          "data": {
            "text/plain": [
              "'반갑습니'"
            ],
            "application/vnd.google.colaboratory.intrinsic+json": {
              "type": "string"
            }
          },
          "metadata": {},
          "execution_count": 36
        }
      ]
    },
    {
      "cell_type": "code",
      "source": [
        "# 음수 인덱스를 사용하는 것이 양수 인덱스 활용보다 효과적인 경우\n",
        "image_file_full_name = \"my_profile_good_filtered.jpg\" # 여기서 파일 이름만 가져오고 싶어요\n",
        "image_file_full_name[:-4]"
      ],
      "metadata": {
        "colab": {
          "base_uri": "https://localhost:8080/",
          "height": 35
        },
        "id": "fK6AlkveqzqC",
        "outputId": "e8774df0-517c-4749-8970-87f438b25282"
      },
      "execution_count": null,
      "outputs": [
        {
          "output_type": "execute_result",
          "data": {
            "text/plain": [
              "'my_profile_good_filtered'"
            ],
            "application/vnd.google.colaboratory.intrinsic+json": {
              "type": "string"
            }
          },
          "metadata": {},
          "execution_count": 37
        }
      ]
    },
    {
      "cell_type": "markdown",
      "source": [
        "### step\n",
        "- 지정한 숫자만큼 건너 뛰면서 슬라이싱\n",
        "- step을 생략하면 기본적으로 1이 주어진다.\n",
        "- 부호(양수, 음수)를 이용해서 방향 설정도 가능\n",
        "  - 양수: 정방향(왼쪽 -> 오른쪽)\n",
        "  - 음수: 역방향(오른쪽 -> 왼쪽)\n",
        "  "
      ],
      "metadata": {
        "id": "MU62C0XtrhGq"
      }
    },
    {
      "cell_type": "code",
      "source": [
        "# 안녕하세요!반갑습니다\n",
        "text[::2]"
      ],
      "metadata": {
        "colab": {
          "base_uri": "https://localhost:8080/",
          "height": 35
        },
        "id": "A5piZ3LcsCiB",
        "outputId": "57d3fb21-2107-491f-c92c-3f850caa61e2"
      },
      "execution_count": null,
      "outputs": [
        {
          "output_type": "execute_result",
          "data": {
            "text/plain": [
              "'안하요반습다'"
            ],
            "application/vnd.google.colaboratory.intrinsic+json": {
              "type": "string"
            }
          },
          "metadata": {},
          "execution_count": 38
        }
      ]
    },
    {
      "cell_type": "code",
      "source": [
        "text[::3]"
      ],
      "metadata": {
        "colab": {
          "base_uri": "https://localhost:8080/",
          "height": 35
        },
        "id": "Bju_W3hwsFbj",
        "outputId": "1c5b34b9-db73-4f81-83a2-e38f7c2ad088"
      },
      "execution_count": null,
      "outputs": [
        {
          "output_type": "execute_result",
          "data": {
            "text/plain": [
              "'안세반니'"
            ],
            "application/vnd.google.colaboratory.intrinsic+json": {
              "type": "string"
            }
          },
          "metadata": {},
          "execution_count": 39
        }
      ]
    },
    {
      "cell_type": "code",
      "source": [
        "text[3:8:2]\n",
        "#세요!반갑, 세!갑"
      ],
      "metadata": {
        "colab": {
          "base_uri": "https://localhost:8080/",
          "height": 35
        },
        "id": "dXo8bHQfsah8",
        "outputId": "3115b956-6ede-4b48-eda2-e6da84a87504"
      },
      "execution_count": null,
      "outputs": [
        {
          "output_type": "execute_result",
          "data": {
            "text/plain": [
              "'세!갑'"
            ],
            "application/vnd.google.colaboratory.intrinsic+json": {
              "type": "string"
            }
          },
          "metadata": {},
          "execution_count": 40
        }
      ]
    },
    {
      "cell_type": "code",
      "source": [
        "text[::-1] # 문자열 역으로 재정렬"
      ],
      "metadata": {
        "colab": {
          "base_uri": "https://localhost:8080/",
          "height": 35
        },
        "id": "yNRGwUppsu-9",
        "outputId": "34bcc6df-c7a0-4971-e67b-8d0a915e8f95"
      },
      "execution_count": null,
      "outputs": [
        {
          "output_type": "execute_result",
          "data": {
            "text/plain": [
              "'다니습갑반!요세하녕안'"
            ],
            "application/vnd.google.colaboratory.intrinsic+json": {
              "type": "string"
            }
          },
          "metadata": {},
          "execution_count": 41
        }
      ]
    },
    {
      "cell_type": "code",
      "source": [
        "text[::-2] # 음수(-) 에서 일단 역정렬하고 2개씩"
      ],
      "metadata": {
        "colab": {
          "base_uri": "https://localhost:8080/",
          "height": 35
        },
        "id": "1TWnxbDCtCy5",
        "outputId": "47535cf8-f430-4d98-86dc-836130f2d77b"
      },
      "execution_count": null,
      "outputs": [
        {
          "output_type": "execute_result",
          "data": {
            "text/plain": [
              "'다습반요하안'"
            ],
            "application/vnd.google.colaboratory.intrinsic+json": {
              "type": "string"
            }
          },
          "metadata": {},
          "execution_count": 42
        }
      ]
    },
    {
      "cell_type": "code",
      "source": [
        "text[8:3:-2] # start, end 보다도 음수 역정렬이 젤 먼저인가봐\n",
        "# 여기서 단순히 문자열만이 아니고 index도 뒤집힘?"
      ],
      "metadata": {
        "colab": {
          "base_uri": "https://localhost:8080/",
          "height": 35
        },
        "id": "d6SoPosltJC9",
        "outputId": "7c455e6f-530d-4f65-c5fa-caeab8004ef0"
      },
      "execution_count": null,
      "outputs": [
        {
          "output_type": "execute_result",
          "data": {
            "text/plain": [
              "'습반요'"
            ],
            "application/vnd.google.colaboratory.intrinsic+json": {
              "type": "string"
            }
          },
          "metadata": {},
          "execution_count": 43
        }
      ]
    },
    {
      "cell_type": "code",
      "source": [
        "text[-3:-8:-2]"
      ],
      "metadata": {
        "colab": {
          "base_uri": "https://localhost:8080/",
          "height": 35
        },
        "id": "ZcAAluyKtem9",
        "outputId": "8609fdc3-37c9-4a03-e99b-ae71dd304c5d"
      },
      "execution_count": null,
      "outputs": [
        {
          "output_type": "execute_result",
          "data": {
            "text/plain": [
              "'습반요'"
            ],
            "application/vnd.google.colaboratory.intrinsic+json": {
              "type": "string"
            }
          },
          "metadata": {},
          "execution_count": 44
        }
      ]
    },
    {
      "cell_type": "code",
      "source": [
        "# -1 -2 -3 -4 -5 -6 -7 -8 -9 -10 -11\n",
        "# 다 니 습 갑 반  ! 요 세 하  녕  안\n",
        "#  1  2  3  4  5  6  7  8  9  10  11"
      ],
      "metadata": {
        "id": "P6CEOtGpuEKV"
      },
      "execution_count": null,
      "outputs": []
    },
    {
      "cell_type": "markdown",
      "source": [
        "# 문자열 함수\n",
        "파이썬에는 문자열을 다룰 수 있는 여러 기능(함수)를 제공함."
      ],
      "metadata": {
        "id": "nHVwGUJg7xBH"
      }
    },
    {
      "cell_type": "code",
      "source": [
        "text1 = \"hello\"\n",
        "text2 = \"world\""
      ],
      "metadata": {
        "id": "yhB_lycH75_w"
      },
      "execution_count": null,
      "outputs": []
    },
    {
      "cell_type": "markdown",
      "source": [
        "### 문자열 이어 붙이기"
      ],
      "metadata": {
        "id": "G7-f4FL-8BcE"
      }
    },
    {
      "cell_type": "code",
      "source": [
        "print(text1 + text2)"
      ],
      "metadata": {
        "colab": {
          "base_uri": "https://localhost:8080/"
        },
        "id": "rk0JB5X38ELu",
        "outputId": "f88cd068-7620-4718-ef6d-d20e0dc46a53"
      },
      "execution_count": null,
      "outputs": [
        {
          "output_type": "stream",
          "name": "stdout",
          "text": [
            "helloworld\n"
          ]
        }
      ]
    },
    {
      "cell_type": "code",
      "source": [
        "# 문자열 끼리만 이어 붙일 수 있음\n",
        "# text1 + 10 은 안됨. 에러."
      ],
      "metadata": {
        "id": "mxdLRpHN8GFw"
      },
      "execution_count": null,
      "outputs": []
    },
    {
      "cell_type": "code",
      "source": [
        "text = \"내 나이는 : \"\n",
        "age = 20\n",
        "# 이 두 변수를 이어붙이기 위해서는?"
      ],
      "metadata": {
        "id": "dqGxoSjZ8Rim"
      },
      "execution_count": null,
      "outputs": []
    },
    {
      "cell_type": "code",
      "source": [
        "# 정수를 문자열 형식으로 자료형을 바꿔줘야 함.\n",
        "# 자료형을 바꾸는 행위를 Type Casting.\n",
        "text + str(age)"
      ],
      "metadata": {
        "colab": {
          "base_uri": "https://localhost:8080/",
          "height": 35
        },
        "id": "2eQIGKAw8VGM",
        "outputId": "370198a6-d795-4530-8174-6c011f5a5aa4"
      },
      "execution_count": null,
      "outputs": [
        {
          "output_type": "execute_result",
          "data": {
            "text/plain": [
              "'내 나이는 : 20'"
            ],
            "application/vnd.google.colaboratory.intrinsic+json": {
              "type": "string"
            }
          },
          "metadata": {},
          "execution_count": 53
        }
      ]
    },
    {
      "cell_type": "markdown",
      "source": [
        "### 문자열 반복하기"
      ],
      "metadata": {
        "id": "Gt8mCw4Z82UL"
      }
    },
    {
      "cell_type": "code",
      "source": [
        "# 변수 text1에 들어있는 문자열을 10번 반복한다.\n",
        "text1 * 10\n",
        "# text1 * 0.8 불가능! 에러.\n",
        "# 횟수라하면은 무조건 '정수'"
      ],
      "metadata": {
        "colab": {
          "base_uri": "https://localhost:8080/",
          "height": 35
        },
        "id": "Rp94os9D85WA",
        "outputId": "6b6a171d-b918-44e6-ff7b-2133c7b15a97"
      },
      "execution_count": null,
      "outputs": [
        {
          "output_type": "execute_result",
          "data": {
            "text/plain": [
              "'hellohellohellohellohellohellohellohellohellohello'"
            ],
            "application/vnd.google.colaboratory.intrinsic+json": {
              "type": "string"
            }
          },
          "metadata": {},
          "execution_count": 55
        }
      ]
    },
    {
      "cell_type": "markdown",
      "source": [
        "## 대/소문자화"
      ],
      "metadata": {
        "id": "L2o9CL7X9AuV"
      }
    },
    {
      "cell_type": "code",
      "source": [
        "# 모든 문자를 대문자로 만들기 - upper()\n",
        "text2.upper()"
      ],
      "metadata": {
        "colab": {
          "base_uri": "https://localhost:8080/",
          "height": 35
        },
        "id": "jxwtumFv9QeX",
        "outputId": "523ba89c-c0bc-4371-a929-2a25d9332798"
      },
      "execution_count": null,
      "outputs": [
        {
          "output_type": "execute_result",
          "data": {
            "text/plain": [
              "'WORLD'"
            ],
            "application/vnd.google.colaboratory.intrinsic+json": {
              "type": "string"
            }
          },
          "metadata": {},
          "execution_count": 56
        }
      ]
    },
    {
      "cell_type": "code",
      "source": [
        "# 모든 문자를 소문자로 만들기 - lower()\n",
        "\"HELLO!!\".lower()"
      ],
      "metadata": {
        "colab": {
          "base_uri": "https://localhost:8080/",
          "height": 35
        },
        "id": "6seg73gj9YVh",
        "outputId": "c82b3029-3b86-4dee-e0d5-bffbaf71af40"
      },
      "execution_count": null,
      "outputs": [
        {
          "output_type": "execute_result",
          "data": {
            "text/plain": [
              "'hello!!'"
            ],
            "application/vnd.google.colaboratory.intrinsic+json": {
              "type": "string"
            }
          },
          "metadata": {},
          "execution_count": 58
        }
      ]
    },
    {
      "cell_type": "markdown",
      "source": [
        "텍스트 데이터(자연어) 처리나 분석을 할 때 자주 사용된다.\n",
        "\n",
        "```\n",
        "1. Hello\n",
        "2. HEllo\n",
        "3. HeLLo\n",
        "4. Bye\n",
        "5. byE\n",
        "\n",
        "사람의 인식: 헬로우가 3번, 바이가 2번 등장 했구나!\n",
        "컴퓨터의 인식 : Hello 1번, HEllo 1번, HeLLo 1번, Bye 1번, byE 1번\n",
        "\n",
        "때문에 대소문자로 인해 컴퓨터가 다 다른단어로 인식하지 않기 위해 텍스트 데이터를 대문자나 소문자로 통일함. 대부분 소문자로 통일.\n",
        "```\n",
        "\n"
      ],
      "metadata": {
        "id": "4yZ6hBLG9hE6"
      }
    },
    {
      "cell_type": "markdown",
      "source": [
        "## 문자열 치환\n",
        "치환 : A를 B로 바꾸는 것(replace - 중요!)"
      ],
      "metadata": {
        "id": "GhAHKrSq-stt"
      }
    },
    {
      "cell_type": "code",
      "source": [
        "text1.replace('h', 'j')"
      ],
      "metadata": {
        "colab": {
          "base_uri": "https://localhost:8080/",
          "height": 35
        },
        "id": "xI-8TTZ8-5ug",
        "outputId": "730021fd-d1fb-4c26-9837-3ac11dc5458e"
      },
      "execution_count": null,
      "outputs": [
        {
          "output_type": "execute_result",
          "data": {
            "text/plain": [
              "'jello'"
            ],
            "application/vnd.google.colaboratory.intrinsic+json": {
              "type": "string"
            }
          },
          "metadata": {},
          "execution_count": 59
        }
      ]
    },
    {
      "cell_type": "code",
      "source": [
        "text1.replace('he', 'jo') # 여러개도 가능"
      ],
      "metadata": {
        "colab": {
          "base_uri": "https://localhost:8080/",
          "height": 35
        },
        "id": "wsIe9WFy_BXq",
        "outputId": "cd23dca4-4168-463f-f035-4ca8f9559411"
      },
      "execution_count": null,
      "outputs": [
        {
          "output_type": "execute_result",
          "data": {
            "text/plain": [
              "'jollo'"
            ],
            "application/vnd.google.colaboratory.intrinsic+json": {
              "type": "string"
            }
          },
          "metadata": {},
          "execution_count": 60
        }
      ]
    },
    {
      "cell_type": "markdown",
      "source": [
        "## 문자열 포매팅\n",
        "- 템플릿 만들기\n",
        "- 문자열 내의 특정한 값을 변수로부터 동적으로 문자열을 생성"
      ],
      "metadata": {
        "id": "jlJO4WUL_Iiy"
      }
    },
    {
      "cell_type": "code",
      "source": [
        "name = \"소민호\"\n",
        "age = 37\n",
        "\n",
        "# 제 이름은 소민호입니다. 나이는 37살 입니다. <- 을 출력해보자.\n",
        "text = \"제 이름은 \" + name + \"입니다. 나이는 \" + str(age) + \"살 입니다.\"\n",
        "print(text)\n",
        "\n",
        "# 이 과정은 정적이다."
      ],
      "metadata": {
        "colab": {
          "base_uri": "https://localhost:8080/"
        },
        "id": "lKiVOZNe_aUz",
        "outputId": "51267f24-9dde-4c2d-d65a-86b74cc7eae9"
      },
      "execution_count": 32,
      "outputs": [
        {
          "output_type": "stream",
          "name": "stdout",
          "text": [
            "제 이름은 소민호입니다. 나이는 37살 입니다.\n"
          ]
        }
      ]
    },
    {
      "cell_type": "code",
      "source": [
        "name = \"김철수\"\n",
        "age = 20\n",
        "\n",
        "# 제 이름은 소민호입니다. 나이는 37살 입니다. <- 을 출력해보자.\n",
        "text = \"제 이름은 \" + name + \"입니다. 나이는 \" + str(age) + \"살 입니다.\"\n",
        "print(text)\n",
        "\n",
        "# 이 과정은 정적이다."
      ],
      "metadata": {
        "colab": {
          "base_uri": "https://localhost:8080/"
        },
        "id": "yy-kdvvIAVhK",
        "outputId": "5d03467e-06fa-4b37-96e4-1dd2e6ecea1b"
      },
      "execution_count": 33,
      "outputs": [
        {
          "output_type": "stream",
          "name": "stdout",
          "text": [
            "제 이름은 김철수입니다. 나이는 20살 입니다.\n"
          ]
        }
      ]
    },
    {
      "cell_type": "code",
      "source": [
        "# 문자열 포매팅: 문자열의 형식을 미리 지정해 놓고, 필요할 때 특정 부분을 변경\n",
        "text = \"제 이름은 {}입니다. 나이는 {}입니다.\"\n",
        "print(text)"
      ],
      "metadata": {
        "colab": {
          "base_uri": "https://localhost:8080/"
        },
        "id": "_T3dFZ-YBAvL",
        "outputId": "04ed49d4-931b-47df-d7ad-515ab60c0942"
      },
      "execution_count": 30,
      "outputs": [
        {
          "output_type": "stream",
          "name": "stdout",
          "text": [
            "제 이름은 {}입니다. 나이는 {}입니다.\n"
          ]
        }
      ]
    },
    {
      "cell_type": "code",
      "source": [
        "text.format(name, age)"
      ],
      "metadata": {
        "colab": {
          "base_uri": "https://localhost:8080/",
          "height": 35
        },
        "id": "EtOm6SY5BVW6",
        "outputId": "1f3fcf5c-b7f5-4c7c-fab7-2bf8c8edcba9"
      },
      "execution_count": 34,
      "outputs": [
        {
          "output_type": "execute_result",
          "data": {
            "text/plain": [
              "'제 이름은 김철수입니다. 나이는 20살 입니다.'"
            ],
            "application/vnd.google.colaboratory.intrinsic+json": {
              "type": "string"
            }
          },
          "metadata": {},
          "execution_count": 34
        }
      ]
    },
    {
      "cell_type": "code",
      "source": [
        "text.format(\"민수\", 19)"
      ],
      "metadata": {
        "colab": {
          "base_uri": "https://localhost:8080/",
          "height": 35
        },
        "id": "mxJViDNwB2U6",
        "outputId": "3729837b-5f54-46be-9a18-ca79ec39eebb"
      },
      "execution_count": 35,
      "outputs": [
        {
          "output_type": "execute_result",
          "data": {
            "text/plain": [
              "'제 이름은 김철수입니다. 나이는 20살 입니다.'"
            ],
            "application/vnd.google.colaboratory.intrinsic+json": {
              "type": "string"
            }
          },
          "metadata": {},
          "execution_count": 35
        }
      ]
    },
    {
      "cell_type": "code",
      "source": [
        "text = f\"제 이름은 {name}입니다. 나이는 {age}입니다.\"\n",
        "text\n",
        "# 포매팅을 사용하니 type이 무관해짐 = 타입캐스팅을 할 필요가 없다는 장점"
      ],
      "metadata": {
        "colab": {
          "base_uri": "https://localhost:8080/",
          "height": 35
        },
        "id": "hu-p6zMkBfo-",
        "outputId": "ddb52290-65af-4e75-9fa2-6a7b19b9b71b"
      },
      "execution_count": null,
      "outputs": [
        {
          "output_type": "execute_result",
          "data": {
            "text/plain": [
              "'제 이름은 김철수입니다. 나이는 20입니다.'"
            ],
            "application/vnd.google.colaboratory.intrinsic+json": {
              "type": "string"
            }
          },
          "metadata": {},
          "execution_count": 75
        }
      ]
    },
    {
      "cell_type": "markdown",
      "source": [
        "## 문자열 분리(split)\n",
        "- slice: 특정 부분을 인덱스를 활용해 잘라내기\n",
        "- split: 특정 구분자를 이용해서 문자열을 쪼개기"
      ],
      "metadata": {
        "id": "6TJy9bqfCCYD"
      }
    },
    {
      "cell_type": "code",
      "source": [
        "text = \"이제는 많이 추워진 것 같습니다\"\n",
        "text.split() # 공백을 기준으로 문자열을 분리"
      ],
      "metadata": {
        "colab": {
          "base_uri": "https://localhost:8080/"
        },
        "id": "MES9jFxOCgUr",
        "outputId": "7c430483-0272-4eb6-df11-cc926e758396"
      },
      "execution_count": null,
      "outputs": [
        {
          "output_type": "execute_result",
          "data": {
            "text/plain": [
              "['이제는', '많이', '추워진', '것', '같습니다']"
            ]
          },
          "metadata": {},
          "execution_count": 77
        }
      ]
    },
    {
      "cell_type": "code",
      "source": [
        "text = \"#8시간#하루종일#파이썬#더워요#어렵다\"\n",
        "text.split(\"#\")"
      ],
      "metadata": {
        "colab": {
          "base_uri": "https://localhost:8080/"
        },
        "id": "rRDJMxgWCkR5",
        "outputId": "0c7883ee-b0eb-4838-c0de-08695ab08148"
      },
      "execution_count": null,
      "outputs": [
        {
          "output_type": "execute_result",
          "data": {
            "text/plain": [
              "['', '8시간', '하루종일', '파이썬', '더워요', '어렵다']"
            ]
          },
          "metadata": {},
          "execution_count": 78
        }
      ]
    },
    {
      "cell_type": "code",
      "source": [
        "text[1:].split(\"#\") # 위 결과값에서 맨앞 공백을 없애보기"
      ],
      "metadata": {
        "colab": {
          "base_uri": "https://localhost:8080/"
        },
        "id": "6LLqJ9jYC5ac",
        "outputId": "cd03fae5-bee0-47a0-ee57-60aa712e96ea"
      },
      "execution_count": null,
      "outputs": [
        {
          "output_type": "execute_result",
          "data": {
            "text/plain": [
              "['8시간', '하루종일', '파이썬', '더워요', '어렵다']"
            ]
          },
          "metadata": {},
          "execution_count": 79
        }
      ]
    },
    {
      "cell_type": "code",
      "source": [
        "# 블로그, SNS등의 자연어를 웹에서 수집하면 띄어쓰기가 많은 문제가 된다.\n",
        "text = \"     느그     서장   남천동  살제    \" # 이런 경우가 많음\n",
        "text.split() # 이런경우엔 (\"\") 을 쓰지 말고 그냥 () 을 사용"
      ],
      "metadata": {
        "colab": {
          "base_uri": "https://localhost:8080/"
        },
        "id": "VbcT_ruaDIQ0",
        "outputId": "03526f0f-646c-417c-ae79-3f84afe3c480"
      },
      "execution_count": null,
      "outputs": [
        {
          "output_type": "execute_result",
          "data": {
            "text/plain": [
              "['느그', '서장', '남천동', '살제']"
            ]
          },
          "metadata": {},
          "execution_count": 80
        }
      ]
    },
    {
      "cell_type": "markdown",
      "source": [
        "좌우 공백 제거"
      ],
      "metadata": {
        "id": "qAA9uHNlD8uG"
      }
    },
    {
      "cell_type": "code",
      "source": [
        "text = \"\\n\\n\\nHello!!!\\n\\n\\n\"\n",
        "print(text)"
      ],
      "metadata": {
        "colab": {
          "base_uri": "https://localhost:8080/"
        },
        "id": "gTzMf_IuD_qQ",
        "outputId": "15df867c-148d-4bff-f92f-ad0201e4532b"
      },
      "execution_count": null,
      "outputs": [
        {
          "output_type": "stream",
          "name": "stdout",
          "text": [
            "\n",
            "\n",
            "\n",
            "Hello!!!\n",
            "\n",
            "\n",
            "\n"
          ]
        }
      ]
    },
    {
      "cell_type": "code",
      "source": [
        "text.strip()"
      ],
      "metadata": {
        "colab": {
          "base_uri": "https://localhost:8080/",
          "height": 35
        },
        "id": "PquEjqpHEF5E",
        "outputId": "46387194-7497-459d-edac-b0671795ee29"
      },
      "execution_count": null,
      "outputs": [
        {
          "output_type": "execute_result",
          "data": {
            "text/plain": [
              "'Hello!!!'"
            ],
            "application/vnd.google.colaboratory.intrinsic+json": {
              "type": "string"
            }
          },
          "metadata": {},
          "execution_count": 82
        }
      ]
    },
    {
      "cell_type": "markdown",
      "source": [
        "## 문자열 합치기\n",
        "- `split`의 반대 개념\n",
        "- 특정 문자열을 기준으로 리스트에 들어있는 문자열을 합쳐주는 역할"
      ],
      "metadata": {
        "id": "qruZPKOlEKdy"
      }
    },
    {
      "cell_type": "code",
      "source": [
        "example = [\"Hello\", \"Bye\", \"World\", \"Seeya\"]"
      ],
      "metadata": {
        "id": "R7ayWQ2pEh4m"
      },
      "execution_count": null,
      "outputs": []
    },
    {
      "cell_type": "code",
      "source": [
        "\"#\".join(example)"
      ],
      "metadata": {
        "colab": {
          "base_uri": "https://localhost:8080/",
          "height": 35
        },
        "id": "B_2ge5b2Evm7",
        "outputId": "52402ceb-97b7-443d-9222-86220c813c32"
      },
      "execution_count": null,
      "outputs": [
        {
          "output_type": "execute_result",
          "data": {
            "text/plain": [
              "'Hello#Bye#World#Seeya'"
            ],
            "application/vnd.google.colaboratory.intrinsic+json": {
              "type": "string"
            }
          },
          "metadata": {},
          "execution_count": 84
        }
      ]
    },
    {
      "cell_type": "markdown",
      "source": [
        "문제"
      ],
      "metadata": {
        "id": "En7RLnF5E1Wc"
      }
    },
    {
      "cell_type": "code",
      "source": [
        "tags = \"#오늘 #배고프다 #저녁에 #꼼장어 #먹어 야지\"\n",
        "# -> ['오늘', '배고프다', '저녁에', '꼼장어', '먹어야지'] 로 만들라는건가?\n",
        "# tags[1:].split(\"#\") <- 시도한 것\n",
        "tags[1:].replace(\" \", \"\").split(\"#\")\n",
        "\n",
        "# 스스로 문제를 만들고 풀어보자."
      ],
      "metadata": {
        "colab": {
          "base_uri": "https://localhost:8080/"
        },
        "id": "5gLs6zhUFLhh",
        "outputId": "a5d7bcf2-a6da-4e39-e6ef-46faeda36dee"
      },
      "execution_count": 1,
      "outputs": [
        {
          "output_type": "execute_result",
          "data": {
            "text/plain": [
              "['오늘', '배고프다', '저녁에', '꼼장어', '먹어야지']"
            ]
          },
          "metadata": {},
          "execution_count": 1
        }
      ]
    },
    {
      "cell_type": "markdown",
      "source": [
        "# 형 변환(Type Casting) ⭐⭐\n",
        "- 데이터의 자료형을 바꾸는 것\n",
        "-----\n",
        ":\n",
        "* int : 정수\n",
        "* float : 실수\n",
        "* str : 문자열\n",
        "* bool : 논리"
      ],
      "metadata": {
        "id": "P7Nyq1SpeuPQ"
      }
    },
    {
      "cell_type": "code",
      "source": [
        "a = 10 # 정수\n",
        "float(a)"
      ],
      "metadata": {
        "colab": {
          "base_uri": "https://localhost:8080/"
        },
        "id": "xJ2ALKIRfA3w",
        "outputId": "7f576e7a-39f8-4c93-f55a-05668d84b393"
      },
      "execution_count": 2,
      "outputs": [
        {
          "output_type": "execute_result",
          "data": {
            "text/plain": [
              "10.0"
            ]
          },
          "metadata": {},
          "execution_count": 2
        }
      ]
    },
    {
      "cell_type": "code",
      "source": [
        "str(a)"
      ],
      "metadata": {
        "colab": {
          "base_uri": "https://localhost:8080/",
          "height": 35
        },
        "id": "grsPT9x_fFUw",
        "outputId": "e3c42903-8a79-4fbf-f2c9-082d2e47eff3"
      },
      "execution_count": 3,
      "outputs": [
        {
          "output_type": "execute_result",
          "data": {
            "text/plain": [
              "'10'"
            ],
            "application/vnd.google.colaboratory.intrinsic+json": {
              "type": "string"
            }
          },
          "metadata": {},
          "execution_count": 3
        }
      ]
    },
    {
      "cell_type": "code",
      "source": [
        "bool(a)"
      ],
      "metadata": {
        "colab": {
          "base_uri": "https://localhost:8080/"
        },
        "id": "hlKJhq22fHPK",
        "outputId": "120ffee7-7274-4205-b050-f19f9e3b8db2"
      },
      "execution_count": 4,
      "outputs": [
        {
          "output_type": "execute_result",
          "data": {
            "text/plain": [
              "True"
            ]
          },
          "metadata": {},
          "execution_count": 4
        }
      ]
    },
    {
      "cell_type": "code",
      "source": [
        "bool(0) # bool이 참거짓을 판별하기도 하지만 값이 존재하냐 안하냐도 true false로 판단한다. 중요~"
      ],
      "metadata": {
        "colab": {
          "base_uri": "https://localhost:8080/"
        },
        "id": "NnIwBFcDfI9U",
        "outputId": "b336dafb-fd81-426f-b171-2cff29f8181b"
      },
      "execution_count": 6,
      "outputs": [
        {
          "output_type": "execute_result",
          "data": {
            "text/plain": [
              "False"
            ]
          },
          "metadata": {},
          "execution_count": 6
        }
      ]
    },
    {
      "cell_type": "code",
      "source": [
        "bool('aa')"
      ],
      "metadata": {
        "colab": {
          "base_uri": "https://localhost:8080/"
        },
        "id": "z3FL0xUyfc5Y",
        "outputId": "8de99da1-e1f6-4302-a8ad-22e20f9c9d3d"
      },
      "execution_count": 7,
      "outputs": [
        {
          "output_type": "execute_result",
          "data": {
            "text/plain": [
              "True"
            ]
          },
          "metadata": {},
          "execution_count": 7
        }
      ]
    },
    {
      "cell_type": "code",
      "source": [
        "bool(' ')"
      ],
      "metadata": {
        "colab": {
          "base_uri": "https://localhost:8080/"
        },
        "id": "QPzSsxDzfpc0",
        "outputId": "f22bc5d7-ce37-4af5-a28e-6fca78f76b3f"
      },
      "execution_count": 8,
      "outputs": [
        {
          "output_type": "execute_result",
          "data": {
            "text/plain": [
              "True"
            ]
          },
          "metadata": {},
          "execution_count": 8
        }
      ]
    },
    {
      "cell_type": "code",
      "source": [
        "bool(0.0)"
      ],
      "metadata": {
        "colab": {
          "base_uri": "https://localhost:8080/"
        },
        "id": "6Xoe9cg7frir",
        "outputId": "8ea4b556-3e5b-4436-de7e-b04c391c6c30"
      },
      "execution_count": 9,
      "outputs": [
        {
          "output_type": "execute_result",
          "data": {
            "text/plain": [
              "False"
            ]
          },
          "metadata": {},
          "execution_count": 9
        }
      ]
    },
    {
      "cell_type": "code",
      "source": [
        "# 실수를 정수로\n",
        "a = 10.123123\n",
        "int(a)"
      ],
      "metadata": {
        "colab": {
          "base_uri": "https://localhost:8080/"
        },
        "id": "vIWYFSszfu9I",
        "outputId": "f71d46df-8148-400b-fb21-44d2a1efce03"
      },
      "execution_count": 10,
      "outputs": [
        {
          "output_type": "execute_result",
          "data": {
            "text/plain": [
              "10"
            ]
          },
          "metadata": {},
          "execution_count": 10
        }
      ]
    },
    {
      "cell_type": "code",
      "source": [
        "int(True)"
      ],
      "metadata": {
        "colab": {
          "base_uri": "https://localhost:8080/"
        },
        "id": "ZekObXjigZHM",
        "outputId": "b72e7a90-8338-407f-9cc4-a346c2bf907a"
      },
      "execution_count": 11,
      "outputs": [
        {
          "output_type": "execute_result",
          "data": {
            "text/plain": [
              "1"
            ]
          },
          "metadata": {},
          "execution_count": 11
        }
      ]
    },
    {
      "cell_type": "code",
      "source": [
        "int(False)"
      ],
      "metadata": {
        "colab": {
          "base_uri": "https://localhost:8080/"
        },
        "id": "eEngfYINgbla",
        "outputId": "88a6353b-a040-4fa9-b617-3006b14d7712"
      },
      "execution_count": 12,
      "outputs": [
        {
          "output_type": "execute_result",
          "data": {
            "text/plain": [
              "0"
            ]
          },
          "metadata": {},
          "execution_count": 12
        }
      ]
    },
    {
      "cell_type": "code",
      "source": [
        "True + True"
      ],
      "metadata": {
        "colab": {
          "base_uri": "https://localhost:8080/"
        },
        "id": "QER6iCxMgd-c",
        "outputId": "6ec98ec7-57c5-4dd7-c571-25dca3dea54b"
      },
      "execution_count": 13,
      "outputs": [
        {
          "output_type": "execute_result",
          "data": {
            "text/plain": [
              "2"
            ]
          },
          "metadata": {},
          "execution_count": 13
        }
      ]
    },
    {
      "cell_type": "markdown",
      "source": [
        "# 파싱(Parsing) ⭐⭐⭐⭐⭐⭐\n",
        "- 문자열을 다른 자료형으로 바꾸는 과정\n",
        "\n",
        "- 캐스팅, 파싱 두가지가 있는데 파싱이 젤 중요하다."
      ],
      "metadata": {
        "id": "oKjz1EQughDv"
      }
    },
    {
      "cell_type": "code",
      "source": [
        "movie1 = \"9.49\"\n",
        "movie2 = \"    9.49\"\n",
        "movie3 = \"9.34점\""
      ],
      "metadata": {
        "id": "AWGeDsuyhMCH"
      },
      "execution_count": 15,
      "outputs": []
    },
    {
      "cell_type": "code",
      "source": [
        "float(movie1)"
      ],
      "metadata": {
        "colab": {
          "base_uri": "https://localhost:8080/"
        },
        "id": "JdhiQAiAhYxR",
        "outputId": "b77b813e-2973-41f8-c763-99df883d2d2d"
      },
      "execution_count": 17,
      "outputs": [
        {
          "output_type": "execute_result",
          "data": {
            "text/plain": [
              "9.49"
            ]
          },
          "metadata": {},
          "execution_count": 17
        }
      ]
    },
    {
      "cell_type": "code",
      "source": [
        "# float(movie2)\n",
        "# float(\"9. 49\") 으로 작성할 경우 moive2도 9. 49도 float의 형태가 아니기 때문에 에러발생\n",
        "# float(movie3) 를 하더라도 '점' 글자때문에 같은이유로 에러발생"
      ],
      "metadata": {
        "id": "R_A_CHFbiFGk"
      },
      "execution_count": 23,
      "outputs": []
    },
    {
      "cell_type": "code",
      "source": [
        "movie_score_sum = movie1 + movie2 + movie3\n",
        "movie_score_sum"
      ],
      "metadata": {
        "colab": {
          "base_uri": "https://localhost:8080/",
          "height": 35
        },
        "id": "azurHmmsiZro",
        "outputId": "e59f22a7-812b-4dce-e237-bc3394c955b0"
      },
      "execution_count": 24,
      "outputs": [
        {
          "output_type": "execute_result",
          "data": {
            "text/plain": [
              "'9.49    9.499.34점'"
            ],
            "application/vnd.google.colaboratory.intrinsic+json": {
              "type": "string"
            }
          },
          "metadata": {},
          "execution_count": 24
        }
      ]
    },
    {
      "cell_type": "code",
      "source": [
        "movie1_socre = float(movie1)\n",
        "movie2_socre = float(movie2.strip())\n",
        "movie3_socre = float(movie3[:-1])\n",
        "\n",
        "movie_socre_avg = (movie1_socre + movie2_socre + movie3_socre) / 3\n",
        "movie_socre_avg"
      ],
      "metadata": {
        "colab": {
          "base_uri": "https://localhost:8080/"
        },
        "id": "wPbWBXTUjTIR",
        "outputId": "5e5bd136-846c-4bc7-e9f5-cb25229a0f98"
      },
      "execution_count": 25,
      "outputs": [
        {
          "output_type": "execute_result",
          "data": {
            "text/plain": [
              "9.44"
            ]
          },
          "metadata": {},
          "execution_count": 25
        }
      ]
    },
    {
      "cell_type": "code",
      "source": [
        "int(movie1) # 실수의 형태를 한 문자열이지 정수의 형태인 문자열이 아니기 때문에 에러발생."
      ],
      "metadata": {
        "colab": {
          "base_uri": "https://localhost:8080/",
          "height": 146
        },
        "id": "8NHrg5xDkIx3",
        "outputId": "fb34c479-cdd2-47ed-f33f-e5614dc27642"
      },
      "execution_count": 26,
      "outputs": [
        {
          "output_type": "error",
          "ename": "ValueError",
          "evalue": "invalid literal for int() with base 10: '9.49'",
          "traceback": [
            "\u001b[0;31m---------------------------------------------------------------------------\u001b[0m",
            "\u001b[0;31mValueError\u001b[0m                                Traceback (most recent call last)",
            "\u001b[0;32m<ipython-input-26-918bfc37642e>\u001b[0m in \u001b[0;36m<cell line: 1>\u001b[0;34m()\u001b[0m\n\u001b[0;32m----> 1\u001b[0;31m \u001b[0mint\u001b[0m\u001b[0;34m(\u001b[0m\u001b[0mmovie1\u001b[0m\u001b[0;34m)\u001b[0m\u001b[0;34m\u001b[0m\u001b[0;34m\u001b[0m\u001b[0m\n\u001b[0m",
            "\u001b[0;31mValueError\u001b[0m: invalid literal for int() with base 10: '9.49'"
          ]
        }
      ]
    },
    {
      "cell_type": "code",
      "source": [
        "int(float(movie1)) # 먼저 실수로 바꿔주고 정수로 바꿔주면 가능."
      ],
      "metadata": {
        "colab": {
          "base_uri": "https://localhost:8080/"
        },
        "id": "4IoFjT4SkYqj",
        "outputId": "6c3855f2-c7cc-4ccf-a4b7-074916143c42"
      },
      "execution_count": 27,
      "outputs": [
        {
          "output_type": "execute_result",
          "data": {
            "text/plain": [
              "9"
            ]
          },
          "metadata": {},
          "execution_count": 27
        }
      ]
    },
    {
      "cell_type": "code",
      "source": [
        "float(\"10\") # 기본적으로 실수는 정수를 포함한다?"
      ],
      "metadata": {
        "colab": {
          "base_uri": "https://localhost:8080/"
        },
        "id": "Dwkj7Tlrku8v",
        "outputId": "492557cb-063a-4282-8c3c-5d70f417bfcf"
      },
      "execution_count": 28,
      "outputs": [
        {
          "output_type": "execute_result",
          "data": {
            "text/plain": [
              "10.0"
            ]
          },
          "metadata": {},
          "execution_count": 28
        }
      ]
    }
  ]
}