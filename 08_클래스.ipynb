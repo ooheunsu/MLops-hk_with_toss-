{
  "nbformat": 4,
  "nbformat_minor": 0,
  "metadata": {
    "colab": {
      "provenance": [],
      "authorship_tag": "ABX9TyPcU6M09PMMU7pc7WBQauDq",
      "include_colab_link": true
    },
    "kernelspec": {
      "name": "python3",
      "display_name": "Python 3"
    },
    "language_info": {
      "name": "python"
    }
  },
  "cells": [
    {
      "cell_type": "markdown",
      "metadata": {
        "id": "view-in-github",
        "colab_type": "text"
      },
      "source": [
        "<a href=\"https://colab.research.google.com/github/ooheunsu/MLops-hk_with_toss-/blob/main/08_%ED%81%B4%EB%9E%98%EC%8A%A4.ipynb\" target=\"_parent\"><img src=\"https://colab.research.google.com/assets/colab-badge.svg\" alt=\"Open In Colab\"/></a>"
      ]
    },
    {
      "cell_type": "markdown",
      "source": [
        "# 클래스( Class )\n",
        "- 변수와 함수를 묶어 놓은 **개념** (like 붕어빵 틀.. 클래스를 이용해서 여러개의 객체(붕어빵)을 만들 수 있음)\n",
        "  - 데이터와 기능을 함께 **표현**\n",
        "- 현실 세상에 존재하는 모든 것들을 **표현** 한다.\n",
        "- 사용자가 정의하는 데이터 타입\n",
        "\n",
        "\n",
        "![](https://drive.google.com/uc?export=view&id=1iq2EZQO3DZMv7tbnP-gCl6LcGviNHMlT)"
      ],
      "metadata": {
        "id": "AZL6beJxZbbY"
      }
    },
    {
      "cell_type": "markdown",
      "source": [
        "## 클래스의 구조\n",
        "- 변수, 메소드(함수)\n",
        "  - 변수 : 데이터 (like 붕어빵의 팥이나 슈크림)\n",
        "  - 메소드 : 기능 (like 붕어빵을 굽는 방법)\n",
        "- `Car` 클래스를 만드려면?\n",
        "  - `Car`의 데이터 : 브랜드, 배기량, 가격, 중량, 색상 등등등....\n",
        "  - `Car`의 기능 : 에어컨 켜기, 전진, 후진, 음악 재생, 라디오 등등...\n",
        "\n",
        "\n",
        "  ![](https://drive.google.com/uc?export=view&id=1IEyt1eHt6LGhEzGZ5eseNpQTbEDFjgFd)"
      ],
      "metadata": {
        "id": "cWAIM6Z5ZoGH"
      }
    },
    {
      "cell_type": "code",
      "source": [
        "# 클래스의 이름은 CamelCase\n",
        "class Car:\n",
        "  # 변수 선언 부분\n",
        "  # 멤버 변수 ( 속성, 특성 ) - 클래스가 가지는 데이터들을 저장.\n",
        "  color = \"black\"\n",
        "  price = 8000\n",
        "\n",
        "  # 메소드 선언 부분 - 클래스가 가지는 기능들을 정의하는 함수\n",
        "  def drive(self):  # self 값은 따로 넣어주는게 아니고 자동정의됨\n",
        "    print(\"차가 앞으로 갑니다.\")\n",
        "\n",
        "\n",
        "  # self - 객체 자신을 나타내는 필수적인 매개변수.\n",
        "  # 객체의 멤버 변수 접근, 다른 메소드 호출, 객체 구분 등을 위해 반드시 필요'\n",
        "  # like 붕어빵 틀(클래스)의 기능(메소드)을 사용할 때, 어떤 붕어빵(객체)에 적용해야 하는지 알려주는 역할\n",
        "  def stop(self):\n",
        "    print(\"차가 멈춥니다.\")"
      ],
      "metadata": {
        "id": "nAOXkaOCaRgi"
      },
      "execution_count": null,
      "outputs": []
    },
    {
      "cell_type": "markdown",
      "source": [
        "클래스는 설계도 !"
      ],
      "metadata": {
        "id": "1RPgsRK7coyr"
      }
    },
    {
      "cell_type": "code",
      "source": [
        "car = Car() # 객체 생성\n",
        "print(car.price, car.color) # 멤버 변수 접근"
      ],
      "metadata": {
        "colab": {
          "base_uri": "https://localhost:8080/"
        },
        "id": "sUYLcA67ctl7",
        "outputId": "0f1149a0-a0c3-4076-ab86-0bd912b09019"
      },
      "execution_count": null,
      "outputs": [
        {
          "output_type": "stream",
          "name": "stdout",
          "text": [
            "8000 black\n"
          ]
        }
      ]
    },
    {
      "cell_type": "code",
      "source": [
        "# 메소드 호출\n",
        "car.drive()\n",
        "car.stop()"
      ],
      "metadata": {
        "colab": {
          "base_uri": "https://localhost:8080/"
        },
        "id": "4zPWFfo2frg8",
        "outputId": "b3fb6d42-3c39-48a5-d70e-7c8a1d807787"
      },
      "execution_count": null,
      "outputs": [
        {
          "output_type": "stream",
          "name": "stdout",
          "text": [
            "차가 d앞으로 갑니다.\n",
            "차가 멈춥니다.\n"
          ]
        }
      ]
    },
    {
      "cell_type": "code",
      "source": [
        "car2 = Car()\n",
        "car2.price, car2.color"
      ],
      "metadata": {
        "colab": {
          "base_uri": "https://localhost:8080/"
        },
        "id": "jINwCL9rgG6D",
        "outputId": "7c486a9a-f178-4de0-a76f-1de05aa7b82c"
      },
      "execution_count": null,
      "outputs": [
        {
          "output_type": "execute_result",
          "data": {
            "text/plain": [
              "(8000, 'black')"
            ]
          },
          "metadata": {},
          "execution_count": 8
        }
      ]
    },
    {
      "cell_type": "code",
      "source": [
        "car2.color = 'white'\n",
        "car2.price = 3000\n",
        "\n",
        "car2.color, car2.price"
      ],
      "metadata": {
        "colab": {
          "base_uri": "https://localhost:8080/"
        },
        "id": "sMLzxyCbfw1h",
        "outputId": "15b5a3ef-48ea-427d-8331-8e82605caed5"
      },
      "execution_count": null,
      "outputs": [
        {
          "output_type": "execute_result",
          "data": {
            "text/plain": [
              "('white', 3000)"
            ]
          },
          "metadata": {},
          "execution_count": 9
        }
      ]
    },
    {
      "cell_type": "code",
      "source": [
        "car2.drive()\n",
        "car2.stop()"
      ],
      "metadata": {
        "colab": {
          "base_uri": "https://localhost:8080/"
        },
        "id": "yYrRNvLpiv5A",
        "outputId": "2fb27904-e7c8-489d-8a82-3cc6d8e635ca"
      },
      "execution_count": null,
      "outputs": [
        {
          "output_type": "stream",
          "name": "stdout",
          "text": [
            "차가 d앞으로 갑니다.\n",
            "차가 멈춥니다.\n"
          ]
        }
      ]
    },
    {
      "cell_type": "markdown",
      "source": [
        "# 객체(Object), 인스턴스(instance)\n",
        "- 인스턴스 : 실체화된 객체(object)\n",
        "- 객체 : 클래스를 이용해서 만들 수 있는 사용할 수 있는 것을 개념적으로 부르는 말"
      ],
      "metadata": {
        "id": "105Gm5DVi2LU"
      }
    },
    {
      "cell_type": "code",
      "source": [
        "# Car 클래스를 이용해서 객체를 생성한다.\n",
        "# Car 인스턴스를 2개 생성한다.\n",
        "\n",
        "car1 = Car()\n",
        "car2 = Car()"
      ],
      "metadata": {
        "id": "owOC8qTvnPJS"
      },
      "execution_count": null,
      "outputs": []
    },
    {
      "cell_type": "code",
      "source": [
        "# 인스턴스의 동일성 비교\n",
        "car1 == car2"
      ],
      "metadata": {
        "colab": {
          "base_uri": "https://localhost:8080/"
        },
        "id": "0SzZh3GfnQ0g",
        "outputId": "7c5c60e7-e529-41ed-90d8-249534c9df35"
      },
      "execution_count": null,
      "outputs": [
        {
          "output_type": "execute_result",
          "data": {
            "text/plain": [
              "False"
            ]
          },
          "metadata": {},
          "execution_count": 13
        }
      ]
    },
    {
      "cell_type": "code",
      "source": [
        "car3 = car1\n",
        "car1 == car3"
      ],
      "metadata": {
        "colab": {
          "base_uri": "https://localhost:8080/"
        },
        "id": "ZIMg3sTUnRzd",
        "outputId": "b16c54df-91fd-4032-afdf-f1e00c4a7413"
      },
      "execution_count": null,
      "outputs": [
        {
          "output_type": "execute_result",
          "data": {
            "text/plain": [
              "True"
            ]
          },
          "metadata": {},
          "execution_count": 14
        }
      ]
    },
    {
      "cell_type": "markdown",
      "source": [
        "# 객체가 만들어지는 과정 ★★★★★\n",
        "* `__init__` 메소드 : 생성자( `Constructor` ) -- 객체가 생성될 때 자동으로 호출되는 특별한 메소드\n",
        "\n",
        "   (like 붕어빵 틀에 어떤 재료를 넣을지 결정하는 역할)\n",
        "* 객체의 초기화를 담당\n",
        "  - 초기화(`initialization`)? : 변수 및 객체가 만들어 질 때 **최초**로 값이 세팅되는 것\n",
        "* 객체가 처음 만들어 질 때 벌어지는 일들을 `__init__` 메소드에 작성한다.\n",
        "  - 보통 하는 일은 멤버 변수 초기화\n",
        "\n",
        "```python\n",
        "class 클래스이름:\n",
        "  def __init__(self, 매개변수1, 매개변수2):\n",
        "    self.변수1 = 매개변수1\n",
        "    self.변수2 = 매개변수2\n",
        "```\n",
        "\n",
        "  ![](https://drive.google.com/uc?export=view&id=1LgRrpY5ezNTtATQLH3dU4CSxvBkviBVS)"
      ],
      "metadata": {
        "id": "18GC1aWinSxC"
      }
    },
    {
      "cell_type": "code",
      "source": [
        "class Car:\n",
        "  color = 'black'\n",
        "  price = 3000"
      ],
      "metadata": {
        "id": "4a9_PraGndgg"
      },
      "execution_count": null,
      "outputs": []
    },
    {
      "cell_type": "code",
      "source": [
        "car1 = Car()\n",
        "car1.color, car1.price"
      ],
      "metadata": {
        "colab": {
          "base_uri": "https://localhost:8080/"
        },
        "id": "wGyKhwlSoCIw",
        "outputId": "3a485c44-ec32-432a-8807-99184acebbc8"
      },
      "execution_count": null,
      "outputs": [
        {
          "output_type": "execute_result",
          "data": {
            "text/plain": [
              "('black', 3000)"
            ]
          },
          "metadata": {},
          "execution_count": 17
        }
      ]
    },
    {
      "cell_type": "code",
      "source": [
        "class Car:\n",
        "\n",
        "  def __init__(self, color, price):\n",
        "    print(\"자동차가 만들어 지고 있습니다.\")\n",
        "    self.color = color\n",
        "    self.price = price"
      ],
      "metadata": {
        "id": "8JCuL5HroFlH"
      },
      "execution_count": null,
      "outputs": []
    },
    {
      "cell_type": "code",
      "source": [
        "car2 = Car(\"white\", 3500)"
      ],
      "metadata": {
        "colab": {
          "base_uri": "https://localhost:8080/"
        },
        "id": "bZ3shtiSon7z",
        "outputId": "2c958022-2d46-463e-8db0-ef8e33ee0d71"
      },
      "execution_count": null,
      "outputs": [
        {
          "output_type": "stream",
          "name": "stdout",
          "text": [
            "자동차가 만들어 지고 있습니다.\n"
          ]
        }
      ]
    },
    {
      "cell_type": "markdown",
      "source": [
        "`__init__` 메소드의 `Parameter`를 설정하여 원하는 값으로 객체의 멤버 변수들을 초기화 할 수있다."
      ],
      "metadata": {
        "id": "5REGfbwxo3xf"
      }
    },
    {
      "cell_type": "markdown",
      "source": [
        "다른 예시 코드 - 강아지 클래스\n",
        "\n",
        "```python\n",
        "class Dog:\n",
        "  def __init__(self, name, age, breed):  # 이름, 나이, 품종을 저장하는 변수\n",
        "    self.name = name\n",
        "    self.age = age\n",
        "    self.breed = breed\n",
        "  \n",
        "  def bark(self):  # 짖는 기능\n",
        "    print(\"멍멍!\")\n",
        "  \n",
        "  def run(self):  # 뛰는 기능\n",
        "    print(\"달려!\")\n",
        "  \n",
        "  def wag_tail(self):  # 꼬리 흔드는 기능\n",
        "    print(\"꼬리를 흔든다!\")\n",
        "```\n",
        "\n",
        "```python\n",
        "my_dog = Dog(\"해피\", 3, \"푸들\")\n",
        "my_dog.bark()  # 해피가 멍멍! 하고 짖어요.\n",
        "```"
      ],
      "metadata": {
        "id": "Ci770pCkU73U"
      }
    }
  ]
}