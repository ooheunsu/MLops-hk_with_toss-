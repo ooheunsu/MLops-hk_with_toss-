{
  "nbformat": 4,
  "nbformat_minor": 0,
  "metadata": {
    "colab": {
      "provenance": [],
      "authorship_tag": "ABX9TyOeotDf754OAA1PRtS805oY",
      "include_colab_link": true
    },
    "kernelspec": {
      "name": "python3",
      "display_name": "Python 3"
    },
    "language_info": {
      "name": "python"
    }
  },
  "cells": [
    {
      "cell_type": "markdown",
      "metadata": {
        "id": "view-in-github",
        "colab_type": "text"
      },
      "source": [
        "<a href=\"https://colab.research.google.com/github/ooheunsu/MLops-hk_with_toss-/blob/main/08_%ED%81%B4%EB%9E%98%EC%8A%A4.ipynb\" target=\"_parent\"><img src=\"https://colab.research.google.com/assets/colab-badge.svg\" alt=\"Open In Colab\"/></a>"
      ]
    },
    {
      "cell_type": "markdown",
      "source": [
        "# 클래스( Class )\n",
        "- 변수와 함수를 묶어 놓은 **개념** (like 붕어빵 틀.. 클래스를 이용해서 여러개의 객체(붕어빵)을 만들 수 있음)\n",
        "  - 데이터와 기능을 함께 **표현**\n",
        "- 현실 세상에 존재하는 모든 것들을 **표현** 한다.\n",
        "- 사용자가 정의하는 데이터 타입\n",
        "\n",
        "\n",
        "![](https://drive.google.com/uc?export=view&id=1iq2EZQO3DZMv7tbnP-gCl6LcGviNHMlT)"
      ],
      "metadata": {
        "id": "AZL6beJxZbbY"
      }
    },
    {
      "cell_type": "markdown",
      "source": [
        "## 클래스의 구조\n",
        "- 변수, 메소드(함수)\n",
        "  - 변수 : 데이터 (like 붕어빵의 팥이나 슈크림)\n",
        "  - 메소드 : 기능 (like 붕어빵을 굽는 방법)\n",
        "- `Car` 클래스를 만드려면?\n",
        "  - `Car`의 데이터 : 브랜드, 배기량, 가격, 중량, 색상 등등등....\n",
        "  - `Car`의 기능 : 에어컨 켜기, 전진, 후진, 음악 재생, 라디오 등등...\n",
        "\n",
        "\n",
        "  ![](https://drive.google.com/uc?export=view&id=1IEyt1eHt6LGhEzGZ5eseNpQTbEDFjgFd)"
      ],
      "metadata": {
        "id": "cWAIM6Z5ZoGH"
      }
    },
    {
      "cell_type": "code",
      "source": [
        "# 클래스의 이름은 CamelCase\n",
        "class Car:\n",
        "  # 변수 선언 부분\n",
        "  # 멤버 변수 ( 속성, 특성 ) - 클래스가 가지는 데이터들을 저장.\n",
        "  color = \"black\"\n",
        "  price = 8000\n",
        "\n",
        "  # 메소드 선언 부분 - 클래스가 가지는 기능들을 정의하는 함수\n",
        "  def drive(self):  # self 값은 따로 넣어주는게 아니고 자동정의됨\n",
        "    print(\"차가 앞으로 갑니다.\")\n",
        "\n",
        "\n",
        "  # self - 객체 자신을 나타내는 필수적인 매개변수.\n",
        "  # 객체의 멤버 변수 접근, 다른 메소드 호출, 객체 구분 등을 위해 반드시 필요'\n",
        "  # like 붕어빵 틀(클래스)의 기능(메소드)을 사용할 때, 어떤 붕어빵(객체)에 적용해야 하는지 알려주는 역할\n",
        "  def stop(self):\n",
        "    print(\"차가 멈춥니다.\")"
      ],
      "metadata": {
        "id": "nAOXkaOCaRgi"
      },
      "execution_count": null,
      "outputs": []
    },
    {
      "cell_type": "markdown",
      "source": [
        "클래스는 설계도 !"
      ],
      "metadata": {
        "id": "1RPgsRK7coyr"
      }
    },
    {
      "cell_type": "code",
      "source": [
        "car = Car() # 객체 생성\n",
        "print(car.price, car.color) # 멤버 변수 접근"
      ],
      "metadata": {
        "colab": {
          "base_uri": "https://localhost:8080/"
        },
        "id": "sUYLcA67ctl7",
        "outputId": "0f1149a0-a0c3-4076-ab86-0bd912b09019"
      },
      "execution_count": null,
      "outputs": [
        {
          "output_type": "stream",
          "name": "stdout",
          "text": [
            "8000 black\n"
          ]
        }
      ]
    },
    {
      "cell_type": "code",
      "source": [
        "# 메소드 호출\n",
        "car.drive()\n",
        "car.stop()"
      ],
      "metadata": {
        "colab": {
          "base_uri": "https://localhost:8080/"
        },
        "id": "4zPWFfo2frg8",
        "outputId": "b3fb6d42-3c39-48a5-d70e-7c8a1d807787"
      },
      "execution_count": null,
      "outputs": [
        {
          "output_type": "stream",
          "name": "stdout",
          "text": [
            "차가 d앞으로 갑니다.\n",
            "차가 멈춥니다.\n"
          ]
        }
      ]
    },
    {
      "cell_type": "code",
      "source": [
        "car2 = Car()\n",
        "car2.price, car2.color"
      ],
      "metadata": {
        "colab": {
          "base_uri": "https://localhost:8080/"
        },
        "id": "jINwCL9rgG6D",
        "outputId": "7c486a9a-f178-4de0-a76f-1de05aa7b82c"
      },
      "execution_count": null,
      "outputs": [
        {
          "output_type": "execute_result",
          "data": {
            "text/plain": [
              "(8000, 'black')"
            ]
          },
          "metadata": {},
          "execution_count": 8
        }
      ]
    },
    {
      "cell_type": "code",
      "source": [
        "car2.color = 'white'\n",
        "car2.price = 3000\n",
        "\n",
        "car2.color, car2.price"
      ],
      "metadata": {
        "colab": {
          "base_uri": "https://localhost:8080/"
        },
        "id": "sMLzxyCbfw1h",
        "outputId": "15b5a3ef-48ea-427d-8331-8e82605caed5"
      },
      "execution_count": null,
      "outputs": [
        {
          "output_type": "execute_result",
          "data": {
            "text/plain": [
              "('white', 3000)"
            ]
          },
          "metadata": {},
          "execution_count": 9
        }
      ]
    },
    {
      "cell_type": "code",
      "source": [
        "car2.drive()\n",
        "car2.stop()"
      ],
      "metadata": {
        "colab": {
          "base_uri": "https://localhost:8080/"
        },
        "id": "yYrRNvLpiv5A",
        "outputId": "2fb27904-e7c8-489d-8a82-3cc6d8e635ca"
      },
      "execution_count": null,
      "outputs": [
        {
          "output_type": "stream",
          "name": "stdout",
          "text": [
            "차가 d앞으로 갑니다.\n",
            "차가 멈춥니다.\n"
          ]
        }
      ]
    },
    {
      "cell_type": "markdown",
      "source": [
        "# 객체(Object), 인스턴스(instance)\n",
        "- 인스턴스 : 실체화된 객체(object)\n",
        "- 객체 : 클래스를 이용해서 만들 수 있는 사용할 수 있는 것을 개념적으로 부르는 말"
      ],
      "metadata": {
        "id": "105Gm5DVi2LU"
      }
    },
    {
      "cell_type": "code",
      "source": [
        "# Car 클래스를 이용해서 객체를 생성한다.\n",
        "# Car 인스턴스를 2개 생성한다.\n",
        "\n",
        "car1 = Car()\n",
        "car2 = Car()"
      ],
      "metadata": {
        "id": "owOC8qTvnPJS"
      },
      "execution_count": null,
      "outputs": []
    },
    {
      "cell_type": "code",
      "source": [
        "# 인스턴스의 동일성 비교\n",
        "car1 == car2"
      ],
      "metadata": {
        "colab": {
          "base_uri": "https://localhost:8080/"
        },
        "id": "0SzZh3GfnQ0g",
        "outputId": "7c5c60e7-e529-41ed-90d8-249534c9df35"
      },
      "execution_count": null,
      "outputs": [
        {
          "output_type": "execute_result",
          "data": {
            "text/plain": [
              "False"
            ]
          },
          "metadata": {},
          "execution_count": 13
        }
      ]
    },
    {
      "cell_type": "code",
      "source": [
        "car3 = car1\n",
        "car1 == car3"
      ],
      "metadata": {
        "colab": {
          "base_uri": "https://localhost:8080/"
        },
        "id": "ZIMg3sTUnRzd",
        "outputId": "b16c54df-91fd-4032-afdf-f1e00c4a7413"
      },
      "execution_count": null,
      "outputs": [
        {
          "output_type": "execute_result",
          "data": {
            "text/plain": [
              "True"
            ]
          },
          "metadata": {},
          "execution_count": 14
        }
      ]
    },
    {
      "cell_type": "markdown",
      "source": [
        "# 객체가 만들어지는 과정 ★★★★★\n",
        "* `__init__` 메소드 : 생성자( `Constructor` ) -- 객체가 생성될 때 자동으로 호출되는 특별한 메소드\n",
        "\n",
        "   (like 붕어빵 틀에 어떤 재료를 넣을지 결정하는 역할)\n",
        "* 객체의 초기화를 담당\n",
        "  - 초기화(`initialization`)? : 변수 및 객체가 만들어 질 때 **최초**로 값이 세팅되는 것\n",
        "* 객체가 처음 만들어 질 때 벌어지는 일들을 `__init__` 메소드에 작성한다.\n",
        "  - 보통 하는 일은 멤버 변수 초기화\n",
        "\n",
        "```python\n",
        "class 클래스이름:\n",
        "  def __init__(self, 매개변수1, 매개변수2):\n",
        "    self.변수1 = 매개변수1\n",
        "    self.변수2 = 매개변수2\n",
        "```\n",
        "\n",
        "  ![](https://drive.google.com/uc?export=view&id=1LgRrpY5ezNTtATQLH3dU4CSxvBkviBVS)"
      ],
      "metadata": {
        "id": "18GC1aWinSxC"
      }
    },
    {
      "cell_type": "code",
      "source": [
        "class Car:\n",
        "  color = 'black'\n",
        "  price = 3000"
      ],
      "metadata": {
        "id": "4a9_PraGndgg"
      },
      "execution_count": null,
      "outputs": []
    },
    {
      "cell_type": "code",
      "source": [
        "car1 = Car()\n",
        "car1.color, car1.price"
      ],
      "metadata": {
        "colab": {
          "base_uri": "https://localhost:8080/"
        },
        "id": "wGyKhwlSoCIw",
        "outputId": "3a485c44-ec32-432a-8807-99184acebbc8"
      },
      "execution_count": null,
      "outputs": [
        {
          "output_type": "execute_result",
          "data": {
            "text/plain": [
              "('black', 3000)"
            ]
          },
          "metadata": {},
          "execution_count": 17
        }
      ]
    },
    {
      "cell_type": "code",
      "source": [
        "class Car:\n",
        "\n",
        "  def __init__(self, color, price):\n",
        "    print(\"자동차가 만들어 지고 있습니다.\")\n",
        "    self.color = color\n",
        "    self.price = price"
      ],
      "metadata": {
        "id": "8JCuL5HroFlH"
      },
      "execution_count": null,
      "outputs": []
    },
    {
      "cell_type": "code",
      "source": [
        "car2 = Car(\"white\", 3500)"
      ],
      "metadata": {
        "colab": {
          "base_uri": "https://localhost:8080/"
        },
        "id": "bZ3shtiSon7z",
        "outputId": "2c958022-2d46-463e-8db0-ef8e33ee0d71"
      },
      "execution_count": null,
      "outputs": [
        {
          "output_type": "stream",
          "name": "stdout",
          "text": [
            "자동차가 만들어 지고 있습니다.\n"
          ]
        }
      ]
    },
    {
      "cell_type": "markdown",
      "source": [
        "`__init__` 메소드의 `Parameter`를 설정하여 원하는 값으로 객체의 멤버 변수들을 초기화 할 수있다."
      ],
      "metadata": {
        "id": "5REGfbwxo3xf"
      }
    },
    {
      "cell_type": "markdown",
      "source": [
        "다른 예시 코드 - 강아지 클래스\n",
        "\n",
        "```python\n",
        "class Dog:\n",
        "  def __init__(self, name, age, breed):  # 이름, 나이, 품종을 저장하는 변수\n",
        "    self.name = name\n",
        "    self.age = age\n",
        "    self.breed = breed\n",
        "  \n",
        "  def bark(self):  # 짖는 기능\n",
        "    print(\"멍멍!\")\n",
        "  \n",
        "  def run(self):  # 뛰는 기능\n",
        "    print(\"달려!\")\n",
        "  \n",
        "  def wag_tail(self):  # 꼬리 흔드는 기능\n",
        "    print(\"꼬리를 흔든다!\")\n",
        "```\n",
        "\n",
        "```python\n",
        "my_dog = Dog(\"해피\", 3, \"푸들\")\n",
        "my_dog.bark()  # 해피가 멍멍! 하고 짖어요.\n",
        "```"
      ],
      "metadata": {
        "id": "Ci770pCkU73U"
      }
    },
    {
      "cell_type": "markdown",
      "source": [
        "## self\n",
        "- 객체 자기 자신을 참조하는 키워드  (like 나 자신을 가리키는 특별한 이름표)\n",
        "- **멤버 메소드(메소드)**의 제일 앞에 있는 Parameter\n",
        "\n",
        "- 멤버 변수나, 멤버 메소드\n",
        "  - **반드시** 객체가 만들어 져야만 사용 할 수 있는 것들\n",
        "\n",
        "`self` : 나의 ~\n",
        "\n",
        "### `self`를 사용하는 이유?\n",
        "stack 메모리 상에서 heap 메모리의 객체에 접근하기 위한?\n",
        "- 객체마다 서로 다른 데이터를 관리하고 개별적인 작업을 수행하기 위해 필수적인 요소임.\n",
        "\n",
        "(만약 self를 쓰지 않으면 모든 객체가 동일한 데이터를 공유함 = 캡슐화(<- 객체 지향 프로그래밍의 핵심 개념)를 구현할 수 없음.)\n",
        "\n",
        "ex) 강아지 클래스\n",
        "```python\n",
        "class Dog:\n",
        "    name = \"초코\"  # 모든 강아지 객체가 '초코'라는 이름을 가짐\n",
        "    age = 3       # 모든 강아지 객체가 3살\n",
        "\n",
        "    def bark(self):\n",
        "        print(f\"{name}가 멍멍!\")  # name 변수는 모든 객체에서 공유됨\n",
        "\n",
        "# 각 강아지는 이름, 나이, 품종 등 강아지 마다 정보가 다를텐데 self를 사용하지 않으면 모든 강아지 객체가 동일한 정보를 갖게되어 개별적인 강아지 표현이 안됨.\n",
        "# 위 코드에서 bark()를 호출 할 경우 항상 \"초코가 멍멍!\" 이라고만 출력되는거임.\n",
        "```\n",
        "\n",
        "```python\n",
        "# self를 사용해서 서로 다른 데이터를 가진 두 마리의 강아지 객체를 생성함.\n",
        "class Dog:\n",
        "    def __init__(self, name, age):  # 생성자에서 각 강아지의 이름과 나이를 초기화\n",
        "        self.name = name  # self.name은 각 객체의 name 변수를 의미\n",
        "        self.age = age   # self.age는 각 객체의 age 변수를 의미\n",
        "\n",
        "    def bark(self):\n",
        "        print(f\"{self.name}가 멍멍!\")  # self.name을 사용하여 각 객체의 이름을 출력\n",
        "\n",
        "dog1 = Dog(\"해피\", 2)\n",
        "dog2 = Dog(\"뽀삐\", 5)\n",
        "\n",
        "dog1.bark()  # \"해피가 멍멍!\" 출력\n",
        "dog2.bark()  # \"뽀삐가 멍멍!\" 출력\n",
        "```"
      ],
      "metadata": {
        "id": "m67e-TQ8OuJE"
      }
    },
    {
      "cell_type": "code",
      "source": [
        "class Person:\n",
        "\n",
        "  def __init__(self, name, job):\n",
        "    self.name = name\n",
        "    self.job = job\n",
        "\n",
        "  def print_info(self, param):\n",
        "    print(f\"{self.name}의 직업은 {self.job}입니다.\")"
      ],
      "metadata": {
        "id": "5TJUqfNnO49g"
      },
      "execution_count": null,
      "outputs": []
    },
    {
      "cell_type": "code",
      "source": [
        "p1 = Person(\"홍길동\", \"의적\")"
      ],
      "metadata": {
        "id": "NZAAdWDjS0ip"
      },
      "execution_count": null,
      "outputs": []
    },
    {
      "cell_type": "code",
      "source": [
        "p1.print_info(\"Hello\") # (\" \") 안에 (값을 넣기만 하면)"
      ],
      "metadata": {
        "colab": {
          "base_uri": "https://localhost:8080/"
        },
        "id": "4EYUmneFTaGB",
        "outputId": "f67bf1b8-3cac-4b85-8826-a4d0a0271dc0"
      },
      "execution_count": null,
      "outputs": [
        {
          "output_type": "stream",
          "name": "stdout",
          "text": [
            "홍길동의 직업은 의적입니다.\n"
          ]
        }
      ]
    },
    {
      "cell_type": "code",
      "source": [
        "p2 = Person(\"김철수\", \"학생\")\n",
        "p2.print_info(\"Hello\")"
      ],
      "metadata": {
        "colab": {
          "base_uri": "https://localhost:8080/"
        },
        "id": "OGo09B_tTdTG",
        "outputId": "7c43c595-32cc-404a-fc66-c0e40742cc4d"
      },
      "execution_count": null,
      "outputs": [
        {
          "output_type": "stream",
          "name": "stdout",
          "text": [
            "김철수의 직업은 학생입니다.\n"
          ]
        }
      ]
    },
    {
      "cell_type": "code",
      "source": [
        "print(hex(id(p1))) # 메모리 주소값 확인"
      ],
      "metadata": {
        "colab": {
          "base_uri": "https://localhost:8080/"
        },
        "id": "aMGwSB38UXKu",
        "outputId": "5c13aabc-b002-46b3-fd37-1dfff39fa364"
      },
      "execution_count": null,
      "outputs": [
        {
          "output_type": "stream",
          "name": "stdout",
          "text": [
            "0x78510e30d840\n"
          ]
        }
      ]
    },
    {
      "cell_type": "code",
      "source": [
        "print(hex(id(p2))) # p1이랑 메모리 주소값이 다름 = 다른 객체다."
      ],
      "metadata": {
        "colab": {
          "base_uri": "https://localhost:8080/"
        },
        "id": "yVb7cu5fUgIu",
        "outputId": "d487dd32-9589-402d-e76e-b3739fefeda5"
      },
      "execution_count": null,
      "outputs": [
        {
          "output_type": "stream",
          "name": "stdout",
          "text": [
            "0x78510e3a9360\n"
          ]
        }
      ]
    },
    {
      "cell_type": "code",
      "source": [
        "class Foo:\n",
        "\n",
        "  def foo1(self):\n",
        "    print(\"foo1\")\n",
        "\n",
        "  def foo2(self):\n",
        "    print(\"foo2\")\n",
        "\n",
        "    # 나의 foo1을 호출한다.\n",
        "    self.foo1()\n",
        "\n",
        "f = Foo()\n",
        "f.foo2()"
      ],
      "metadata": {
        "colab": {
          "base_uri": "https://localhost:8080/"
        },
        "id": "QJZvyXJ7VMHE",
        "outputId": "e23c4930-e0ed-4b2e-9f8b-a3f08c784e82"
      },
      "execution_count": null,
      "outputs": [
        {
          "output_type": "stream",
          "name": "stdout",
          "text": [
            "foo2\n",
            "foo1\n"
          ]
        }
      ]
    },
    {
      "cell_type": "markdown",
      "source": [
        "---------------\n",
        "# 상속\n",
        "- 클래스의 기능을 가져다가 그 기능을 수정하거나, 추가 할 때 사용하는 방법\n",
        "- **확장**의 개념\n",
        "\n",
        "상속의 주요 개념:\n",
        "\n",
        "1. 부모 클래스 (Parent Class, Base Class, Super Class): 기능을 물려주는 클래스.\n",
        "2. 자식 클래스 (Child Class, Derived Class, Sub Class): 기능을 물려받는 클래스.\n",
        "3. 오버라이딩 (Overriding): 부모 클래스의 메소드를 자식 클래스에서 재정의하는 것.\n",
        "4. super(): 부모 클래스의 메소드를 호출하는 함수.\n",
        "\n",
        "![](https://drive.google.com/uc?export=view&id=1Lnzow2OywFJ0ZlFpRbsOB0pkaPLQ6_ai)"
      ],
      "metadata": {
        "id": "TxaACtnMcBlq"
      }
    },
    {
      "cell_type": "code",
      "source": [
        "class A:\n",
        "\n",
        "  def __init__(self):\n",
        "    self.msg = \"Here is A\"\n",
        "\n",
        "  def foo(self):\n",
        "    print(f\"foo() => {self.msg}\")"
      ],
      "metadata": {
        "id": "F5dSKeCgcF_k"
      },
      "execution_count": null,
      "outputs": []
    },
    {
      "cell_type": "code",
      "source": [
        "# B 클래스가 A 클래스를 상속 받음. = A 클래스가 B 클래스한테 상속해주었다.\n",
        "class B(A):\n",
        "  def goo(self):\n",
        "    print(\"Here is Goo\")"
      ],
      "metadata": {
        "id": "AJerrB6gdLnZ"
      },
      "execution_count": null,
      "outputs": []
    },
    {
      "cell_type": "code",
      "source": [
        "b = B()"
      ],
      "metadata": {
        "id": "1PGKWzzyfF5M"
      },
      "execution_count": null,
      "outputs": []
    },
    {
      "cell_type": "code",
      "source": [
        "b.goo()"
      ],
      "metadata": {
        "colab": {
          "base_uri": "https://localhost:8080/"
        },
        "id": "gqZlnSNQfMuH",
        "outputId": "d25d3819-5100-4319-93d9-bee3c5b3321f"
      },
      "execution_count": null,
      "outputs": [
        {
          "output_type": "stream",
          "name": "stdout",
          "text": [
            "Here is Goo\n"
          ]
        }
      ]
    },
    {
      "cell_type": "code",
      "source": [
        "# A의 기능인 foo()도 사용 가능\n",
        "b.foo()"
      ],
      "metadata": {
        "colab": {
          "base_uri": "https://localhost:8080/"
        },
        "id": "Ccj6f1ObfOGj",
        "outputId": "1b2bd76e-74ba-4eac-98b7-7a258f15c82b"
      },
      "execution_count": null,
      "outputs": [
        {
          "output_type": "stream",
          "name": "stdout",
          "text": [
            "foo() => Here is A\n"
          ]
        }
      ]
    },
    {
      "cell_type": "code",
      "source": [
        "b.msg"
      ],
      "metadata": {
        "colab": {
          "base_uri": "https://localhost:8080/",
          "height": 36
        },
        "id": "vVuu-ECEfScN",
        "outputId": "122fb0f1-7a82-49bf-d990-d8ced528b952"
      },
      "execution_count": null,
      "outputs": [
        {
          "output_type": "execute_result",
          "data": {
            "text/plain": [
              "'Here is A'"
            ],
            "application/vnd.google.colaboratory.intrinsic+json": {
              "type": "string"
            }
          },
          "metadata": {},
          "execution_count": 20
        }
      ]
    },
    {
      "cell_type": "code",
      "source": [
        "a = A()\n",
        "a.foo()"
      ],
      "metadata": {
        "colab": {
          "base_uri": "https://localhost:8080/"
        },
        "id": "RgSrwq9zfacx",
        "outputId": "cfcb05cf-9bdc-45aa-977a-4026a583d483"
      },
      "execution_count": null,
      "outputs": [
        {
          "output_type": "stream",
          "name": "stdout",
          "text": [
            "foo() => Here is A\n"
          ]
        }
      ]
    },
    {
      "cell_type": "code",
      "source": [
        "a.goo() # goo()는 B클래스 꺼잖아. 에러임"
      ],
      "metadata": {
        "colab": {
          "base_uri": "https://localhost:8080/",
          "height": 148
        },
        "id": "ubjOlY2vfh5s",
        "outputId": "bc4436f9-6c6b-403a-a041-c44869e34ae1"
      },
      "execution_count": null,
      "outputs": [
        {
          "output_type": "error",
          "ename": "AttributeError",
          "evalue": "'A' object has no attribute 'goo'",
          "traceback": [
            "\u001b[0;31m---------------------------------------------------------------------------\u001b[0m",
            "\u001b[0;31mAttributeError\u001b[0m                            Traceback (most recent call last)",
            "\u001b[0;32m<ipython-input-22-c021a9b43976>\u001b[0m in \u001b[0;36m<cell line: 1>\u001b[0;34m()\u001b[0m\n\u001b[0;32m----> 1\u001b[0;31m \u001b[0ma\u001b[0m\u001b[0;34m.\u001b[0m\u001b[0mgoo\u001b[0m\u001b[0;34m(\u001b[0m\u001b[0;34m)\u001b[0m \u001b[0;31m# goo()는 B클래스 꺼잖아. 에러임\u001b[0m\u001b[0;34m\u001b[0m\u001b[0;34m\u001b[0m\u001b[0m\n\u001b[0m",
            "\u001b[0;31mAttributeError\u001b[0m: 'A' object has no attribute 'goo'"
          ]
        }
      ]
    },
    {
      "cell_type": "markdown",
      "source": [
        "핸드폰 만들어 보기\n",
        "- 기초(부모) 클래스에서는? : 파생 클래스의 공통적인 기능, 데이터를 정의한다.\n",
        "- 파생(자식) 클래스에서는? : 부모클래스로 부터 받아온 기능, 데이터를 자식 클래스에 맞게 수정하거나 기능을 추가\n",
        "\n",
        "- 추상화, 다형성\n",
        "\n",
        "설계 해보기\n",
        "\n",
        "스마트폰(상위 클래스) : 전화, 인터넷 (공통기능)\n",
        "1. 갤럭시(하위 클) : 녹음, 삼성페이\n",
        "2. 아이폰(하위 클) : 에어드랍, 앱 다운\n",
        "\n",
        "![](https://drive.google.com/uc?export=view&id=1qlOaiVp7dUSwsnAm_0QVWfOOYr8Uby9B)\n"
      ],
      "metadata": {
        "id": "cj22W89hgs8H"
      }
    },
    {
      "cell_type": "code",
      "source": [
        "# 부모 클래스 - 스마트폰(전화 걸기, 인터넷)\n",
        "class SmartPhone:\n",
        "\n",
        "  def call(self):\n",
        "    print(\"전화하기\")\n",
        "\n",
        "  def internet(self):\n",
        "    print(\"인터넷 하기\")"
      ],
      "metadata": {
        "id": "DpOohxFbgtYp"
      },
      "execution_count": null,
      "outputs": []
    },
    {
      "cell_type": "code",
      "source": [
        "# 자식 클래스 - 갤럭시(녹음, 삼성페이)\n",
        "class Galaxy(SmartPhone):\n",
        "\n",
        "  def record(self):\n",
        "    print(\"녹음하기\")\n",
        "\n",
        "  def samsung_pay(self):\n",
        "    print(\"삼성페이 사용\")"
      ],
      "metadata": {
        "id": "tuiY5UgXg7k1"
      },
      "execution_count": null,
      "outputs": []
    },
    {
      "cell_type": "code",
      "source": [
        "# 자식 클래스 - 아이폰(에어드랍, 앱 다운)\n",
        "class Iphone(SmartPhone):\n",
        "\n",
        "  def airdrop(self):\n",
        "    print(\"에어드랍하기\")\n",
        "\n",
        "  def app_down(self):\n",
        "    print(\"앱 다운하기\")"
      ],
      "metadata": {
        "id": "L5QYYhsAg9d8"
      },
      "execution_count": null,
      "outputs": []
    },
    {
      "cell_type": "code",
      "source": [
        "SP = SmartPhone()\n",
        "G = Galaxy()\n",
        "I = Iphone()"
      ],
      "metadata": {
        "id": "CJcaST5Gj5ZD"
      },
      "execution_count": null,
      "outputs": []
    },
    {
      "cell_type": "markdown",
      "source": [
        "### 실습\n",
        "```\n",
        "  동물농장\n",
        "\n",
        "  Animal 클래스\n",
        "    - eat() \"동물이 먹이를 먹습니다.\"\n",
        "    - sleep() \"동물이 잠에 들었습니다.\"\n",
        "\n",
        "  Lion 클래스를 만들어서 Animal 클래스를 상속\n",
        "    - hunt() \"사자가 사냥을 합니다.\"\n",
        "  Bird 클래스를 만들어서 Animal 클래스를 상속\n",
        "    - fly() \"새가 날아다닙니다.\"\n",
        "```\n"
      ],
      "metadata": {
        "id": "jgqoFvC7kFoB"
      }
    },
    {
      "cell_type": "code",
      "source": [
        "class Animal:\n",
        "\n",
        "  def eat(self):\n",
        "    print(\"동물이 먹이를 먹습니다.\")\n",
        "\n",
        "  def sleep(self):\n",
        "    print(\"동물이 잠에 들었습니다.\")"
      ],
      "metadata": {
        "id": "qDHqXJBMGTAp"
      },
      "execution_count": null,
      "outputs": []
    },
    {
      "cell_type": "code",
      "source": [
        "class Lion(Animal):\n",
        "\n",
        "  def hunt(self):\n",
        "    print(\"사자가 사냥을 합니다.\")\n",
        "\n",
        "class Bird(Animal):\n",
        "\n",
        "  def fly(self):\n",
        "    print(\"새가 날아다닙니다.\")"
      ],
      "metadata": {
        "id": "G8D_o8GBGoWJ"
      },
      "execution_count": null,
      "outputs": []
    },
    {
      "cell_type": "markdown",
      "source": [
        "### 상속 -> 강결합(강한 결합) 관계\n",
        "\n",
        "### IS-A 관계, B(자식) is a A(부모)\n",
        "\n",
        "동물(상위) - 1. 사자(하위) 2.호랑이(하위)\n",
        "\n",
        "사자 is a 동물\n",
        "\n",
        "호랑이 is a 동물\n",
        "\n",
        "... 상속을 써야할 때가 있고 아닐 때가있다? 뭘말하고싶은"
      ],
      "metadata": {
        "id": "PZoSXkNRp9Bw"
      }
    },
    {
      "cell_type": "code",
      "source": [
        "# 다이아몬드 구조 상속? - A -> B,C => D\n",
        "class A:\n",
        "  def foo(self):\n",
        "    print(\"foo\")\n",
        "\n",
        "class B(A):\n",
        "  def goo(self):\n",
        "    print(\"goo\")\n",
        "\n",
        "class C(A):\n",
        "  def hoo(self):\n",
        "    print(\"hoo\")\n",
        "\n",
        "class D(B, C):\n",
        "  def moo(self):\n",
        "    print(\"moo\")\n",
        "    print(\"moo\")"
      ],
      "metadata": {
        "id": "4tw6WeOFqTH1"
      },
      "execution_count": null,
      "outputs": []
    },
    {
      "cell_type": "code",
      "source": [
        "d = D()\n",
        "d.foo()\n",
        "d.goo()\n",
        "d.hoo()\n",
        "d.moo()"
      ],
      "metadata": {
        "colab": {
          "base_uri": "https://localhost:8080/"
        },
        "id": "L7Q4kZK3reOp",
        "outputId": "dbbc2a96-f50c-4e84-d01d-fd0b600145ab"
      },
      "execution_count": null,
      "outputs": [
        {
          "output_type": "stream",
          "name": "stdout",
          "text": [
            "foo\n",
            "goo\n",
            "hoo\n",
            "moo\n",
            "moo\n"
          ]
        }
      ]
    },
    {
      "cell_type": "markdown",
      "source": [
        "# 오버라이딩(override)⭐️⭐️⭐️⭐️⭐️\n",
        "- 부모로부터 받는 메소드를 **수정**하고 싶을 때 사용한다.\n",
        "- 자식클래스에서 부모클래스로부터 물려받은 메소드를 **재정의**\n",
        "\n",
        "## 오버라이딩의 규칙\n",
        "  - 부모클래스의 메소드 형식(이름, 파라미터 등)을 자식클래스에서 **똑같이** 따라해야 합니다.\n",
        "  - 부모 클래스의 메소드보다 접근 제한자가 같거나 넓어야 합니다. (private < protected < public)\n",
        "\n",
        "  ![](https://drive.google.com/uc?export=view&id=1SF7RPX95NluPelzth-7v5cf3kjvvDTnh)"
      ],
      "metadata": {
        "id": "UjBbsfexrkb6"
      }
    },
    {
      "cell_type": "code",
      "source": [
        "class Animal:\n",
        "\n",
        "  def eat(self):\n",
        "    print(\"먹이를 먹습니다\")\n",
        "\n",
        "def Lion(Animal):\n",
        "\n",
        "  def hunt(self):\n",
        "    print(\"사자가 사냥을 합니다.\")"
      ],
      "metadata": {
        "id": "HDuF0lxFsQyn"
      },
      "execution_count": null,
      "outputs": []
    },
    {
      "cell_type": "code",
      "source": [
        "# Animal의 eat 메소드 오버라이딩\n",
        "# 사자는 eat()을 할 때 \"사자가 고기를 먹는다\"\n",
        "\n",
        "class Lion2(Animal):\n",
        "\n",
        "  def hunt(self):\n",
        "    print(\"사자가 사냥을 합니다\")\n",
        "\n",
        "  # eat을 오버라이딩\n",
        "  def eat(self): # eat을 재정의 함\n",
        "    super().eat() # 근데 super를 사용해서 부모의 eat으로 다시 뭐라하지.\n",
        "    print(\"사자가 고기를 먹습니다.\")"
      ],
      "metadata": {
        "id": "R91jB796snTs"
      },
      "execution_count": null,
      "outputs": []
    },
    {
      "cell_type": "code",
      "source": [
        "lion2 = Lion2()\n",
        "lion2.eat()"
      ],
      "metadata": {
        "colab": {
          "base_uri": "https://localhost:8080/"
        },
        "id": "-Pa0J012umvm",
        "outputId": "3d2a84cf-f2c2-4f4b-e34e-3bd7887d252a"
      },
      "execution_count": null,
      "outputs": [
        {
          "output_type": "stream",
          "name": "stdout",
          "text": [
            "먹이를 먹습니다\n",
            "사자가 고기를 먹습니다.\n"
          ]
        }
      ]
    },
    {
      "cell_type": "markdown",
      "source": [
        "# 상속의 법칙\n",
        "- 자식클래스의 객체를 생성하면 부모클래스의 객체가 먼저 만들어 진다.(= 자식 클래스의 생성자(`__init__`)가 호출되기 전에 부모 클래스의 생성자가 먼저 호출됩니다.)"
      ],
      "metadata": {
        "id": "ki8DQYq_uzPR"
      }
    },
    {
      "cell_type": "code",
      "source": [
        "# 부모 클래스에 parameter가 있는 경우\n",
        "class Animal:\n",
        "\n",
        "  def __init__(self, name):\n",
        "    print(\"동물 객체가 만들어 집니다.\")\n",
        "    self.name = name\n",
        "\n",
        "  def eat(self):\n",
        "    print(f\"{self.name}이(가) 먹이를 먹습니다\")"
      ],
      "metadata": {
        "id": "7puO6B6Lv_p9"
      },
      "execution_count": null,
      "outputs": []
    },
    {
      "cell_type": "code",
      "source": [
        "class Dog(Animal):\n",
        "\n",
        "  # 자식 클래스인 Dog 클래스는 부모 클래스 Animal의 생성 책임을 져야 한다.\n",
        "  # - Animal 클래스의 객체가 생성되기 위해서는 name이 필요하다\n",
        "  # - 따라서 Dog 클래스에서 Animal 클래스의 객체 생성 책임을 지기 위해 name을 대신 받는다.\n",
        "\n",
        "  def __init__(self, name):\n",
        "    # 멤버 변수 오버라이딩 - 하지 말 것\n",
        "    # self.name = name\n",
        "\n",
        "    # 자식 클래스에서 받아온 name argument를 부모클래스로 \"올려\"줍니다.\n",
        "    super(Dog, self).__init__(name)\n",
        "\n",
        "  def bark(self):\n",
        "    print(f\"{self.name} : 멍멍!\")"
      ],
      "metadata": {
        "id": "WntmXPLcwtVU"
      },
      "execution_count": null,
      "outputs": []
    },
    {
      "cell_type": "code",
      "source": [
        "#dog = Dog() # 에러는 Animal 클래스에서 발생"
      ],
      "metadata": {
        "id": "SCKUOdTQxNlM"
      },
      "execution_count": null,
      "outputs": []
    },
    {
      "cell_type": "code",
      "source": [
        "#dog.Dog() # Dog 클래스 수정하고 나니 Dog 클래스에서 에러발생(이게정상이다?)"
      ],
      "metadata": {
        "id": "1mZJIeIrxxWE"
      },
      "execution_count": null,
      "outputs": []
    },
    {
      "cell_type": "code",
      "source": [
        "dog = Dog(\"코코\")"
      ],
      "metadata": {
        "colab": {
          "base_uri": "https://localhost:8080/"
        },
        "id": "0gDxD9JTzItD",
        "outputId": "7a876bd3-85d8-4561-f76a-ab355910a7c8"
      },
      "execution_count": null,
      "outputs": [
        {
          "output_type": "stream",
          "name": "stdout",
          "text": [
            "동물 객체가 만들어 집니다.\n"
          ]
        }
      ]
    },
    {
      "cell_type": "code",
      "source": [
        "dog.bark()"
      ],
      "metadata": {
        "colab": {
          "base_uri": "https://localhost:8080/"
        },
        "id": "ZMCDbB3Lzap-",
        "outputId": "6976e0a8-287b-4282-f756-b2211acfe9aa"
      },
      "execution_count": null,
      "outputs": [
        {
          "output_type": "stream",
          "name": "stdout",
          "text": [
            "코코 : 멍멍!\n"
          ]
        }
      ]
    },
    {
      "cell_type": "markdown",
      "source": [
        "---------\n",
        "# Getter & Setter\n",
        "- 멤버 변수에 접근할 때 특정 로직을 거쳐서 접근 시키는 방법\n",
        "\n",
        "### Getter\n",
        "- 객체의 속성 값을 반환하는 메서드입니다.\n",
        "- `@property` 데코레이터를 사용하여 정의합니다.\n",
        "- 속성처럼 접근할 수 있습니다.\n",
        "\n",
        "### Setter\n",
        "- 객체의 속성 값을 설정하는 메서드입니다.\n",
        "- Getter 메서드 이름에 `.setter`를 붙여 데코레이터로 정의합니다.\n",
        "- 속성처럼 값을 할당할 수 있습니다.\n",
        "\n",
        "### 게터 세터 구현 방식 2가지\n",
        "방식1:`@property` 데코레이터 사용\n",
        "\n",
        "방식2:`property()` 함수 사용"
      ],
      "metadata": {
        "id": "oh2B0qOPgcnr"
      }
    },
    {
      "cell_type": "code",
      "source": [
        "a = 10  # set\n",
        "a * 10  # get"
      ],
      "metadata": {
        "colab": {
          "base_uri": "https://localhost:8080/"
        },
        "id": "jMl-RozGgkVK",
        "outputId": "3033b131-f436-4eda-e162-034ee206aed0"
      },
      "execution_count": null,
      "outputs": [
        {
          "output_type": "execute_result",
          "data": {
            "text/plain": [
              "100"
            ]
          },
          "metadata": {},
          "execution_count": 13
        }
      ]
    },
    {
      "cell_type": "code",
      "source": [
        "class User1:\n",
        "\n",
        "  def __init__(self, name):\n",
        "\n",
        "    if( len(name) >= 3 ):\n",
        "      self.name = name\n",
        "    else:\n",
        "      self.name = None\n",
        "      print(\"이름은 3글자 이상이어야 합니다.\")\n",
        "\n",
        "user1 = User1(\"홍\")\n",
        "# 생성자의 역할을 생각하면 위 코드에서 지금 생성자가 if else로 조건 따지고 에러메세지 띄워주고 이게 맞니?\n",
        "# 불필요하잖아. 분리해줄 필요가 있다 이거야."
      ],
      "metadata": {
        "colab": {
          "base_uri": "https://localhost:8080/"
        },
        "id": "3eUH0TBwg-qm",
        "outputId": "684a1a8b-dbbf-4f78-e866-3e86f80ca662"
      },
      "execution_count": null,
      "outputs": [
        {
          "output_type": "stream",
          "name": "stdout",
          "text": [
            "이름은 3글자 이상이어야 합니다.\n"
          ]
        }
      ]
    },
    {
      "cell_type": "code",
      "source": [
        "# 생성자에는 멤버변수를 초기화 하는 코드만 있으면 되고,\n",
        "# 멤버 변수에 어떤 값이 들어가야 할지 검사하는 로직은 따로 분리\n",
        "class User2:\n",
        "\n",
        "  def __init__(self, first_name):\n",
        "    self.first_name = first_name\n",
        "\n",
        "  # 멤버 변수 first_name에 '값이 들어갈(가야할) 때 수행'되는 메소드\n",
        "  def set_first_name(self, first_name):\n",
        "    print(\"Set First Name\")\n",
        "\n",
        "    if(len(first_name) >= 3):\n",
        "      print(\"Set First Name Success\")\n",
        "      self.first_name = first_name\n",
        "    else:\n",
        "      print(\"Set First Name Failed\")\n",
        "      self.first_name = None\n",
        "\n",
        "  def get_first_name(self):\n",
        "    # 가지고 올 때는 대문자로 만들어서 가지고 오기\n",
        "    print(\"Get First Name UPPER\")\n",
        "    return self.first_name.upper()\n",
        "\n",
        "  # 프로퍼티로 setter & getter 등록\n",
        "  name = property(get_first_name, set_first_name)"
      ],
      "metadata": {
        "id": "hyujD84-hA0C"
      },
      "execution_count": null,
      "outputs": []
    },
    {
      "cell_type": "markdown",
      "source": [
        "\n",
        "\n",
        "```python\n",
        "# @property 방식으로 구현해보기\n",
        "class User2:\n",
        "    def __init__(self, first_name):\n",
        "        self._first_name = first_name  # 내부적으로 사용되는 속성\n",
        "\n",
        "    @property\n",
        "    def name(self):\n",
        "        print(\"Get First Name UPPER\")\n",
        "        return self._first_name.upper()\n",
        "\n",
        "    @name.setter\n",
        "    def name(self, first_name):\n",
        "        print(\"Set First Name\")\n",
        "        if len(first_name) >= 3:\n",
        "            print(\"Set First Name Success\")\n",
        "            self._first_name = first_name\n",
        "        else:\n",
        "            print(\"Set First Name Failed\")\n",
        "            self._first_name = None\n",
        "```\n",
        "\n"
      ],
      "metadata": {
        "id": "Ms-qo1Z3Rts2"
      }
    },
    {
      "cell_type": "code",
      "source": [
        "user2 = User2(\"m\")\n",
        "user2.first_name"
      ],
      "metadata": {
        "colab": {
          "base_uri": "https://localhost:8080/",
          "height": 36
        },
        "id": "zC6XUleolG6Q",
        "outputId": "c766a344-0151-4c46-8ede-fef04f6a91f1"
      },
      "execution_count": null,
      "outputs": [
        {
          "output_type": "execute_result",
          "data": {
            "text/plain": [
              "'m'"
            ],
            "application/vnd.google.colaboratory.intrinsic+json": {
              "type": "string"
            }
          },
          "metadata": {},
          "execution_count": 28
        }
      ]
    },
    {
      "cell_type": "code",
      "source": [
        "user2.name = \"m\""
      ],
      "metadata": {
        "colab": {
          "base_uri": "https://localhost:8080/"
        },
        "id": "dit7IJyPlTDo",
        "outputId": "bdca6c5b-5f31-4878-dbab-98a69103d972"
      },
      "execution_count": null,
      "outputs": [
        {
          "output_type": "stream",
          "name": "stdout",
          "text": [
            "Set First Name\n",
            "Set First Name Failed\n"
          ]
        }
      ]
    },
    {
      "cell_type": "code",
      "source": [
        "user2.name = \"minho\""
      ],
      "metadata": {
        "colab": {
          "base_uri": "https://localhost:8080/"
        },
        "id": "uDTnsBNZldio",
        "outputId": "ac5daec1-674e-4bc8-ce59-1e2ab1348728"
      },
      "execution_count": null,
      "outputs": [
        {
          "output_type": "stream",
          "name": "stdout",
          "text": [
            "Set First Name\n",
            "Set First Name Success\n"
          ]
        }
      ]
    },
    {
      "cell_type": "code",
      "source": [
        "print(user2.first_name + \"\\n\")\n",
        "user2.name"
      ],
      "metadata": {
        "colab": {
          "base_uri": "https://localhost:8080/",
          "height": 91
        },
        "id": "YlHt3xaXlkz7",
        "outputId": "69f8e7bb-e17e-4f27-8ecf-da50ed8546c9"
      },
      "execution_count": null,
      "outputs": [
        {
          "output_type": "stream",
          "name": "stdout",
          "text": [
            "minho\n",
            "\n",
            "Get First Name UPPER\n"
          ]
        },
        {
          "output_type": "execute_result",
          "data": {
            "text/plain": [
              "'MINHO'"
            ],
            "application/vnd.google.colaboratory.intrinsic+json": {
              "type": "string"
            }
          },
          "metadata": {},
          "execution_count": 35
        }
      ]
    },
    {
      "cell_type": "markdown",
      "source": [
        "# non public ( private화 )\n",
        "- `private` : 클래스의 멤버 변수를 클래스 내부에서만 사용하게 하는 것\n",
        "- `first_name`은 `getter`와 `setter`를 거쳐서 값을 집어 넣고, 가져오기로 했기 때문에\n",
        "- 바깥에서( 클래스 내부가 아닌 곳 ) 사용이 불가능 하도록 설정\n",
        "- **맹글링(mangling)** 기법을 이용해서 외부에서 직접적으로 변수나 메소드에 접근하는 것을 막을 수 있다.\n",
        "\n",
        "\n",
        "\n",
        "\n",
        "파이썬에서 private 멤버는 이름 앞에 두 개의 밑줄(__)을 붙여서 표시함.\n",
        "\n",
        "예를 들어, __name은 private 멤버 변수이고, __method()는 private 메서드임.\n",
        "\n",
        "맹글링 규칙은 `_클래스명__속성명` 또는 `_클래스명__메서드명` 형태."
      ],
      "metadata": {
        "id": "28B3Qv2Ol2Op"
      }
    },
    {
      "cell_type": "code",
      "source": [
        "class User3:\n",
        "\n",
        "  def __init__(self, first_name, age):\n",
        "    # 파이썬에서 멤버 변수를 외부에 노출 되는 것을 막으려면 변수 명 앞에 언더바를 두번 붙인다.\n",
        "    self.__first_name = first_name # 맹글링이 된 상태\n",
        "    self.age = age # 맹글링이 되지 않은 상태\n",
        "\n",
        "  # 멤버 변수 first_name에 \"값이 들어갈 때 수행\"되는 메소드\n",
        "  def set_first_name(self, first_name):\n",
        "    print(\"Set First Name\")\n",
        "\n",
        "    if len(first_name) >= 3:\n",
        "      print(\"Set First Name Success\")\n",
        "      self.__first_name = first_name\n",
        "    else:\n",
        "      print(\"Set First Name Failed\")\n",
        "      self.__first_name = None\n",
        "\n",
        "  def get_first_name(self):\n",
        "    # 가지고 올 때는 대문자로 만들어서 가지고 오기\n",
        "    print(\"Get First Name UPPER\")\n",
        "    return self.__first_name.upper()\n",
        "\n",
        "  # setter와 getter 등록\n",
        "  name = property(get_first_name, set_first_name)"
      ],
      "metadata": {
        "id": "CG9F5OTam3kO"
      },
      "execution_count": null,
      "outputs": []
    },
    {
      "cell_type": "code",
      "source": [
        "user3 = User3(\"minho\", 30)"
      ],
      "metadata": {
        "id": "f6zEYFmyn0Sf"
      },
      "execution_count": null,
      "outputs": []
    },
    {
      "cell_type": "code",
      "source": [
        "user3.name = \"m\""
      ],
      "metadata": {
        "colab": {
          "base_uri": "https://localhost:8080/"
        },
        "id": "ujQE12axn94-",
        "outputId": "501d744e-be50-4931-dc78-f7338adcf315"
      },
      "execution_count": null,
      "outputs": [
        {
          "output_type": "stream",
          "name": "stdout",
          "text": [
            "Set First Name\n",
            "Set First Name Failed\n"
          ]
        }
      ]
    },
    {
      "cell_type": "code",
      "source": [
        "user3.name = \"minho\"\n",
        "user3.name"
      ],
      "metadata": {
        "colab": {
          "base_uri": "https://localhost:8080/",
          "height": 91
        },
        "id": "xZl6O86coJcX",
        "outputId": "a72d3e9b-ae95-4b09-ab1b-a030bb3627e2"
      },
      "execution_count": null,
      "outputs": [
        {
          "output_type": "stream",
          "name": "stdout",
          "text": [
            "Set First Name\n",
            "Set First Name Success\n",
            "Get First Name UPPER\n"
          ]
        },
        {
          "output_type": "execute_result",
          "data": {
            "text/plain": [
              "'MINHO'"
            ],
            "application/vnd.google.colaboratory.intrinsic+json": {
              "type": "string"
            }
          },
          "metadata": {},
          "execution_count": 41
        }
      ]
    },
    {
      "cell_type": "code",
      "source": [
        "user3.__first_name  # 맹글링화 한 변수에 접근불가임."
      ],
      "metadata": {
        "colab": {
          "base_uri": "https://localhost:8080/",
          "height": 148
        },
        "id": "4AIYL_CYoek2",
        "outputId": "d60aedc6-4be5-4ef4-e1ec-833835347abc"
      },
      "execution_count": null,
      "outputs": [
        {
          "output_type": "error",
          "ename": "AttributeError",
          "evalue": "'User3' object has no attribute '__first_name'",
          "traceback": [
            "\u001b[0;31m---------------------------------------------------------------------------\u001b[0m",
            "\u001b[0;31mAttributeError\u001b[0m                            Traceback (most recent call last)",
            "\u001b[0;32m<ipython-input-44-3d1d455d08e6>\u001b[0m in \u001b[0;36m<cell line: 1>\u001b[0;34m()\u001b[0m\n\u001b[0;32m----> 1\u001b[0;31m \u001b[0muser3\u001b[0m\u001b[0;34m.\u001b[0m\u001b[0m__first_name\u001b[0m  \u001b[0;31m# 맹글링화 한 변수에 접근불가임.\u001b[0m\u001b[0;34m\u001b[0m\u001b[0;34m\u001b[0m\u001b[0m\n\u001b[0m",
            "\u001b[0;31mAttributeError\u001b[0m: 'User3' object has no attribute '__first_name'"
          ]
        }
      ]
    },
    {
      "cell_type": "code",
      "source": [
        "user3._User3__first_name # 어거지로 맹글링한 변수에 접근해봄\n",
        "# 파이썬 특성상 맹글링해도 완벽이 private화는 불가능하다 이거지."
      ],
      "metadata": {
        "colab": {
          "base_uri": "https://localhost:8080/",
          "height": 36
        },
        "id": "6Iyv9rl9ohMj",
        "outputId": "e73d30cd-1a80-4344-9b39-6455f4decc21"
      },
      "execution_count": null,
      "outputs": [
        {
          "output_type": "execute_result",
          "data": {
            "text/plain": [
              "'minho'"
            ],
            "application/vnd.google.colaboratory.intrinsic+json": {
              "type": "string"
            }
          },
          "metadata": {},
          "execution_count": 45
        }
      ]
    },
    {
      "cell_type": "code",
      "source": [
        "user3.__first_name = \"아무거나 집어넣기\"  # 맹글링해서 변수에 값을 할당해도\n",
        "user3.name                                # 실제로 값은 변경되지 않았음."
      ],
      "metadata": {
        "colab": {
          "base_uri": "https://localhost:8080/",
          "height": 54
        },
        "id": "gHpdE0Bao-Tk",
        "outputId": "e1030da3-d88e-4b96-d124-5dd522654d06"
      },
      "execution_count": null,
      "outputs": [
        {
          "output_type": "stream",
          "name": "stdout",
          "text": [
            "Get First Name UPPER\n"
          ]
        },
        {
          "output_type": "execute_result",
          "data": {
            "text/plain": [
              "'MINHO'"
            ],
            "application/vnd.google.colaboratory.intrinsic+json": {
              "type": "string"
            }
          },
          "metadata": {},
          "execution_count": 48
        }
      ]
    },
    {
      "cell_type": "code",
      "source": [
        "user3.age # age는 맹글링 안했으니까 그냥 접근가능."
      ],
      "metadata": {
        "colab": {
          "base_uri": "https://localhost:8080/"
        },
        "id": "OB3bbmyVpHXg",
        "outputId": "d749300c-2a57-4330-d703-cb2c278fef6e"
      },
      "execution_count": null,
      "outputs": [
        {
          "output_type": "execute_result",
          "data": {
            "text/plain": [
              "30"
            ]
          },
          "metadata": {},
          "execution_count": 47
        }
      ]
    },
    {
      "cell_type": "markdown",
      "source": [
        "# 메소드 맹글링"
      ],
      "metadata": {
        "id": "a6rfOGU5pK-j"
      }
    },
    {
      "cell_type": "code",
      "source": [
        "class User4:\n",
        "\n",
        "  def __init__(self, first_name, age):\n",
        "\n",
        "    # setter를 이용해서 초기화\n",
        "    self.set_first_name(first_name)\n",
        "    self.set_age(age)\n",
        "\n",
        "  # first_name에 대한 setter\n",
        "  def set_first_name(self, first_name):\n",
        "\n",
        "    if len(first_name) >= 3:\n",
        "      self.__first_name = first_name\n",
        "    else:\n",
        "      self.__first_name = None\n",
        "\n",
        "  # age에 대한 setter\n",
        "  def set_age(self, age):\n",
        "\n",
        "    if age > 0 :\n",
        "      self.__age = age\n",
        "    else:\n",
        "      self.__age = None\n",
        "\n",
        "  # first_name에 대한 getter\n",
        "  def get_first_name(self):\n",
        "    # 이름 중간의 모든 글자가 *로 표시 될 수 있도록\n",
        "    # minho -> m***o\n",
        "    first_char = self.__first_name[0]\n",
        "    last_char  = self.__first_name[-1]\n",
        "    star_len   = len(self.__first_name)-2\n",
        "    stars      = \"*\" * star_len\n",
        "\n",
        "    return f\"{first_char}{stars}{last_char}\"\n",
        "\n",
        "  # 사람의 정보를 표기하기 위한 문자열을 만드는 메소드를 구현( 클래스 내부에서만 사용 )\n",
        "  def __make_user_info(self):\n",
        "    return f\"{self.get_first_name()}의 나이는 {self.get_age()}\"\n",
        "\n",
        "  def print_user_info(self):  # make_user_info를 맹글링해서 이 프린트 메소드를 통해서만 쓸수있게함.\n",
        "    user_info_text = self.__make_user_info()\n",
        "    print(\"😀\", user_info_text, \"❤️\")\n",
        "\n",
        "  # age에 대한 getter\n",
        "  def get_age(self):\n",
        "    return self.__age\n",
        "\n",
        "  # getter & setter 등록\n",
        "  first_name = property(get_first_name, set_first_name)\n",
        "  age = property(get_age, set_age)"
      ],
      "metadata": {
        "id": "_Efyqlkjq9jU"
      },
      "execution_count": null,
      "outputs": []
    },
    {
      "cell_type": "code",
      "source": [
        "user4 = User4(\"minho\", 30)\n",
        "user4.print_user_info()"
      ],
      "metadata": {
        "colab": {
          "base_uri": "https://localhost:8080/"
        },
        "id": "0ZzcQLTHrBQU",
        "outputId": "dbd859b6-6b17-4f6f-aef4-f5208c6963fc"
      },
      "execution_count": null,
      "outputs": [
        {
          "output_type": "stream",
          "name": "stdout",
          "text": [
            "😀 m***o의 나이는 30 ❤️\n"
          ]
        }
      ]
    },
    {
      "cell_type": "code",
      "source": [
        "user4.__make_user_info()  # 당연히 맹글링 했으니까 에러뜸."
      ],
      "metadata": {
        "colab": {
          "base_uri": "https://localhost:8080/",
          "height": 148
        },
        "id": "j_rxA3sbrzX7",
        "outputId": "0c24d39a-362d-4720-d78c-25b6075c61b5"
      },
      "execution_count": null,
      "outputs": [
        {
          "output_type": "error",
          "ename": "AttributeError",
          "evalue": "'User4' object has no attribute '__make_user_info'",
          "traceback": [
            "\u001b[0;31m---------------------------------------------------------------------------\u001b[0m",
            "\u001b[0;31mAttributeError\u001b[0m                            Traceback (most recent call last)",
            "\u001b[0;32m<ipython-input-55-4e3414d8c0d2>\u001b[0m in \u001b[0;36m<cell line: 1>\u001b[0;34m()\u001b[0m\n\u001b[0;32m----> 1\u001b[0;31m \u001b[0muser4\u001b[0m\u001b[0;34m.\u001b[0m\u001b[0m__make_user_info\u001b[0m\u001b[0;34m(\u001b[0m\u001b[0;34m)\u001b[0m\u001b[0;34m\u001b[0m\u001b[0;34m\u001b[0m\u001b[0m\n\u001b[0m",
            "\u001b[0;31mAttributeError\u001b[0m: 'User4' object has no attribute '__make_user_info'"
          ]
        }
      ]
    },
    {
      "cell_type": "markdown",
      "source": [
        "--------\n",
        "# 클래스의 관계\n",
        "\n",
        "## `is - a` 관계\n",
        "- `A is a B` : **클래스 A는 클래스 B이다** 라는 명제가 성립하는 관계\n",
        "  - A : 자식클래스, B : 부모클래스\n",
        "- **상속**에 의해 구현 된다.\n",
        "```python\n",
        "class Animal:\n",
        "    pass\n",
        "```\n",
        "```python\n",
        "class Lion(Animal): # Lion is a Animal\n",
        "    pass\n",
        "```\n",
        "\n"
      ],
      "metadata": {
        "id": "NoJ6tiptr8N1"
      }
    },
    {
      "cell_type": "markdown",
      "source": [
        "### 상속을 잘못 사용하는 경우\n",
        "- 클래스 하나 구현 해 놓고 돌려가면서 쓰고 싶어요\n",
        "- 메소드나 변수를 만들어 놓고 여러 클래스가 돌려가면서 쓰고 싶어요\n",
        "\n",
        "> 예시 : 오토바이랑 자동차를 만들고 싶어요. 오토바이도 엔진을 이용해서 시동을 켜고, 자동차도 엔진을 이용해서 시동을 켜야 해요\n",
        "\n",
        "Engine 클래스를 만들어서 자동차, 오토바이 클래스에 각각 상속 시키면 되지 않을까?\n",
        "```\n",
        "상속은 'is-a' 관계를 나타낼 때 사용해야 합니다.\n",
        "즉, 자식 클래스는 부모 클래스의 일종이어야 합니다.\n",
        "예를 들어, '고양이'는 '동물'의 일종이므로 '고양이' 클래스는 '동물' 클래스를 상속받을 수 있습니다.\n",
        "하지만 '자동차'와 '엔진'은 'is-a' 관계가 아니므로 '자동차' 클래스가 '엔진' 클래스를 상속받는 것은 적절하지 않습니다.\n",
        "이 경우에는 'has-a' 관계를 사용하는 것이 더 적절합니다. 즉, '자동차' 클래스는 '엔진' 클래스의 객체를 멤버 변수로 갖는 것이 더 적절합니다.\n",
        "```"
      ],
      "metadata": {
        "id": "TrDleDDgx5Eq"
      }
    },
    {
      "cell_type": "code",
      "source": [
        "class Engine:\n",
        "\n",
        "  def turn_on(self):\n",
        "    print(\"엔진 시동을 걸었습니다.\")\n",
        "\n",
        "  def turn_off(self):\n",
        "    print(\"엔진 시동을 껐습니다.\")"
      ],
      "metadata": {
        "id": "_68T2cP1x_dC"
      },
      "execution_count": null,
      "outputs": []
    },
    {
      "cell_type": "code",
      "source": [
        "class Car(Engine): # 자동차는 엔진입니다. - 성립하지 않는 명제\n",
        "\n",
        "  def drive(self):\n",
        "    self.turn_on()\n",
        "    print(\"자동차가 앞으로 갑니다.\")\n",
        "\n",
        "  def stop(self):\n",
        "    print(\"자동차가 멈췄습니다.\")\n",
        "    self.turn_off()"
      ],
      "metadata": {
        "id": "CxuTAngfyBWu"
      },
      "execution_count": null,
      "outputs": []
    },
    {
      "cell_type": "code",
      "source": [
        "car = Car()\n",
        "car.drive()\n",
        "car.stop()"
      ],
      "metadata": {
        "colab": {
          "base_uri": "https://localhost:8080/"
        },
        "id": "c7AdD_5ByCGQ",
        "outputId": "7d0c25ec-c89b-4fca-c550-51cdaaa01d95"
      },
      "execution_count": null,
      "outputs": [
        {
          "output_type": "stream",
          "name": "stdout",
          "text": [
            "엔진 시동을 걸었습니다.\n",
            "자동차가 앞으로 갑니다.\n",
            "자동차가 멈췄습니다.\n",
            "엔진 시동을 껐습니다.\n"
          ]
        }
      ]
    },
    {
      "cell_type": "code",
      "source": [
        "class 바퀴가_두개인_이동수단(Engine): # 바퀴가 두개인 이동수단은 엔진이다.\n",
        "\n",
        "  def drive(self):\n",
        "    self.turn_on()\n",
        "\n",
        "  def stop(self):\n",
        "    self.turn_off()\n",
        "\n",
        "class 오토바이(바퀴가_두개인_이동수단):\n",
        "  # 엔진으로 가는거 맞죠\n",
        "  pass\n",
        "\n",
        "class 자전거(바퀴가_두개인_이동수단):\n",
        "  # 엔진으로 가는게 아닌데\n",
        "  # 엔진으로 갈 수 있게 되어요\n",
        "  pass"
      ],
      "metadata": {
        "id": "-tBkgELeyDNi"
      },
      "execution_count": null,
      "outputs": []
    },
    {
      "cell_type": "markdown",
      "source": [
        "## `Has a` 관계\n",
        "- `A has a B` : 클래스 A는 클래스 B를 갖는다.\n",
        "- A 클래스의 **멤버 변수**로 B 클래스의 객체를 가지고 있으면 된다."
      ],
      "metadata": {
        "id": "y47dqTNIyETi"
      }
    },
    {
      "cell_type": "code",
      "source": [
        "class Car:\n",
        "  def __init__(self):\n",
        "    # 엔진이 강결합된 상태 : 무조건 람보르기니 엔진만 갖다가 쓰고 싶어요~!\n",
        "    self.engine = Engine(\"람보르기니\") # 소유관계 has a 관계\n",
        "\n",
        "  def drive(self):\n",
        "    # 내 부품 중에 하나인 engine의 시동을 켠다.\n",
        "    self.engine.turn_on()\n",
        "    print(\"자동차가 앞으로 갑니다.\")"
      ],
      "metadata": {
        "id": "LKr20zn1zBMu"
      },
      "execution_count": null,
      "outputs": []
    },
    {
      "cell_type": "code",
      "source": [
        "class Car:\n",
        "  def __init__(self, engine):\n",
        "    # 엔진이 약결합된 상태 : 자동차를 만들 때 엔진을 교체 해가면서 쓰고 싶어요~!\n",
        "    self.engine = engine # 소유관계 has a 관계\n",
        "\n",
        "  def drive(self):\n",
        "    # 내 부품 중에 하나인 engine의 시동을 켠다.\n",
        "    self.engine.turn_on()\n",
        "    print(\"자동차가 앞으로 갑니다.\")"
      ],
      "metadata": {
        "id": "EBOnJo3hzBjB"
      },
      "execution_count": null,
      "outputs": []
    },
    {
      "cell_type": "code",
      "source": [
        "class Engine:\n",
        "  def __init__(self, name):\n",
        "    self.name = name\n",
        "  def turn_on(self):\n",
        "    print(f\"{self.name} 엔진 시동을 걸었습니다.\")\n",
        "  def turn_off(self):\n",
        "    print(f\"{self.name} 엔진 시동을 껐습니다.\")"
      ],
      "metadata": {
        "id": "J9wQuzuxzDju"
      },
      "execution_count": null,
      "outputs": []
    },
    {
      "cell_type": "code",
      "source": [
        "lambo_engine = Engine(\"람보르기니\")\n",
        "\n",
        "car = Car(lambo_engine)\n",
        "car.drive()"
      ],
      "metadata": {
        "colab": {
          "base_uri": "https://localhost:8080/"
        },
        "id": "PymVxKnqzxvb",
        "outputId": "65996eb3-85f5-40fb-a46d-18af61ecfe96"
      },
      "execution_count": null,
      "outputs": [
        {
          "output_type": "stream",
          "name": "stdout",
          "text": [
            "람보르기니 엔진 시동을 걸었습니다.\n",
            "자동차가 앞으로 갑니다.\n"
          ]
        }
      ]
    },
    {
      "cell_type": "code",
      "source": [
        "bongo_engine = Engine(\"봉고\")\n",
        "\n",
        "car = Car(bongo_engine)\n",
        "car.drive()"
      ],
      "metadata": {
        "colab": {
          "base_uri": "https://localhost:8080/"
        },
        "id": "-EOqvseuz0Gb",
        "outputId": "e28bf8e5-ec73-4108-eabe-bcb652951833"
      },
      "execution_count": null,
      "outputs": [
        {
          "output_type": "stream",
          "name": "stdout",
          "text": [
            "봉고 엔진 시동을 걸었습니다.\n",
            "자동차가 앞으로 갑니다.\n"
          ]
        }
      ]
    },
    {
      "cell_type": "markdown",
      "source": [
        "## `Use A` 관계\n",
        "- `A use a B` : A가 B를 사용하는 관계\n",
        "- 부품은 아니지만, A 클래스 특정 **메소드**를 사용할 때 B 객체를 넣어야 하는 관계\n",
        "\n",
        "반대로 부품 관계에 있으려면 멤버 변수가 꼭 필요함@!\n",
        "\n",
        "```\n",
        "Has-A 관계와의 차이점: Has-A 관계는 클래스 A가 클래스 B의 객체를 멤버 변수로 가지는 관계입니다.\n",
        "즉, A는 B를 소유합니다. 반면, Use A 관계는 클래스 A가 클래스 B의 객체를 멤버 변수로 가지지 않고, 필요할 때만 B의 기능을 사용합니다.\n",
        "```"
      ],
      "metadata": {
        "id": "w3emQxpCz1Lu"
      }
    },
    {
      "cell_type": "code",
      "source": [
        "class Car:\n",
        "  def drive_through(self, food):\n",
        "    print(\"드라이브 쓰루하면서\")\n",
        "    food.eat()\n",
        "\n",
        "class Hamburger:\n",
        "  def eat(self):\n",
        "    print(\"참깨빵 위에~~~~특별한 소스 양상추까지~ 빨빠빠밤\")\n",
        "\n",
        "h = Hamburger()\n",
        "c = Car()\n",
        "\n",
        "# 자동차로 드라이브 쓰루를 하면서 햄버거를 먹는것\n",
        "c.drive_through(h)"
      ],
      "metadata": {
        "colab": {
          "base_uri": "https://localhost:8080/"
        },
        "id": "H5dj6rGdz4XB",
        "outputId": "1b16a0d0-be9e-483b-e8ff-d02136aaac5b"
      },
      "execution_count": null,
      "outputs": [
        {
          "output_type": "stream",
          "name": "stdout",
          "text": [
            "드라이브 쓰루하면서\n",
            "참깨빵 위에~~~~특별한 소스 양상추까지~ 빨빠빠밤\n"
          ]
        }
      ]
    },
    {
      "cell_type": "markdown",
      "source": [
        "# 정적 메소드(static method)\n",
        "\n",
        "인스턴스 없이 호출될 수 있는 메소드.\n",
        "\n",
        "클래스 네임스페이스*에 속하고, 객체와는 독립적으로 동작함.\n",
        "\n",
        "1. self 매개변수를 받지 않음(= 객체 상태에 접근 못함)\n",
        "2. 클래스 or 인스턴스를 통해 호출 가능함\n",
        "3. 객체 상태를 변경 or 참조할 수 없음\n",
        "4. 유틸리티 함수 또는 헬퍼 함수로 사용됨\n",
        "\n",
        "**`@staticmethod` 데코레이터를 사용하여 정적 메소드를 정의**\n",
        "\n",
        "*클래스 네임스페이스: 클래스 내부에서 정의된 변수, 함수, 클래스 등을 포함하는 공간"
      ],
      "metadata": {
        "id": "1LkeKLeKO6rT"
      }
    },
    {
      "cell_type": "code",
      "source": [
        "class A:\n",
        "\n",
        "  def goo(self):\n",
        "    pass\n",
        "\n",
        "  @staticmethod\n",
        "  def foo():\n",
        "    print(\"Hello\")\n",
        "\n",
        "# 클래스 네임스페이스(클래스 명)을 통해 접근\n",
        "A.foo()"
      ],
      "metadata": {
        "colab": {
          "base_uri": "https://localhost:8080/"
        },
        "id": "eMHcSFCLPwn8",
        "outputId": "42555a46-4be2-45c4-8f69-0312b4ac2508"
      },
      "execution_count": null,
      "outputs": [
        {
          "output_type": "stream",
          "name": "stdout",
          "text": [
            "Hello\n"
          ]
        }
      ]
    },
    {
      "cell_type": "code",
      "source": [
        "class B:\n",
        "\n",
        "  def __init__(self):\n",
        "    self.var1 = \"Hi\"\n",
        "\n",
        "  @staticmethod\n",
        "  def foo():\n",
        "    # var1을 출력 할 수 있을까?\n",
        "\n",
        "\n",
        "    # 멤버 변수 사용 불가!!\n",
        "    print()"
      ],
      "metadata": {
        "id": "f8OKrGUePKEL"
      },
      "execution_count": null,
      "outputs": []
    },
    {
      "cell_type": "markdown",
      "source": [
        "# 클래스 메소드 & 클래스 변수\n",
        "\n",
        "- 클래스 변수는 클래스 내부에서 정의되지만, 모든 인스턴스에서 공유로 사용됨.\n",
        "- 클래스 메소드는 `@classmethod` 데코레이터를 사용하여 정의함.\n",
        "- 클래스 메소드는 첫 번째 매개변수로 클래스 (`cls`)를 받음.\n"
      ],
      "metadata": {
        "id": "HRb3OJN0Sjeh"
      }
    },
    {
      "cell_type": "code",
      "source": [
        "class A:\n",
        "  class_var = 10\n",
        "\n",
        "  def foo(self):\n",
        "    # 클래스 변수는 멤버 변수처럼 인스턴스를 통한 접근도 가능!\n",
        "    print(self.class_var)\n",
        "\n",
        "A.class_var"
      ],
      "metadata": {
        "colab": {
          "base_uri": "https://localhost:8080/"
        },
        "id": "o0V9x2M4U6_o",
        "outputId": "9077d3f6-0760-4135-b982-70b20ecbd784"
      },
      "execution_count": null,
      "outputs": [
        {
          "output_type": "execute_result",
          "data": {
            "text/plain": [
              "10"
            ]
          },
          "metadata": {},
          "execution_count": 4
        }
      ]
    },
    {
      "cell_type": "code",
      "source": [
        "class B:\n",
        "  class_var = \"Hello\"\n",
        "\n",
        "  @classmethod\n",
        "  def goo(cls):\n",
        "    print(cls)\n",
        "    print(cls.class_var)  # 클래스 변수 접근 가능. 추가로 수정도 가능함.\n",
        "\n",
        "B.goo()"
      ],
      "metadata": {
        "id": "8dMLnsrGVTZp",
        "outputId": "f5e7cec4-e2e8-45c2-dbb9-95368b0835a1",
        "colab": {
          "base_uri": "https://localhost:8080/"
        }
      },
      "execution_count": 1,
      "outputs": [
        {
          "output_type": "stream",
          "name": "stdout",
          "text": [
            "<class '__main__.B'>\n",
            "Hello\n"
          ]
        }
      ]
    },
    {
      "cell_type": "code",
      "source": [
        "class C(B):\n",
        "  pass\n",
        "\n",
        "C.goo()"
      ],
      "metadata": {
        "id": "aqq06fccVVoj",
        "colab": {
          "base_uri": "https://localhost:8080/"
        },
        "outputId": "2be964a6-c6b4-45ea-ec8f-257e97a1c01c"
      },
      "execution_count": null,
      "outputs": [
        {
          "output_type": "stream",
          "name": "stdout",
          "text": [
            "<class '__main__.C'>\n",
            "Hello\n"
          ]
        }
      ]
    }
  ]
}