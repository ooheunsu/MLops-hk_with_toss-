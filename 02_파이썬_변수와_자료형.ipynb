{
  "nbformat": 4,
  "nbformat_minor": 0,
  "metadata": {
    "colab": {
      "provenance": [],
      "authorship_tag": "ABX9TyPALo4FkoRpoEgx7vgeoCnV",
      "include_colab_link": true
    },
    "kernelspec": {
      "name": "python3",
      "display_name": "Python 3"
    },
    "language_info": {
      "name": "python"
    }
  },
  "cells": [
    {
      "cell_type": "markdown",
      "metadata": {
        "id": "view-in-github",
        "colab_type": "text"
      },
      "source": [
        "<a href=\"https://colab.research.google.com/github/ooheunsu/MLops-hk_with_toss-/blob/main/02_%ED%8C%8C%EC%9D%B4%EC%8D%AC_%EB%B3%80%EC%88%98%EC%99%80_%EC%9E%90%EB%A3%8C%ED%98%95.ipynb\" target=\"_parent\"><img src=\"https://colab.research.google.com/assets/colab-badge.svg\" alt=\"Open In Colab\"/></a>"
      ]
    },
    {
      "cell_type": "markdown",
      "source": [
        "# 변수\n",
        "- 값이 저장될 수 있는 공간\n",
        "- 원할때마다 변수값을 바꿀 수 있음."
      ],
      "metadata": {
        "id": "9zSdXPg-5BhC"
      }
    },
    {
      "cell_type": "code",
      "source": [
        "a = 2\n",
        "print(a)"
      ],
      "metadata": {
        "colab": {
          "base_uri": "https://localhost:8080/"
        },
        "id": "ordtkJor6yFi",
        "outputId": "5c46948e-8f0b-415c-8872-1ed830768ca9"
      },
      "execution_count": null,
      "outputs": [
        {
          "output_type": "stream",
          "name": "stdout",
          "text": [
            "2\n"
          ]
        }
      ]
    },
    {
      "cell_type": "markdown",
      "source": [
        "# Comment(주석)\n",
        "- 코드에서 # 으로 시작하는 부분, 실행되지 않음\n",
        "- 개발자가 어떤 코드인지 설명하는 위한거."
      ],
      "metadata": {
        "id": "jw-HFbL162o7"
      }
    },
    {
      "cell_type": "code",
      "source": [
        "a = 1\n",
        "b = 1 # 주석써보기"
      ],
      "metadata": {
        "id": "XxVpo47ySQbN"
      },
      "execution_count": null,
      "outputs": []
    },
    {
      "cell_type": "markdown",
      "source": [
        "# 변수에 값이 들어가는 과정\n",
        "1. 변수의 선언( Declaration )\n",
        "2. 변수에 값을 할당( Assignment )"
      ],
      "metadata": {
        "id": "zIH-TWGjSSa2"
      }
    },
    {
      "cell_type": "code",
      "source": [
        "c = 1 # 변수 c를 선언하고, 1을 할당했다."
      ],
      "metadata": {
        "id": "CHxuvkACTHC1"
      },
      "execution_count": null,
      "outputs": []
    },
    {
      "cell_type": "markdown",
      "source": [
        "# 자료형(Data Type)\n",
        "파이썬은 기본적으로 4가지 자료형을 가지고 있습니다.\n",
        "- int 정수\n",
        "- float 실수 (3.0은 실수)\n",
        "- string 문자열\n",
        "- bool 참거짓"
      ],
      "metadata": {
        "id": "feRxdTzhTW9P"
      }
    },
    {
      "cell_type": "code",
      "source": [
        "a = 1\n",
        "type(a)"
      ],
      "metadata": {
        "colab": {
          "base_uri": "https://localhost:8080/"
        },
        "id": "9Cg-yWQKTdp8",
        "outputId": "1e10fe25-a9cb-42da-c303-1645b3636d64"
      },
      "execution_count": null,
      "outputs": [
        {
          "output_type": "execute_result",
          "data": {
            "text/plain": [
              "int"
            ]
          },
          "metadata": {},
          "execution_count": 4
        }
      ]
    },
    {
      "cell_type": "code",
      "source": [
        "a = 1.0\n",
        "type(a)"
      ],
      "metadata": {
        "colab": {
          "base_uri": "https://localhost:8080/"
        },
        "id": "y4p7PtzaUU0u",
        "outputId": "dc537b2a-a11d-449b-842a-b396f7a37456"
      },
      "execution_count": null,
      "outputs": [
        {
          "output_type": "execute_result",
          "data": {
            "text/plain": [
              "float"
            ]
          },
          "metadata": {},
          "execution_count": 7
        }
      ]
    },
    {
      "cell_type": "code",
      "source": [
        "b = 3.14\n",
        "type(b)"
      ],
      "metadata": {
        "colab": {
          "base_uri": "https://localhost:8080/"
        },
        "id": "nH0N300vUXqC",
        "outputId": "b9854740-bda7-45ef-da95-5268643298b0"
      },
      "execution_count": null,
      "outputs": [
        {
          "output_type": "execute_result",
          "data": {
            "text/plain": [
              "float"
            ]
          },
          "metadata": {},
          "execution_count": 8
        }
      ]
    },
    {
      "cell_type": "code",
      "source": [
        "# 문자열은 '' 또는 \"\" 을 사용함.\n",
        "a = \"응\"\n",
        "type(a)"
      ],
      "metadata": {
        "colab": {
          "base_uri": "https://localhost:8080/"
        },
        "id": "bc2Y9Ex_Uxnr",
        "outputId": "115d8e06-a686-4142-f8a2-fdde86dbbb00"
      },
      "execution_count": null,
      "outputs": [
        {
          "output_type": "execute_result",
          "data": {
            "text/plain": [
              "str"
            ]
          },
          "metadata": {},
          "execution_count": 10
        }
      ]
    },
    {
      "cell_type": "code",
      "source": [
        "a = 'hello'\n",
        "type(a)"
      ],
      "metadata": {
        "colab": {
          "base_uri": "https://localhost:8080/"
        },
        "id": "UgGrQNL2U2X2",
        "outputId": "4599a97f-b84c-42de-cd20-9a6802eef23e"
      },
      "execution_count": null,
      "outputs": [
        {
          "output_type": "execute_result",
          "data": {
            "text/plain": [
              "str"
            ]
          },
          "metadata": {},
          "execution_count": 12
        }
      ]
    },
    {
      "cell_type": "code",
      "source": [
        "# 안녕하세요, 제 이름은 '소민호' 입니다. <- 그대로 출력하려면?\n",
        "print(\"안녕하세요, 제 이름은 '소민호' 입니다.\")\n",
        "print('안녕하세요, 제 이름은 \"소민호\" 입니다.')"
      ],
      "metadata": {
        "colab": {
          "base_uri": "https://localhost:8080/"
        },
        "id": "tnqr8MOCVN5v",
        "outputId": "3e09d0fc-67fc-4fa5-e1c2-01fac35ad476"
      },
      "execution_count": null,
      "outputs": [
        {
          "output_type": "stream",
          "name": "stdout",
          "text": [
            "안녕하세요, 제 이름은 '소민호' 입니다.\n",
            "안녕하세요, 제 이름은 \"소민호\" 입니다.\n"
          ]
        }
      ]
    },
    {
      "cell_type": "code",
      "source": [
        "a = 3 > 2\n",
        "print(a)"
      ],
      "metadata": {
        "colab": {
          "base_uri": "https://localhost:8080/"
        },
        "id": "Z9IkGc6jVpyK",
        "outputId": "ae373dce-4881-4b8e-9aee-a85dc0785458"
      },
      "execution_count": null,
      "outputs": [
        {
          "output_type": "stream",
          "name": "stdout",
          "text": [
            "True\n"
          ]
        }
      ]
    },
    {
      "cell_type": "code",
      "source": [
        "a = 3 < 2\n",
        "print(a)\n",
        "type(a)"
      ],
      "metadata": {
        "colab": {
          "base_uri": "https://localhost:8080/"
        },
        "id": "B1Vw4I4XWLWh",
        "outputId": "912fbe12-41e9-4b1f-eb05-63f3e780961d"
      },
      "execution_count": null,
      "outputs": [
        {
          "output_type": "stream",
          "name": "stdout",
          "text": [
            "False\n"
          ]
        },
        {
          "output_type": "execute_result",
          "data": {
            "text/plain": [
              "bool"
            ]
          },
          "metadata": {},
          "execution_count": 19
        }
      ]
    },
    {
      "cell_type": "markdown",
      "source": [
        "# Variable naming(변수이름규칙)\n",
        "- 변수 이름을 지을 때\n",
        "\n",
        "1. snake_case (ex. toss_bank)\n",
        "2. CamelCase (ex. TossBank)\n",
        "3. kebab-case (ex. toss-bank)\n",
        "\n",
        "파이썬 관례상 변수이름은 snake_case, 클래스 이름은 CamelCase"
      ],
      "metadata": {
        "id": "QXJmSSLeWTZy"
      }
    },
    {
      "cell_type": "code",
      "source": [
        "student_name = \"minho\""
      ],
      "metadata": {
        "id": "5o_WAHpQamEw"
      },
      "execution_count": null,
      "outputs": []
    },
    {
      "cell_type": "code",
      "source": [
        "class StudentName:\n",
        "    pass"
      ],
      "metadata": {
        "id": "X__oH51vaqeZ"
      },
      "execution_count": null,
      "outputs": []
    },
    {
      "cell_type": "code",
      "source": [
        "학생이름 = \"민호\"\n",
        "print(학생이름)"
      ],
      "metadata": {
        "colab": {
          "base_uri": "https://localhost:8080/"
        },
        "id": "KE4luWPQauAF",
        "outputId": "5c394473-35e3-4040-c7e0-a4f6f8c51ae8"
      },
      "execution_count": null,
      "outputs": [
        {
          "output_type": "stream",
          "name": "stdout",
          "text": [
            "민호\n"
          ]
        }
      ]
    },
    {
      "cell_type": "markdown",
      "source": [
        "# 상수\n",
        "- 변수는 변하는 수\n",
        "- 상수는 변하지 않는 수, 파이썬에는 상수가 없다?\n",
        "  - 변수에 특별한 효과를 줘서 상수로 사람이 인지하게함"
      ],
      "metadata": {
        "id": "Bkth1YGgawMi"
      }
    },
    {
      "cell_type": "code",
      "source": [
        "# 파이썬에는 상수가 없지만, 관례적으로 상수처럼 생각하게 함\n",
        "_jumin_number = \"880129-1xxxxxxx\"\n",
        "JUMIN_NUMBER = \"880129-1xxxxxxx\""
      ],
      "metadata": {
        "id": "_Jnhhgshbe5H"
      },
      "execution_count": null,
      "outputs": []
    }
  ]
}