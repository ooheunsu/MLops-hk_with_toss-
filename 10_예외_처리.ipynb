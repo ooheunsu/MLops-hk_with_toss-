{
  "nbformat": 4,
  "nbformat_minor": 0,
  "metadata": {
    "colab": {
      "provenance": [],
      "authorship_tag": "ABX9TyNLJiPzyD8RIHK4nHFqPYhN",
      "include_colab_link": true
    },
    "kernelspec": {
      "name": "python3",
      "display_name": "Python 3"
    },
    "language_info": {
      "name": "python"
    }
  },
  "cells": [
    {
      "cell_type": "markdown",
      "metadata": {
        "id": "view-in-github",
        "colab_type": "text"
      },
      "source": [
        "<a href=\"https://colab.research.google.com/github/ooheunsu/MLops-hk_with_toss-/blob/main/10_%EC%98%88%EC%99%B8_%EC%B2%98%EB%A6%AC.ipynb\" target=\"_parent\"><img src=\"https://colab.research.google.com/assets/colab-badge.svg\" alt=\"Open In Colab\"/></a>"
      ]
    },
    {
      "cell_type": "markdown",
      "source": [
        "# 예외(Exception)\n",
        "- 프로그램 구동중에 의도치 않게 작동하는 것\n"
      ],
      "metadata": {
        "id": "lvXZvsslgbBs"
      }
    },
    {
      "cell_type": "markdown",
      "source": [
        "# 오류(Error)\n",
        "- 완성된 프로그램과 상관 없이 외력에 의해 프로그램이 작동하지 않는 것"
      ],
      "metadata": {
        "id": "eUuorNHmghZf"
      }
    },
    {
      "cell_type": "code",
      "source": [
        "a ="
      ],
      "metadata": {
        "colab": {
          "base_uri": "https://localhost:8080/",
          "height": 111
        },
        "id": "hiuZDWikg_9j",
        "outputId": "b20425e6-688e-438f-9ef4-a00483404fe4"
      },
      "execution_count": null,
      "outputs": [
        {
          "output_type": "error",
          "ename": "SyntaxError",
          "evalue": "invalid syntax (<ipython-input-1-2c049fb40fc4>, line 1)",
          "traceback": [
            "\u001b[0;36m  File \u001b[0;32m\"<ipython-input-1-2c049fb40fc4>\"\u001b[0;36m, line \u001b[0;32m1\u001b[0m\n\u001b[0;31m    a =\u001b[0m\n\u001b[0m       ^\u001b[0m\n\u001b[0;31mSyntaxError\u001b[0m\u001b[0;31m:\u001b[0m invalid syntax\n"
          ]
        }
      ]
    },
    {
      "cell_type": "markdown",
      "source": [
        "프로그램 구동 중 `예외( Exception )`을 만나면 무조건 프로그램이 종료\n",
        "- 아주 작은 예외인데 이거 때문에 프로그램이 꺼지면... 불편하지 않을까요?"
      ],
      "metadata": {
        "id": "l-4IK8vShvoF"
      }
    },
    {
      "cell_type": "code",
      "source": [
        "1/2"
      ],
      "metadata": {
        "colab": {
          "base_uri": "https://localhost:8080/"
        },
        "id": "AUHkhhZShzxf",
        "outputId": "8b3da6b7-7993-454f-e6f0-0187149cc230"
      },
      "execution_count": null,
      "outputs": [
        {
          "output_type": "execute_result",
          "data": {
            "text/plain": [
              "0.5"
            ]
          },
          "metadata": {},
          "execution_count": 2
        }
      ]
    },
    {
      "cell_type": "code",
      "source": [
        "1/0"
      ],
      "metadata": {
        "colab": {
          "base_uri": "https://localhost:8080/",
          "height": 148
        },
        "id": "LbxjJseLh1Wy",
        "outputId": "8920f80a-3990-470c-fe00-1962412e3fe8"
      },
      "execution_count": null,
      "outputs": [
        {
          "output_type": "error",
          "ename": "ZeroDivisionError",
          "evalue": "division by zero",
          "traceback": [
            "\u001b[0;31m---------------------------------------------------------------------------\u001b[0m",
            "\u001b[0;31mZeroDivisionError\u001b[0m                         Traceback (most recent call last)",
            "\u001b[0;32m<ipython-input-3-9e1622b385b6>\u001b[0m in \u001b[0;36m<cell line: 1>\u001b[0;34m()\u001b[0m\n\u001b[0;32m----> 1\u001b[0;31m \u001b[0;36m1\u001b[0m\u001b[0;34m/\u001b[0m\u001b[0;36m0\u001b[0m\u001b[0;34m\u001b[0m\u001b[0;34m\u001b[0m\u001b[0m\n\u001b[0m",
            "\u001b[0;31mZeroDivisionError\u001b[0m: division by zero"
          ]
        }
      ]
    },
    {
      "cell_type": "code",
      "source": [
        "lst = [1,2,3]\n",
        "lst[3]"
      ],
      "metadata": {
        "colab": {
          "base_uri": "https://localhost:8080/",
          "height": 166
        },
        "id": "Mwis0x1kh2tj",
        "outputId": "d0473fd9-ad1a-4016-f7ee-e3da6626ed2d"
      },
      "execution_count": null,
      "outputs": [
        {
          "output_type": "error",
          "ename": "IndexError",
          "evalue": "list index out of range",
          "traceback": [
            "\u001b[0;31m---------------------------------------------------------------------------\u001b[0m",
            "\u001b[0;31mIndexError\u001b[0m                                Traceback (most recent call last)",
            "\u001b[0;32m<ipython-input-4-6edc092358ca>\u001b[0m in \u001b[0;36m<cell line: 2>\u001b[0;34m()\u001b[0m\n\u001b[1;32m      1\u001b[0m \u001b[0mlst\u001b[0m \u001b[0;34m=\u001b[0m \u001b[0;34m[\u001b[0m\u001b[0;36m1\u001b[0m\u001b[0;34m,\u001b[0m\u001b[0;36m2\u001b[0m\u001b[0;34m,\u001b[0m\u001b[0;36m3\u001b[0m\u001b[0;34m]\u001b[0m\u001b[0;34m\u001b[0m\u001b[0;34m\u001b[0m\u001b[0m\n\u001b[0;32m----> 2\u001b[0;31m \u001b[0mlst\u001b[0m\u001b[0;34m[\u001b[0m\u001b[0;36m3\u001b[0m\u001b[0;34m]\u001b[0m\u001b[0;34m\u001b[0m\u001b[0;34m\u001b[0m\u001b[0m\n\u001b[0m",
            "\u001b[0;31mIndexError\u001b[0m: list index out of range"
          ]
        }
      ]
    },
    {
      "cell_type": "markdown",
      "source": [
        "- `try` : 예외가 일어날만한 코드가 들어가는 구간 ( 일반적인 코드)\n",
        "- `except` : `try`에서 일어난 예외를 처리하는 구간 ( 예외처리 코드 )\n",
        "\n",
        "( try 와 except 는 서로 짝궁임 )\n",
        "- `finally` : `try`, `except` 구문이 실행 된 후 실행할 코드\n",
        "- `raise` : 특정 상황에서 개발자가 일부러 예외를 발생 시키기 위한 코드"
      ],
      "metadata": {
        "id": "LF_5rOvqiAqo"
      }
    },
    {
      "cell_type": "code",
      "source": [
        "lst = [1, 2, 3]\n",
        "\n",
        "try:\n",
        "  print(\"Hello\")\n",
        "  print(lst[3])\n",
        "  print(\"Bye\")\n",
        "except:\n",
        "  print(\"Error 발생!!\")\n",
        "\n"
      ],
      "metadata": {
        "colab": {
          "base_uri": "https://localhost:8080/"
        },
        "id": "e7obx5m7ihLt",
        "outputId": "b32c9e51-729e-4d00-a33c-456af64eebf4"
      },
      "execution_count": null,
      "outputs": [
        {
          "output_type": "stream",
          "name": "stdout",
          "text": [
            "Hello\n",
            "Error 발생!!\n"
          ]
        }
      ]
    },
    {
      "cell_type": "code",
      "source": [
        "lst = [1, 2, 3]\n",
        "\n",
        "try:\n",
        "  print(\"Hello\")\n",
        "  print(lst[3])\n",
        "  print(\"Bye\")\n",
        "except Exception as e:\n",
        "  print(\"Error 발생!!\")\n",
        "  print(e)"
      ],
      "metadata": {
        "colab": {
          "base_uri": "https://localhost:8080/"
        },
        "id": "70deIwnGjLA-",
        "outputId": "1d878515-aae5-4c88-f80a-5862bb1697bf"
      },
      "execution_count": null,
      "outputs": [
        {
          "output_type": "stream",
          "name": "stdout",
          "text": [
            "Hello\n",
            "Error 발생!!\n",
            "list index out of range\n"
          ]
        }
      ]
    },
    {
      "cell_type": "code",
      "source": [
        "lst = [1, 2, 3]\n",
        "\n",
        "try:\n",
        "  print(\"Hello\")\n",
        "  print(lst[3])\n",
        "  print(\"Bye\")\n",
        "except Exception as e:\n",
        "  print(\"Error 발생!!\")\n",
        "  print(e)\n",
        "finally:\n",
        "  print(\"Done\")"
      ],
      "metadata": {
        "colab": {
          "base_uri": "https://localhost:8080/"
        },
        "id": "PvVcpgSPkQTz",
        "outputId": "2fdb8f11-2cf2-4ee1-9668-04060a0e0f5e"
      },
      "execution_count": null,
      "outputs": [
        {
          "output_type": "stream",
          "name": "stdout",
          "text": [
            "Hello\n",
            "Error 발생!!\n",
            "list index out of range\n",
            "Done\n"
          ]
        }
      ]
    },
    {
      "cell_type": "markdown",
      "source": [
        "# 예외 커스터마이징\n",
        "\n",
        "1. `Exception` 클래스를 상속하여 새로운 예외 클래스를 정의합니다.\n",
        "2. `__init__` 메서드를 사용하여 예외 객체를 초기화합니다.\n",
        "3. `__str__` 메서드를 사용하여 예외 메시지를 정의합니다."
      ],
      "metadata": {
        "id": "CXao0q2ilW_d"
      }
    },
    {
      "cell_type": "code",
      "source": [
        "# 좋지 않은 예시\n",
        "def set_age_bad(age):\n",
        "  if age < 0:\n",
        "    return \"나이 값이 올바르지 않습니다. {}\".format(age)\n",
        "set_age_bad(-5)"
      ],
      "metadata": {
        "id": "BP7ajxzilq5a",
        "colab": {
          "base_uri": "https://localhost:8080/",
          "height": 36
        },
        "outputId": "b54db928-a018-4de6-91fb-4adecce8b17e"
      },
      "execution_count": null,
      "outputs": [
        {
          "output_type": "execute_result",
          "data": {
            "text/plain": [
              "'나이 값이 올바르지 않습니다. -5'"
            ],
            "application/vnd.google.colaboratory.intrinsic+json": {
              "type": "string"
            }
          },
          "metadata": {},
          "execution_count": 8
        }
      ]
    },
    {
      "cell_type": "code",
      "source": [
        "# 나이 예외 클래스\n",
        "class AgeException(Exception):\n",
        "\n",
        "  def __init__(self, age):\n",
        "    self.age = age\n",
        "\n",
        "  # 예외 표시 문자열 정의\n",
        "  def __str__(self):\n",
        "    return \"나이 값이 올바르지 않습니다. {}\".format(self.age)"
      ],
      "metadata": {
        "id": "O0_3bLPWnnKU"
      },
      "execution_count": null,
      "outputs": []
    },
    {
      "cell_type": "code",
      "source": [
        "def set_age_good(age):\n",
        "  if age < 0:\n",
        "    # 나이가 음수면 예외 상황. 즉 여기서 예외를 일으킨다.(raise)\n",
        "    raise AgeException(age)\n",
        "\n",
        "set_age_good(-10)"
      ],
      "metadata": {
        "colab": {
          "base_uri": "https://localhost:8080/",
          "height": 313
        },
        "id": "sTifhEywnnz6",
        "outputId": "af2bb1e6-6a82-44e5-a673-b60ccc72d9dd"
      },
      "execution_count": null,
      "outputs": [
        {
          "output_type": "error",
          "ename": "AgeException",
          "evalue": "나이 값이 올바르지 않습니다. -10",
          "traceback": [
            "\u001b[0;31m---------------------------------------------------------------------------\u001b[0m",
            "\u001b[0;31mAgeException\u001b[0m                              Traceback (most recent call last)",
            "\u001b[0;32m<ipython-input-10-1bb596e7744a>\u001b[0m in \u001b[0;36m<cell line: 6>\u001b[0;34m()\u001b[0m\n\u001b[1;32m      4\u001b[0m     \u001b[0;32mraise\u001b[0m \u001b[0mAgeException\u001b[0m\u001b[0;34m(\u001b[0m\u001b[0mage\u001b[0m\u001b[0;34m)\u001b[0m\u001b[0;34m\u001b[0m\u001b[0;34m\u001b[0m\u001b[0m\n\u001b[1;32m      5\u001b[0m \u001b[0;34m\u001b[0m\u001b[0m\n\u001b[0;32m----> 6\u001b[0;31m \u001b[0mset_age_good\u001b[0m\u001b[0;34m(\u001b[0m\u001b[0;34m-\u001b[0m\u001b[0;36m10\u001b[0m\u001b[0;34m)\u001b[0m\u001b[0;34m\u001b[0m\u001b[0;34m\u001b[0m\u001b[0m\n\u001b[0m",
            "\u001b[0;32m<ipython-input-10-1bb596e7744a>\u001b[0m in \u001b[0;36mset_age_good\u001b[0;34m(age)\u001b[0m\n\u001b[1;32m      2\u001b[0m   \u001b[0;32mif\u001b[0m \u001b[0mage\u001b[0m \u001b[0;34m<\u001b[0m \u001b[0;36m0\u001b[0m\u001b[0;34m:\u001b[0m\u001b[0;34m\u001b[0m\u001b[0;34m\u001b[0m\u001b[0m\n\u001b[1;32m      3\u001b[0m     \u001b[0;31m# 나이가 음수면 예외 상황. 즉 여기서 예외를 일으킨다.(raise)\u001b[0m\u001b[0;34m\u001b[0m\u001b[0;34m\u001b[0m\u001b[0m\n\u001b[0;32m----> 4\u001b[0;31m     \u001b[0;32mraise\u001b[0m \u001b[0mAgeException\u001b[0m\u001b[0;34m(\u001b[0m\u001b[0mage\u001b[0m\u001b[0;34m)\u001b[0m\u001b[0;34m\u001b[0m\u001b[0;34m\u001b[0m\u001b[0m\n\u001b[0m\u001b[1;32m      5\u001b[0m \u001b[0;34m\u001b[0m\u001b[0m\n\u001b[1;32m      6\u001b[0m \u001b[0mset_age_good\u001b[0m\u001b[0;34m(\u001b[0m\u001b[0;34m-\u001b[0m\u001b[0;36m10\u001b[0m\u001b[0;34m)\u001b[0m\u001b[0;34m\u001b[0m\u001b[0;34m\u001b[0m\u001b[0m\n",
            "\u001b[0;31mAgeException\u001b[0m: 나이 값이 올바르지 않습니다. -10"
          ]
        }
      ]
    }
  ]
}