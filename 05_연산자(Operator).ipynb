{
  "nbformat": 4,
  "nbformat_minor": 0,
  "metadata": {
    "colab": {
      "provenance": [],
      "authorship_tag": "ABX9TyPJ1wVaZsacfDQmoEcmtU7X",
      "include_colab_link": true
    },
    "kernelspec": {
      "name": "python3",
      "display_name": "Python 3"
    },
    "language_info": {
      "name": "python"
    }
  },
  "cells": [
    {
      "cell_type": "markdown",
      "metadata": {
        "id": "view-in-github",
        "colab_type": "text"
      },
      "source": [
        "<a href=\"https://colab.research.google.com/github/ooheunsu/MLops-hk_with_toss-/blob/main/05_%EC%97%B0%EC%82%B0%EC%9E%90(Operator).ipynb\" target=\"_parent\"><img src=\"https://colab.research.google.com/assets/colab-badge.svg\" alt=\"Open In Colab\"/></a>"
      ]
    },
    {
      "cell_type": "markdown",
      "source": [
        "# 연산자\n",
        "연산(계산)을 할 수 있는 기호"
      ],
      "metadata": {
        "id": "-Iod9Bpup-EF"
      }
    },
    {
      "cell_type": "markdown",
      "source": [
        "# 산술 연산자\n",
        "- 더빼곱나(+ - * /)\n",
        "- 몫 나머지 (/ %)"
      ],
      "metadata": {
        "id": "Tq9u_zrwqiqY"
      }
    },
    {
      "cell_type": "code",
      "source": [
        "print(5 + 2)\n",
        "print(5 - 2)\n",
        "print(5 * 2)\n",
        "print(5 / 2)"
      ],
      "metadata": {
        "colab": {
          "base_uri": "https://localhost:8080/"
        },
        "id": "_eE2puujqwKF",
        "outputId": "90fd2845-fe56-45c7-a82f-e89adc9b01df"
      },
      "execution_count": null,
      "outputs": [
        {
          "output_type": "stream",
          "name": "stdout",
          "text": [
            "7\n",
            "3\n",
            "10\n",
            "2.5\n"
          ]
        }
      ]
    },
    {
      "cell_type": "code",
      "source": [
        "print(5 // 2)\n",
        "print(5 % 2)"
      ],
      "metadata": {
        "colab": {
          "base_uri": "https://localhost:8080/"
        },
        "id": "iZ-G5QQ4q6h2",
        "outputId": "addb8e0c-65c2-4c88-cedc-13cff86e29b3"
      },
      "execution_count": null,
      "outputs": [
        {
          "output_type": "stream",
          "name": "stdout",
          "text": [
            "2\n",
            "1\n"
          ]
        }
      ]
    },
    {
      "cell_type": "code",
      "source": [
        "# 연산자에는 기본적인 우선순위 규칙적용\n",
        "print(2 + 2 *2)"
      ],
      "metadata": {
        "colab": {
          "base_uri": "https://localhost:8080/"
        },
        "id": "k6fHPmB8rYnl",
        "outputId": "6d4ca66d-badc-49a2-c8cc-9d4598fd0a15"
      },
      "execution_count": null,
      "outputs": [
        {
          "output_type": "stream",
          "name": "stdout",
          "text": [
            "6\n"
          ]
        }
      ]
    },
    {
      "cell_type": "code",
      "source": [
        "print((2 + 2) * 2)"
      ],
      "metadata": {
        "colab": {
          "base_uri": "https://localhost:8080/"
        },
        "id": "ss1zeE23sfAn",
        "outputId": "d14c8bad-0961-4280-91ea-7d311c17ce8f"
      },
      "execution_count": null,
      "outputs": [
        {
          "output_type": "stream",
          "name": "stdout",
          "text": [
            "8\n"
          ]
        }
      ]
    },
    {
      "cell_type": "markdown",
      "source": [
        "# 할당(대입) 연산자\n",
        "- 어떤 변수에 값을 대입하는 연산자\n",
        "- 특정 변수에 들어있는 값에 특정 연산을 수행해서 그 변수에 다시 저장(누적)"
      ],
      "metadata": {
        "id": "Dzp6TH3ztUMX"
      }
    },
    {
      "cell_type": "code",
      "source": [
        "# 기본 대입 연산\n",
        "num = 10\n",
        "print(num)"
      ],
      "metadata": {
        "colab": {
          "base_uri": "https://localhost:8080/"
        },
        "id": "8EK3RE5du8s9",
        "outputId": "f5e31cb2-77f0-4011-86b6-2459aaf8abd6"
      },
      "execution_count": null,
      "outputs": [
        {
          "output_type": "stream",
          "name": "stdout",
          "text": [
            "10\n"
          ]
        }
      ]
    },
    {
      "cell_type": "code",
      "source": [
        "num = num + 5\n",
        "print(num)"
      ],
      "metadata": {
        "colab": {
          "base_uri": "https://localhost:8080/"
        },
        "id": "rYiJqripvC0c",
        "outputId": "f90bef4f-a519-4a69-831a-073ef948ab06"
      },
      "execution_count": null,
      "outputs": [
        {
          "output_type": "stream",
          "name": "stdout",
          "text": [
            "15\n"
          ]
        }
      ]
    },
    {
      "cell_type": "code",
      "source": [
        "num += 5\n",
        "print(num)"
      ],
      "metadata": {
        "colab": {
          "base_uri": "https://localhost:8080/"
        },
        "id": "yU40DRYYvG93",
        "outputId": "e5c4db17-85d5-49d3-abfc-58782a9e3efe"
      },
      "execution_count": null,
      "outputs": [
        {
          "output_type": "stream",
          "name": "stdout",
          "text": [
            "20\n"
          ]
        }
      ]
    },
    {
      "cell_type": "code",
      "source": [
        "num -= 10\n",
        "print(num)"
      ],
      "metadata": {
        "colab": {
          "base_uri": "https://localhost:8080/"
        },
        "id": "0POklcSFvK6A",
        "outputId": "73891d6f-48ad-4ae0-f78d-10c87b97b47c"
      },
      "execution_count": null,
      "outputs": [
        {
          "output_type": "stream",
          "name": "stdout",
          "text": [
            "10\n"
          ]
        }
      ]
    },
    {
      "cell_type": "code",
      "source": [
        "num *= 5\n",
        "print(num)"
      ],
      "metadata": {
        "colab": {
          "base_uri": "https://localhost:8080/"
        },
        "id": "Y5UUsZ-UvOUB",
        "outputId": "554ddc50-38f5-4d91-d3b9-db5c49c79612"
      },
      "execution_count": null,
      "outputs": [
        {
          "output_type": "stream",
          "name": "stdout",
          "text": [
            "50\n"
          ]
        }
      ]
    },
    {
      "cell_type": "code",
      "source": [
        "num /= 2\n",
        "print(num)"
      ],
      "metadata": {
        "colab": {
          "base_uri": "https://localhost:8080/"
        },
        "id": "28OaaF24vTT8",
        "outputId": "3793d120-0bd0-4b9d-ef7d-4ee2eb12ef33"
      },
      "execution_count": null,
      "outputs": [
        {
          "output_type": "stream",
          "name": "stdout",
          "text": [
            "25.0\n"
          ]
        }
      ]
    },
    {
      "cell_type": "markdown",
      "source": [
        "# 비교연산자\n",
        "- 크기를 비교하는 연산자\n",
        "- `>, <, >=, <=`\n",
        "- `!=, ==`"
      ],
      "metadata": {
        "id": "InFs_MytvXZ8"
      }
    },
    {
      "cell_type": "code",
      "source": [
        "a = 5\n",
        "b = 3\n",
        "\n",
        "print( a > b ) # True\n",
        "print( a < b ) # False\n",
        "print( a >= b ) # True\n",
        "print( a <= b ) # False"
      ],
      "metadata": {
        "colab": {
          "base_uri": "https://localhost:8080/"
        },
        "id": "L8dtl80Gvf2u",
        "outputId": "8d9a5f0d-d6dc-4caa-f03d-dfc424c8029c"
      },
      "execution_count": null,
      "outputs": [
        {
          "output_type": "stream",
          "name": "stdout",
          "text": [
            "True\n",
            "False\n",
            "True\n",
            "False\n"
          ]
        }
      ]
    },
    {
      "cell_type": "code",
      "source": [
        "# != : 부정연산자( 같지 않다 )\n",
        "# == : 동일연산자( 같다 )\n",
        "\n",
        "print( a == b ) # False\n",
        "print( a != b ) # True"
      ],
      "metadata": {
        "colab": {
          "base_uri": "https://localhost:8080/"
        },
        "id": "ARswG6uPvicm",
        "outputId": "7b7b7446-3103-4d7e-affa-b7cdc9cd28af"
      },
      "execution_count": null,
      "outputs": [
        {
          "output_type": "stream",
          "name": "stdout",
          "text": [
            "False\n",
            "True\n"
          ]
        }
      ]
    },
    {
      "cell_type": "markdown",
      "source": [
        "# 논리연산자\n",
        "- 논리 자료형인 `bool`에 대한 연산을 수행\n",
        "- `and(&), or(|), not(! 또는 ~)`"
      ],
      "metadata": {
        "id": "Tm2tFBGQvkDW"
      }
    },
    {
      "cell_type": "markdown",
      "source": [
        "## AND 연산"
      ],
      "metadata": {
        "id": "loANhR5XvpaP"
      }
    },
    {
      "cell_type": "code",
      "source": [
        "1 < 3 and 5 > 3"
      ],
      "metadata": {
        "colab": {
          "base_uri": "https://localhost:8080/"
        },
        "id": "stUHIiU5uoJX",
        "outputId": "9ada29ca-5523-40cc-f686-714d7d20c45d"
      },
      "execution_count": null,
      "outputs": [
        {
          "output_type": "execute_result",
          "data": {
            "text/plain": [
              "True"
            ]
          },
          "metadata": {},
          "execution_count": 13
        }
      ]
    },
    {
      "cell_type": "code",
      "source": [
        "1 < 3 and 5 < 3"
      ],
      "metadata": {
        "colab": {
          "base_uri": "https://localhost:8080/"
        },
        "id": "7-DdgJAowH0f",
        "outputId": "d0cbbbfa-54a5-4969-96c7-507bc31317b6"
      },
      "execution_count": null,
      "outputs": [
        {
          "output_type": "execute_result",
          "data": {
            "text/plain": [
              "False"
            ]
          },
          "metadata": {},
          "execution_count": 14
        }
      ]
    },
    {
      "cell_type": "markdown",
      "source": [
        "and 의 앞부터 확인을 하는데 앞쪽에서 이미 False가 나온 경우 뒤쪽은 보지않음 = 두 조건 다 True가 되어야 한다."
      ],
      "metadata": {
        "id": "1ZIX3V4PwMt6"
      }
    },
    {
      "cell_type": "markdown",
      "source": [
        "## OR 연산\n"
      ],
      "metadata": {
        "id": "tclReGhZwc4L"
      }
    },
    {
      "cell_type": "code",
      "source": [
        "5 > 3 or 6 > 3"
      ],
      "metadata": {
        "colab": {
          "base_uri": "https://localhost:8080/"
        },
        "id": "SFyWoj0nwwOJ",
        "outputId": "17f79200-6638-45c3-d21c-74c757f02eba"
      },
      "execution_count": null,
      "outputs": [
        {
          "output_type": "execute_result",
          "data": {
            "text/plain": [
              "True"
            ]
          },
          "metadata": {},
          "execution_count": 15
        }
      ]
    },
    {
      "cell_type": "code",
      "source": [
        "5 > 3 or 6 < 3"
      ],
      "metadata": {
        "colab": {
          "base_uri": "https://localhost:8080/"
        },
        "id": "J_hEDc3Yw4Nj",
        "outputId": "3320df50-107d-4cee-c51b-be331b008285"
      },
      "execution_count": null,
      "outputs": [
        {
          "output_type": "execute_result",
          "data": {
            "text/plain": [
              "True"
            ]
          },
          "metadata": {},
          "execution_count": 16
        }
      ]
    },
    {
      "cell_type": "markdown",
      "source": [
        "or 는 앞쪽이 True일 경우 뒤쪽을 보지 않음 = 두 조건 중 하나만 True 여도 참(True)이다."
      ],
      "metadata": {
        "id": "lxnilYnHxBPS"
      }
    },
    {
      "cell_type": "markdown",
      "source": [
        "## NOT 연산\n",
        "~ 하지 않다"
      ],
      "metadata": {
        "id": "B0jJsUAWxP9i"
      }
    },
    {
      "cell_type": "code",
      "source": [
        "not 1 > 3 # 1이 3보다 크지 않다"
      ],
      "metadata": {
        "colab": {
          "base_uri": "https://localhost:8080/"
        },
        "id": "MaD17IxTxjox",
        "outputId": "b5753904-2394-40dc-e0e1-a5eb91bb98fd"
      },
      "execution_count": null,
      "outputs": [
        {
          "output_type": "execute_result",
          "data": {
            "text/plain": [
              "True"
            ]
          },
          "metadata": {},
          "execution_count": 18
        }
      ]
    },
    {
      "cell_type": "code",
      "source": [
        "not 1 < 3 # 1이 3보다 작지 않다"
      ],
      "metadata": {
        "colab": {
          "base_uri": "https://localhost:8080/"
        },
        "id": "s10M17j1xpM0",
        "outputId": "df9c5cc0-7124-4ed6-e58d-564435a210cc"
      },
      "execution_count": null,
      "outputs": [
        {
          "output_type": "execute_result",
          "data": {
            "text/plain": [
              "False"
            ]
          },
          "metadata": {},
          "execution_count": 19
        }
      ]
    },
    {
      "cell_type": "markdown",
      "source": [
        "# 멤버연산자\n",
        "- 멤버란? 컬렉션 안에 있는 요소, 원소, item\n",
        "- 컬렉션에 원소가 존재하는지 여부를 판단\n",
        "- `in, not in`"
      ],
      "metadata": {
        "id": "3Obj3Pbwx5kG"
      }
    },
    {
      "cell_type": "code",
      "source": [
        "lst = [\"a\", 1, 3.1]\n",
        "\n",
        "# 멤버 \"a\"는 lst의 멤버인가?\n",
        "\"a\" in lst"
      ],
      "metadata": {
        "colab": {
          "base_uri": "https://localhost:8080/"
        },
        "id": "UE4PEpbOyMNc",
        "outputId": "692a8973-f42a-44eb-a278-cc445370cfed"
      },
      "execution_count": null,
      "outputs": [
        {
          "output_type": "execute_result",
          "data": {
            "text/plain": [
              "True"
            ]
          },
          "metadata": {},
          "execution_count": 20
        }
      ]
    },
    {
      "cell_type": "code",
      "source": [
        "2 in lst"
      ],
      "metadata": {
        "colab": {
          "base_uri": "https://localhost:8080/"
        },
        "id": "xt9a_NTMybsN",
        "outputId": "cdd28df9-ff52-4399-cdcd-8082e7582749"
      },
      "execution_count": null,
      "outputs": [
        {
          "output_type": "execute_result",
          "data": {
            "text/plain": [
              "False"
            ]
          },
          "metadata": {},
          "execution_count": 21
        }
      ]
    },
    {
      "cell_type": "code",
      "source": [
        "\"h\" in \"hello\""
      ],
      "metadata": {
        "colab": {
          "base_uri": "https://localhost:8080/"
        },
        "id": "ZKM6vD4ByeHN",
        "outputId": "1f3a1cc6-ba0d-43ca-8825-bde08b6e999f"
      },
      "execution_count": null,
      "outputs": [
        {
          "output_type": "execute_result",
          "data": {
            "text/plain": [
              "True"
            ]
          },
          "metadata": {},
          "execution_count": 22
        }
      ]
    },
    {
      "cell_type": "code",
      "source": [
        "temp = {\n",
        "    \"a\": 10,\n",
        "    \"b\": 20\n",
        "}"
      ],
      "metadata": {
        "id": "SZsoqJy2ygoP"
      },
      "execution_count": null,
      "outputs": []
    },
    {
      "cell_type": "code",
      "source": [
        "#딕셔너리의 멤버 연산은 키를 기준으로 수행\n",
        "\"a\" in temp"
      ],
      "metadata": {
        "colab": {
          "base_uri": "https://localhost:8080/"
        },
        "id": "HA8xo7JTysy7",
        "outputId": "8bf32019-a019-4669-bab3-31cce4bac1a9"
      },
      "execution_count": null,
      "outputs": [
        {
          "output_type": "execute_result",
          "data": {
            "text/plain": [
              "True"
            ]
          },
          "metadata": {},
          "execution_count": 29
        }
      ]
    },
    {
      "cell_type": "code",
      "source": [
        "\"c\" in temp"
      ],
      "metadata": {
        "colab": {
          "base_uri": "https://localhost:8080/"
        },
        "id": "Z0lIuGzTyzkG",
        "outputId": "bdaa1ab3-172a-476a-a4ae-c966520d0fd6"
      },
      "execution_count": null,
      "outputs": [
        {
          "output_type": "execute_result",
          "data": {
            "text/plain": [
              "False"
            ]
          },
          "metadata": {},
          "execution_count": 30
        }
      ]
    },
    {
      "cell_type": "code",
      "source": [
        "10 in temp.values()"
      ],
      "metadata": {
        "colab": {
          "base_uri": "https://localhost:8080/"
        },
        "id": "5Tq9I8sry3i4",
        "outputId": "189749ea-d00e-4ca6-c052-85669ce68a83"
      },
      "execution_count": null,
      "outputs": [
        {
          "output_type": "execute_result",
          "data": {
            "text/plain": [
              "True"
            ]
          },
          "metadata": {},
          "execution_count": 31
        }
      ]
    }
  ]
}