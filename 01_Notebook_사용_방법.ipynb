{
  "nbformat": 4,
  "nbformat_minor": 0,
  "metadata": {
    "colab": {
      "provenance": [],
      "authorship_tag": "ABX9TyPwULNrE6YpPnKr0YGQJjX5",
      "include_colab_link": true
    },
    "kernelspec": {
      "name": "python3",
      "display_name": "Python 3"
    },
    "language_info": {
      "name": "python"
    }
  },
  "cells": [
    {
      "cell_type": "markdown",
      "metadata": {
        "id": "view-in-github",
        "colab_type": "text"
      },
      "source": [
        "<a href=\"https://colab.research.google.com/github/ooheunsu/MLops-hk_with_toss-/blob/main/01_Notebook_%EC%82%AC%EC%9A%A9_%EB%B0%A9%EB%B2%95.ipynb\" target=\"_parent\"><img src=\"https://colab.research.google.com/assets/colab-badge.svg\" alt=\"Open In Colab\"/></a>"
      ]
    },
    {
      "cell_type": "code",
      "execution_count": null,
      "metadata": {
        "id": "RAX8QecH0Hpa"
      },
      "outputs": [],
      "source": [
        "a = 10;"
      ]
    },
    {
      "cell_type": "code",
      "source": [
        "print(a)"
      ],
      "metadata": {
        "colab": {
          "base_uri": "https://localhost:8080/"
        },
        "id": "PuvEp9Df1f_J",
        "outputId": "2f09c7a9-405a-4dd3-aa7e-47fa5fa6d56d"
      },
      "execution_count": null,
      "outputs": [
        {
          "output_type": "stream",
          "name": "stdout",
          "text": [
            "10\n"
          ]
        }
      ]
    },
    {
      "cell_type": "code",
      "source": [
        "print(a)\n",
        "print(\"ha..\")"
      ],
      "metadata": {
        "colab": {
          "base_uri": "https://localhost:8080/"
        },
        "id": "GDIL7j9k1utb",
        "outputId": "9ff085f9-58de-42ea-b15c-fb871b1e35d0"
      },
      "execution_count": null,
      "outputs": [
        {
          "output_type": "stream",
          "name": "stdout",
          "text": [
            "10\n",
            "ha..\n"
          ]
        }
      ]
    },
    {
      "cell_type": "markdown",
      "source": [
        "# 노트북 사용 방법\n",
        "  #### ctrl + mm 으로 텍스트 셀 열기\n"
      ],
      "metadata": {
        "id": "3zc6kFZ72Rlv"
      }
    },
    {
      "cell_type": "markdown",
      "source": [
        "## 중제목을 적는 구간"
      ],
      "metadata": {
        "id": "CPV8IMqk28xf"
      }
    },
    {
      "cell_type": "markdown",
      "source": [
        "# LaTex 알아보기(Katex도 있음)"
      ],
      "metadata": {
        "id": "N_OQ6nlc3Oj6"
      }
    },
    {
      "cell_type": "markdown",
      "source": [
        "## 인라인 수식\n",
        "인라인 수식은 마크다운 작성 중간에 들어가는 수식\n",
        "$a + b = 5$"
      ],
      "metadata": {
        "id": "7H9lSs4X4ClY"
      }
    },
    {
      "cell_type": "markdown",
      "source": [
        "## 블록 수식\n",
        "블록 수식은 하나의 칸을 모두 사용하여 수식을 작성\n",
        "$$\n",
        "a = 3, b = 4, a + b = 7 우왕..\n",
        "$$"
      ],
      "metadata": {
        "id": "GOnmo3Lm4Lg-"
      }
    },
    {
      "cell_type": "code",
      "source": [],
      "metadata": {
        "id": "h7cEeP_D6f7V"
      },
      "execution_count": null,
      "outputs": []
    }
  ]
}