{
  "nbformat": 4,
  "nbformat_minor": 0,
  "metadata": {
    "colab": {
      "provenance": [],
      "authorship_tag": "ABX9TyNcLLwJ4uQO0NlT4M4B7fUc",
      "include_colab_link": true
    },
    "kernelspec": {
      "name": "python3",
      "display_name": "Python 3"
    },
    "language_info": {
      "name": "python"
    }
  },
  "cells": [
    {
      "cell_type": "markdown",
      "metadata": {
        "id": "view-in-github",
        "colab_type": "text"
      },
      "source": [
        "<a href=\"https://colab.research.google.com/github/ooheunsu/MLops-hk_with_toss-/blob/main/06_Condition%EA%B3%BC_Loop.ipynb\" target=\"_parent\"><img src=\"https://colab.research.google.com/assets/colab-badge.svg\" alt=\"Open In Colab\"/></a>"
      ]
    },
    {
      "cell_type": "markdown",
      "source": [
        "# 제어문\n",
        "- 코드의 **흐름**을 제어하는 문법"
      ],
      "metadata": {
        "id": "huanPGon47pK"
      }
    },
    {
      "cell_type": "markdown",
      "source": [
        "## 조건문 ( `Condition` )\n",
        "- 특정한 조건을 만족하면 ( `True` ) 코드를 실행\n",
        "- `if`, `elif`, `else`\n",
        "  * `if` : `만약에 ~라면 ~ 해라`\n",
        "  * `elif (else if의 약어)` : `그게 아니고 ~라면 ~ 해라`\n",
        "  * `else` : 그게 아니면 `~ 해라`\n",
        "\n",
        "### 조건문의 구조\n",
        "```python\n",
        "if [condition]:\n",
        "  code context\n",
        "elif [condition]:\n",
        "  code context\n",
        "elif [condition]:\n",
        "  code context\n",
        "...\n",
        "else:\n",
        "  code context\n",
        "```\n",
        "* 조건 부분에 bool 타입 데이터(True / False)가 온다."
      ],
      "metadata": {
        "id": "vZKsbeJE5JOq"
      }
    },
    {
      "cell_type": "markdown",
      "source": [
        "### Code Context\n",
        "- Context : 코드 문맥\n",
        "- 특정한 상황에 실행해야 할 코드 뭉터기\n",
        "- 파이썬에서는 Context를 `indent(들여쓰기)`로 구분\n",
        "- `indent`는 공백 2칸이나 4칸으로 설정을 하는 것이 관례\n",
        "- 처음에 `indent`를 2칸으로 지정했으면 계속 2칸으로 쓰고, 4칸으로 지정했으면 계속 4칸으로 쓰면 된다.\n"
      ],
      "metadata": {
        "id": "UXkxPUGY5N24"
      }
    },
    {
      "cell_type": "code",
      "source": [
        "a = 3\n",
        "b = 2\n",
        "\n",
        "if a > b:\n",
        "  print(\"hi\")\n",
        "  print(\"bye\")\n",
        "\n",
        "print(\"done\")"
      ],
      "metadata": {
        "colab": {
          "base_uri": "https://localhost:8080/"
        },
        "id": "g101U4v_5RDh",
        "outputId": "a8916ca3-900f-482a-8d6a-d4432310b0f1"
      },
      "execution_count": null,
      "outputs": [
        {
          "output_type": "stream",
          "name": "stdout",
          "text": [
            "hi\n",
            "bye\n",
            "done\n"
          ]
        }
      ]
    },
    {
      "cell_type": "markdown",
      "source": [
        "`elif, else`는 `if`에서 조건이 맞지 않았을 때 연속해서 조건검사를 하고 싶을 때 사용한다.\n",
        "\n",
        "\n",
        "> 만약에 지갑에 12000원 이상 있으면 택시를 타고, 그게 아니고 지갑에 8000 ~ 12000원 미만 있으면 버스를 타고, 그게 아니면 걸어 간다."
      ],
      "metadata": {
        "id": "_D_YwE9T6QE3"
      }
    },
    {
      "cell_type": "code",
      "source": [
        "money = 15000\n",
        "\n",
        "if money >= 12000:\n",
        "  print(\"택시탐\")\n",
        "elif money >= 8000 and money < 12000:\n",
        "  print(\"버스탐\")\n",
        "else:\n",
        "  print(\"걸어감\")"
      ],
      "metadata": {
        "colab": {
          "base_uri": "https://localhost:8080/"
        },
        "id": "Mw3UrPco95W-",
        "outputId": "24e0ebb7-979a-47d9-d9a2-2938e2115fc7"
      },
      "execution_count": null,
      "outputs": [
        {
          "output_type": "stream",
          "name": "stdout",
          "text": [
            "택시탐\n"
          ]
        }
      ]
    },
    {
      "cell_type": "code",
      "source": [
        "# 5000 이상 8000 미만이면 따릉이 타기 - 조건 추가\n",
        "money = 15000\n",
        "\n",
        "if money >= 12000:\n",
        "  print(\"택시탐\")\n",
        "elif money >= 8000 and money < 12000:\n",
        "  print(\"버스탐\")\n",
        "elif money >= 5000 and money < 8000:\n",
        "  print(\"따릉이탐\")\n",
        "else:\n",
        "  print(\"걸어감\")"
      ],
      "metadata": {
        "colab": {
          "base_uri": "https://localhost:8080/"
        },
        "id": "X1bJx2RT-v08",
        "outputId": "25465819-8204-4417-8258-5e1a4266eb83"
      },
      "execution_count": null,
      "outputs": [
        {
          "output_type": "stream",
          "name": "stdout",
          "text": [
            "택시탐\n"
          ]
        }
      ]
    },
    {
      "cell_type": "markdown",
      "source": [
        "```python\n",
        "예시\n",
        "\n",
        "회원 가입이 성공하려면 글자가 영어와 숫자로만 이뤄져야 하고, 8글자 이상이어야 한다.\n",
        "\n",
        "if not [회원 아이디가 영어와 숫자로 이루어져 있는가]:\n",
        "  영어와 숫자만 쓰라고 경고창 띄워주기\n",
        "if not [8글자 이상인지 검사하는 코드]:\n",
        "  8글자 이상 입력하라고 경고창 띄워주기\n",
        "```"
      ],
      "metadata": {
        "id": "Ix7-YF7NDixn"
      }
    },
    {
      "cell_type": "markdown",
      "source": [
        "* `if`는 독립적인 조건을 구성한다면 여러 개가 올 수있다.\n",
        "* `elif`는 `if`에 대해 연속 적인 구성을 구성할 때 사용한다.\n",
        "  - `0 ~ 255`개 까지 사용 가능\n",
        "* `else`는 `if` 및 `elif`의 모든 조건이 맞지 않을 때 사용한다.\n",
        "  - `0`개 또는 `1`개만 사용 가능\n"
      ],
      "metadata": {
        "id": "dGDFgNbJDj_z"
      }
    },
    {
      "cell_type": "code",
      "source": [
        "num = int(input(\"숫자 입력: \"))\n",
        "num"
      ],
      "metadata": {
        "colab": {
          "base_uri": "https://localhost:8080/"
        },
        "id": "tyQxRNoLECXL",
        "outputId": "d8722ddc-3f2b-4b9f-cc26-921edbc70a36"
      },
      "execution_count": null,
      "outputs": [
        {
          "name": "stdout",
          "output_type": "stream",
          "text": [
            "숫자 입력: 55\n"
          ]
        },
        {
          "output_type": "execute_result",
          "data": {
            "text/plain": [
              "55"
            ]
          },
          "metadata": {},
          "execution_count": 5
        }
      ]
    },
    {
      "cell_type": "markdown",
      "source": [
        "# 문제\n",
        "```계좌에 10000원이 들어 있습니다.\n",
        "계좌에 10000원이 들어 있습니다.\n",
        "인출 금액을 입력 받습니다.\n",
        "인출 금액이 계좌에 있는 금액보다 크면 \"인출이 불가능합니다. {} 원의 잔액이 부족합니다.\" 출력\n",
        "인출 금액이 계좌에 있는 금액보다 작으면 \"{} 원이 인출 되었습니다.\" 출력\n",
        "마지막에 현재 계좌의 잔액을 출력 : \"현재 잔액은 {} 원 입니다.\" 출력\n",
        "```"
      ],
      "metadata": {
        "id": "I2P2-ZbZEmOs"
      }
    },
    {
      "cell_type": "code",
      "source": [
        "bank = 10000\n",
        "\n",
        "out_money = int(input(\"인출할 금액을 입력하시오: \"))\n",
        "if out_money > bank:\n",
        "  print(f\"인출이 불가능합니다. {out_money - bank} 원의 잔액이 부족합니다.\")\n",
        "else:\n",
        "  print(f\"{out_money} 원이 인출 되었습니다.\")\n",
        "  print(f\"현재 잔액은 {bank - out_money} 원 입니다.\")"
      ],
      "metadata": {
        "colab": {
          "base_uri": "https://localhost:8080/"
        },
        "id": "Hw60QUMREz3f",
        "outputId": "96e98ddd-491e-42df-d365-a40099c7aa24"
      },
      "execution_count": null,
      "outputs": [
        {
          "output_type": "stream",
          "name": "stdout",
          "text": [
            "인출할 금액을 입력하시오: 100\n",
            "100 원이 인출 되었습니다.\n",
            "현재 잔액은 9900 원 입니다.\n"
          ]
        }
      ]
    },
    {
      "cell_type": "markdown",
      "source": [
        "# 반복문( Loop )\n",
        "- `while` : 조건제 반복\n",
        "  - **~라면 Code Context를** 반복적으로 실행\n",
        "    - ex) `exit`을 입력 할 때 까지 코드를 반복\n",
        "    - ex) 상담 종료 메세지가 입력 될 때까지 반복\n",
        "- `for ~ in` : 컬렉션 반복\n",
        "  - 순회 가능한 컬렉션을 더 이상 순회 할 수 없을 때 까지 반복\n",
        "  - 순회(`iterable`) : 컬렉션 내의 `item`을 하나씩 접근 할 수 있다.\n",
        "    - `list`, `tuple`, `set`, `dict`\n",
        "  - `iterator` : 순회를 하게 하는 화살표 <- 쌤 생각에 iterator와 시퀀스의 차이점을 중요하게 생각하신다?"
      ],
      "metadata": {
        "id": "FqsUeSgw_mPY"
      }
    },
    {
      "cell_type": "markdown",
      "source": [
        "## `while`\n",
        "\n",
        "```python\n",
        "while [condition]:\n",
        "  code context\n",
        "```"
      ],
      "metadata": {
        "id": "V4ZEe-Ap_qD3"
      }
    },
    {
      "cell_type": "code",
      "source": [
        "data = 3\n",
        "# data가 0이 아니면(condition - 조건) 반복해라\n",
        "while data != 0:\n",
        "  print(\"Hello\", data)\n",
        "  data -= 1 # 무한루트를 방지하기위해서?\n",
        "\n",
        "print(\"done\")"
      ],
      "metadata": {
        "colab": {
          "base_uri": "https://localhost:8080/"
        },
        "id": "1a02j6_18V92",
        "outputId": "a9f0a47e-5a1c-41a4-fc8d-691861117b17"
      },
      "execution_count": null,
      "outputs": [
        {
          "output_type": "stream",
          "name": "stdout",
          "text": [
            "Hello 3\n",
            "Hello 2\n",
            "Hello 1\n",
            "done\n"
          ]
        }
      ]
    },
    {
      "cell_type": "markdown",
      "source": [
        "학생이 3과목 시험을 쳤는데 80, 90, 100 을 맞았습니다. 총점과 평균을 구하시오.\n",
        "while문만 사용하기."
      ],
      "metadata": {
        "id": "wXQaUpD693yR"
      }
    },
    {
      "cell_type": "code",
      "source": [
        "point_lst = [80, 90, 100]"
      ],
      "metadata": {
        "id": "TR_ZmOVw--NY"
      },
      "execution_count": null,
      "outputs": []
    },
    {
      "cell_type": "code",
      "source": [
        "# 시도한 것\n",
        "# point_lst = [80, 90, 100]\n",
        "\n",
        "# while point_lst:\n",
        "#   point = point_lst.pop()\n",
        "#   print(\"총점: \" + point.sum())\n",
        "#   print(\"평균:\" + point.mean())"
      ],
      "metadata": {
        "colab": {
          "base_uri": "https://localhost:8080/",
          "height": 201
        },
        "id": "vBAzBf2X9BGF",
        "outputId": "44cfb574-4e9e-4fb8-c30c-e0b1977dcaa0"
      },
      "execution_count": null,
      "outputs": [
        {
          "output_type": "error",
          "ename": "AttributeError",
          "evalue": "'int' object has no attribute 'sum'",
          "traceback": [
            "\u001b[0;31m---------------------------------------------------------------------------\u001b[0m",
            "\u001b[0;31mAttributeError\u001b[0m                            Traceback (most recent call last)",
            "\u001b[0;32m<ipython-input-7-f54eb88ed5f5>\u001b[0m in \u001b[0;36m<cell line: 4>\u001b[0;34m()\u001b[0m\n\u001b[1;32m      4\u001b[0m \u001b[0;32mwhile\u001b[0m \u001b[0mpoint_lst\u001b[0m\u001b[0;34m:\u001b[0m\u001b[0;34m\u001b[0m\u001b[0;34m\u001b[0m\u001b[0m\n\u001b[1;32m      5\u001b[0m   \u001b[0mpoint\u001b[0m \u001b[0;34m=\u001b[0m \u001b[0mpoint_lst\u001b[0m\u001b[0;34m.\u001b[0m\u001b[0mpop\u001b[0m\u001b[0;34m(\u001b[0m\u001b[0;34m)\u001b[0m\u001b[0;34m\u001b[0m\u001b[0;34m\u001b[0m\u001b[0m\n\u001b[0;32m----> 6\u001b[0;31m   \u001b[0mprint\u001b[0m\u001b[0;34m(\u001b[0m\u001b[0;34mf\"총점: \"\u001b[0m \u001b[0;34m+\u001b[0m \u001b[0mpoint\u001b[0m\u001b[0;34m.\u001b[0m\u001b[0msum\u001b[0m\u001b[0;34m(\u001b[0m\u001b[0;34m)\u001b[0m\u001b[0;34m)\u001b[0m\u001b[0;34m\u001b[0m\u001b[0;34m\u001b[0m\u001b[0m\n\u001b[0m\u001b[1;32m      7\u001b[0m   \u001b[0mprint\u001b[0m\u001b[0;34m(\u001b[0m\u001b[0;34mf\"평균: \"\u001b[0m \u001b[0;34m+\u001b[0m \u001b[0mpoint\u001b[0m\u001b[0;34m.\u001b[0m\u001b[0mmean\u001b[0m\u001b[0;34m(\u001b[0m\u001b[0;34m)\u001b[0m\u001b[0;34m)\u001b[0m\u001b[0;34m\u001b[0m\u001b[0;34m\u001b[0m\u001b[0m\n",
            "\u001b[0;31mAttributeError\u001b[0m: 'int' object has no attribute 'sum'"
          ]
        }
      ]
    },
    {
      "cell_type": "code",
      "source": [
        "data = point_lst.copy()  # pop을 쓰면 기존 data들이 사라져서 그냥 남겨둘라고 쓰셨다함.\n",
        "\n",
        "point_total, point_avg = 0, 0\n",
        "\n",
        "while len(data) != 0:\n",
        "  point = data.pop()\n",
        "  point_total += point\n",
        "\n",
        "print(f\"합계 : {point_total}\")\n",
        "print(f\"평균 : {point_total / len(point_lst)}\")"
      ],
      "metadata": {
        "colab": {
          "base_uri": "https://localhost:8080/"
        },
        "id": "E_LteKoV-Lqz",
        "outputId": "3d7fd870-2388-4c65-ef3f-40a52fabb69a"
      },
      "execution_count": null,
      "outputs": [
        {
          "output_type": "stream",
          "name": "stdout",
          "text": [
            "합계 : 170\n",
            "평균 : 85.0\n"
          ]
        }
      ]
    },
    {
      "cell_type": "markdown",
      "source": [
        "문제\n",
        "* 숫자를 계속 입력 받다가 -1이 입력되면 멈추기.\n",
        "  * input을 이용해서 입력을 할 것\n",
        "  * 이 입력이 -1이면 멈춘다.\n",
        "  * `number = input()`\n",
        "  * `number != -1`\n",
        "* 입력받은 숫자는 모두 더해주세요\n",
        "  * `total += number`\n",
        "* 반복이 끝나면 더한 숫자를 출력"
      ],
      "metadata": {
        "id": "osFLrz_p_s-f"
      }
    },
    {
      "cell_type": "markdown",
      "source": [
        "## `for`\n",
        "\n",
        "```python\n",
        "for <variable> in <iterable>:\n",
        "  code context\n",
        "```\n",
        "\n",
        "- `iterable` : 순회가 가능한 컬렉션\n",
        "- `variable` : `iterator`에 의해 순회되는 원소(`item`, 멤버)가 저장될 변수"
      ],
      "metadata": {
        "id": "Ybf-JkqPAGuA"
      }
    },
    {
      "cell_type": "markdown",
      "source": [
        "### Iterator? Iterable, Sequence?\n",
        "\n",
        "Iterator\n",
        "- Collection에 저장된 요소들을 순차적 처리 하기 위해 사용합니다. (Eager 처리)\n",
        "\n",
        "![](https://drive.google.com/uc?export=view&id=1H5c9LbX2rHdP2IjJ4jmJbcb_8N_5wGgX)\n",
        "\n",
        "\n",
        "```\n",
        "질문. Sequence자료형과 iterable자료형의 차이점은 무엇인가요?\n",
        "각각의 요소들이 연속적으로 이어졌다는 점에서 비슷한 개념 아닌가요?\n",
        "\n",
        "답변. 둘이 통하는게 있는 건 맞으나 둘은 아예 다른 의미를 갖습니다.\n",
        "terator는 원소가 연속적으로 있다는 의미를 내포하고 있지 않습니다.\n",
        "어떤 객체가 iterable하다는 것은, 그 객체의 원소를 하나씩 반환할 수 있다는 뜻입니다.\n",
        "여기서 이 반환하는 원소는 반드시 그 순서가 정의될 필요는 없습니다.\n",
        "\n",
        "반면 sequence 타입은 원소가 순서대로 나열되어 있는 타입을 의미합니다.\n",
        "어떤 객체가 sequence이면, 그 객체의 구현은 원소가 순서대로 쭉 나열되어 있으며,\n",
        "따라서 정수를 통한 인덱싱과 슬라이싱이 가능합니다.\n",
        "\n",
        "각각의 정의를 잘 들여다보시면, iterator는 그 객체의 동작 방식을 정의하고 있고,\n",
        "sequence는 그 객체의 형태를 정의하고 있습니다. 둘이 다릅니다.\n",
        "또한 iterator는 원소를 \"하나씩\" 반환하면 iterable이라고 정의하고 있으나,\n",
        "그 순서에 대해서는 어떠한 말도 하지 않고 있습니다.\n",
        "\n",
        "Iterator이지만 sequence는 아닌 대표적인 자료형이 dict와 set입니다.\n",
        "이들은 원소가 순서대로 나열되어 있지 않다는 점에서 sequence가 아닙니다.\n",
        "하지만 둘 다 자신의 원소를 하나씩 반환하는 거는 가능하므로 iterator입니다.\n",
        "이 때 원소를 하나씩 반환하는 순서는 꼭 정해질 필요가 없습니다.\n",
        "Iterable인지 아닌지는 그걸 따지지 않고, \"원소를 하나씩 반환한다\"가 가능한지에 의거하여 정의된다는 걸 여기서 확인할 수 있습니다.\n",
        "```"
      ],
      "metadata": {
        "id": "gmLurmkuCoGf"
      }
    },
    {
      "cell_type": "code",
      "source": [
        "lst = [\"Hello\", 123, \"Bye\", 3.14]\n",
        "\n",
        "for item in lst:\n",
        "  print(item)\n",
        "  print(\"-\"*10)"
      ],
      "metadata": {
        "colab": {
          "base_uri": "https://localhost:8080/"
        },
        "id": "XTvf5rfWDBxK",
        "outputId": "314c40a5-d0b0-4f6c-9699-26eb3b7e3266"
      },
      "execution_count": null,
      "outputs": [
        {
          "output_type": "stream",
          "name": "stdout",
          "text": [
            "Hello\n",
            "----------\n",
            "123\n",
            "----------\n",
            "Bye\n",
            "----------\n",
            "3.14\n",
            "----------\n"
          ]
        }
      ]
    },
    {
      "cell_type": "markdown",
      "source": [
        "### `zip` 함수 사용하기 - ★★★\n",
        "\n",
        "여러 개의 컬렉션을 하나로 모아서 병렬로 순회가 가능하도록 함\n",
        "\n",
        "* 직렬 : 순서대로 하나씩 처리하는 것\n",
        "* 병렬 : 여러 개를 동시에 처리하는 것"
      ],
      "metadata": {
        "id": "DE27RKaXDb04"
      }
    },
    {
      "cell_type": "code",
      "source": [
        "student_name = [\"A\", \"B\", \"C\"]\n",
        "score_list = [98, 87, 93]\n",
        "\n",
        "# 두  리스트에서 각 0번끼리(A, 97) 1번, 2번끼리 data를 꺼내보겠음"
      ],
      "metadata": {
        "id": "jpHL7iM5Dm79"
      },
      "execution_count": null,
      "outputs": []
    },
    {
      "cell_type": "code",
      "source": [
        "for name, score in zip(student_name, score_list):\n",
        "  print(f\"{name}의 점수는 {score}점 입니다.\") # 언패킹 개념 중요하다"
      ],
      "metadata": {
        "colab": {
          "base_uri": "https://localhost:8080/"
        },
        "id": "4v7H9_PRD4ts",
        "outputId": "06b877ba-84c4-42b2-df8f-5ced2b9607f3"
      },
      "execution_count": null,
      "outputs": [
        {
          "output_type": "stream",
          "name": "stdout",
          "text": [
            "A의 점수는 98점 입니다.\n",
            "B의 점수는 87점 입니다.\n",
            "C의 점수는 93점 입니다.\n"
          ]
        }
      ]
    },
    {
      "cell_type": "markdown",
      "source": [
        "👇 컬렉션의 크기가 다른 경우에는 크기가 작은 컬렉션이 기준이 된다."
      ],
      "metadata": {
        "id": "ltXEbDfvEWuS"
      }
    },
    {
      "cell_type": "code",
      "source": [
        "lst1 = [1,2,3,4] # 4개\n",
        "lst2 = [\"a\", \"b\", \"c\"] # 3개\n",
        "\n",
        "for item1, item2 in zip(lst1, lst2):\n",
        "  print(item1, item2)\n",
        "\n",
        "  # 결과값이 크기가 작은 컬렉션 개수 기준에 맞게 3개만 나옴."
      ],
      "metadata": {
        "colab": {
          "base_uri": "https://localhost:8080/"
        },
        "id": "ddjiETkoEl7W",
        "outputId": "5c698f2a-04c0-4955-f0f3-40bbbc0a28fa"
      },
      "execution_count": null,
      "outputs": [
        {
          "output_type": "stream",
          "name": "stdout",
          "text": [
            "1 a\n",
            "2 b\n",
            "3 c\n"
          ]
        }
      ]
    },
    {
      "cell_type": "markdown",
      "source": [
        "학생의 국어, 영어, 수학 성적을 dict로 저장\n",
        "  * 국어 : 100\n",
        "  * 수학 : 80\n",
        "  * 영어 : 85\n",
        "\n",
        "이 학생의 각 성적을 출력\n",
        "```\n",
        "출력 결과\n",
        "  \"국어는 100점\"\n",
        "  \"수학은 80점\"\n",
        "  \"영어는 85점\"\n",
        "```"
      ],
      "metadata": {
        "id": "VkiOac1pFVcP"
      }
    },
    {
      "cell_type": "code",
      "source": [
        "# 방법1\n",
        "score_dict = {\n",
        "    \"국어\": 100,\n",
        "    \"수학\": 80,\n",
        "    \"영어\": 85\n",
        "}\n",
        "\n",
        "subjects = score_dict.keys()\n",
        "scores = score_dict.values()\n",
        "\n",
        "for subject, score in zip(subjects, scores):\n",
        "  print(f\"{subject}는 {score}점\")"
      ],
      "metadata": {
        "colab": {
          "base_uri": "https://localhost:8080/"
        },
        "id": "X376KrwnFWpV",
        "outputId": "cc1719d2-73cf-4dcf-e923-bccc6188fb68"
      },
      "execution_count": null,
      "outputs": [
        {
          "output_type": "stream",
          "name": "stdout",
          "text": [
            "국어는 100점\n",
            "수학는 80점\n",
            "영어는 85점\n"
          ]
        }
      ]
    },
    {
      "cell_type": "code",
      "source": [
        "for subject, score in score_dict.items():\n",
        "  print(f\"{subject}는 {socre}점\")"
      ],
      "metadata": {
        "colab": {
          "base_uri": "https://localhost:8080/"
        },
        "id": "c5vCJNFJFqmE",
        "outputId": "2f074f69-41b2-4cb8-b66f-ee0e45e09364"
      },
      "execution_count": null,
      "outputs": [
        {
          "output_type": "stream",
          "name": "stdout",
          "text": [
            "국어는 98점\n",
            "수학는 98점\n",
            "영어는 98점\n"
          ]
        }
      ]
    },
    {
      "cell_type": "markdown",
      "source": [
        "1. 난이도 EASY\n",
        "```python\n",
        "scores = [\n",
        "    {\n",
        "      \"math\": 90,\n",
        "      \"science\" : 80\n",
        "    },\n",
        "    {\n",
        "      \"math\": 100,\n",
        "      \"science\" : 78\n",
        "    },\n",
        "]\n",
        "```\n",
        "각 과목의 평균 점수를 구하시오"
      ],
      "metadata": {
        "id": "hPu_-rPMIsJo"
      }
    },
    {
      "cell_type": "code",
      "source": [
        "scores = [\n",
        " {\n",
        "   \"math\": 90,\n",
        "   \"science\" : 80\n",
        " },\n",
        " {\n",
        "   \"math\": 100,\n",
        "   \"science\" : 78\n",
        " },\n",
        "]\n",
        "\n",
        "math_sum = 0\n",
        "science_sum = 0\n",
        "\n",
        "for score in scores:\n",
        "  math_sum += score[\"math\"]\n",
        "  science_sum += score[\"science\"]\n",
        "\n",
        "\n",
        "print(f\"수학 평균: {math_sum / len(scores)}\")\n",
        "print(f\"과학 평균: {science_sum / len(scores)}\")"
      ],
      "metadata": {
        "colab": {
          "base_uri": "https://localhost:8080/"
        },
        "id": "N6OYiVHAI7lW",
        "outputId": "6083246c-97a3-4d06-8880-f8ecae2ed947"
      },
      "execution_count": null,
      "outputs": [
        {
          "output_type": "stream",
          "name": "stdout",
          "text": [
            "수학 평균: 95.0\n",
            "과학 평균: 79.0\n"
          ]
        }
      ]
    },
    {
      "cell_type": "markdown",
      "source": [
        "### `range`\n",
        "- 정수 리스트를 만들기 위한 함수\n",
        "- `range(start : end : step)`\n",
        "- `start`부터 시작해서 `end-1`까지 `step`만큼 건너 뛰면서 정수를 만들어 낸다."
      ],
      "metadata": {
        "id": "kDpfjXQ0L8c_"
      }
    },
    {
      "cell_type": "code",
      "source": [
        "range(5)  # 0 ~ 4 까지 들어있는 정수 range 객체"
      ],
      "metadata": {
        "colab": {
          "base_uri": "https://localhost:8080/"
        },
        "id": "2L8aFzV9Lpm5",
        "outputId": "97c03002-f0fb-49a1-820c-e83de48eaef6"
      },
      "execution_count": null,
      "outputs": [
        {
          "output_type": "execute_result",
          "data": {
            "text/plain": [
              "range(0, 5)"
            ]
          },
          "metadata": {},
          "execution_count": 34
        }
      ]
    },
    {
      "cell_type": "code",
      "source": [
        "list(range(5))"
      ],
      "metadata": {
        "colab": {
          "base_uri": "https://localhost:8080/"
        },
        "id": "GXE4EDbIL_Wp",
        "outputId": "bace0c3c-ffaf-46fb-a375-2a4918ed1809"
      },
      "execution_count": null,
      "outputs": [
        {
          "output_type": "execute_result",
          "data": {
            "text/plain": [
              "[0, 1, 2, 3, 4]"
            ]
          },
          "metadata": {},
          "execution_count": 35
        }
      ]
    },
    {
      "cell_type": "code",
      "source": [
        "list(range(1, 10))"
      ],
      "metadata": {
        "colab": {
          "base_uri": "https://localhost:8080/"
        },
        "id": "3oZYToFNMCDn",
        "outputId": "c16158cc-d634-4952-b6f0-a93ad8ff5a74"
      },
      "execution_count": null,
      "outputs": [
        {
          "output_type": "execute_result",
          "data": {
            "text/plain": [
              "[1, 2, 3, 4, 5, 6, 7, 8, 9]"
            ]
          },
          "metadata": {},
          "execution_count": 36
        }
      ]
    },
    {
      "cell_type": "code",
      "source": [
        "list(range(1, 10, 2))"
      ],
      "metadata": {
        "colab": {
          "base_uri": "https://localhost:8080/"
        },
        "id": "YURxs-UNMPFw",
        "outputId": "320ae078-71e6-4627-b43f-dd4dbb8e6e76"
      },
      "execution_count": null,
      "outputs": [
        {
          "output_type": "execute_result",
          "data": {
            "text/plain": [
              "[1, 3, 5, 7, 9]"
            ]
          },
          "metadata": {},
          "execution_count": 37
        }
      ]
    },
    {
      "cell_type": "code",
      "source": [
        "for num in range(10):\n",
        "  print(\"Hello\", num)\n",
        "\n",
        "# 파이썬에는 횟수제 방법이 없지만, 그것처럼 보이게하는 range가 있다?"
      ],
      "metadata": {
        "colab": {
          "base_uri": "https://localhost:8080/"
        },
        "id": "z31SLkhpMSD8",
        "outputId": "a535897c-d41c-4b7e-b71a-feb89f9e0ea1"
      },
      "execution_count": null,
      "outputs": [
        {
          "output_type": "stream",
          "name": "stdout",
          "text": [
            "Hello 0\n",
            "Hello 1\n",
            "Hello 2\n",
            "Hello 3\n",
            "Hello 4\n",
            "Hello 5\n",
            "Hello 6\n",
            "Hello 7\n",
            "Hello 8\n",
            "Hello 9\n"
          ]
        }
      ]
    },
    {
      "cell_type": "markdown",
      "source": [
        "2. 난이도 HARD\n",
        "```\n",
        "몇 명의 점수를 입력 받으시겠습니까? : 3\n",
        "math : 80\n",
        "science : 90\n",
        "math : 74\n",
        "science : 99\n",
        "math : 45\n",
        "science : 32\n",
        "```\n",
        "```\n",
        "math의 평균 : ???점\n",
        "science의 평균 : ???점\n",
        "```|"
      ],
      "metadata": {
        "id": "N2iA7nEFJXz5"
      }
    },
    {
      "cell_type": "code",
      "source": [
        "# 내가 시도한 것(제미니도..조금도와줬음..)\n",
        "# 몇번 입력을 받을지 변수\n",
        "# 몇 명의 점수를 받을지 정해진 input값 만큼 수학, 과학 input을 반복한다.\n",
        "# 과목은 수학, 과학 두개로 정해진건가? 그렇다면 수학, 과학 변수..\n",
        "\n",
        "howmany = int(input(\"몇 명의 점수를 입력 받으시겠습니까? : \"))\n",
        "\n",
        "math_sum, science_sum = 0, 0\n",
        "# howmany 값 만큼 수학, 과학 점수값을 입력받는다.\n",
        "# 각 과목의 합을 구한 변수를 만든다.\n",
        "for _ in range(howmany):\n",
        "  math_score = int(input(\"math : \"))\n",
        "  science_score = int(input(\"science : \"))\n",
        "  print(\"-\"*10)\n",
        "  math_sum += math_score\n",
        "  science_sum += science_score\n",
        "\n",
        "# for math_sum, science_sum in range(howmany): 에러요 님아\n",
        "#   print(input(\"math : \"))\n",
        "#   print(input(\"science : \"))\n",
        "#   print(\"-\"*10)\n",
        "#   math_sum += score[\"math\"]\n",
        "#   science_sum += score[\"science\"]\n",
        "\n",
        "# 입력받은 각 과목의 점수 총합 / 몇번 입력받은 변수값 = 평균\n",
        "print(f\"math의 평균 : {math_sum / howmany}\")\n",
        "print(f\"science의 평균 : {science_sum / howmany}\")"
      ],
      "metadata": {
        "colab": {
          "base_uri": "https://localhost:8080/"
        },
        "id": "mi24gsYPMgSj",
        "outputId": "23360fe9-0d37-4150-ad53-0d7c663f676a"
      },
      "execution_count": null,
      "outputs": [
        {
          "output_type": "stream",
          "name": "stdout",
          "text": [
            "몇 명의 점수를 입력 받으시겠습니까? : 2\n",
            "math : 85\n",
            "science : 45\n",
            "----------\n",
            "math : 44\n",
            "science : 25\n",
            "----------\n",
            "math의 평균 : 64.5\n",
            "science의 평균 : 35.0\n"
          ]
        }
      ]
    },
    {
      "cell_type": "code",
      "source": [
        "# 1. 몇 명의 점수를 입력 받을 것인가?\n",
        "# 2. 명 수가 정해지면 그 만큼 반복하면서 점수를 입력 받습니다.\n",
        "#   - 점수를 입력 받으면, 그 점수 정보를 저장 -> 컬렉션을 활용\n",
        "# 3. 다 입력 되면 총점과 평균을 구한다.\n",
        "\n",
        "# 방법1\n",
        "count = int(input(\"몇 명의 점수를 입력 받으시겠습니까? : \"))\n",
        "\n",
        "scores = [] # 빈리스트 생성 = 점수를 저장할 공간\n",
        "\n",
        "for i in range(count):\n",
        "\n",
        "  print(\"-\" * 10)\n",
        "  math_score = int(input(\"수학 점수 : \"))\n",
        "  sci_score = int(input(\"과학 점수 : \"))\n",
        "\n",
        "  score = { # 쌤은 dict을 써주면 좋겠다고 하심\n",
        "      \"math\": math_score,\n",
        "      \"science\": sci_score\n",
        "  }\n",
        "\n",
        "  scores.append(score)\n",
        "\n",
        "  math_sum, science_sum = 0, 0 # 합계를 누적해야하는 변수에는 초기화를 시켜줘야한다는걸 기억하자\n",
        "\n",
        "\n",
        "for score in scores:\n",
        "  math_sum += score[\"math\"]\n",
        "  science_sum += score[\"science\"]\n",
        "\n",
        "print(math_sum / len(scores))\n",
        "print(science_sum / len(scores))"
      ],
      "metadata": {
        "colab": {
          "base_uri": "https://localhost:8080/"
        },
        "id": "w0HmSs5dMzdq",
        "outputId": "c596db12-1473-4a99-98b4-7bde2ecd80f5"
      },
      "execution_count": null,
      "outputs": [
        {
          "output_type": "stream",
          "name": "stdout",
          "text": [
            "몇 명의 점수를 입력 받으시겠습니까? : 3\n",
            "----------\n",
            "수학 점수 : 52\n",
            "과학 점수 : 78\n",
            "----------\n",
            "수학 점수 : 41\n",
            "과학 점수 : 55\n",
            "----------\n",
            "수학 점수 : 15\n",
            "과학 점수 : 63\n",
            "36.0\n",
            "65.33333333333333\n"
          ]
        }
      ]
    },
    {
      "cell_type": "code",
      "source": [
        "# 방법2\n",
        "count = int(input(\"몇 명의 점수를 입력 받으시겠습니까?\"))\n",
        "\n",
        "math_score_list = []\n",
        "science_score_list = []\n",
        "\n",
        "score_dict = {}\n",
        "\n",
        "for i in range(count):\n",
        "  print(\"-\" * 10)\n",
        "  math_score = int(input(\"수학 점수 : \"))\n",
        "  sci_score = int(input(\"과학 점수 : \"))\n",
        "\n",
        "  math_score_list.append(math_score)\n",
        "  science_score_list.append(sci_score)\n",
        "\n",
        "score_dict['math'] = math_score_list\n",
        "score_dict['science'] = science_score_list\n",
        "\n",
        "print(score_dict)\n",
        "\n",
        "# 평균까지 구하려면?\n",
        "# math_avg = sum(score_dict['math']) / len(score_dict['math'])\n",
        "# science_avg = sum(score_dict['science']) / len(score_dict['science'])\n",
        "\n",
        "# print(f\"수학 평균: {math_avg}\")\n",
        "# print(f\"과학 평균: {science_avg}\")"
      ],
      "metadata": {
        "colab": {
          "base_uri": "https://localhost:8080/"
        },
        "id": "_hjs0UrURQXU",
        "outputId": "f4a930b4-f68c-4569-ea81-5bb92226e757"
      },
      "execution_count": null,
      "outputs": [
        {
          "output_type": "stream",
          "name": "stdout",
          "text": [
            "몇 명의 점수를 입력 받으시겠습니까?3\n",
            "----------\n",
            "수학 점수 : 45\n",
            "과학 점수 : 98\n",
            "----------\n",
            "수학 점수 : 53\n",
            "과학 점수 : 26\n",
            "----------\n",
            "수학 점수 : 33\n",
            "과학 점수 : 67\n",
            "{'math': [45, 53, 33], 'science': [98, 26, 67]}\n"
          ]
        }
      ]
    },
    {
      "cell_type": "markdown",
      "source": [
        "# `Continue`, `Break`\n",
        "\n",
        "- `continue` : 반복문에서 해당 반복을 중지하고 계속 이어서 반복 루틴을 수행\n",
        "- `break` : 반복문 자체를 중지\n"
      ],
      "metadata": {
        "id": "XJvFMVjNT22X"
      }
    },
    {
      "cell_type": "code",
      "source": [
        "for item in range(5):\n",
        "\n",
        "  if item == 2:\n",
        "    continue;\n",
        "\n",
        "  print(item)"
      ],
      "metadata": {
        "colab": {
          "base_uri": "https://localhost:8080/"
        },
        "id": "o417qopvUbgS",
        "outputId": "1e6e56bc-5e28-4fa3-f4c2-094e632d5175"
      },
      "execution_count": null,
      "outputs": [
        {
          "output_type": "stream",
          "name": "stdout",
          "text": [
            "0\n",
            "1\n",
            "3\n",
            "4\n",
            "0\n",
            "1\n"
          ]
        }
      ]
    },
    {
      "cell_type": "code",
      "source": [
        "for item2 in range(5):\n",
        "\n",
        "  if item2 == 2:\n",
        "    break\n",
        "\n",
        "  print(item2)"
      ],
      "metadata": {
        "id": "fPlZklh0Xwhj",
        "colab": {
          "base_uri": "https://localhost:8080/"
        },
        "outputId": "d0c3a3ad-348d-457d-d72d-4a63d3e9fad5"
      },
      "execution_count": null,
      "outputs": [
        {
          "output_type": "stream",
          "name": "stdout",
          "text": [
            "0\n",
            "1\n"
          ]
        }
      ]
    },
    {
      "cell_type": "markdown",
      "source": [
        "# 중첩된 제어문(nested)\n",
        "* 제어문 내에 제어문이 존재할 수 있다."
      ],
      "metadata": {
        "id": "Hqkby1HyY2UE"
      }
    },
    {
      "cell_type": "code",
      "source": [
        "lst1 = [10, 20, 30]\n",
        "lst2 = [\"A\", \"B\", \"C\"]\n",
        "\n",
        "for item1 in lst1:  # 3 * 3으로 9번 반복함\n",
        "  for item2 in lst2:\n",
        "    print(item1, item2)"
      ],
      "metadata": {
        "colab": {
          "base_uri": "https://localhost:8080/"
        },
        "id": "Jd44wTa0Y6CC",
        "outputId": "d19668bc-ce20-4170-d38e-a0e148697092"
      },
      "execution_count": null,
      "outputs": [
        {
          "output_type": "stream",
          "name": "stdout",
          "text": [
            "10 A\n",
            "10 B\n",
            "10 C\n",
            "20 A\n",
            "20 B\n",
            "20 C\n",
            "30 A\n",
            "30 B\n",
            "30 C\n"
          ]
        }
      ]
    },
    {
      "cell_type": "code",
      "source": [
        "# 구구단\n",
        "\n",
        "# 1) 2단, 3단, 4단, ◽◽◽ 9단\n",
        "# 2) 각 단별로 1 ~ 9 까지 곱한다.\n",
        "# 3) 2x1 = 2 2x2 = 4, ◽◽◽\n",
        "\n",
        "print(\"=== 구구단을 외자 ~ ===\")\n",
        "for dan in range(2, 10):\n",
        "  print(f\"==={dan}단===\")\n",
        "\n",
        "  for times in range(1, 10):\n",
        "    print(f\"{dan} x {times} = {dan * times}\")"
      ],
      "metadata": {
        "colab": {
          "base_uri": "https://localhost:8080/"
        },
        "id": "oLQB_eYxZF-J",
        "outputId": "c49bfad7-54cc-41b7-8aff-95642a990c79"
      },
      "execution_count": null,
      "outputs": [
        {
          "output_type": "stream",
          "name": "stdout",
          "text": [
            "=== 구구단을 외자 ~ ===\n",
            "===2단===\n",
            "2 x 1 = 2\n",
            "2 x 2 = 4\n",
            "2 x 3 = 6\n",
            "2 x 4 = 8\n",
            "2 x 5 = 10\n",
            "2 x 6 = 12\n",
            "2 x 7 = 14\n",
            "2 x 8 = 16\n",
            "2 x 9 = 18\n",
            "===3단===\n",
            "3 x 1 = 3\n",
            "3 x 2 = 6\n",
            "3 x 3 = 9\n",
            "3 x 4 = 12\n",
            "3 x 5 = 15\n",
            "3 x 6 = 18\n",
            "3 x 7 = 21\n",
            "3 x 8 = 24\n",
            "3 x 9 = 27\n",
            "===4단===\n",
            "4 x 1 = 4\n",
            "4 x 2 = 8\n",
            "4 x 3 = 12\n",
            "4 x 4 = 16\n",
            "4 x 5 = 20\n",
            "4 x 6 = 24\n",
            "4 x 7 = 28\n",
            "4 x 8 = 32\n",
            "4 x 9 = 36\n",
            "===5단===\n",
            "5 x 1 = 5\n",
            "5 x 2 = 10\n",
            "5 x 3 = 15\n",
            "5 x 4 = 20\n",
            "5 x 5 = 25\n",
            "5 x 6 = 30\n",
            "5 x 7 = 35\n",
            "5 x 8 = 40\n",
            "5 x 9 = 45\n",
            "===6단===\n",
            "6 x 1 = 6\n",
            "6 x 2 = 12\n",
            "6 x 3 = 18\n",
            "6 x 4 = 24\n",
            "6 x 5 = 30\n",
            "6 x 6 = 36\n",
            "6 x 7 = 42\n",
            "6 x 8 = 48\n",
            "6 x 9 = 54\n",
            "===7단===\n",
            "7 x 1 = 7\n",
            "7 x 2 = 14\n",
            "7 x 3 = 21\n",
            "7 x 4 = 28\n",
            "7 x 5 = 35\n",
            "7 x 6 = 42\n",
            "7 x 7 = 49\n",
            "7 x 8 = 56\n",
            "7 x 9 = 63\n",
            "===8단===\n",
            "8 x 1 = 8\n",
            "8 x 2 = 16\n",
            "8 x 3 = 24\n",
            "8 x 4 = 32\n",
            "8 x 5 = 40\n",
            "8 x 6 = 48\n",
            "8 x 7 = 56\n",
            "8 x 8 = 64\n",
            "8 x 9 = 72\n",
            "===9단===\n",
            "9 x 1 = 9\n",
            "9 x 2 = 18\n",
            "9 x 3 = 27\n",
            "9 x 4 = 36\n",
            "9 x 5 = 45\n",
            "9 x 6 = 54\n",
            "9 x 7 = 63\n",
            "9 x 8 = 72\n",
            "9 x 9 = 81\n"
          ]
        }
      ]
    },
    {
      "cell_type": "markdown",
      "source": [
        "# 숙제\n",
        "1. 구구단 ver.2 난이도 ★★☆☆☆\n",
        "  * 홀수 단은 `~~ 곱하기 ~~ 는 ~~`\n",
        "  * 짝수 단은 `~~ x ~~ = ~~`\n",
        "  * 3단이면 `3 곱하기 1는 3`\n",
        "  * 4단이면 `4 x 1 = 4`\n",
        "\n",
        "2. 구구단 ver.3 난이도 ★★★☆☆\n",
        "  * 가로 구구단 출력하기\n",
        "  * ```\n",
        "    2*1=1 3*1=3 4*1=4 .....\n",
        "    2*2=4 3*2=6 4*2=8 .....\n",
        "  ```\n",
        "  * `print`함수 사용시에 `end=\"\\t\"`를 이용하면 옆으로 감\n",
        "  * ```\n",
        "  print(\"ab\", end=\"\\t\")\n",
        "  print(\"cd\")\n",
        "   >> ab      cd\n",
        "  ```\n",
        "3. 구구단 ver.4 난이도 ★★★★★\n",
        "  * 격자 구구단 출력하기\n",
        "  * ```\n",
        "    2단   3단   4단\n",
        "    ...   ...   ...\n",
        "    5단   6단   7단\n",
        "    ...   ...   ...\n",
        "    8단   9단\n",
        "    ...   ...\n",
        "  ```\n"
      ],
      "metadata": {
        "id": "lXlGBZ4abMj5"
      }
    },
    {
      "cell_type": "code",
      "source": [
        "# 홀짝 구분하기\n",
        "print(3 % 2) # 1\n",
        "print(4 % 2) # 0\n",
        "\n",
        "if(2 % 2 == 1):\n",
        "  print(\"홀수\")\n",
        "else:\n",
        "  print(\"짝수\")"
      ],
      "metadata": {
        "id": "mg5KxfOnbafQ"
      },
      "execution_count": null,
      "outputs": []
    },
    {
      "cell_type": "code",
      "source": [
        "# print를 옆으로 수행하기\n",
        "print(\"ab\", end='\\t')\n",
        "print(\"cd\")"
      ],
      "metadata": {
        "colab": {
          "base_uri": "https://localhost:8080/"
        },
        "id": "02M5jm8kb2o0",
        "outputId": "3ef11134-2952-482f-e893-4f3b8cd1bf81"
      },
      "execution_count": null,
      "outputs": [
        {
          "output_type": "stream",
          "name": "stdout",
          "text": [
            "ab\tcd\n"
          ]
        }
      ]
    },
    {
      "cell_type": "code",
      "source": [
        "# 1. 구구단 ver.2 난이도 ★★☆☆☆\n",
        "# 나의 시도\n",
        "\n",
        "print(\"=== 구구단을 외자 ~ ===\")\n",
        "for dan in range(2, 10):\n",
        "  print(f\"==={dan}단===\")\n",
        "\n",
        "  for times in range(1, 10):\n",
        "    if(dan % 2 == 0):\n",
        "      print(f\"{dan} x {times} = {dan * times}\")\n",
        "    else:\n",
        "      print(f\"{dan} 곱하기 {times}는 {dan * times}\")\n",
        "\n",
        "# 쌤거\n",
        "# dans = range(2, 10)\n",
        "# times = range(1, 10)\n",
        "\n",
        "# for dan in dans:\n",
        "#   print(f\"==={dan}단===\")\n",
        "\n",
        "#   for time in times:\n",
        "#     # 홀 / 짝 여부에 따른 표현을 다르게 출력\n",
        "#     if dan % 2 == 0:\n",
        "#       print(f\"{dan} x {time} = {dan * time}\")\n",
        "#     else:\n",
        "#       print(f\"{dan} 곱하기 {time}은 {dan * time}\")"
      ],
      "metadata": {
        "colab": {
          "base_uri": "https://localhost:8080/"
        },
        "id": "lsS1nPG-b3Am",
        "outputId": "92761bd7-0678-4368-f557-431b4a4135d0"
      },
      "execution_count": null,
      "outputs": [
        {
          "output_type": "stream",
          "name": "stdout",
          "text": [
            "=== 구구단을 외자 ~ ===\n",
            "===2단===\n",
            "2 x 1 = 2\n",
            "2 x 2 = 4\n",
            "2 x 3 = 6\n",
            "2 x 4 = 8\n",
            "2 x 5 = 10\n",
            "2 x 6 = 12\n",
            "2 x 7 = 14\n",
            "2 x 8 = 16\n",
            "2 x 9 = 18\n",
            "===3단===\n",
            "3 곱하기 1는 3\n",
            "3 곱하기 2는 6\n",
            "3 곱하기 3는 9\n",
            "3 곱하기 4는 12\n",
            "3 곱하기 5는 15\n",
            "3 곱하기 6는 18\n",
            "3 곱하기 7는 21\n",
            "3 곱하기 8는 24\n",
            "3 곱하기 9는 27\n",
            "===4단===\n",
            "4 x 1 = 4\n",
            "4 x 2 = 8\n",
            "4 x 3 = 12\n",
            "4 x 4 = 16\n",
            "4 x 5 = 20\n",
            "4 x 6 = 24\n",
            "4 x 7 = 28\n",
            "4 x 8 = 32\n",
            "4 x 9 = 36\n",
            "===5단===\n",
            "5 곱하기 1는 5\n",
            "5 곱하기 2는 10\n",
            "5 곱하기 3는 15\n",
            "5 곱하기 4는 20\n",
            "5 곱하기 5는 25\n",
            "5 곱하기 6는 30\n",
            "5 곱하기 7는 35\n",
            "5 곱하기 8는 40\n",
            "5 곱하기 9는 45\n",
            "===6단===\n",
            "6 x 1 = 6\n",
            "6 x 2 = 12\n",
            "6 x 3 = 18\n",
            "6 x 4 = 24\n",
            "6 x 5 = 30\n",
            "6 x 6 = 36\n",
            "6 x 7 = 42\n",
            "6 x 8 = 48\n",
            "6 x 9 = 54\n",
            "===7단===\n",
            "7 곱하기 1는 7\n",
            "7 곱하기 2는 14\n",
            "7 곱하기 3는 21\n",
            "7 곱하기 4는 28\n",
            "7 곱하기 5는 35\n",
            "7 곱하기 6는 42\n",
            "7 곱하기 7는 49\n",
            "7 곱하기 8는 56\n",
            "7 곱하기 9는 63\n",
            "===8단===\n",
            "8 x 1 = 8\n",
            "8 x 2 = 16\n",
            "8 x 3 = 24\n",
            "8 x 4 = 32\n",
            "8 x 5 = 40\n",
            "8 x 6 = 48\n",
            "8 x 7 = 56\n",
            "8 x 8 = 64\n",
            "8 x 9 = 72\n",
            "===9단===\n",
            "9 곱하기 1는 9\n",
            "9 곱하기 2는 18\n",
            "9 곱하기 3는 27\n",
            "9 곱하기 4는 36\n",
            "9 곱하기 5는 45\n",
            "9 곱하기 6는 54\n",
            "9 곱하기 7는 63\n",
            "9 곱하기 8는 72\n",
            "9 곱하기 9는 81\n"
          ]
        }
      ]
    },
    {
      "cell_type": "code",
      "source": [
        "# 2. 구구단 ver.3 난이도 ★★★☆☆\n",
        "# 나의 시도\n",
        "\n",
        "print(\"=== 구구단을 외자 ~ ===\")\n",
        "\n",
        "for times in range(1, 10):\n",
        "  for dan in range(2, 10):\n",
        "      print(f\"{dan} x {times} = {dan * times}\",end=\"\\t\")\n",
        "  print(\"\\t\")\n",
        "\n",
        "# 쌤거\n",
        "# dans = range(2, 10)\n",
        "# times = range(1, 10)\n",
        "\n",
        "# for time in times:\n",
        "#   for dan in dans:\n",
        "#     print(f\"{dan} x {time} = {dan * time}\", end='\\t')\n",
        "#   print()\n"
      ],
      "metadata": {
        "colab": {
          "base_uri": "https://localhost:8080/"
        },
        "id": "e7uO5Q_GcVQH",
        "outputId": "d359bd6d-8bdd-4b52-c76c-5c5c5ca18da9"
      },
      "execution_count": 93,
      "outputs": [
        {
          "output_type": "stream",
          "name": "stdout",
          "text": [
            "=== 구구단을 외자 ~ ===\n",
            "2 x 1 = 2\t3 x 1 = 3\t4 x 1 = 4\t5 x 1 = 5\t6 x 1 = 6\t7 x 1 = 7\t8 x 1 = 8\t9 x 1 = 9\t\t\n",
            "2 x 2 = 4\t3 x 2 = 6\t4 x 2 = 8\t5 x 2 = 10\t6 x 2 = 12\t7 x 2 = 14\t8 x 2 = 16\t9 x 2 = 18\t\t\n",
            "2 x 3 = 6\t3 x 3 = 9\t4 x 3 = 12\t5 x 3 = 15\t6 x 3 = 18\t7 x 3 = 21\t8 x 3 = 24\t9 x 3 = 27\t\t\n",
            "2 x 4 = 8\t3 x 4 = 12\t4 x 4 = 16\t5 x 4 = 20\t6 x 4 = 24\t7 x 4 = 28\t8 x 4 = 32\t9 x 4 = 36\t\t\n",
            "2 x 5 = 10\t3 x 5 = 15\t4 x 5 = 20\t5 x 5 = 25\t6 x 5 = 30\t7 x 5 = 35\t8 x 5 = 40\t9 x 5 = 45\t\t\n",
            "2 x 6 = 12\t3 x 6 = 18\t4 x 6 = 24\t5 x 6 = 30\t6 x 6 = 36\t7 x 6 = 42\t8 x 6 = 48\t9 x 6 = 54\t\t\n",
            "2 x 7 = 14\t3 x 7 = 21\t4 x 7 = 28\t5 x 7 = 35\t6 x 7 = 42\t7 x 7 = 49\t8 x 7 = 56\t9 x 7 = 63\t\t\n",
            "2 x 8 = 16\t3 x 8 = 24\t4 x 8 = 32\t5 x 8 = 40\t6 x 8 = 48\t7 x 8 = 56\t8 x 8 = 64\t9 x 8 = 72\t\t\n",
            "2 x 9 = 18\t3 x 9 = 27\t4 x 9 = 36\t5 x 9 = 45\t6 x 9 = 54\t7 x 9 = 63\t8 x 9 = 72\t9 x 9 = 81\t\t\n"
          ]
        }
      ]
    },
    {
      "cell_type": "code",
      "source": [
        "# 3. 구구단 ver.4 난이도 ★★★★★\n",
        "# 나는포기, 바로 해답으로. 해석필요\n",
        "\n",
        "dans = range(2, 10)\n",
        "times = range(1, 10)\n",
        "\n",
        "h_num = 3 # 가로로 표시할 숫자의 개수\n",
        "\n",
        "for idx in range(0, len(dans), h_num):\n",
        "  # 한 줄에 표시할 단 가져오기\n",
        "  now_dan = dans[idx : idx + h_num] # 1) 0, 1, 2\n",
        "\n",
        "  for dan in now_dan:\n",
        "    print(f\"{dan}단\", end = '\\t\\t')\n",
        "  print()\n",
        "\n",
        "  for time in times:\n",
        "    for dan in now_dan:\n",
        "      print(f\"{dan} x {time} = {dan * time}\", end='\\t')\n",
        "    print()\n",
        "  print()\n"
      ],
      "metadata": {
        "id": "dXRSo0A0c8AJ",
        "colab": {
          "base_uri": "https://localhost:8080/"
        },
        "outputId": "3ece3be4-38e0-40cd-8457-4e45b38d2a2b"
      },
      "execution_count": 100,
      "outputs": [
        {
          "output_type": "stream",
          "name": "stdout",
          "text": [
            "2단\t\t3단\t\t4단\t\t\n",
            "2 x 1 = 2\t3 x 1 = 3\t4 x 1 = 4\t\n",
            "2 x 2 = 4\t3 x 2 = 6\t4 x 2 = 8\t\n",
            "2 x 3 = 6\t3 x 3 = 9\t4 x 3 = 12\t\n",
            "2 x 4 = 8\t3 x 4 = 12\t4 x 4 = 16\t\n",
            "2 x 5 = 10\t3 x 5 = 15\t4 x 5 = 20\t\n",
            "2 x 6 = 12\t3 x 6 = 18\t4 x 6 = 24\t\n",
            "2 x 7 = 14\t3 x 7 = 21\t4 x 7 = 28\t\n",
            "2 x 8 = 16\t3 x 8 = 24\t4 x 8 = 32\t\n",
            "2 x 9 = 18\t3 x 9 = 27\t4 x 9 = 36\t\n",
            "\n",
            "5단\t\t6단\t\t7단\t\t\n",
            "5 x 1 = 5\t6 x 1 = 6\t7 x 1 = 7\t\n",
            "5 x 2 = 10\t6 x 2 = 12\t7 x 2 = 14\t\n",
            "5 x 3 = 15\t6 x 3 = 18\t7 x 3 = 21\t\n",
            "5 x 4 = 20\t6 x 4 = 24\t7 x 4 = 28\t\n",
            "5 x 5 = 25\t6 x 5 = 30\t7 x 5 = 35\t\n",
            "5 x 6 = 30\t6 x 6 = 36\t7 x 6 = 42\t\n",
            "5 x 7 = 35\t6 x 7 = 42\t7 x 7 = 49\t\n",
            "5 x 8 = 40\t6 x 8 = 48\t7 x 8 = 56\t\n",
            "5 x 9 = 45\t6 x 9 = 54\t7 x 9 = 63\t\n",
            "\n",
            "8단\t\t9단\t\t\n",
            "8 x 1 = 8\t9 x 1 = 9\t\n",
            "8 x 2 = 16\t9 x 2 = 18\t\n",
            "8 x 3 = 24\t9 x 3 = 27\t\n",
            "8 x 4 = 32\t9 x 4 = 36\t\n",
            "8 x 5 = 40\t9 x 5 = 45\t\n",
            "8 x 6 = 48\t9 x 6 = 54\t\n",
            "8 x 7 = 56\t9 x 7 = 63\t\n",
            "8 x 8 = 64\t9 x 8 = 72\t\n",
            "8 x 9 = 72\t9 x 9 = 81\t\n",
            "\n"
          ]
        }
      ]
    },
    {
      "cell_type": "markdown",
      "source": [
        "# 기타 제어문 사용 방법\n",
        "- 삼항연산\n",
        "- 컴프리헨션"
      ],
      "metadata": {
        "id": "ClkTl2uG7i1r"
      }
    },
    {
      "cell_type": "markdown",
      "source": [
        "## 삼(3)항 연산자\n",
        "- 파이썬이 아닌 다른 언어들은 삼항연산자(`?`)가 존재하지만, 파이썬에는 없음!\n",
        "- `if`, `else`만 사용해서 삼항연산을 수행\n",
        "\n",
        "간단한 `if`, `else` 구문을 **한줄의 코드**로 표현할 수 있는 방법"
      ],
      "metadata": {
        "id": "n_Qep-FUByrS"
      }
    },
    {
      "cell_type": "code",
      "source": [
        "result = None # None : 아무것도 없음을 의미\n",
        "\n",
        "a = 1\n",
        "b = 2\n",
        "\n",
        "if a > b:\n",
        "  result = \"Hello\"\n",
        "else:\n",
        "  result = \"Bye\"\n",
        "\n",
        "result"
      ],
      "metadata": {
        "colab": {
          "base_uri": "https://localhost:8080/",
          "height": 35
        },
        "id": "iG3ctSkqCL87",
        "outputId": "6fdbe3e7-5176-49b8-8cc1-18ad2887f5c5"
      },
      "execution_count": 102,
      "outputs": [
        {
          "output_type": "execute_result",
          "data": {
            "text/plain": [
              "'Bye'"
            ],
            "application/vnd.google.colaboratory.intrinsic+json": {
              "type": "string"
            }
          },
          "metadata": {},
          "execution_count": 102
        }
      ]
    },
    {
      "cell_type": "markdown",
      "source": [
        "* 삼항연산 사용 방법\n",
        "```python\n",
        "<True 일 때 사용할 값> if [condition] else <False 일 때 사용할 값>\n",
        "```"
      ],
      "metadata": {
        "id": "oLlFas5vC2WP"
      }
    },
    {
      "cell_type": "code",
      "source": [
        "result =  \"Hello\"  if a > b else \"Bye\"\n",
        "result"
      ],
      "metadata": {
        "colab": {
          "base_uri": "https://localhost:8080/",
          "height": 35
        },
        "id": "GYVA_WjeDO3o",
        "outputId": "a4c4d1fb-6272-4365-92d2-8c6a0629cad5"
      },
      "execution_count": 103,
      "outputs": [
        {
          "output_type": "execute_result",
          "data": {
            "text/plain": [
              "'Bye'"
            ],
            "application/vnd.google.colaboratory.intrinsic+json": {
              "type": "string"
            }
          },
          "metadata": {},
          "execution_count": 103
        }
      ]
    },
    {
      "cell_type": "markdown",
      "source": [
        "# 컴프리헨션\n",
        "- `list`, `set`, `dict`를 간단하게 만들기 위한 문법\n",
        "- `tuple`은 컴프리헨션으로 만들 수 없다!"
      ],
      "metadata": {
        "id": "mQvdnAsBDmYV"
      }
    },
    {
      "cell_type": "markdown",
      "source": [
        "반복문을 이용해서 컬렉션에 데이터를 추가하는 경우가 많다!\n",
        "- 여러 전처리나 효과 없이 아주 단순하게 만들어진 데이터를 컬렉션에 추가(`append`)하고 싶으면????\n",
        "- 한줄짜리 간단한 코드에 의한 아이템 추가"
      ],
      "metadata": {
        "id": "ivDsapoLEQ4y"
      }
    },
    {
      "cell_type": "code",
      "source": [
        "# 1 ~ 5 까지 각각의 장소에 제곱한 결과를 리스트에 담아놓기\n",
        "result = []\n",
        "\n",
        "for data in range(1, 6):\n",
        "  result.append(data ** 2)\n",
        "\n",
        "result"
      ],
      "metadata": {
        "colab": {
          "base_uri": "https://localhost:8080/"
        },
        "id": "nMMRaa5EETV0",
        "outputId": "b040e50e-a5e7-460b-c5f2-f9812f985293"
      },
      "execution_count": 104,
      "outputs": [
        {
          "output_type": "execute_result",
          "data": {
            "text/plain": [
              "[1, 4, 9, 16, 25]"
            ]
          },
          "metadata": {},
          "execution_count": 104
        }
      ]
    },
    {
      "cell_type": "markdown",
      "source": [],
      "metadata": {
        "id": "nAY7YohaKEQ4"
      }
    },
    {
      "cell_type": "markdown",
      "source": [
        "`list` 컴프리헨션\n",
        "```python\n",
        "[ <추가할 값에 대한 처리> for <값> in <collection> if <값에 대한 조건> ]\n",
        "\n",
        "<값에 대한 조건>이 True일 때 collection에 있는 아이템을 리스트에 추가\n",
        "if문은 있어도 되고 없어도 된다.\n",
        "```"
      ],
      "metadata": {
        "id": "LFhwVWB-EnAw"
      }
    },
    {
      "cell_type": "code",
      "source": [
        "result = [ data ** 2 for data in range(1, 6)] # 제곱하는게 하나씩 꺼내는거야?\n",
        "# for문부터 작성하기\n",
        "result"
      ],
      "metadata": {
        "colab": {
          "base_uri": "https://localhost:8080/"
        },
        "id": "T_is3wz2FPJd",
        "outputId": "ee365dd5-de63-430b-a22b-374802ea4ba5"
      },
      "execution_count": 105,
      "outputs": [
        {
          "output_type": "execute_result",
          "data": {
            "text/plain": [
              "[1, 4, 9, 16, 25]"
            ]
          },
          "metadata": {},
          "execution_count": 105
        }
      ]
    },
    {
      "cell_type": "code",
      "source": [
        "# 1 ~ 100 까지 홀수인 정수에 대해서만 제곱한 후에 증가\n",
        "result = [ data ** 2 for data in range(1, 101) if data % 2 == 1]\n",
        "print(result)"
      ],
      "metadata": {
        "colab": {
          "base_uri": "https://localhost:8080/"
        },
        "id": "LTqIVgsvGP-q",
        "outputId": "b3c3ab9f-6bc3-475c-bd6e-9bc925424953"
      },
      "execution_count": 109,
      "outputs": [
        {
          "output_type": "stream",
          "name": "stdout",
          "text": [
            "[1, 9, 25, 49, 81, 121, 169, 225, 289, 361, 441, 529, 625, 729, 841, 961, 1089, 1225, 1369, 1521, 1681, 1849, 2025, 2209, 2401, 2601, 2809, 3025, 3249, 3481, 3721, 3969, 4225, 4489, 4761, 5041, 5329, 5625, 5929, 6241, 6561, 6889, 7225, 7569, 7921, 8281, 8649, 9025, 9409, 9801]\n"
          ]
        }
      ]
    },
    {
      "cell_type": "code",
      "source": [
        "# 1 ~ 100 까지 정수에 대해서 홀수는 제곱, 짝수는 그대로 리스트에 추가하는 컴프리벤션\n",
        "result = [ data if data % 2 == 0 else data ** 2 for data in range(1, 101)] # 홀수도 짝수로 리스트에 넣을거니까 값에 대한 조건이 없지\n",
        "print(result)"
      ],
      "metadata": {
        "colab": {
          "base_uri": "https://localhost:8080/"
        },
        "id": "JXy-3K-wGbN1",
        "outputId": "d73195f6-def4-4b4f-d0ba-6b4c0b354ef1"
      },
      "execution_count": 122,
      "outputs": [
        {
          "output_type": "stream",
          "name": "stdout",
          "text": [
            "[1, 2, 9, 4, 25, 6, 49, 8, 81, 10, 121, 12, 169, 14, 225, 16, 289, 18, 361, 20, 441, 22, 529, 24, 625, 26, 729, 28, 841, 30, 961, 32, 1089, 34, 1225, 36, 1369, 38, 1521, 40, 1681, 42, 1849, 44, 2025, 46, 2209, 48, 2401, 50, 2601, 52, 2809, 54, 3025, 56, 3249, 58, 3481, 60, 3721, 62, 3969, 64, 4225, 66, 4489, 68, 4761, 70, 5041, 72, 5329, 74, 5625, 76, 5929, 78, 6241, 80, 6561, 82, 6889, 84, 7225, 86, 7569, 88, 7921, 90, 8281, 92, 8649, 94, 9025, 96, 9409, 98, 9801, 100]\n"
          ]
        }
      ]
    },
    {
      "cell_type": "markdown",
      "source": [
        "컴프리헨션은 일반 for문을 사용한 것 보다 빠르다!\n"
      ],
      "metadata": {
        "id": "dn_sIDdBHTlG"
      }
    },
    {
      "cell_type": "code",
      "source": [
        "%%timeit\n",
        "\n",
        "lst = []\n",
        "\n",
        "for data in range(1, 100001):\n",
        "  if data % 3 == 0:\n",
        "    lst.append(data)\n",
        "\n",
        "len(lst)"
      ],
      "metadata": {
        "colab": {
          "base_uri": "https://localhost:8080/"
        },
        "id": "iyJ94kQiJbFl",
        "outputId": "467e63ce-3b6f-4171-ac36-f244ec03de66"
      },
      "execution_count": 123,
      "outputs": [
        {
          "output_type": "stream",
          "name": "stdout",
          "text": [
            "9.06 ms ± 1.14 ms per loop (mean ± std. dev. of 7 runs, 10 loops each)\n"
          ]
        }
      ]
    },
    {
      "cell_type": "markdown",
      "source": [
        "## `set`, `dict` 컴프리헨션"
      ],
      "metadata": {
        "id": "vgq77a0VJs3Q"
      }
    },
    {
      "cell_type": "code",
      "source": [
        "text = \"aaabbbccc\"\n",
        "set(text)"
      ],
      "metadata": {
        "colab": {
          "base_uri": "https://localhost:8080/"
        },
        "id": "fsNSmq1tNJCO",
        "outputId": "55babc25-ece2-4686-9447-36db2172fefd"
      },
      "execution_count": 124,
      "outputs": [
        {
          "output_type": "execute_result",
          "data": {
            "text/plain": [
              "{'a', 'b', 'c'}"
            ]
          },
          "metadata": {},
          "execution_count": 124
        }
      ]
    },
    {
      "cell_type": "code",
      "source": [
        "# set 컴프리헨션\n",
        "result = {f\"{letter} 입니다.\" for letter in text}\n",
        "result\n",
        "# set컴프리헨션은 거의 잘 쓸일이 없긴함"
      ],
      "metadata": {
        "colab": {
          "base_uri": "https://localhost:8080/"
        },
        "id": "HZrdOJWYNNYV",
        "outputId": "dfe0ec3f-a7ea-43e6-af7d-9a9fe0895fe4"
      },
      "execution_count": 125,
      "outputs": [
        {
          "output_type": "execute_result",
          "data": {
            "text/plain": [
              "{'a 입니다.', 'b 입니다.', 'c 입니다.'}"
            ]
          },
          "metadata": {},
          "execution_count": 125
        }
      ]
    },
    {
      "cell_type": "code",
      "source": [
        "# dict 컴프리헨션(은 잘 쓰지)\n",
        "key_list = [\"아침\", \"점심\", \"저녁\"]\n",
        "value_list = [\"바나나\", \"구내식당\", \"카레\"]\n",
        "\n",
        "result = {meal : food for meal, food in zip(key_list, value_list)}\n",
        "result"
      ],
      "metadata": {
        "colab": {
          "base_uri": "https://localhost:8080/"
        },
        "id": "7__YyTt0Nhnu",
        "outputId": "da2e4da1-289a-495c-82bb-098896c50e09"
      },
      "execution_count": 126,
      "outputs": [
        {
          "output_type": "execute_result",
          "data": {
            "text/plain": [
              "{'아침': '바나나', '점심': '구내식당', '저녁': '카레'}"
            ]
          },
          "metadata": {},
          "execution_count": 126
        }
      ]
    },
    {
      "cell_type": "markdown",
      "source": [
        "딕셔너리 컴프리헨션 실습\n",
        "1. 단어의 글자가 몇 번 등장했는지에 대한 딕셔너리 만들기\n",
        "    * `\"letter\" --> {'l' : 1, 'e' : 2, 't' : 2, 'r' : 1}`\n",
        "2. 특정 문장에 단어가 몇 번 등장했는지에 대한 딕셔너리 만들기\n",
        "    * `\"hello hi bye hello\" --> {'hello' : 2, 'hi' : 1, 'bye' : 1}`"
      ],
      "metadata": {
        "id": "YK3ChbTMN8i5"
      }
    },
    {
      "cell_type": "code",
      "source": [
        "\"aaabbbccccdddddddd\".count(\"dd\")"
      ],
      "metadata": {
        "colab": {
          "base_uri": "https://localhost:8080/"
        },
        "id": "S4wLi0k0OPdZ",
        "outputId": "a9bf44aa-88e6-422a-86c7-65c1860ded96"
      },
      "execution_count": 128,
      "outputs": [
        {
          "output_type": "execute_result",
          "data": {
            "text/plain": [
              "4"
            ]
          },
          "metadata": {},
          "execution_count": 128
        }
      ]
    },
    {
      "cell_type": "code",
      "source": [
        "# 내가 시도한 것\n",
        "word = \"letter\"\n",
        "count = 0\n",
        "\n",
        "result = {f'{letter}' : word.count(letter) for letter in word}\n",
        "result\n",
        "\n",
        "# 쌤거\n",
        "#text = \"letter\"\n",
        "\n",
        "#result = { char : text.count(char) for char in ser(text)} # set을 안써도 되긴하는데 좀더 최적화를 시켜줄 수 있음\n",
        "#result"
      ],
      "metadata": {
        "colab": {
          "base_uri": "https://localhost:8080/"
        },
        "id": "ZqG0Al1XOV4C",
        "outputId": "8085f358-a72c-464a-949c-0f6f837b73f8"
      },
      "execution_count": 133,
      "outputs": [
        {
          "output_type": "execute_result",
          "data": {
            "text/plain": [
              "{'l': 1, 'e': 2, 't': 2, 'r': 1}"
            ]
          },
          "metadata": {},
          "execution_count": 133
        }
      ]
    },
    {
      "cell_type": "code",
      "source": [
        "# 내가 시도한 것\n",
        "say = \"hello hi bye hello\"\n",
        "word = say.split()\n",
        "word\n",
        "\n",
        "result = {f'{word}' : say.count(word) for word in word}\n",
        "result\n",
        "\n",
        "# 쌤거\n",
        "#text = \"hello hi bye hello\"\n",
        "#result = {term : text.count(term) for term in set(text.split())}\n",
        "#result"
      ],
      "metadata": {
        "colab": {
          "base_uri": "https://localhost:8080/"
        },
        "id": "TIVuBQspO__s",
        "outputId": "01a9c742-ab3e-4fcb-b5f3-0bb83455587f"
      },
      "execution_count": 140,
      "outputs": [
        {
          "output_type": "execute_result",
          "data": {
            "text/plain": [
              "{'hello': 2, 'hi': 1, 'bye': 1}"
            ]
          },
          "metadata": {},
          "execution_count": 140
        }
      ]
    }
  ]
}