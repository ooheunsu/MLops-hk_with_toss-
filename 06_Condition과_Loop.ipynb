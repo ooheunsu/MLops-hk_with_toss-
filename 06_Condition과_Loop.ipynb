{
  "nbformat": 4,
  "nbformat_minor": 0,
  "metadata": {
    "colab": {
      "provenance": [],
      "authorship_tag": "ABX9TyMQQwlpPuc6mMjEafytoVkQ",
      "include_colab_link": true
    },
    "kernelspec": {
      "name": "python3",
      "display_name": "Python 3"
    },
    "language_info": {
      "name": "python"
    }
  },
  "cells": [
    {
      "cell_type": "markdown",
      "metadata": {
        "id": "view-in-github",
        "colab_type": "text"
      },
      "source": [
        "<a href=\"https://colab.research.google.com/github/ooheunsu/MLops-hk_with_toss-/blob/main/06_Condition%EA%B3%BC_Loop.ipynb\" target=\"_parent\"><img src=\"https://colab.research.google.com/assets/colab-badge.svg\" alt=\"Open In Colab\"/></a>"
      ]
    },
    {
      "cell_type": "markdown",
      "source": [
        "# 제어문\n",
        "- 코드의 **흐름**을 제어하는 문법"
      ],
      "metadata": {
        "id": "huanPGon47pK"
      }
    },
    {
      "cell_type": "markdown",
      "source": [
        "## 조건문 ( `Condition` )\n",
        "- 특정한 조건을 만족하면 ( `True` ) 코드를 실행\n",
        "- `if`, `elif`, `else`\n",
        "  * `if` : `만약에 ~라면 ~ 해라`\n",
        "  * `elif (else if의 약어)` : `그게 아니고 ~라면 ~ 해라`\n",
        "  * `else` : 그게 아니면 `~ 해라`\n",
        "\n",
        "### 조건문의 구조\n",
        "```python\n",
        "if [condition]:\n",
        "  code context\n",
        "elif [condition]:\n",
        "  code context\n",
        "elif [condition]:\n",
        "  code context\n",
        "...\n",
        "else:\n",
        "  code context\n",
        "```\n",
        "* 조건 부분에 bool 타입 데이터(True / False)가 온다."
      ],
      "metadata": {
        "id": "vZKsbeJE5JOq"
      }
    },
    {
      "cell_type": "markdown",
      "source": [
        "### Code Context\n",
        "- Context : 코드 문맥\n",
        "- 특정한 상황에 실행해야 할 코드 뭉터기\n",
        "- 파이썬에서는 Context를 `indent(들여쓰기)`로 구분\n",
        "- `indent`는 공백 2칸이나 4칸으로 설정을 하는 것이 관례\n",
        "- 처음에 `indent`를 2칸으로 지정했으면 계속 2칸으로 쓰고, 4칸으로 지정했으면 계속 4칸으로 쓰면 된다.\n"
      ],
      "metadata": {
        "id": "UXkxPUGY5N24"
      }
    },
    {
      "cell_type": "code",
      "source": [
        "a = 3\n",
        "b = 2\n",
        "\n",
        "if a > b:\n",
        "  print(\"hi\")\n",
        "  print(\"bye\")\n",
        "\n",
        "print(\"done\")"
      ],
      "metadata": {
        "colab": {
          "base_uri": "https://localhost:8080/"
        },
        "id": "g101U4v_5RDh",
        "outputId": "a8916ca3-900f-482a-8d6a-d4432310b0f1"
      },
      "execution_count": 1,
      "outputs": [
        {
          "output_type": "stream",
          "name": "stdout",
          "text": [
            "hi\n",
            "bye\n",
            "done\n"
          ]
        }
      ]
    },
    {
      "cell_type": "markdown",
      "source": [
        "`elif, else`는 `if`에서 조건이 맞지 않았을 때 연속해서 조건검사를 하고 싶을 때 사용한다.\n",
        "\n",
        "\n",
        "> 만약에 지갑에 12000원 이상 있으면 택시를 타고, 그게 아니고 지갑에 8000 ~ 12000원 미만 있으면 버스를 타고, 그게 아니면 걸어 간다."
      ],
      "metadata": {
        "id": "_D_YwE9T6QE3"
      }
    },
    {
      "cell_type": "code",
      "source": [
        "money = 15000\n",
        "\n",
        "if money >= 12000:\n",
        "  print(\"택시탐\")\n",
        "elif money >= 8000 and money < 12000:\n",
        "  print(\"버스탐\")\n",
        "else:\n",
        "  print(\"걸어감\")"
      ],
      "metadata": {
        "colab": {
          "base_uri": "https://localhost:8080/"
        },
        "id": "Mw3UrPco95W-",
        "outputId": "24e0ebb7-979a-47d9-d9a2-2938e2115fc7"
      },
      "execution_count": 2,
      "outputs": [
        {
          "output_type": "stream",
          "name": "stdout",
          "text": [
            "택시탐\n"
          ]
        }
      ]
    },
    {
      "cell_type": "code",
      "source": [
        "# 5000 이상 8000 미만이면 따릉이 타기 - 조건 추가\n",
        "money = 15000\n",
        "\n",
        "if money >= 12000:\n",
        "  print(\"택시탐\")\n",
        "elif money >= 8000 and money < 12000:\n",
        "  print(\"버스탐\")\n",
        "elif money >= 5000 and money < 8000:\n",
        "  print(\"따릉이탐\")\n",
        "else:\n",
        "  print(\"걸어감\")"
      ],
      "metadata": {
        "colab": {
          "base_uri": "https://localhost:8080/"
        },
        "id": "X1bJx2RT-v08",
        "outputId": "25465819-8204-4417-8258-5e1a4266eb83"
      },
      "execution_count": 4,
      "outputs": [
        {
          "output_type": "stream",
          "name": "stdout",
          "text": [
            "택시탐\n"
          ]
        }
      ]
    },
    {
      "cell_type": "markdown",
      "source": [
        "```python\n",
        "예시\n",
        "\n",
        "회원 가입이 성공하려면 글자가 영어와 숫자로만 이뤄져야 하고, 8글자 이상이어야 한다.\n",
        "\n",
        "if not [회원 아이디가 영어와 숫자로 이루어져 있는가]:\n",
        "  영어와 숫자만 쓰라고 경고창 띄워주기\n",
        "if not [8글자 이상인지 검사하는 코드]:\n",
        "  8글자 이상 입력하라고 경고창 띄워주기\n",
        "```"
      ],
      "metadata": {
        "id": "Ix7-YF7NDixn"
      }
    },
    {
      "cell_type": "markdown",
      "source": [
        "* `if`는 독립적인 조건을 구성한다면 여러 개가 올 수있다.\n",
        "* `elif`는 `if`에 대해 연속 적인 구성을 구성할 때 사용한다.\n",
        "  - `0 ~ 255`개 까지 사용 가능\n",
        "* `else`는 `if` 및 `elif`의 모든 조건이 맞지 않을 때 사용한다.\n",
        "  - `0`개 또는 `1`개만 사용 가능\n"
      ],
      "metadata": {
        "id": "dGDFgNbJDj_z"
      }
    },
    {
      "cell_type": "code",
      "source": [
        "num = int(input(\"숫자 입력: \"))\n",
        "num"
      ],
      "metadata": {
        "colab": {
          "base_uri": "https://localhost:8080/"
        },
        "id": "tyQxRNoLECXL",
        "outputId": "d8722ddc-3f2b-4b9f-cc26-921edbc70a36"
      },
      "execution_count": 5,
      "outputs": [
        {
          "name": "stdout",
          "output_type": "stream",
          "text": [
            "숫자 입력: 55\n"
          ]
        },
        {
          "output_type": "execute_result",
          "data": {
            "text/plain": [
              "55"
            ]
          },
          "metadata": {},
          "execution_count": 5
        }
      ]
    },
    {
      "cell_type": "markdown",
      "source": [
        "# 문제\n",
        "```계좌에 10000원이 들어 있습니다.\n",
        "계좌에 10000원이 들어 있습니다.\n",
        "인출 금액을 입력 받습니다.\n",
        "인출 금액이 계좌에 있는 금액보다 크면 \"인출이 불가능합니다. {} 원의 잔액이 부족합니다.\" 출력\n",
        "인출 금액이 계좌에 있는 금액보다 작으면 \"{} 원이 인출 되었습니다.\" 출력\n",
        "마지막에 현재 계좌의 잔액을 출력 : \"현재 잔액은 {} 원 입니다.\" 출력\n",
        "```"
      ],
      "metadata": {
        "id": "I2P2-ZbZEmOs"
      }
    },
    {
      "cell_type": "code",
      "source": [
        "bank = 10000\n",
        "\n",
        "out_money = int(input(\"인출할 금액을 입력하시오: \"))\n",
        "if out_money > bank:\n",
        "  print(f\"인출이 불가능합니다. {out_money - bank} 원의 잔액이 부족합니다.\")\n",
        "else:\n",
        "  print(f\"{out_money} 원이 인출 되었습니다.\")\n",
        "  print(f\"현재 잔액은 {bank - out_money} 원 입니다.\")"
      ],
      "metadata": {
        "colab": {
          "base_uri": "https://localhost:8080/"
        },
        "id": "Hw60QUMREz3f",
        "outputId": "08841ea5-d2c1-48aa-9d83-e0f77f337448"
      },
      "execution_count": 12,
      "outputs": [
        {
          "output_type": "stream",
          "name": "stdout",
          "text": [
            "인출할 금액을 입력하시오: 7777\n",
            "7777 원이 인출 되었습니다.\n",
            "현재 잔액은 2223 원 입니다.\n"
          ]
        }
      ]
    }
  ]
}